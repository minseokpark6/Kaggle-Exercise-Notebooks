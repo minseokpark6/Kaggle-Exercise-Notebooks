{
 "cells": [
  {
   "cell_type": "markdown",
   "id": "09ca5939",
   "metadata": {
    "papermill": {
     "duration": 0.00664,
     "end_time": "2024-07-03T10:39:39.819650",
     "exception": false,
     "start_time": "2024-07-03T10:39:39.813010",
     "status": "completed"
    },
    "tags": []
   },
   "source": [
    "**This notebook is an exercise in the [Introduction to Machine Learning](https://www.kaggle.com/learn/intro-to-machine-learning) course.  You can reference the tutorial at [this link](https://www.kaggle.com/dansbecker/model-validation).**\n",
    "\n",
    "---\n"
   ]
  },
  {
   "cell_type": "markdown",
   "id": "7367ff7a",
   "metadata": {
    "papermill": {
     "duration": 0.005814,
     "end_time": "2024-07-03T10:39:39.831948",
     "exception": false,
     "start_time": "2024-07-03T10:39:39.826134",
     "status": "completed"
    },
    "tags": []
   },
   "source": [
    "## Recap\n",
    "You've built a model. In this exercise you will test how good your model is.\n",
    "\n",
    "Run the cell below to set up your coding environment where the previous exercise left off."
   ]
  },
  {
   "cell_type": "code",
   "execution_count": 1,
   "id": "a6804cc7",
   "metadata": {
    "execution": {
     "iopub.execute_input": "2024-07-03T10:39:39.846308Z",
     "iopub.status.busy": "2024-07-03T10:39:39.845843Z",
     "iopub.status.idle": "2024-07-03T10:39:42.999693Z",
     "shell.execute_reply": "2024-07-03T10:39:42.998241Z"
    },
    "papermill": {
     "duration": 3.164629,
     "end_time": "2024-07-03T10:39:43.002746",
     "exception": false,
     "start_time": "2024-07-03T10:39:39.838117",
     "status": "completed"
    },
    "tags": []
   },
   "outputs": [
    {
     "name": "stdout",
     "output_type": "stream",
     "text": [
      "First in-sample predictions: [208500. 181500. 223500. 140000. 250000.]\n",
      "Actual target values for those homes: [208500, 181500, 223500, 140000, 250000]\n",
      "Setup Complete\n"
     ]
    }
   ],
   "source": [
    "# Code you have previously used to load data\n",
    "import pandas as pd\n",
    "from sklearn.tree import DecisionTreeRegressor\n",
    "\n",
    "# Path of the file to read\n",
    "iowa_file_path = '../input/home-data-for-ml-course/train.csv'\n",
    "\n",
    "home_data = pd.read_csv(iowa_file_path)\n",
    "y = home_data.SalePrice\n",
    "feature_columns = ['LotArea', 'YearBuilt', '1stFlrSF', '2ndFlrSF', 'FullBath', 'BedroomAbvGr', 'TotRmsAbvGrd']\n",
    "X = home_data[feature_columns]\n",
    "\n",
    "# Specify Model\n",
    "iowa_model = DecisionTreeRegressor()\n",
    "# Fit Model\n",
    "iowa_model.fit(X, y)\n",
    "\n",
    "print(\"First in-sample predictions:\", iowa_model.predict(X.head()))\n",
    "print(\"Actual target values for those homes:\", y.head().tolist())\n",
    "\n",
    "# Set up code checking\n",
    "from learntools.core import binder\n",
    "binder.bind(globals())\n",
    "from learntools.machine_learning.ex4 import *\n",
    "print(\"Setup Complete\")"
   ]
  },
  {
   "cell_type": "markdown",
   "id": "02facc3b",
   "metadata": {
    "papermill": {
     "duration": 0.005949,
     "end_time": "2024-07-03T10:39:43.015239",
     "exception": false,
     "start_time": "2024-07-03T10:39:43.009290",
     "status": "completed"
    },
    "tags": []
   },
   "source": [
    "# Exercises\n",
    "\n",
    "## Step 1: Split Your Data\n",
    "Use the `train_test_split` function to split up your data.\n",
    "\n",
    "Give it the argument `random_state=1` so the `check` functions know what to expect when verifying your code.\n",
    "\n",
    "Recall, your features are loaded in the DataFrame **X** and your target is loaded in **y**.\n"
   ]
  },
  {
   "cell_type": "code",
   "execution_count": 2,
   "id": "df8b50fd",
   "metadata": {
    "execution": {
     "iopub.execute_input": "2024-07-03T10:39:43.030516Z",
     "iopub.status.busy": "2024-07-03T10:39:43.030103Z",
     "iopub.status.idle": "2024-07-03T10:39:43.135280Z",
     "shell.execute_reply": "2024-07-03T10:39:43.133791Z"
    },
    "papermill": {
     "duration": 0.116112,
     "end_time": "2024-07-03T10:39:43.138015",
     "exception": false,
     "start_time": "2024-07-03T10:39:43.021903",
     "status": "completed"
    },
    "tags": []
   },
   "outputs": [
    {
     "data": {
      "application/javascript": [
       "parent.postMessage({\"jupyterEvent\": \"custom.exercise_interaction\", \"data\": {\"outcomeType\": 1, \"valueTowardsCompletion\": 0.25, \"interactionType\": 1, \"questionType\": 2, \"questionId\": \"1_SplitData\", \"learnToolsVersion\": \"0.3.4\", \"failureMessage\": \"\", \"exceptionClass\": \"\", \"trace\": \"\"}}, \"*\")"
      ],
      "text/plain": [
       "<IPython.core.display.Javascript object>"
      ]
     },
     "metadata": {},
     "output_type": "display_data"
    },
    {
     "data": {
      "text/markdown": [
       "<span style=\"color:#33cc33\">Correct</span>"
      ],
      "text/plain": [
       "Correct"
      ]
     },
     "metadata": {},
     "output_type": "display_data"
    }
   ],
   "source": [
    "# Import the train_test_split function and uncomment\n",
    "from sklearn.model_selection import train_test_split\n",
    "\n",
    "# fill in and uncomment\n",
    "train_X, val_X, train_y, val_y = train_test_split(X, y, random_state = 1)\n",
    "\n",
    "# Check your answer\n",
    "step_1.check()"
   ]
  },
  {
   "cell_type": "code",
   "execution_count": 3,
   "id": "ecd3bb9a",
   "metadata": {
    "execution": {
     "iopub.execute_input": "2024-07-03T10:39:43.153543Z",
     "iopub.status.busy": "2024-07-03T10:39:43.153165Z",
     "iopub.status.idle": "2024-07-03T10:39:43.158766Z",
     "shell.execute_reply": "2024-07-03T10:39:43.157484Z"
    },
    "papermill": {
     "duration": 0.016675,
     "end_time": "2024-07-03T10:39:43.161691",
     "exception": false,
     "start_time": "2024-07-03T10:39:43.145016",
     "status": "completed"
    },
    "tags": []
   },
   "outputs": [],
   "source": [
    "# The lines below will show you a hint or the solution.\n",
    "# step_1.hint() \n",
    "# step_1.solution()\n"
   ]
  },
  {
   "cell_type": "markdown",
   "id": "56d2ccb1",
   "metadata": {
    "papermill": {
     "duration": 0.006382,
     "end_time": "2024-07-03T10:39:43.174833",
     "exception": false,
     "start_time": "2024-07-03T10:39:43.168451",
     "status": "completed"
    },
    "tags": []
   },
   "source": [
    "## Step 2: Specify and Fit the Model\n",
    "\n",
    "Create a `DecisionTreeRegressor` model and fit it to the relevant data.\n",
    "Set `random_state` to 1 again when creating the model."
   ]
  },
  {
   "cell_type": "code",
   "execution_count": 4,
   "id": "0d8109b1",
   "metadata": {
    "execution": {
     "iopub.execute_input": "2024-07-03T10:39:43.190159Z",
     "iopub.status.busy": "2024-07-03T10:39:43.189676Z",
     "iopub.status.idle": "2024-07-03T10:39:43.223326Z",
     "shell.execute_reply": "2024-07-03T10:39:43.222210Z"
    },
    "papermill": {
     "duration": 0.04454,
     "end_time": "2024-07-03T10:39:43.226126",
     "exception": false,
     "start_time": "2024-07-03T10:39:43.181586",
     "status": "completed"
    },
    "tags": []
   },
   "outputs": [
    {
     "name": "stdout",
     "output_type": "stream",
     "text": [
      "[186500. 184000. 130000.  92000. 164500. 220000. 335000. 144152. 215000.\n",
      " 262000.]\n",
      "[186500. 184000. 130000.  92000. 164500. 220000. 335000. 144152. 215000.\n",
      " 262000.]\n"
     ]
    },
    {
     "data": {
      "application/javascript": [
       "parent.postMessage({\"jupyterEvent\": \"custom.exercise_interaction\", \"data\": {\"outcomeType\": 1, \"valueTowardsCompletion\": 0.25, \"interactionType\": 1, \"questionType\": 2, \"questionId\": \"2_FitModelWithTrain\", \"learnToolsVersion\": \"0.3.4\", \"failureMessage\": \"\", \"exceptionClass\": \"\", \"trace\": \"\"}}, \"*\")"
      ],
      "text/plain": [
       "<IPython.core.display.Javascript object>"
      ]
     },
     "metadata": {},
     "output_type": "display_data"
    },
    {
     "data": {
      "text/markdown": [
       "<span style=\"color:#33cc33\">Correct</span>"
      ],
      "text/plain": [
       "Correct"
      ]
     },
     "metadata": {},
     "output_type": "display_data"
    }
   ],
   "source": [
    "# You imported DecisionTreeRegressor in your last exercise\n",
    "# and that code has been copied to the setup code above. So, no need to\n",
    "# import it again\n",
    "\n",
    "# Specify the model\n",
    "iowa_model = DecisionTreeRegressor(random_state = 1)\n",
    "\n",
    "# Fit iowa_model with the training data.\n",
    "iowa_model.fit(train_X, train_y)\n",
    "\n",
    "# Check your answer\n",
    "step_2.check()"
   ]
  },
  {
   "cell_type": "code",
   "execution_count": 5,
   "id": "8a7f4b04",
   "metadata": {
    "execution": {
     "iopub.execute_input": "2024-07-03T10:39:43.243335Z",
     "iopub.status.busy": "2024-07-03T10:39:43.242897Z",
     "iopub.status.idle": "2024-07-03T10:39:43.248183Z",
     "shell.execute_reply": "2024-07-03T10:39:43.246933Z"
    },
    "papermill": {
     "duration": 0.017501,
     "end_time": "2024-07-03T10:39:43.251141",
     "exception": false,
     "start_time": "2024-07-03T10:39:43.233640",
     "status": "completed"
    },
    "tags": []
   },
   "outputs": [],
   "source": [
    "# step_2.hint()\n",
    "# step_2.solution()"
   ]
  },
  {
   "cell_type": "markdown",
   "id": "45b4d445",
   "metadata": {
    "papermill": {
     "duration": 0.006945,
     "end_time": "2024-07-03T10:39:43.265545",
     "exception": false,
     "start_time": "2024-07-03T10:39:43.258600",
     "status": "completed"
    },
    "tags": []
   },
   "source": [
    "## Step 3: Make Predictions with Validation data\n"
   ]
  },
  {
   "cell_type": "code",
   "execution_count": 6,
   "id": "93c85bda",
   "metadata": {
    "execution": {
     "iopub.execute_input": "2024-07-03T10:39:43.282003Z",
     "iopub.status.busy": "2024-07-03T10:39:43.281502Z",
     "iopub.status.idle": "2024-07-03T10:39:43.295794Z",
     "shell.execute_reply": "2024-07-03T10:39:43.294429Z"
    },
    "papermill": {
     "duration": 0.025776,
     "end_time": "2024-07-03T10:39:43.298511",
     "exception": false,
     "start_time": "2024-07-03T10:39:43.272735",
     "status": "completed"
    },
    "tags": []
   },
   "outputs": [
    {
     "data": {
      "application/javascript": [
       "parent.postMessage({\"jupyterEvent\": \"custom.exercise_interaction\", \"data\": {\"outcomeType\": 1, \"valueTowardsCompletion\": 0.25, \"interactionType\": 1, \"questionType\": 2, \"questionId\": \"3_ValPreds\", \"learnToolsVersion\": \"0.3.4\", \"failureMessage\": \"\", \"exceptionClass\": \"\", \"trace\": \"\"}}, \"*\")"
      ],
      "text/plain": [
       "<IPython.core.display.Javascript object>"
      ]
     },
     "metadata": {},
     "output_type": "display_data"
    },
    {
     "data": {
      "text/markdown": [
       "<span style=\"color:#33cc33\">Correct</span>"
      ],
      "text/plain": [
       "Correct"
      ]
     },
     "metadata": {},
     "output_type": "display_data"
    }
   ],
   "source": [
    "# Predict with all validation observations\n",
    "val_predictions = iowa_model.predict(val_X)\n",
    "\n",
    "# Check your answer\n",
    "step_3.check()"
   ]
  },
  {
   "cell_type": "code",
   "execution_count": 7,
   "id": "9cb970ca",
   "metadata": {
    "execution": {
     "iopub.execute_input": "2024-07-03T10:39:43.315589Z",
     "iopub.status.busy": "2024-07-03T10:39:43.315139Z",
     "iopub.status.idle": "2024-07-03T10:39:43.320622Z",
     "shell.execute_reply": "2024-07-03T10:39:43.319088Z"
    },
    "papermill": {
     "duration": 0.017497,
     "end_time": "2024-07-03T10:39:43.323719",
     "exception": false,
     "start_time": "2024-07-03T10:39:43.306222",
     "status": "completed"
    },
    "tags": []
   },
   "outputs": [],
   "source": [
    "# step_3.hint()\n",
    "# step_3.solution()"
   ]
  },
  {
   "cell_type": "markdown",
   "id": "1523ae83",
   "metadata": {
    "papermill": {
     "duration": 0.007469,
     "end_time": "2024-07-03T10:39:43.340307",
     "exception": false,
     "start_time": "2024-07-03T10:39:43.332838",
     "status": "completed"
    },
    "tags": []
   },
   "source": [
    "Inspect your predictions and actual values from validation data."
   ]
  },
  {
   "cell_type": "code",
   "execution_count": 8,
   "id": "f573fe44",
   "metadata": {
    "execution": {
     "iopub.execute_input": "2024-07-03T10:39:43.358153Z",
     "iopub.status.busy": "2024-07-03T10:39:43.357698Z",
     "iopub.status.idle": "2024-07-03T10:39:43.365355Z",
     "shell.execute_reply": "2024-07-03T10:39:43.363872Z"
    },
    "papermill": {
     "duration": 0.020461,
     "end_time": "2024-07-03T10:39:43.368757",
     "exception": false,
     "start_time": "2024-07-03T10:39:43.348296",
     "status": "completed"
    },
    "tags": []
   },
   "outputs": [
    {
     "name": "stdout",
     "output_type": "stream",
     "text": [
      "[186500. 184000. 130000.  92000. 164500.]\n",
      "258     231500\n",
      "267     179500\n",
      "288     122000\n",
      "649      84500\n",
      "1233    142000\n",
      "Name: SalePrice, dtype: int64\n"
     ]
    }
   ],
   "source": [
    "# print the top few validation predictions\n",
    "print(val_predictions[:5])\n",
    "# print the top few actual prices from validation data\n",
    "print(val_y[:5])"
   ]
  },
  {
   "cell_type": "markdown",
   "id": "b48549a8",
   "metadata": {
    "papermill": {
     "duration": 0.007658,
     "end_time": "2024-07-03T10:39:43.384217",
     "exception": false,
     "start_time": "2024-07-03T10:39:43.376559",
     "status": "completed"
    },
    "tags": []
   },
   "source": [
    "What do you notice that is different from what you saw with in-sample predictions (which are printed after the top code cell in this page).\n",
    "\n",
    "Do you remember why validation predictions differ from in-sample (or training) predictions? This is an important idea from the last lesson.\n",
    "\n",
    "## Step 4: Calculate the Mean Absolute Error in Validation Data\n"
   ]
  },
  {
   "cell_type": "code",
   "execution_count": 9,
   "id": "68b1784f",
   "metadata": {
    "execution": {
     "iopub.execute_input": "2024-07-03T10:39:43.401347Z",
     "iopub.status.busy": "2024-07-03T10:39:43.400949Z",
     "iopub.status.idle": "2024-07-03T10:39:43.413151Z",
     "shell.execute_reply": "2024-07-03T10:39:43.412009Z"
    },
    "papermill": {
     "duration": 0.02447,
     "end_time": "2024-07-03T10:39:43.416372",
     "exception": false,
     "start_time": "2024-07-03T10:39:43.391902",
     "status": "completed"
    },
    "tags": []
   },
   "outputs": [
    {
     "name": "stdout",
     "output_type": "stream",
     "text": [
      "29652.931506849316\n"
     ]
    },
    {
     "data": {
      "application/javascript": [
       "parent.postMessage({\"jupyterEvent\": \"custom.exercise_interaction\", \"data\": {\"outcomeType\": 1, \"valueTowardsCompletion\": 0.25, \"interactionType\": 1, \"questionType\": 1, \"questionId\": \"4_MAE\", \"learnToolsVersion\": \"0.3.4\", \"failureMessage\": \"\", \"exceptionClass\": \"\", \"trace\": \"\"}}, \"*\")"
      ],
      "text/plain": [
       "<IPython.core.display.Javascript object>"
      ]
     },
     "metadata": {},
     "output_type": "display_data"
    },
    {
     "data": {
      "text/markdown": [
       "<span style=\"color:#33cc33\">Correct</span>"
      ],
      "text/plain": [
       "Correct"
      ]
     },
     "metadata": {},
     "output_type": "display_data"
    }
   ],
   "source": [
    "from sklearn.metrics import mean_absolute_error\n",
    "val_mae = mean_absolute_error(val_y, val_predictions)\n",
    "\n",
    "# uncomment following line to see the validation_mae\n",
    "print(val_mae)\n",
    "\n",
    "# Check your answer\n",
    "step_4.check()"
   ]
  },
  {
   "cell_type": "code",
   "execution_count": 10,
   "id": "bd518041",
   "metadata": {
    "execution": {
     "iopub.execute_input": "2024-07-03T10:39:43.435291Z",
     "iopub.status.busy": "2024-07-03T10:39:43.434898Z",
     "iopub.status.idle": "2024-07-03T10:39:43.440032Z",
     "shell.execute_reply": "2024-07-03T10:39:43.438638Z"
    },
    "papermill": {
     "duration": 0.018019,
     "end_time": "2024-07-03T10:39:43.442619",
     "exception": false,
     "start_time": "2024-07-03T10:39:43.424600",
     "status": "completed"
    },
    "tags": []
   },
   "outputs": [],
   "source": [
    "# step_4.hint()\n",
    "# step_4.solution()"
   ]
  },
  {
   "cell_type": "markdown",
   "id": "21fc09a3",
   "metadata": {
    "papermill": {
     "duration": 0.008011,
     "end_time": "2024-07-03T10:39:43.458895",
     "exception": false,
     "start_time": "2024-07-03T10:39:43.450884",
     "status": "completed"
    },
    "tags": []
   },
   "source": [
    "Is that MAE good?  There isn't a general rule for what values are good that applies across applications. But you'll see how to use (and improve) this number in the next step.\n",
    "\n",
    "# Keep Going\n",
    "\n",
    "You are ready for **[Underfitting and Overfitting](https://www.kaggle.com/dansbecker/underfitting-and-overfitting).**\n"
   ]
  },
  {
   "cell_type": "markdown",
   "id": "88f1bbb0",
   "metadata": {
    "papermill": {
     "duration": 0.007837,
     "end_time": "2024-07-03T10:39:43.474921",
     "exception": false,
     "start_time": "2024-07-03T10:39:43.467084",
     "status": "completed"
    },
    "tags": []
   },
   "source": [
    "---\n",
    "\n",
    "\n",
    "\n",
    "\n",
    "*Have questions or comments? Visit the [course discussion forum](https://www.kaggle.com/learn/intro-to-machine-learning/discussion) to chat with other learners.*"
   ]
  }
 ],
 "metadata": {
  "kaggle": {
   "accelerator": "none",
   "dataSources": [
    {
     "databundleVersionId": 111096,
     "sourceId": 10211,
     "sourceType": "competition"
    },
    {
     "datasetId": 11167,
     "sourceId": 15520,
     "sourceType": "datasetVersion"
    },
    {
     "datasetId": 2709,
     "sourceId": 38454,
     "sourceType": "datasetVersion"
    }
   ],
   "isGpuEnabled": false,
   "isInternetEnabled": false,
   "language": "python",
   "sourceType": "notebook"
  },
  "kernelspec": {
   "display_name": "Python 3",
   "language": "python",
   "name": "python3"
  },
  "language_info": {
   "codemirror_mode": {
    "name": "ipython",
    "version": 3
   },
   "file_extension": ".py",
   "mimetype": "text/x-python",
   "name": "python",
   "nbconvert_exporter": "python",
   "pygments_lexer": "ipython3",
   "version": "3.10.13"
  },
  "papermill": {
   "default_parameters": {},
   "duration": 7.667003,
   "end_time": "2024-07-03T10:39:44.107170",
   "environment_variables": {},
   "exception": null,
   "input_path": "__notebook__.ipynb",
   "output_path": "__notebook__.ipynb",
   "parameters": {},
   "start_time": "2024-07-03T10:39:36.440167",
   "version": "2.5.0"
  }
 },
 "nbformat": 4,
 "nbformat_minor": 5
}
