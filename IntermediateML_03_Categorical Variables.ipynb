{
 "cells": [
  {
   "cell_type": "markdown",
   "id": "db46bcd3",
   "metadata": {
    "papermill": {
     "duration": 0.014753,
     "end_time": "2024-07-04T23:39:23.820342",
     "exception": false,
     "start_time": "2024-07-04T23:39:23.805589",
     "status": "completed"
    },
    "tags": []
   },
   "source": [
    "**This notebook is an exercise in the [Intermediate Machine Learning](https://www.kaggle.com/learn/intermediate-machine-learning) course.  You can reference the tutorial at [this link](https://www.kaggle.com/alexisbcook/categorical-variables).**\n",
    "\n",
    "---\n"
   ]
  },
  {
   "cell_type": "markdown",
   "id": "f68ba77b",
   "metadata": {
    "papermill": {
     "duration": 0.014297,
     "end_time": "2024-07-04T23:39:23.849046",
     "exception": false,
     "start_time": "2024-07-04T23:39:23.834749",
     "status": "completed"
    },
    "tags": []
   },
   "source": [
    "By encoding **categorical variables**, you'll obtain your best results thus far!\n",
    "\n",
    "# Setup\n",
    "\n",
    "The questions below will give you feedback on your work. Run the following cell to set up the feedback system."
   ]
  },
  {
   "cell_type": "code",
   "execution_count": 1,
   "id": "61dcce2c",
   "metadata": {
    "execution": {
     "iopub.execute_input": "2024-07-04T23:39:23.879905Z",
     "iopub.status.busy": "2024-07-04T23:39:23.879043Z",
     "iopub.status.idle": "2024-07-04T23:39:24.829568Z",
     "shell.execute_reply": "2024-07-04T23:39:24.828327Z"
    },
    "papermill": {
     "duration": 0.968791,
     "end_time": "2024-07-04T23:39:24.832115",
     "exception": false,
     "start_time": "2024-07-04T23:39:23.863324",
     "status": "completed"
    },
    "tags": []
   },
   "outputs": [
    {
     "name": "stdout",
     "output_type": "stream",
     "text": [
      "Setup Complete\n"
     ]
    }
   ],
   "source": [
    "# Set up code checking\n",
    "import os\n",
    "if not os.path.exists(\"../input/train.csv\"):\n",
    "    os.symlink(\"../input/home-data-for-ml-course/train.csv\", \"../input/train.csv\")  \n",
    "    os.symlink(\"../input/home-data-for-ml-course/test.csv\", \"../input/test.csv\") \n",
    "from learntools.core import binder\n",
    "binder.bind(globals())\n",
    "from learntools.ml_intermediate.ex3 import *\n",
    "print(\"Setup Complete\")"
   ]
  },
  {
   "cell_type": "markdown",
   "id": "5d09ab7b",
   "metadata": {
    "papermill": {
     "duration": 0.014615,
     "end_time": "2024-07-04T23:39:24.861204",
     "exception": false,
     "start_time": "2024-07-04T23:39:24.846589",
     "status": "completed"
    },
    "tags": []
   },
   "source": [
    "In this exercise, you will work with data from the [Housing Prices Competition for Kaggle Learn Users](https://www.kaggle.com/c/home-data-for-ml-course). \n",
    "\n",
    "![Ames Housing dataset image](https://storage.googleapis.com/kaggle-media/learn/images/lTJVG4e.png)\n",
    "\n",
    "Run the next code cell without changes to load the training and validation sets in `X_train`, `X_valid`, `y_train`, and `y_valid`.  The test set is loaded in `X_test`."
   ]
  },
  {
   "cell_type": "code",
   "execution_count": 2,
   "id": "e0f6614a",
   "metadata": {
    "execution": {
     "iopub.execute_input": "2024-07-04T23:39:24.893852Z",
     "iopub.status.busy": "2024-07-04T23:39:24.893128Z",
     "iopub.status.idle": "2024-07-04T23:39:26.288279Z",
     "shell.execute_reply": "2024-07-04T23:39:26.287297Z"
    },
    "papermill": {
     "duration": 1.4143,
     "end_time": "2024-07-04T23:39:26.291077",
     "exception": false,
     "start_time": "2024-07-04T23:39:24.876777",
     "status": "completed"
    },
    "tags": []
   },
   "outputs": [],
   "source": [
    "import pandas as pd\n",
    "from sklearn.model_selection import train_test_split\n",
    "\n",
    "# Read the data\n",
    "X = pd.read_csv('../input/train.csv', index_col='Id') \n",
    "X_test = pd.read_csv('../input/test.csv', index_col='Id')\n",
    "\n",
    "# Remove rows with missing target, separate target from predictors\n",
    "X.dropna(axis=0, subset=['SalePrice'], inplace=True)\n",
    "y = X.SalePrice\n",
    "X.drop(['SalePrice'], axis=1, inplace=True)\n",
    "\n",
    "# To keep things simple, we'll drop columns with missing values\n",
    "cols_with_missing = [col for col in X.columns if X[col].isnull().any()] \n",
    "X.drop(cols_with_missing, axis=1, inplace=True)\n",
    "X_test.drop(cols_with_missing, axis=1, inplace=True)\n",
    "\n",
    "# Break off validation set from training data\n",
    "X_train, X_valid, y_train, y_valid = train_test_split(X, y,\n",
    "                                                      train_size=0.8, test_size=0.2,\n",
    "                                                      random_state=0)"
   ]
  },
  {
   "cell_type": "markdown",
   "id": "2c7c0d92",
   "metadata": {
    "papermill": {
     "duration": 0.01388,
     "end_time": "2024-07-04T23:39:26.319477",
     "exception": false,
     "start_time": "2024-07-04T23:39:26.305597",
     "status": "completed"
    },
    "tags": []
   },
   "source": [
    "Use the next code cell to print the first five rows of the data."
   ]
  },
  {
   "cell_type": "code",
   "execution_count": 3,
   "id": "56e6fdaf",
   "metadata": {
    "execution": {
     "iopub.execute_input": "2024-07-04T23:39:26.350663Z",
     "iopub.status.busy": "2024-07-04T23:39:26.349668Z",
     "iopub.status.idle": "2024-07-04T23:39:26.376678Z",
     "shell.execute_reply": "2024-07-04T23:39:26.375579Z"
    },
    "papermill": {
     "duration": 0.045289,
     "end_time": "2024-07-04T23:39:26.379114",
     "exception": false,
     "start_time": "2024-07-04T23:39:26.333825",
     "status": "completed"
    },
    "tags": []
   },
   "outputs": [
    {
     "data": {
      "text/html": [
       "<div>\n",
       "<style scoped>\n",
       "    .dataframe tbody tr th:only-of-type {\n",
       "        vertical-align: middle;\n",
       "    }\n",
       "\n",
       "    .dataframe tbody tr th {\n",
       "        vertical-align: top;\n",
       "    }\n",
       "\n",
       "    .dataframe thead th {\n",
       "        text-align: right;\n",
       "    }\n",
       "</style>\n",
       "<table border=\"1\" class=\"dataframe\">\n",
       "  <thead>\n",
       "    <tr style=\"text-align: right;\">\n",
       "      <th></th>\n",
       "      <th>MSSubClass</th>\n",
       "      <th>MSZoning</th>\n",
       "      <th>LotArea</th>\n",
       "      <th>Street</th>\n",
       "      <th>LotShape</th>\n",
       "      <th>LandContour</th>\n",
       "      <th>Utilities</th>\n",
       "      <th>LotConfig</th>\n",
       "      <th>LandSlope</th>\n",
       "      <th>Neighborhood</th>\n",
       "      <th>...</th>\n",
       "      <th>OpenPorchSF</th>\n",
       "      <th>EnclosedPorch</th>\n",
       "      <th>3SsnPorch</th>\n",
       "      <th>ScreenPorch</th>\n",
       "      <th>PoolArea</th>\n",
       "      <th>MiscVal</th>\n",
       "      <th>MoSold</th>\n",
       "      <th>YrSold</th>\n",
       "      <th>SaleType</th>\n",
       "      <th>SaleCondition</th>\n",
       "    </tr>\n",
       "    <tr>\n",
       "      <th>Id</th>\n",
       "      <th></th>\n",
       "      <th></th>\n",
       "      <th></th>\n",
       "      <th></th>\n",
       "      <th></th>\n",
       "      <th></th>\n",
       "      <th></th>\n",
       "      <th></th>\n",
       "      <th></th>\n",
       "      <th></th>\n",
       "      <th></th>\n",
       "      <th></th>\n",
       "      <th></th>\n",
       "      <th></th>\n",
       "      <th></th>\n",
       "      <th></th>\n",
       "      <th></th>\n",
       "      <th></th>\n",
       "      <th></th>\n",
       "      <th></th>\n",
       "      <th></th>\n",
       "    </tr>\n",
       "  </thead>\n",
       "  <tbody>\n",
       "    <tr>\n",
       "      <th>619</th>\n",
       "      <td>20</td>\n",
       "      <td>RL</td>\n",
       "      <td>11694</td>\n",
       "      <td>Pave</td>\n",
       "      <td>Reg</td>\n",
       "      <td>Lvl</td>\n",
       "      <td>AllPub</td>\n",
       "      <td>Inside</td>\n",
       "      <td>Gtl</td>\n",
       "      <td>NridgHt</td>\n",
       "      <td>...</td>\n",
       "      <td>108</td>\n",
       "      <td>0</td>\n",
       "      <td>0</td>\n",
       "      <td>260</td>\n",
       "      <td>0</td>\n",
       "      <td>0</td>\n",
       "      <td>7</td>\n",
       "      <td>2007</td>\n",
       "      <td>New</td>\n",
       "      <td>Partial</td>\n",
       "    </tr>\n",
       "    <tr>\n",
       "      <th>871</th>\n",
       "      <td>20</td>\n",
       "      <td>RL</td>\n",
       "      <td>6600</td>\n",
       "      <td>Pave</td>\n",
       "      <td>Reg</td>\n",
       "      <td>Lvl</td>\n",
       "      <td>AllPub</td>\n",
       "      <td>Inside</td>\n",
       "      <td>Gtl</td>\n",
       "      <td>NAmes</td>\n",
       "      <td>...</td>\n",
       "      <td>0</td>\n",
       "      <td>0</td>\n",
       "      <td>0</td>\n",
       "      <td>0</td>\n",
       "      <td>0</td>\n",
       "      <td>0</td>\n",
       "      <td>8</td>\n",
       "      <td>2009</td>\n",
       "      <td>WD</td>\n",
       "      <td>Normal</td>\n",
       "    </tr>\n",
       "    <tr>\n",
       "      <th>93</th>\n",
       "      <td>30</td>\n",
       "      <td>RL</td>\n",
       "      <td>13360</td>\n",
       "      <td>Pave</td>\n",
       "      <td>IR1</td>\n",
       "      <td>HLS</td>\n",
       "      <td>AllPub</td>\n",
       "      <td>Inside</td>\n",
       "      <td>Gtl</td>\n",
       "      <td>Crawfor</td>\n",
       "      <td>...</td>\n",
       "      <td>0</td>\n",
       "      <td>44</td>\n",
       "      <td>0</td>\n",
       "      <td>0</td>\n",
       "      <td>0</td>\n",
       "      <td>0</td>\n",
       "      <td>8</td>\n",
       "      <td>2009</td>\n",
       "      <td>WD</td>\n",
       "      <td>Normal</td>\n",
       "    </tr>\n",
       "    <tr>\n",
       "      <th>818</th>\n",
       "      <td>20</td>\n",
       "      <td>RL</td>\n",
       "      <td>13265</td>\n",
       "      <td>Pave</td>\n",
       "      <td>IR1</td>\n",
       "      <td>Lvl</td>\n",
       "      <td>AllPub</td>\n",
       "      <td>CulDSac</td>\n",
       "      <td>Gtl</td>\n",
       "      <td>Mitchel</td>\n",
       "      <td>...</td>\n",
       "      <td>59</td>\n",
       "      <td>0</td>\n",
       "      <td>0</td>\n",
       "      <td>0</td>\n",
       "      <td>0</td>\n",
       "      <td>0</td>\n",
       "      <td>7</td>\n",
       "      <td>2008</td>\n",
       "      <td>WD</td>\n",
       "      <td>Normal</td>\n",
       "    </tr>\n",
       "    <tr>\n",
       "      <th>303</th>\n",
       "      <td>20</td>\n",
       "      <td>RL</td>\n",
       "      <td>13704</td>\n",
       "      <td>Pave</td>\n",
       "      <td>IR1</td>\n",
       "      <td>Lvl</td>\n",
       "      <td>AllPub</td>\n",
       "      <td>Corner</td>\n",
       "      <td>Gtl</td>\n",
       "      <td>CollgCr</td>\n",
       "      <td>...</td>\n",
       "      <td>81</td>\n",
       "      <td>0</td>\n",
       "      <td>0</td>\n",
       "      <td>0</td>\n",
       "      <td>0</td>\n",
       "      <td>0</td>\n",
       "      <td>1</td>\n",
       "      <td>2006</td>\n",
       "      <td>WD</td>\n",
       "      <td>Normal</td>\n",
       "    </tr>\n",
       "  </tbody>\n",
       "</table>\n",
       "<p>5 rows × 60 columns</p>\n",
       "</div>"
      ],
      "text/plain": [
       "     MSSubClass MSZoning  LotArea Street LotShape LandContour Utilities  \\\n",
       "Id                                                                        \n",
       "619          20       RL    11694   Pave      Reg         Lvl    AllPub   \n",
       "871          20       RL     6600   Pave      Reg         Lvl    AllPub   \n",
       "93           30       RL    13360   Pave      IR1         HLS    AllPub   \n",
       "818          20       RL    13265   Pave      IR1         Lvl    AllPub   \n",
       "303          20       RL    13704   Pave      IR1         Lvl    AllPub   \n",
       "\n",
       "    LotConfig LandSlope Neighborhood  ... OpenPorchSF EnclosedPorch 3SsnPorch  \\\n",
       "Id                                    ...                                       \n",
       "619    Inside       Gtl      NridgHt  ...         108             0         0   \n",
       "871    Inside       Gtl        NAmes  ...           0             0         0   \n",
       "93     Inside       Gtl      Crawfor  ...           0            44         0   \n",
       "818   CulDSac       Gtl      Mitchel  ...          59             0         0   \n",
       "303    Corner       Gtl      CollgCr  ...          81             0         0   \n",
       "\n",
       "    ScreenPorch  PoolArea  MiscVal  MoSold  YrSold SaleType SaleCondition  \n",
       "Id                                                                         \n",
       "619         260         0        0       7    2007      New       Partial  \n",
       "871           0         0        0       8    2009       WD        Normal  \n",
       "93            0         0        0       8    2009       WD        Normal  \n",
       "818           0         0        0       7    2008       WD        Normal  \n",
       "303           0         0        0       1    2006       WD        Normal  \n",
       "\n",
       "[5 rows x 60 columns]"
      ]
     },
     "execution_count": 3,
     "metadata": {},
     "output_type": "execute_result"
    }
   ],
   "source": [
    "X_train.head()"
   ]
  },
  {
   "cell_type": "markdown",
   "id": "a35c6aa8",
   "metadata": {
    "papermill": {
     "duration": 0.014533,
     "end_time": "2024-07-04T23:39:26.408438",
     "exception": false,
     "start_time": "2024-07-04T23:39:26.393905",
     "status": "completed"
    },
    "tags": []
   },
   "source": [
    "Notice that the dataset contains both numerical and categorical variables.  You'll need to encode the categorical data before training a model.\n",
    "\n",
    "To compare different models, you'll use the same `score_dataset()` function from the tutorial.  This function reports the [mean absolute error](https://en.wikipedia.org/wiki/Mean_absolute_error) (MAE) from a random forest model."
   ]
  },
  {
   "cell_type": "code",
   "execution_count": 4,
   "id": "cf5cf1b2",
   "metadata": {
    "execution": {
     "iopub.execute_input": "2024-07-04T23:39:26.439936Z",
     "iopub.status.busy": "2024-07-04T23:39:26.439129Z",
     "iopub.status.idle": "2024-07-04T23:39:26.769020Z",
     "shell.execute_reply": "2024-07-04T23:39:26.767961Z"
    },
    "papermill": {
     "duration": 0.348559,
     "end_time": "2024-07-04T23:39:26.771723",
     "exception": false,
     "start_time": "2024-07-04T23:39:26.423164",
     "status": "completed"
    },
    "tags": []
   },
   "outputs": [],
   "source": [
    "from sklearn.ensemble import RandomForestRegressor\n",
    "from sklearn.metrics import mean_absolute_error\n",
    "\n",
    "# function for comparing different approaches\n",
    "def score_dataset(X_train, X_valid, y_train, y_valid):\n",
    "    model = RandomForestRegressor(n_estimators=100, random_state=0)\n",
    "    model.fit(X_train, y_train)\n",
    "    preds = model.predict(X_valid)\n",
    "    return mean_absolute_error(y_valid, preds)"
   ]
  },
  {
   "cell_type": "markdown",
   "id": "f2c5b80b",
   "metadata": {
    "papermill": {
     "duration": 0.01446,
     "end_time": "2024-07-04T23:39:26.801299",
     "exception": false,
     "start_time": "2024-07-04T23:39:26.786839",
     "status": "completed"
    },
    "tags": []
   },
   "source": [
    "# Step 1: Drop columns with categorical data\n",
    "\n",
    "You'll get started with the most straightforward approach.  Use the code cell below to preprocess the data in `X_train` and `X_valid` to remove columns with categorical data.  Set the preprocessed DataFrames to `drop_X_train` and `drop_X_valid`, respectively.  "
   ]
  },
  {
   "cell_type": "code",
   "execution_count": 5,
   "id": "579016af",
   "metadata": {
    "execution": {
     "iopub.execute_input": "2024-07-04T23:39:26.832839Z",
     "iopub.status.busy": "2024-07-04T23:39:26.832425Z",
     "iopub.status.idle": "2024-07-04T23:39:26.844526Z",
     "shell.execute_reply": "2024-07-04T23:39:26.843437Z"
    },
    "papermill": {
     "duration": 0.030774,
     "end_time": "2024-07-04T23:39:26.846937",
     "exception": false,
     "start_time": "2024-07-04T23:39:26.816163",
     "status": "completed"
    },
    "tags": []
   },
   "outputs": [
    {
     "data": {
      "application/javascript": [
       "parent.postMessage({\"jupyterEvent\": \"custom.exercise_interaction\", \"data\": {\"outcomeType\": 1, \"valueTowardsCompletion\": 0.5, \"interactionType\": 1, \"questionType\": 2, \"questionId\": \"1_Drop\", \"learnToolsVersion\": \"0.3.4\", \"failureMessage\": \"\", \"exceptionClass\": \"\", \"trace\": \"\"}}, \"*\")"
      ],
      "text/plain": [
       "<IPython.core.display.Javascript object>"
      ]
     },
     "metadata": {},
     "output_type": "display_data"
    },
    {
     "data": {
      "text/markdown": [
       "<span style=\"color:#33cc33\">Correct</span>"
      ],
      "text/plain": [
       "Correct"
      ]
     },
     "metadata": {},
     "output_type": "display_data"
    }
   ],
   "source": [
    "# Fill in the lines below: drop columns in training and validation data\n",
    "categorical_columns = []\n",
    "\n",
    "drop_X_train = X_train.select_dtypes(exclude=['object'])\n",
    "drop_X_valid = X_valid.select_dtypes(exclude=['object'])\n",
    "\n",
    "# select_dtypes() : 해당하는 타입의 컬럼만 선택\n",
    "# exclude : 제외 \n",
    "# include : 포함\n",
    "\n",
    "\n",
    "# Check your answers\n",
    "step_1.check()"
   ]
  },
  {
   "cell_type": "code",
   "execution_count": 6,
   "id": "a26a8c91",
   "metadata": {
    "execution": {
     "iopub.execute_input": "2024-07-04T23:39:26.880209Z",
     "iopub.status.busy": "2024-07-04T23:39:26.879253Z",
     "iopub.status.idle": "2024-07-04T23:39:26.883800Z",
     "shell.execute_reply": "2024-07-04T23:39:26.882811Z"
    },
    "papermill": {
     "duration": 0.023713,
     "end_time": "2024-07-04T23:39:26.886013",
     "exception": false,
     "start_time": "2024-07-04T23:39:26.862300",
     "status": "completed"
    },
    "tags": []
   },
   "outputs": [],
   "source": [
    "# Lines below will give you a hint or solution code\n",
    "#step_1.hint()\n",
    "#step_1.solution()"
   ]
  },
  {
   "cell_type": "markdown",
   "id": "6440f8ea",
   "metadata": {
    "papermill": {
     "duration": 0.014742,
     "end_time": "2024-07-04T23:39:26.915943",
     "exception": false,
     "start_time": "2024-07-04T23:39:26.901201",
     "status": "completed"
    },
    "tags": []
   },
   "source": [
    "Run the next code cell to get the MAE for this approach."
   ]
  },
  {
   "cell_type": "code",
   "execution_count": 7,
   "id": "30ed0e7b",
   "metadata": {
    "execution": {
     "iopub.execute_input": "2024-07-04T23:39:26.950207Z",
     "iopub.status.busy": "2024-07-04T23:39:26.949783Z",
     "iopub.status.idle": "2024-07-04T23:39:28.266012Z",
     "shell.execute_reply": "2024-07-04T23:39:28.264799Z"
    },
    "papermill": {
     "duration": 1.336829,
     "end_time": "2024-07-04T23:39:28.268684",
     "exception": false,
     "start_time": "2024-07-04T23:39:26.931855",
     "status": "completed"
    },
    "tags": []
   },
   "outputs": [
    {
     "name": "stdout",
     "output_type": "stream",
     "text": [
      "MAE from Approach 1 (Drop categorical variables):\n",
      "17837.82570776256\n"
     ]
    }
   ],
   "source": [
    "print(\"MAE from Approach 1 (Drop categorical variables):\")\n",
    "print(score_dataset(drop_X_train, drop_X_valid, y_train, y_valid))"
   ]
  },
  {
   "cell_type": "markdown",
   "id": "f208fa98",
   "metadata": {
    "papermill": {
     "duration": 0.015179,
     "end_time": "2024-07-04T23:39:28.299193",
     "exception": false,
     "start_time": "2024-07-04T23:39:28.284014",
     "status": "completed"
    },
    "tags": []
   },
   "source": [
    "Before jumping into ordinal encoding, we'll investigate the dataset.  Specifically, we'll look at the `'Condition2'` column.  The code cell below prints the unique entries in both the training and validation sets."
   ]
  },
  {
   "cell_type": "code",
   "execution_count": 8,
   "id": "d6438663",
   "metadata": {
    "execution": {
     "iopub.execute_input": "2024-07-04T23:39:28.332020Z",
     "iopub.status.busy": "2024-07-04T23:39:28.331262Z",
     "iopub.status.idle": "2024-07-04T23:39:28.339943Z",
     "shell.execute_reply": "2024-07-04T23:39:28.338737Z"
    },
    "papermill": {
     "duration": 0.027783,
     "end_time": "2024-07-04T23:39:28.342475",
     "exception": false,
     "start_time": "2024-07-04T23:39:28.314692",
     "status": "completed"
    },
    "tags": []
   },
   "outputs": [
    {
     "name": "stdout",
     "output_type": "stream",
     "text": [
      "Unique values in 'Condition2' column in training data: ['Norm' 'PosA' 'Feedr' 'PosN' 'Artery' 'RRAe']\n",
      "\n",
      "Unique values in 'Condition2' column in validation data: ['Norm' 'RRAn' 'RRNn' 'Artery' 'Feedr' 'PosN']\n"
     ]
    }
   ],
   "source": [
    "print(\"Unique values in 'Condition2' column in training data:\", X_train['Condition2'].unique())\n",
    "print(\"\\nUnique values in 'Condition2' column in validation data:\", X_valid['Condition2'].unique())"
   ]
  },
  {
   "cell_type": "markdown",
   "id": "38fb7c49",
   "metadata": {
    "papermill": {
     "duration": 0.015194,
     "end_time": "2024-07-04T23:39:28.372963",
     "exception": false,
     "start_time": "2024-07-04T23:39:28.357769",
     "status": "completed"
    },
    "tags": []
   },
   "source": [
    "# Step 2: Ordinal encoding\n",
    "\n",
    "### Part A\n",
    "\n",
    "If you now write code to: \n",
    "- fit an ordinal encoder to the training data, and then \n",
    "- use it to transform both the training and validation data, \n",
    "\n",
    "you'll get an error.  Can you see why this is the case?  (_You'll need  to use the above output to answer this question._)"
   ]
  },
  {
   "cell_type": "code",
   "execution_count": 9,
   "id": "ce7a2b70",
   "metadata": {
    "execution": {
     "iopub.execute_input": "2024-07-04T23:39:28.406077Z",
     "iopub.status.busy": "2024-07-04T23:39:28.405253Z",
     "iopub.status.idle": "2024-07-04T23:39:28.414218Z",
     "shell.execute_reply": "2024-07-04T23:39:28.413065Z"
    },
    "papermill": {
     "duration": 0.028253,
     "end_time": "2024-07-04T23:39:28.416522",
     "exception": false,
     "start_time": "2024-07-04T23:39:28.388269",
     "status": "completed"
    },
    "tags": []
   },
   "outputs": [
    {
     "data": {
      "application/javascript": [
       "parent.postMessage({\"jupyterEvent\": \"custom.exercise_interaction\", \"data\": {\"outcomeType\": 1, \"valueTowardsCompletion\": 0.5, \"interactionType\": 1, \"questionType\": 4, \"questionId\": \"2.1_LabelA\", \"learnToolsVersion\": \"0.3.4\", \"failureMessage\": \"\", \"exceptionClass\": \"\", \"trace\": \"\"}}, \"*\")"
      ],
      "text/plain": [
       "<IPython.core.display.Javascript object>"
      ]
     },
     "metadata": {},
     "output_type": "display_data"
    },
    {
     "data": {
      "text/markdown": [
       "<span style=\"color:#33cc33\">Correct:</span> \n",
       "\n",
       "Fitting an ordinal encoder to a column in the training data creates a corresponding integer-valued label for each unique value **that appears in the training data**. In the case that the validation data contains values that don't also appear in the training data, the encoder will throw an error, because these values won't have an integer assigned to them.  Notice that the `'Condition2'` column in the validation data contains the values `'RRAn'` and `'RRNn'`, but these don't appear in the training data -- thus, if we try to use an ordinal encoder with scikit-learn, the code will throw an error."
      ],
      "text/plain": [
       "Correct: \n",
       "\n",
       "Fitting an ordinal encoder to a column in the training data creates a corresponding integer-valued label for each unique value **that appears in the training data**. In the case that the validation data contains values that don't also appear in the training data, the encoder will throw an error, because these values won't have an integer assigned to them.  Notice that the `'Condition2'` column in the validation data contains the values `'RRAn'` and `'RRNn'`, but these don't appear in the training data -- thus, if we try to use an ordinal encoder with scikit-learn, the code will throw an error."
      ]
     },
     "metadata": {},
     "output_type": "display_data"
    }
   ],
   "source": [
    "# Check your answer (Run this code cell to receive credit!)\n",
    "step_2.a.check()"
   ]
  },
  {
   "cell_type": "code",
   "execution_count": 10,
   "id": "0bfbf16d",
   "metadata": {
    "execution": {
     "iopub.execute_input": "2024-07-04T23:39:28.450097Z",
     "iopub.status.busy": "2024-07-04T23:39:28.449096Z",
     "iopub.status.idle": "2024-07-04T23:39:28.454607Z",
     "shell.execute_reply": "2024-07-04T23:39:28.453262Z"
    },
    "papermill": {
     "duration": 0.024858,
     "end_time": "2024-07-04T23:39:28.457064",
     "exception": false,
     "start_time": "2024-07-04T23:39:28.432206",
     "status": "completed"
    },
    "tags": []
   },
   "outputs": [],
   "source": [
    "#step_2.a.hint()"
   ]
  },
  {
   "cell_type": "markdown",
   "id": "edceee6a",
   "metadata": {
    "papermill": {
     "duration": 0.015545,
     "end_time": "2024-07-04T23:39:28.488590",
     "exception": false,
     "start_time": "2024-07-04T23:39:28.473045",
     "status": "completed"
    },
    "tags": []
   },
   "source": [
    "This is a common problem that you'll encounter with real-world data, and there are many approaches to fixing this issue.  For instance, you can write a custom ordinal encoder to deal with new categories.  The simplest approach, however, is to drop the problematic categorical columns.  \n",
    "\n",
    "Run the code cell below to save the problematic columns to a Python list `bad_label_cols`.  Likewise, columns that can be safely ordinal encoded are stored in `good_label_cols`."
   ]
  },
  {
   "cell_type": "code",
   "execution_count": 11,
   "id": "f6dcef75",
   "metadata": {
    "execution": {
     "iopub.execute_input": "2024-07-04T23:39:28.521992Z",
     "iopub.status.busy": "2024-07-04T23:39:28.521616Z",
     "iopub.status.idle": "2024-07-04T23:39:28.539177Z",
     "shell.execute_reply": "2024-07-04T23:39:28.538073Z"
    },
    "papermill": {
     "duration": 0.037227,
     "end_time": "2024-07-04T23:39:28.541681",
     "exception": false,
     "start_time": "2024-07-04T23:39:28.504454",
     "status": "completed"
    },
    "tags": []
   },
   "outputs": [
    {
     "name": "stdout",
     "output_type": "stream",
     "text": [
      "Categorical columns that will be ordinal encoded: ['MSZoning', 'Street', 'LotShape', 'LandContour', 'Utilities', 'LotConfig', 'LandSlope', 'Neighborhood', 'Condition1', 'BldgType', 'HouseStyle', 'RoofStyle', 'Exterior1st', 'Exterior2nd', 'ExterQual', 'ExterCond', 'Foundation', 'Heating', 'HeatingQC', 'CentralAir', 'KitchenQual', 'PavedDrive', 'SaleType', 'SaleCondition']\n",
      "\n",
      "Categorical columns that will be dropped from the dataset: ['Functional', 'RoofMatl', 'Condition2']\n"
     ]
    }
   ],
   "source": [
    "# Categorical columns in the training data\n",
    "object_cols = [col for col in X_train.columns if X_train[col].dtype == \"object\"]\n",
    "\n",
    "# Columns that can be safely ordinal encoded\n",
    "good_label_cols = [col for col in object_cols if \n",
    "                   set(X_valid[col]).issubset(set(X_train[col]))]\n",
    "        \n",
    "# Problematic columns that will be dropped from the dataset\n",
    "bad_label_cols = list(set(object_cols)-set(good_label_cols))\n",
    "        \n",
    "print('Categorical columns that will be ordinal encoded:', good_label_cols)\n",
    "print('\\nCategorical columns that will be dropped from the dataset:', bad_label_cols)"
   ]
  },
  {
   "cell_type": "markdown",
   "id": "df6a659b",
   "metadata": {
    "papermill": {
     "duration": 0.015534,
     "end_time": "2024-07-04T23:39:28.573210",
     "exception": false,
     "start_time": "2024-07-04T23:39:28.557676",
     "status": "completed"
    },
    "tags": []
   },
   "source": [
    "### Part B\n",
    "\n",
    "Use the next code cell to ordinal encode the data in `X_train` and `X_valid`.  Set the preprocessed DataFrames to `label_X_train` and `label_X_valid`, respectively.  \n",
    "- We have provided code below to drop the categorical columns in `bad_label_cols` from the dataset. \n",
    "- You should ordinal encode the categorical columns in `good_label_cols`.  "
   ]
  },
  {
   "cell_type": "code",
   "execution_count": 12,
   "id": "5c6ea3e1",
   "metadata": {
    "execution": {
     "iopub.execute_input": "2024-07-04T23:39:28.607567Z",
     "iopub.status.busy": "2024-07-04T23:39:28.606481Z",
     "iopub.status.idle": "2024-07-04T23:39:28.657222Z",
     "shell.execute_reply": "2024-07-04T23:39:28.656194Z"
    },
    "papermill": {
     "duration": 0.070762,
     "end_time": "2024-07-04T23:39:28.660016",
     "exception": false,
     "start_time": "2024-07-04T23:39:28.589254",
     "status": "completed"
    },
    "tags": []
   },
   "outputs": [
    {
     "data": {
      "application/javascript": [
       "parent.postMessage({\"jupyterEvent\": \"custom.exercise_interaction\", \"data\": {\"outcomeType\": 1, \"valueTowardsCompletion\": 0.5, \"interactionType\": 1, \"questionType\": 2, \"questionId\": \"2.2_LabelB\", \"learnToolsVersion\": \"0.3.4\", \"failureMessage\": \"\", \"exceptionClass\": \"\", \"trace\": \"\"}}, \"*\")"
      ],
      "text/plain": [
       "<IPython.core.display.Javascript object>"
      ]
     },
     "metadata": {},
     "output_type": "display_data"
    },
    {
     "data": {
      "text/markdown": [
       "<span style=\"color:#33cc33\">Correct</span>"
      ],
      "text/plain": [
       "Correct"
      ]
     },
     "metadata": {},
     "output_type": "display_data"
    }
   ],
   "source": [
    "from sklearn.preprocessing import OrdinalEncoder\n",
    "\n",
    "# Drop categorical columns that will not be encoded\n",
    "label_X_train = X_train.drop(bad_label_cols, axis=1)\n",
    "label_X_valid = X_valid.drop(bad_label_cols, axis=1)\n",
    "\n",
    "# Apply ordinal encoder \n",
    "ordinal_encoder = OrdinalEncoder()\n",
    "label_X_train[good_label_cols] = ordinal_encoder.fit_transform(X_train[good_label_cols])\n",
    "label_X_valid[good_label_cols] = ordinal_encoder.transform(X_valid[good_label_cols])\n",
    "\n",
    "# OrdinalEncoder() : 순서가 있는 feature에 적합 \n",
    "# >> 크기 순서 오름차순으로 0부터 n-1까지 매핑\n",
    "\n",
    "# Check your answer\n",
    "step_2.b.check()"
   ]
  },
  {
   "cell_type": "code",
   "execution_count": 13,
   "id": "8442e6aa",
   "metadata": {
    "execution": {
     "iopub.execute_input": "2024-07-04T23:39:28.756134Z",
     "iopub.status.busy": "2024-07-04T23:39:28.755716Z",
     "iopub.status.idle": "2024-07-04T23:39:28.760553Z",
     "shell.execute_reply": "2024-07-04T23:39:28.759407Z"
    },
    "papermill": {
     "duration": 0.025131,
     "end_time": "2024-07-04T23:39:28.762959",
     "exception": false,
     "start_time": "2024-07-04T23:39:28.737828",
     "status": "completed"
    },
    "tags": []
   },
   "outputs": [],
   "source": [
    "# Lines below will give you a hint or solution code\n",
    "#step_2.b.hint()\n",
    "#step_2.b.solution()"
   ]
  },
  {
   "cell_type": "markdown",
   "id": "7793461d",
   "metadata": {
    "papermill": {
     "duration": 0.016165,
     "end_time": "2024-07-04T23:39:28.795654",
     "exception": false,
     "start_time": "2024-07-04T23:39:28.779489",
     "status": "completed"
    },
    "tags": []
   },
   "source": [
    "Run the next code cell to get the MAE for this approach."
   ]
  },
  {
   "cell_type": "code",
   "execution_count": 14,
   "id": "7ab56a6f",
   "metadata": {
    "execution": {
     "iopub.execute_input": "2024-07-04T23:39:28.831019Z",
     "iopub.status.busy": "2024-07-04T23:39:28.830609Z",
     "iopub.status.idle": "2024-07-04T23:39:30.544542Z",
     "shell.execute_reply": "2024-07-04T23:39:30.543495Z"
    },
    "papermill": {
     "duration": 1.735052,
     "end_time": "2024-07-04T23:39:30.547222",
     "exception": false,
     "start_time": "2024-07-04T23:39:28.812170",
     "status": "completed"
    },
    "tags": []
   },
   "outputs": [
    {
     "name": "stdout",
     "output_type": "stream",
     "text": [
      "MAE from Approach 2 (Ordinal Encoding):\n",
      "17098.01649543379\n"
     ]
    }
   ],
   "source": [
    "print(\"MAE from Approach 2 (Ordinal Encoding):\") \n",
    "print(score_dataset(label_X_train, label_X_valid, y_train, y_valid))"
   ]
  },
  {
   "cell_type": "markdown",
   "id": "6d2dc821",
   "metadata": {
    "papermill": {
     "duration": 0.016281,
     "end_time": "2024-07-04T23:39:30.580143",
     "exception": false,
     "start_time": "2024-07-04T23:39:30.563862",
     "status": "completed"
    },
    "tags": []
   },
   "source": [
    "So far, you've tried two different approaches to dealing with categorical variables.  And, you've seen that encoding categorical data yields better results than removing columns from the dataset.\n",
    "\n",
    "Soon, you'll try one-hot encoding.  Before then, there's one additional topic we need to cover.  Begin by running the next code cell without changes.  "
   ]
  },
  {
   "cell_type": "code",
   "execution_count": 15,
   "id": "99df440f",
   "metadata": {
    "execution": {
     "iopub.execute_input": "2024-07-04T23:39:30.615126Z",
     "iopub.status.busy": "2024-07-04T23:39:30.614377Z",
     "iopub.status.idle": "2024-07-04T23:39:30.630849Z",
     "shell.execute_reply": "2024-07-04T23:39:30.629721Z"
    },
    "papermill": {
     "duration": 0.036826,
     "end_time": "2024-07-04T23:39:30.633475",
     "exception": false,
     "start_time": "2024-07-04T23:39:30.596649",
     "status": "completed"
    },
    "tags": []
   },
   "outputs": [
    {
     "data": {
      "text/plain": [
       "[('Street', 2),\n",
       " ('Utilities', 2),\n",
       " ('CentralAir', 2),\n",
       " ('LandSlope', 3),\n",
       " ('PavedDrive', 3),\n",
       " ('LotShape', 4),\n",
       " ('LandContour', 4),\n",
       " ('ExterQual', 4),\n",
       " ('KitchenQual', 4),\n",
       " ('MSZoning', 5),\n",
       " ('LotConfig', 5),\n",
       " ('BldgType', 5),\n",
       " ('ExterCond', 5),\n",
       " ('HeatingQC', 5),\n",
       " ('Condition2', 6),\n",
       " ('RoofStyle', 6),\n",
       " ('Foundation', 6),\n",
       " ('Heating', 6),\n",
       " ('Functional', 6),\n",
       " ('SaleCondition', 6),\n",
       " ('RoofMatl', 7),\n",
       " ('HouseStyle', 8),\n",
       " ('Condition1', 9),\n",
       " ('SaleType', 9),\n",
       " ('Exterior1st', 15),\n",
       " ('Exterior2nd', 16),\n",
       " ('Neighborhood', 25)]"
      ]
     },
     "execution_count": 15,
     "metadata": {},
     "output_type": "execute_result"
    }
   ],
   "source": [
    "# Get number of unique entries in each column with categorical data\n",
    "object_nunique = list(map(lambda col: X_train[col].nunique(), object_cols))\n",
    "d = dict(zip(object_cols, object_nunique))\n",
    "\n",
    "# dict(zip(a, b)) >> (1)a,b 두 리스트를 묶어서 튜플로 만들고, >> (2) 그걸 딕셔너리로 변환 \n",
    "\n",
    "# Print number of unique entries by column, in ascending order\n",
    "sorted(d.items(), key=lambda x: x[1])"
   ]
  },
  {
   "cell_type": "code",
   "execution_count": 16,
   "id": "1fa6f0ec",
   "metadata": {
    "execution": {
     "iopub.execute_input": "2024-07-04T23:39:30.669544Z",
     "iopub.status.busy": "2024-07-04T23:39:30.668549Z",
     "iopub.status.idle": "2024-07-04T23:39:30.676456Z",
     "shell.execute_reply": "2024-07-04T23:39:30.675366Z"
    },
    "papermill": {
     "duration": 0.028465,
     "end_time": "2024-07-04T23:39:30.678818",
     "exception": false,
     "start_time": "2024-07-04T23:39:30.650353",
     "status": "completed"
    },
    "tags": []
   },
   "outputs": [
    {
     "data": {
      "text/plain": [
       "[5,\n",
       " 2,\n",
       " 4,\n",
       " 4,\n",
       " 2,\n",
       " 5,\n",
       " 3,\n",
       " 25,\n",
       " 9,\n",
       " 6,\n",
       " 5,\n",
       " 8,\n",
       " 6,\n",
       " 7,\n",
       " 15,\n",
       " 16,\n",
       " 4,\n",
       " 5,\n",
       " 6,\n",
       " 6,\n",
       " 5,\n",
       " 2,\n",
       " 4,\n",
       " 6,\n",
       " 3,\n",
       " 9,\n",
       " 6]"
      ]
     },
     "execution_count": 16,
     "metadata": {},
     "output_type": "execute_result"
    }
   ],
   "source": [
    "object_nunique"
   ]
  },
  {
   "cell_type": "code",
   "execution_count": 17,
   "id": "29058684",
   "metadata": {
    "execution": {
     "iopub.execute_input": "2024-07-04T23:39:30.714702Z",
     "iopub.status.busy": "2024-07-04T23:39:30.713909Z",
     "iopub.status.idle": "2024-07-04T23:39:30.722060Z",
     "shell.execute_reply": "2024-07-04T23:39:30.720976Z"
    },
    "papermill": {
     "duration": 0.028536,
     "end_time": "2024-07-04T23:39:30.724347",
     "exception": false,
     "start_time": "2024-07-04T23:39:30.695811",
     "status": "completed"
    },
    "tags": []
   },
   "outputs": [
    {
     "data": {
      "text/plain": [
       "{'MSZoning': 5,\n",
       " 'Street': 2,\n",
       " 'LotShape': 4,\n",
       " 'LandContour': 4,\n",
       " 'Utilities': 2,\n",
       " 'LotConfig': 5,\n",
       " 'LandSlope': 3,\n",
       " 'Neighborhood': 25,\n",
       " 'Condition1': 9,\n",
       " 'Condition2': 6,\n",
       " 'BldgType': 5,\n",
       " 'HouseStyle': 8,\n",
       " 'RoofStyle': 6,\n",
       " 'RoofMatl': 7,\n",
       " 'Exterior1st': 15,\n",
       " 'Exterior2nd': 16,\n",
       " 'ExterQual': 4,\n",
       " 'ExterCond': 5,\n",
       " 'Foundation': 6,\n",
       " 'Heating': 6,\n",
       " 'HeatingQC': 5,\n",
       " 'CentralAir': 2,\n",
       " 'KitchenQual': 4,\n",
       " 'Functional': 6,\n",
       " 'PavedDrive': 3,\n",
       " 'SaleType': 9,\n",
       " 'SaleCondition': 6}"
      ]
     },
     "execution_count": 17,
     "metadata": {},
     "output_type": "execute_result"
    }
   ],
   "source": [
    "d"
   ]
  },
  {
   "cell_type": "markdown",
   "id": "69349f57",
   "metadata": {
    "papermill": {
     "duration": 0.016929,
     "end_time": "2024-07-04T23:39:30.758466",
     "exception": false,
     "start_time": "2024-07-04T23:39:30.741537",
     "status": "completed"
    },
    "tags": []
   },
   "source": [
    "# Step 3: Investigating cardinality\n",
    "\n",
    "### Part A\n",
    "\n",
    "The output above shows, for each column with categorical data, the number of unique values in the column.  For instance, the `'Street'` column in the training data has two unique values: `'Grvl'` and `'Pave'`, corresponding to a gravel road and a paved road, respectively.\n",
    "\n",
    "We refer to the number of unique entries of a categorical variable as the **cardinality** of that categorical variable.  For instance, the `'Street'` variable has cardinality 2.\n",
    "\n",
    "Use the output above to answer the questions below."
   ]
  },
  {
   "cell_type": "code",
   "execution_count": 18,
   "id": "e272c7f2",
   "metadata": {
    "execution": {
     "iopub.execute_input": "2024-07-04T23:39:30.794514Z",
     "iopub.status.busy": "2024-07-04T23:39:30.794076Z",
     "iopub.status.idle": "2024-07-04T23:39:30.801493Z",
     "shell.execute_reply": "2024-07-04T23:39:30.800364Z"
    },
    "papermill": {
     "duration": 0.028176,
     "end_time": "2024-07-04T23:39:30.803803",
     "exception": false,
     "start_time": "2024-07-04T23:39:30.775627",
     "status": "completed"
    },
    "tags": []
   },
   "outputs": [
    {
     "data": {
      "text/plain": [
       "['Neighborhood', 'Exterior1st', 'Exterior2nd']"
      ]
     },
     "execution_count": 18,
     "metadata": {},
     "output_type": "execute_result"
    }
   ],
   "source": [
    "columns_above_10 = [key for key, value in d.items() if value > 10]\n",
    "columns_above_10"
   ]
  },
  {
   "cell_type": "code",
   "execution_count": 19,
   "id": "220e24be",
   "metadata": {
    "execution": {
     "iopub.execute_input": "2024-07-04T23:39:30.840664Z",
     "iopub.status.busy": "2024-07-04T23:39:30.840216Z",
     "iopub.status.idle": "2024-07-04T23:39:30.847136Z",
     "shell.execute_reply": "2024-07-04T23:39:30.846046Z"
    },
    "papermill": {
     "duration": 0.028456,
     "end_time": "2024-07-04T23:39:30.849527",
     "exception": false,
     "start_time": "2024-07-04T23:39:30.821071",
     "status": "completed"
    },
    "tags": []
   },
   "outputs": [
    {
     "data": {
      "text/plain": [
       "25"
      ]
     },
     "execution_count": 19,
     "metadata": {},
     "output_type": "execute_result"
    }
   ],
   "source": [
    "d['Neighborhood']"
   ]
  },
  {
   "cell_type": "code",
   "execution_count": 20,
   "id": "664191f3",
   "metadata": {
    "execution": {
     "iopub.execute_input": "2024-07-04T23:39:30.887192Z",
     "iopub.status.busy": "2024-07-04T23:39:30.886515Z",
     "iopub.status.idle": "2024-07-04T23:39:30.896972Z",
     "shell.execute_reply": "2024-07-04T23:39:30.895864Z"
    },
    "papermill": {
     "duration": 0.032404,
     "end_time": "2024-07-04T23:39:30.899683",
     "exception": false,
     "start_time": "2024-07-04T23:39:30.867279",
     "status": "completed"
    },
    "tags": []
   },
   "outputs": [
    {
     "data": {
      "application/javascript": [
       "parent.postMessage({\"jupyterEvent\": \"custom.exercise_interaction\", \"data\": {\"outcomeType\": 1, \"valueTowardsCompletion\": 0.5, \"interactionType\": 1, \"questionType\": 1, \"questionId\": \"3.1_CardinalityA\", \"learnToolsVersion\": \"0.3.4\", \"failureMessage\": \"\", \"exceptionClass\": \"\", \"trace\": \"\"}}, \"*\")"
      ],
      "text/plain": [
       "<IPython.core.display.Javascript object>"
      ]
     },
     "metadata": {},
     "output_type": "display_data"
    },
    {
     "data": {
      "text/markdown": [
       "<span style=\"color:#33cc33\">Correct</span>"
      ],
      "text/plain": [
       "Correct"
      ]
     },
     "metadata": {},
     "output_type": "display_data"
    }
   ],
   "source": [
    "# Fill in the line below: How many categorical variables in the training data\n",
    "# have cardinality greater than 10?\n",
    "columns_above_10 = [key for key, value in d.items() if value > 10]\n",
    "high_cardinality_numcols = len(columns_above_10)\n",
    "\n",
    "# Fill in the line below: How many columns are needed to one-hot encode the \n",
    "# 'Neighborhood' variable in the training data?\n",
    "num_cols_neighborhood = d['Neighborhood']\n",
    "\n",
    "# Check your answers\n",
    "step_3.a.check()"
   ]
  },
  {
   "cell_type": "code",
   "execution_count": 21,
   "id": "4016ab81",
   "metadata": {
    "execution": {
     "iopub.execute_input": "2024-07-04T23:39:30.937245Z",
     "iopub.status.busy": "2024-07-04T23:39:30.936868Z",
     "iopub.status.idle": "2024-07-04T23:39:30.941694Z",
     "shell.execute_reply": "2024-07-04T23:39:30.940545Z"
    },
    "papermill": {
     "duration": 0.026698,
     "end_time": "2024-07-04T23:39:30.944175",
     "exception": false,
     "start_time": "2024-07-04T23:39:30.917477",
     "status": "completed"
    },
    "tags": []
   },
   "outputs": [],
   "source": [
    "# Lines below will give you a hint or solution code\n",
    "#step_3.a.hint()\n",
    "#step_3.a.solution()"
   ]
  },
  {
   "cell_type": "markdown",
   "id": "298e051d",
   "metadata": {
    "papermill": {
     "duration": 0.017585,
     "end_time": "2024-07-04T23:39:30.981282",
     "exception": false,
     "start_time": "2024-07-04T23:39:30.963697",
     "status": "completed"
    },
    "tags": []
   },
   "source": [
    "### Part B\n",
    "\n",
    "For large datasets with many rows, one-hot encoding can greatly expand the size of the dataset.  For this reason, we typically will only one-hot encode columns with relatively low cardinality.  Then, high cardinality columns can either be dropped from the dataset, or we can use ordinal encoding.\n",
    "\n",
    "As an example, consider a dataset with 10,000 rows, and containing one categorical column with 100 unique entries.  \n",
    "- If this column is replaced with the corresponding one-hot encoding, how many entries are added to the dataset?  \n",
    "- If we instead replace the column with the ordinal encoding, how many entries are added?  \n",
    "\n",
    "Use your answers to fill in the lines below."
   ]
  },
  {
   "cell_type": "code",
   "execution_count": 22,
   "id": "ba823ee8",
   "metadata": {
    "execution": {
     "iopub.execute_input": "2024-07-04T23:39:31.018680Z",
     "iopub.status.busy": "2024-07-04T23:39:31.018215Z",
     "iopub.status.idle": "2024-07-04T23:39:31.025107Z",
     "shell.execute_reply": "2024-07-04T23:39:31.024090Z"
    },
    "papermill": {
     "duration": 0.028569,
     "end_time": "2024-07-04T23:39:31.027629",
     "exception": false,
     "start_time": "2024-07-04T23:39:30.999060",
     "status": "completed"
    },
    "tags": []
   },
   "outputs": [
    {
     "data": {
      "text/plain": [
       "10000.0"
      ]
     },
     "execution_count": 22,
     "metadata": {},
     "output_type": "execute_result"
    }
   ],
   "source": [
    "1e4"
   ]
  },
  {
   "cell_type": "code",
   "execution_count": 23,
   "id": "8b2f587b",
   "metadata": {
    "execution": {
     "iopub.execute_input": "2024-07-04T23:39:31.065288Z",
     "iopub.status.busy": "2024-07-04T23:39:31.064866Z",
     "iopub.status.idle": "2024-07-04T23:39:31.071683Z",
     "shell.execute_reply": "2024-07-04T23:39:31.070652Z"
    },
    "papermill": {
     "duration": 0.028727,
     "end_time": "2024-07-04T23:39:31.074243",
     "exception": false,
     "start_time": "2024-07-04T23:39:31.045516",
     "status": "completed"
    },
    "tags": []
   },
   "outputs": [
    {
     "data": {
      "text/plain": [
       "990000.0"
      ]
     },
     "execution_count": 23,
     "metadata": {},
     "output_type": "execute_result"
    }
   ],
   "source": [
    "1e4*100 - 1e4"
   ]
  },
  {
   "cell_type": "code",
   "execution_count": 24,
   "id": "6b699f7b",
   "metadata": {
    "execution": {
     "iopub.execute_input": "2024-07-04T23:39:31.112630Z",
     "iopub.status.busy": "2024-07-04T23:39:31.112169Z",
     "iopub.status.idle": "2024-07-04T23:39:31.122513Z",
     "shell.execute_reply": "2024-07-04T23:39:31.121373Z"
    },
    "papermill": {
     "duration": 0.032227,
     "end_time": "2024-07-04T23:39:31.124928",
     "exception": false,
     "start_time": "2024-07-04T23:39:31.092701",
     "status": "completed"
    },
    "tags": []
   },
   "outputs": [
    {
     "data": {
      "application/javascript": [
       "parent.postMessage({\"jupyterEvent\": \"custom.exercise_interaction\", \"data\": {\"outcomeType\": 1, \"valueTowardsCompletion\": 0.5, \"interactionType\": 1, \"questionType\": 1, \"questionId\": \"3.2_CardinalityB\", \"learnToolsVersion\": \"0.3.4\", \"failureMessage\": \"\", \"exceptionClass\": \"\", \"trace\": \"\"}}, \"*\")"
      ],
      "text/plain": [
       "<IPython.core.display.Javascript object>"
      ]
     },
     "metadata": {},
     "output_type": "display_data"
    },
    {
     "data": {
      "text/markdown": [
       "<span style=\"color:#33cc33\">Correct</span>"
      ],
      "text/plain": [
       "Correct"
      ]
     },
     "metadata": {},
     "output_type": "display_data"
    }
   ],
   "source": [
    "# Fill in the line below: How many entries are added to the dataset by \n",
    "# replacing the column with a one-hot encoding?\n",
    "OH_entries_added = 10000*100 - 10000\n",
    "\n",
    "# 원래 있던 컬럼이 사라지고 새로 100개의 원핫인코딩된 컬럼이 들어오기 때문\n",
    "\n",
    "# Fill in the line below: How many entries are added to the dataset by\n",
    "# replacing the column with an ordinal encoding?\n",
    "label_entries_added = 0\n",
    "\n",
    "# ordinary encoding은 라벨인코딩과 같이 하나의 컬럼안에 인코딩이 가능\n",
    "\n",
    "# Check your answers\n",
    "step_3.b.check()"
   ]
  },
  {
   "cell_type": "code",
   "execution_count": 25,
   "id": "aa663201",
   "metadata": {
    "execution": {
     "iopub.execute_input": "2024-07-04T23:39:31.163698Z",
     "iopub.status.busy": "2024-07-04T23:39:31.162930Z",
     "iopub.status.idle": "2024-07-04T23:39:31.167610Z",
     "shell.execute_reply": "2024-07-04T23:39:31.166471Z"
    },
    "papermill": {
     "duration": 0.02685,
     "end_time": "2024-07-04T23:39:31.170178",
     "exception": false,
     "start_time": "2024-07-04T23:39:31.143328",
     "status": "completed"
    },
    "tags": []
   },
   "outputs": [],
   "source": [
    "# Lines below will give you a hint or solution code\n",
    "#step_3.b.hint()\n",
    "#step_3.b.solution()"
   ]
  },
  {
   "cell_type": "markdown",
   "id": "36333ccd",
   "metadata": {
    "papermill": {
     "duration": 0.018385,
     "end_time": "2024-07-04T23:39:31.207170",
     "exception": false,
     "start_time": "2024-07-04T23:39:31.188785",
     "status": "completed"
    },
    "tags": []
   },
   "source": [
    "Next, you'll experiment with one-hot encoding.  But, instead of encoding all of the categorical variables in the dataset, you'll only create a one-hot encoding for columns with cardinality less than 10.\n",
    "\n",
    "Run the code cell below without changes to set `low_cardinality_cols` to a Python list containing the columns that will be one-hot encoded.  Likewise, `high_cardinality_cols` contains a list of categorical columns that will be dropped from the dataset."
   ]
  },
  {
   "cell_type": "code",
   "execution_count": 26,
   "id": "73ccf6ef",
   "metadata": {
    "execution": {
     "iopub.execute_input": "2024-07-04T23:39:31.245886Z",
     "iopub.status.busy": "2024-07-04T23:39:31.245507Z",
     "iopub.status.idle": "2024-07-04T23:39:31.257495Z",
     "shell.execute_reply": "2024-07-04T23:39:31.256252Z"
    },
    "papermill": {
     "duration": 0.03423,
     "end_time": "2024-07-04T23:39:31.260018",
     "exception": false,
     "start_time": "2024-07-04T23:39:31.225788",
     "status": "completed"
    },
    "tags": []
   },
   "outputs": [
    {
     "name": "stdout",
     "output_type": "stream",
     "text": [
      "Categorical columns that will be one-hot encoded: ['MSZoning', 'Street', 'LotShape', 'LandContour', 'Utilities', 'LotConfig', 'LandSlope', 'Condition1', 'Condition2', 'BldgType', 'HouseStyle', 'RoofStyle', 'RoofMatl', 'ExterQual', 'ExterCond', 'Foundation', 'Heating', 'HeatingQC', 'CentralAir', 'KitchenQual', 'Functional', 'PavedDrive', 'SaleType', 'SaleCondition']\n",
      "\n",
      "Categorical columns that will be dropped from the dataset: ['Exterior1st', 'Exterior2nd', 'Neighborhood']\n"
     ]
    }
   ],
   "source": [
    "# Columns that will be one-hot encoded\n",
    "low_cardinality_cols = [col for col in object_cols if X_train[col].nunique() < 10]\n",
    "\n",
    "# Columns that will be dropped from the dataset\n",
    "high_cardinality_cols = list(set(object_cols)-set(low_cardinality_cols))\n",
    "\n",
    "print('Categorical columns that will be one-hot encoded:', low_cardinality_cols)\n",
    "print('\\nCategorical columns that will be dropped from the dataset:', high_cardinality_cols)"
   ]
  },
  {
   "cell_type": "markdown",
   "id": "3f325d7e",
   "metadata": {
    "papermill": {
     "duration": 0.018212,
     "end_time": "2024-07-04T23:39:31.297254",
     "exception": false,
     "start_time": "2024-07-04T23:39:31.279042",
     "status": "completed"
    },
    "tags": []
   },
   "source": [
    "# Step 4: One-hot encoding\n",
    "\n",
    "Use the next code cell to one-hot encode the data in `X_train` and `X_valid`.  Set the preprocessed DataFrames to `OH_X_train` and `OH_X_valid`, respectively.  \n",
    "- The full list of categorical columns in the dataset can be found in the Python list `object_cols`.\n",
    "- You should only one-hot encode the categorical columns in `low_cardinality_cols`.  All other categorical columns should be dropped from the dataset. "
   ]
  },
  {
   "cell_type": "code",
   "execution_count": 27,
   "id": "0e77d1d0",
   "metadata": {
    "execution": {
     "iopub.execute_input": "2024-07-04T23:39:31.336275Z",
     "iopub.status.busy": "2024-07-04T23:39:31.335871Z",
     "iopub.status.idle": "2024-07-04T23:39:31.390016Z",
     "shell.execute_reply": "2024-07-04T23:39:31.388846Z"
    },
    "papermill": {
     "duration": 0.077753,
     "end_time": "2024-07-04T23:39:31.393738",
     "exception": false,
     "start_time": "2024-07-04T23:39:31.315985",
     "status": "completed"
    },
    "tags": []
   },
   "outputs": [
    {
     "name": "stderr",
     "output_type": "stream",
     "text": [
      "/opt/conda/lib/python3.10/site-packages/sklearn/preprocessing/_encoders.py:868: FutureWarning: `sparse` was renamed to `sparse_output` in version 1.2 and will be removed in 1.4. `sparse_output` is ignored unless you leave `sparse` to its default value.\n",
      "  warnings.warn(\n"
     ]
    },
    {
     "data": {
      "application/javascript": [
       "parent.postMessage({\"jupyterEvent\": \"custom.exercise_interaction\", \"data\": {\"outcomeType\": 1, \"valueTowardsCompletion\": 0.5, \"interactionType\": 1, \"questionType\": 2, \"questionId\": \"4_OneHot\", \"learnToolsVersion\": \"0.3.4\", \"failureMessage\": \"\", \"exceptionClass\": \"\", \"trace\": \"\"}}, \"*\")"
      ],
      "text/plain": [
       "<IPython.core.display.Javascript object>"
      ]
     },
     "metadata": {},
     "output_type": "display_data"
    },
    {
     "data": {
      "text/markdown": [
       "<span style=\"color:#33cc33\">Correct</span>"
      ],
      "text/plain": [
       "Correct"
      ]
     },
     "metadata": {},
     "output_type": "display_data"
    }
   ],
   "source": [
    "from sklearn.preprocessing import OneHotEncoder\n",
    "\n",
    "# Use as many lines of code as you need!\n",
    "# 인코더 객체화\n",
    "OH_encoder = OneHotEncoder(handle_unknown='ignore', sparse=False)\n",
    "\n",
    "# handle_unknown='ignore' : 데이터에서 훈련되지 않은 새로운 범주가 나타났을 때 무시해라. cf. error >> 에러로 출력해라. \n",
    "# sparse=False : Dense matrix형태로 출력 // 디폴트 : sparse=True 희소행렬(sparse maxtrix) 형태로 출력 (*** 복습 ***)\n",
    "\n",
    "# 인코딩한 데이터 >> 데이터프레임으로 저장\n",
    "OH_cols_train = pd.DataFrame(OH_encoder.fit_transform(X_train[low_cardinality_cols]))\n",
    "OH_cols_valid = pd.DataFrame(OH_encoder.transform(X_valid[low_cardinality_cols]))\n",
    "\n",
    "# 인덱스 복원\n",
    "OH_cols_train.index = X_train.index\n",
    "OH_cols_valid.index = X_valid.index\n",
    "\n",
    "# 기존 데이터프레임에서 카테고리형 컬럼 삭제\n",
    "num_X_train = X_train.drop(object_cols, axis=1)\n",
    "num_X_valid = X_valid.drop(object_cols, axis=1)\n",
    "\n",
    "# 데이터 프레임 병합 \n",
    "OH_X_train = pd.concat([num_X_train, OH_cols_train], axis=1)\n",
    "OH_X_valid = pd.concat([num_X_valid, OH_cols_valid], axis=1)\n",
    "\n",
    "# 컬럼명 타입 >> 문자열로 변환\n",
    "OH_X_train.columns = OH_X_train.columns.astype(str)\n",
    "OH_X_valid.columns = OH_X_valid.columns.astype(str)\n",
    "\n",
    "# Check your answer\n",
    "step_4.check()"
   ]
  },
  {
   "cell_type": "code",
   "execution_count": 28,
   "id": "ecd6c0d7",
   "metadata": {
    "execution": {
     "iopub.execute_input": "2024-07-04T23:39:31.433726Z",
     "iopub.status.busy": "2024-07-04T23:39:31.433297Z",
     "iopub.status.idle": "2024-07-04T23:39:31.442731Z",
     "shell.execute_reply": "2024-07-04T23:39:31.441634Z"
    },
    "papermill": {
     "duration": 0.032384,
     "end_time": "2024-07-04T23:39:31.445181",
     "exception": false,
     "start_time": "2024-07-04T23:39:31.412797",
     "status": "completed"
    },
    "tags": []
   },
   "outputs": [
    {
     "data": {
      "application/javascript": [
       "parent.postMessage({\"jupyterEvent\": \"custom.exercise_interaction\", \"data\": {\"interactionType\": 3, \"questionType\": 2, \"questionId\": \"4_OneHot\", \"learnToolsVersion\": \"0.3.4\", \"valueTowardsCompletion\": 0.0, \"failureMessage\": \"\", \"exceptionClass\": \"\", \"trace\": \"\", \"outcomeType\": 4}}, \"*\")"
      ],
      "text/plain": [
       "<IPython.core.display.Javascript object>"
      ]
     },
     "metadata": {},
     "output_type": "display_data"
    },
    {
     "data": {
      "text/markdown": [
       "<span style=\"color:#33cc99\">Solution:</span> \n",
       "```python\n",
       "# Apply one-hot encoder to each column with categorical data\n",
       "OH_encoder = OneHotEncoder(handle_unknown='ignore', sparse=False)\n",
       "OH_cols_train = pd.DataFrame(OH_encoder.fit_transform(X_train[low_cardinality_cols]))\n",
       "OH_cols_valid = pd.DataFrame(OH_encoder.transform(X_valid[low_cardinality_cols]))\n",
       "\n",
       "# One-hot encoding removed index; put it back\n",
       "OH_cols_train.index = X_train.index\n",
       "OH_cols_valid.index = X_valid.index\n",
       "\n",
       "# Remove categorical columns (will replace with one-hot encoding)\n",
       "num_X_train = X_train.drop(object_cols, axis=1)\n",
       "num_X_valid = X_valid.drop(object_cols, axis=1)\n",
       "\n",
       "# Add one-hot encoded columns to numerical features\n",
       "OH_X_train = pd.concat([num_X_train, OH_cols_train], axis=1)\n",
       "OH_X_valid = pd.concat([num_X_valid, OH_cols_valid], axis=1)\n",
       "\n",
       "# Ensure all columns have string type\n",
       "OH_X_train.columns = OH_X_train.columns.astype(str)\n",
       "OH_X_valid.columns = OH_X_valid.columns.astype(str)\n",
       "\n",
       "```"
      ],
      "text/plain": [
       "Solution: \n",
       "```python\n",
       "# Apply one-hot encoder to each column with categorical data\n",
       "OH_encoder = OneHotEncoder(handle_unknown='ignore', sparse=False)\n",
       "OH_cols_train = pd.DataFrame(OH_encoder.fit_transform(X_train[low_cardinality_cols]))\n",
       "OH_cols_valid = pd.DataFrame(OH_encoder.transform(X_valid[low_cardinality_cols]))\n",
       "\n",
       "# One-hot encoding removed index; put it back\n",
       "OH_cols_train.index = X_train.index\n",
       "OH_cols_valid.index = X_valid.index\n",
       "\n",
       "# Remove categorical columns (will replace with one-hot encoding)\n",
       "num_X_train = X_train.drop(object_cols, axis=1)\n",
       "num_X_valid = X_valid.drop(object_cols, axis=1)\n",
       "\n",
       "# Add one-hot encoded columns to numerical features\n",
       "OH_X_train = pd.concat([num_X_train, OH_cols_train], axis=1)\n",
       "OH_X_valid = pd.concat([num_X_valid, OH_cols_valid], axis=1)\n",
       "\n",
       "# Ensure all columns have string type\n",
       "OH_X_train.columns = OH_X_train.columns.astype(str)\n",
       "OH_X_valid.columns = OH_X_valid.columns.astype(str)\n",
       "\n",
       "```"
      ]
     },
     "metadata": {},
     "output_type": "display_data"
    }
   ],
   "source": [
    "# Lines below will give you a hint or solution code\n",
    "#step_4.hint()\n",
    "step_4.solution()"
   ]
  },
  {
   "cell_type": "markdown",
   "id": "b0b022b9",
   "metadata": {
    "papermill": {
     "duration": 0.018987,
     "end_time": "2024-07-04T23:39:31.483875",
     "exception": false,
     "start_time": "2024-07-04T23:39:31.464888",
     "status": "completed"
    },
    "tags": []
   },
   "source": [
    "Run the next code cell to get the MAE for this approach."
   ]
  },
  {
   "cell_type": "code",
   "execution_count": 29,
   "id": "d493afab",
   "metadata": {
    "execution": {
     "iopub.execute_input": "2024-07-04T23:39:31.524832Z",
     "iopub.status.busy": "2024-07-04T23:39:31.523949Z",
     "iopub.status.idle": "2024-07-04T23:39:33.577891Z",
     "shell.execute_reply": "2024-07-04T23:39:33.576824Z"
    },
    "papermill": {
     "duration": 2.07743,
     "end_time": "2024-07-04T23:39:33.580580",
     "exception": false,
     "start_time": "2024-07-04T23:39:31.503150",
     "status": "completed"
    },
    "tags": []
   },
   "outputs": [
    {
     "name": "stdout",
     "output_type": "stream",
     "text": [
      "MAE from Approach 3 (One-Hot Encoding):\n",
      "17525.345719178084\n"
     ]
    }
   ],
   "source": [
    "print(\"MAE from Approach 3 (One-Hot Encoding):\") \n",
    "print(score_dataset(OH_X_train, OH_X_valid, y_train, y_valid))"
   ]
  },
  {
   "cell_type": "markdown",
   "id": "c2448a88",
   "metadata": {
    "papermill": {
     "duration": 0.019016,
     "end_time": "2024-07-04T23:39:33.619180",
     "exception": false,
     "start_time": "2024-07-04T23:39:33.600164",
     "status": "completed"
    },
    "tags": []
   },
   "source": [
    "# Generate test predictions and submit your results\n",
    "\n",
    "After you complete Step 4, if you'd like to use what you've learned to submit your results to the leaderboard, you'll need to preprocess the test data before generating predictions.\n",
    "\n",
    "**This step is completely optional, and you do not need to submit results to the leaderboard to successfully complete the exercise.**\n",
    "\n",
    "Check out the previous exercise if you need help with remembering how to [join the competition](https://www.kaggle.com/c/home-data-for-ml-course) or save your results to CSV.  Once you have generated a file with your results, follow the instructions below:\n",
    "1. Begin by clicking on the **Save Version** button in the top right corner of the window.  This will generate a pop-up window.  \n",
    "2. Ensure that the **Save and Run All** option is selected, and then click on the **Save** button.\n",
    "3. This generates a window in the bottom left corner of the notebook.  After it has finished running, click on the number to the right of the **Save Version** button.  This pulls up a list of versions on the right of the screen.  Click on the ellipsis **(...)** to the right of the most recent version, and select **Open in Viewer**.  This brings you into view mode of the same page. You will need to scroll down to get back to these instructions.\n",
    "4. Click on the **Data** tab near the top of the screen.  Then, click on the file you would like to submit, and click on the **Submit** button to submit your results to the leaderboard.\n",
    "\n",
    "You have now successfully submitted to the competition!\n",
    "\n",
    "If you want to keep working to improve your performance, select the **Edit** button in the top right of the screen. Then you can change your code and repeat the process. There's a lot of room to improve, and you will climb up the leaderboard as you work.\n"
   ]
  },
  {
   "cell_type": "code",
   "execution_count": 30,
   "id": "32813f9e",
   "metadata": {
    "execution": {
     "iopub.execute_input": "2024-07-04T23:39:33.660363Z",
     "iopub.status.busy": "2024-07-04T23:39:33.659396Z",
     "iopub.status.idle": "2024-07-04T23:39:33.664160Z",
     "shell.execute_reply": "2024-07-04T23:39:33.663114Z"
    },
    "papermill": {
     "duration": 0.028211,
     "end_time": "2024-07-04T23:39:33.666759",
     "exception": false,
     "start_time": "2024-07-04T23:39:33.638548",
     "status": "completed"
    },
    "tags": []
   },
   "outputs": [],
   "source": [
    "# (Optional) Your code here"
   ]
  },
  {
   "cell_type": "markdown",
   "id": "b4de8666",
   "metadata": {
    "papermill": {
     "duration": 0.019533,
     "end_time": "2024-07-04T23:39:33.706181",
     "exception": false,
     "start_time": "2024-07-04T23:39:33.686648",
     "status": "completed"
    },
    "tags": []
   },
   "source": [
    "# Keep going\n",
    "\n",
    "With missing value handling and categorical encoding, your modeling process is getting complex. This complexity gets worse when you want to save your model to use in the future. The key to managing this complexity is something called **pipelines**. \n",
    "\n",
    "**[Learn to use pipelines](https://www.kaggle.com/alexisbcook/pipelines)** to preprocess datasets with categorical variables, missing values and any other messiness your data throws at you."
   ]
  },
  {
   "cell_type": "markdown",
   "id": "9117a2e2",
   "metadata": {
    "papermill": {
     "duration": 0.019421,
     "end_time": "2024-07-04T23:39:33.746090",
     "exception": false,
     "start_time": "2024-07-04T23:39:33.726669",
     "status": "completed"
    },
    "tags": []
   },
   "source": [
    "---\n",
    "\n",
    "\n",
    "\n",
    "\n",
    "*Have questions or comments? Visit the [course discussion forum](https://www.kaggle.com/learn/intermediate-machine-learning/discussion) to chat with other learners.*"
   ]
  }
 ],
 "metadata": {
  "kaggle": {
   "accelerator": "none",
   "dataSources": [
    {
     "databundleVersionId": 111096,
     "sourceId": 10211,
     "sourceType": "competition"
    }
   ],
   "isGpuEnabled": false,
   "isInternetEnabled": false,
   "language": "python",
   "sourceType": "notebook"
  },
  "kernelspec": {
   "display_name": "Python 3",
   "language": "python",
   "name": "python3"
  },
  "language_info": {
   "codemirror_mode": {
    "name": "ipython",
    "version": 3
   },
   "file_extension": ".py",
   "mimetype": "text/x-python",
   "name": "python",
   "nbconvert_exporter": "python",
   "pygments_lexer": "ipython3",
   "version": "3.10.13"
  },
  "papermill": {
   "default_parameters": {},
   "duration": 13.743445,
   "end_time": "2024-07-04T23:39:34.386722",
   "environment_variables": {},
   "exception": null,
   "input_path": "__notebook__.ipynb",
   "output_path": "__notebook__.ipynb",
   "parameters": {},
   "start_time": "2024-07-04T23:39:20.643277",
   "version": "2.5.0"
  }
 },
 "nbformat": 4,
 "nbformat_minor": 5
}
