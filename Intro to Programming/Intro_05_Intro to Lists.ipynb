{
 "cells": [
  {
   "cell_type": "markdown",
   "id": "4ee0bf0b",
   "metadata": {
    "papermill": {
     "duration": 0.006585,
     "end_time": "2024-07-03T12:09:18.046219",
     "exception": false,
     "start_time": "2024-07-03T12:09:18.039634",
     "status": "completed"
    },
    "tags": []
   },
   "source": [
    "**This notebook is an exercise in the [Intro to Programming](https://www.kaggle.com/learn/intro-to-programming) course.  You can reference the tutorial at [this link](https://www.kaggle.com/alexisbcook/intro-to-lists).**\n",
    "\n",
    "---\n"
   ]
  },
  {
   "cell_type": "markdown",
   "id": "203f63b9",
   "metadata": {
    "papermill": {
     "duration": 0.005889,
     "end_time": "2024-07-03T12:09:18.058718",
     "exception": false,
     "start_time": "2024-07-03T12:09:18.052829",
     "status": "completed"
    },
    "tags": []
   },
   "source": [
    "In the tutorial, you learned how to define and modify Python lists.  In this exercise, you will use your new knowledge to solve several problems.\n",
    "\n",
    "# Set up the notebook\n",
    "\n",
    "Run the next code cell without changes to set up the notebook."
   ]
  },
  {
   "cell_type": "code",
   "execution_count": 1,
   "id": "7b2e7a1a",
   "metadata": {
    "execution": {
     "iopub.execute_input": "2024-07-03T12:09:18.074103Z",
     "iopub.status.busy": "2024-07-03T12:09:18.073653Z",
     "iopub.status.idle": "2024-07-03T12:09:18.923195Z",
     "shell.execute_reply": "2024-07-03T12:09:18.922056Z"
    },
    "papermill": {
     "duration": 0.860883,
     "end_time": "2024-07-03T12:09:18.926146",
     "exception": false,
     "start_time": "2024-07-03T12:09:18.065263",
     "status": "completed"
    },
    "tags": []
   },
   "outputs": [
    {
     "name": "stdout",
     "output_type": "stream",
     "text": [
      "Setup complete.\n"
     ]
    }
   ],
   "source": [
    "from learntools.core import binder\n",
    "binder.bind(globals())\n",
    "from learntools.intro_to_programming.ex5 import *\n",
    "print('Setup complete.')"
   ]
  },
  {
   "cell_type": "markdown",
   "id": "58881544",
   "metadata": {
    "papermill": {
     "duration": 0.005794,
     "end_time": "2024-07-03T12:09:18.938579",
     "exception": false,
     "start_time": "2024-07-03T12:09:18.932785",
     "status": "completed"
    },
    "tags": []
   },
   "source": [
    "# Question 1\n",
    "\n",
    "You own a restaurant with five food dishes, organized in the Python list `menu` below.  One day, you decide to:\n",
    "- remove bean soup (`'bean soup'`) from the menu, and\n",
    "- add roasted beet salad (`'roasted beet salad'`) to the menu.\n",
    "\n",
    "Implement this change to the list below.  While completing this task, \n",
    "- do not change the line that creates the `menu` list.  \n",
    "- your answer should use `.remove()` and `.append()`.  "
   ]
  },
  {
   "cell_type": "code",
   "execution_count": 2,
   "id": "89021d27",
   "metadata": {
    "execution": {
     "iopub.execute_input": "2024-07-03T12:09:18.952352Z",
     "iopub.status.busy": "2024-07-03T12:09:18.951859Z",
     "iopub.status.idle": "2024-07-03T12:09:18.962726Z",
     "shell.execute_reply": "2024-07-03T12:09:18.961596Z"
    },
    "papermill": {
     "duration": 0.020328,
     "end_time": "2024-07-03T12:09:18.964895",
     "exception": false,
     "start_time": "2024-07-03T12:09:18.944567",
     "status": "completed"
    },
    "tags": []
   },
   "outputs": [
    {
     "data": {
      "application/javascript": [
       "parent.postMessage({\"jupyterEvent\": \"custom.exercise_interaction\", \"data\": {\"outcomeType\": 1, \"valueTowardsCompletion\": 0.2, \"interactionType\": 1, \"questionType\": 2, \"questionId\": \"1_FoodMenu\", \"learnToolsVersion\": \"0.3.4\", \"failureMessage\": \"\", \"exceptionClass\": \"\", \"trace\": \"\"}}, \"*\")"
      ],
      "text/plain": [
       "<IPython.core.display.Javascript object>"
      ]
     },
     "metadata": {},
     "output_type": "display_data"
    },
    {
     "data": {
      "text/markdown": [
       "<span style=\"color:#33cc33\">Correct</span>"
      ],
      "text/plain": [
       "Correct"
      ]
     },
     "metadata": {},
     "output_type": "display_data"
    }
   ],
   "source": [
    "# Do not change: Initial menu for your restaurant\n",
    "menu = ['stewed meat with onions', 'bean soup', 'risotto with trout and shrimp',\n",
    "       'fish soup with cream and onion', 'gyro']\n",
    "\n",
    "# TODO: remove 'bean soup', and add 'roasted beet salad' to the end of the menu\n",
    "menu.remove('bean soup')\n",
    "menu.append('roasted beet salad')\n",
    "\n",
    "# Do not change: Check your answer\n",
    "q1.check()"
   ]
  },
  {
   "cell_type": "code",
   "execution_count": 3,
   "id": "f4d3ac0f",
   "metadata": {
    "execution": {
     "iopub.execute_input": "2024-07-03T12:09:18.980118Z",
     "iopub.status.busy": "2024-07-03T12:09:18.979086Z",
     "iopub.status.idle": "2024-07-03T12:09:18.983752Z",
     "shell.execute_reply": "2024-07-03T12:09:18.982867Z"
    },
    "papermill": {
     "duration": 0.014545,
     "end_time": "2024-07-03T12:09:18.985950",
     "exception": false,
     "start_time": "2024-07-03T12:09:18.971405",
     "status": "completed"
    },
    "tags": []
   },
   "outputs": [],
   "source": [
    "# Uncomment to see a hint\n",
    "#q1.hint()\n",
    "\n",
    "# Uncomment to see the solution\n",
    "#q1.solution()"
   ]
  },
  {
   "cell_type": "markdown",
   "id": "c4c362a1",
   "metadata": {
    "papermill": {
     "duration": 0.006181,
     "end_time": "2024-07-03T12:09:18.998763",
     "exception": false,
     "start_time": "2024-07-03T12:09:18.992582",
     "status": "completed"
    },
    "tags": []
   },
   "source": [
    "# Question 2\n",
    "\n",
    "The list `num_customers` contains the number of customers who came into your restaurant every day over the last month (which lasted thirty days).  Fill in values for each of the following:\n",
    "- `avg_first_seven` - average number of customers who visited in the first seven days\n",
    "- `avg_last_seven` - average number of customers who visited in the last seven days\n",
    "- `max_month` - number of customers on the day that got the most customers in the last month\n",
    "- `min_month` - number of customers on the day that got the least customers in the last month\n",
    "\n",
    "Answer this question by writing code.  For instance, if you have to find the minimum value in a list, use `min()` instead of scanning for the smallest value and directly filling in a number."
   ]
  },
  {
   "cell_type": "code",
   "execution_count": 4,
   "id": "cd3e73eb",
   "metadata": {
    "execution": {
     "iopub.execute_input": "2024-07-03T12:09:19.013192Z",
     "iopub.status.busy": "2024-07-03T12:09:19.012824Z",
     "iopub.status.idle": "2024-07-03T12:09:19.023204Z",
     "shell.execute_reply": "2024-07-03T12:09:19.022254Z"
    },
    "papermill": {
     "duration": 0.020322,
     "end_time": "2024-07-03T12:09:19.025473",
     "exception": false,
     "start_time": "2024-07-03T12:09:19.005151",
     "status": "completed"
    },
    "tags": []
   },
   "outputs": [
    {
     "data": {
      "application/javascript": [
       "parent.postMessage({\"jupyterEvent\": \"custom.exercise_interaction\", \"data\": {\"outcomeType\": 1, \"valueTowardsCompletion\": 0.2, \"interactionType\": 1, \"questionType\": 1, \"questionId\": \"2_NumCustomers\", \"learnToolsVersion\": \"0.3.4\", \"failureMessage\": \"\", \"exceptionClass\": \"\", \"trace\": \"\"}}, \"*\")"
      ],
      "text/plain": [
       "<IPython.core.display.Javascript object>"
      ]
     },
     "metadata": {},
     "output_type": "display_data"
    },
    {
     "data": {
      "text/markdown": [
       "<span style=\"color:#33cc33\">Correct</span>"
      ],
      "text/plain": [
       "Correct"
      ]
     },
     "metadata": {},
     "output_type": "display_data"
    }
   ],
   "source": [
    "# Do not change: Number of customers each day for the last month\n",
    "num_customers = [137, 147, 135, 128, 170, 174, 165, 146, 126, 159,\n",
    "                 141, 148, 132, 147, 168, 153, 170, 161, 148, 152,\n",
    "                 141, 151, 131, 149, 164, 163, 143, 143, 166, 171]\n",
    "\n",
    "# TODO: Fill in values for the variables below\n",
    "avg_first_seven =  sum(num_customers[:7]) / 7\n",
    "avg_last_seven = sum(num_customers[-7:]) / 7\n",
    "max_month = max(num_customers)\n",
    "min_month = min(num_customers)\n",
    "\n",
    "# Do not change: Check your answer\n",
    "q2.check()"
   ]
  },
  {
   "cell_type": "code",
   "execution_count": 5,
   "id": "7dbdffbf",
   "metadata": {
    "execution": {
     "iopub.execute_input": "2024-07-03T12:09:19.040584Z",
     "iopub.status.busy": "2024-07-03T12:09:19.040194Z",
     "iopub.status.idle": "2024-07-03T12:09:19.044584Z",
     "shell.execute_reply": "2024-07-03T12:09:19.043625Z"
    },
    "papermill": {
     "duration": 0.014864,
     "end_time": "2024-07-03T12:09:19.047069",
     "exception": false,
     "start_time": "2024-07-03T12:09:19.032205",
     "status": "completed"
    },
    "tags": []
   },
   "outputs": [],
   "source": [
    "# Uncomment to see a hint\n",
    "#q2.hint()\n",
    "\n",
    "# Uncomment to see the solution\n",
    "#q2.solution()"
   ]
  },
  {
   "cell_type": "markdown",
   "id": "77a002a7",
   "metadata": {
    "papermill": {
     "duration": 0.006438,
     "end_time": "2024-07-03T12:09:19.060280",
     "exception": false,
     "start_time": "2024-07-03T12:09:19.053842",
     "status": "completed"
    },
    "tags": []
   },
   "source": [
    "# Question 3\n",
    "\n",
    "In the tutorial, we gave an example of a Python string with information that was better as a list."
   ]
  },
  {
   "cell_type": "code",
   "execution_count": 6,
   "id": "80c410d6",
   "metadata": {
    "execution": {
     "iopub.execute_input": "2024-07-03T12:09:19.076586Z",
     "iopub.status.busy": "2024-07-03T12:09:19.076163Z",
     "iopub.status.idle": "2024-07-03T12:09:19.081065Z",
     "shell.execute_reply": "2024-07-03T12:09:19.079805Z"
    },
    "papermill": {
     "duration": 0.016245,
     "end_time": "2024-07-03T12:09:19.083256",
     "exception": false,
     "start_time": "2024-07-03T12:09:19.067011",
     "status": "completed"
    },
    "tags": []
   },
   "outputs": [],
   "source": [
    "flowers = \"pink primrose,hard-leaved pocket orchid,canterbury bells,sweet pea,english marigold,tiger lily,moon orchid,bird of paradise,monkshood,globe thistle\""
   ]
  },
  {
   "cell_type": "markdown",
   "id": "38700682",
   "metadata": {
    "papermill": {
     "duration": 0.006369,
     "end_time": "2024-07-03T12:09:19.096438",
     "exception": false,
     "start_time": "2024-07-03T12:09:19.090069",
     "status": "completed"
    },
    "tags": []
   },
   "source": [
    "You can actually use Python to quickly turn this string into a list with `.split()`.  In the parentheses, we need to provide the character should be used to mark the end of one list item and the beginning of another, and enclose it in quotation marks.  In this case, that character is a comma."
   ]
  },
  {
   "cell_type": "code",
   "execution_count": 7,
   "id": "6e0f97c9",
   "metadata": {
    "execution": {
     "iopub.execute_input": "2024-07-03T12:09:19.111960Z",
     "iopub.status.busy": "2024-07-03T12:09:19.111207Z",
     "iopub.status.idle": "2024-07-03T12:09:19.116715Z",
     "shell.execute_reply": "2024-07-03T12:09:19.115534Z"
    },
    "papermill": {
     "duration": 0.015696,
     "end_time": "2024-07-03T12:09:19.118973",
     "exception": false,
     "start_time": "2024-07-03T12:09:19.103277",
     "status": "completed"
    },
    "tags": []
   },
   "outputs": [
    {
     "name": "stdout",
     "output_type": "stream",
     "text": [
      "['pink primrose', 'hard-leaved pocket orchid', 'canterbury bells', 'sweet pea', 'english marigold', 'tiger lily', 'moon orchid', 'bird of paradise', 'monkshood', 'globe thistle']\n"
     ]
    }
   ],
   "source": [
    " print(flowers.split(\",\"))"
   ]
  },
  {
   "cell_type": "markdown",
   "id": "641fd080",
   "metadata": {
    "papermill": {
     "duration": 0.006447,
     "end_time": "2024-07-03T12:09:19.132187",
     "exception": false,
     "start_time": "2024-07-03T12:09:19.125740",
     "status": "completed"
    },
    "tags": []
   },
   "source": [
    "Now it is your turn to try this out!  Create two Python lists:\n",
    "- `letters` should be a Python list where each entry is an uppercase letter of the English alphabet.  For instance, the first two entries should be `\"A\"` and `\"B\"`, and the final two entries should be `\"Y\"` and `\"Z\"`.  Use the string `alphabet` to create this list.\n",
    "- `address` should be a Python list where each row in `address` is a different item in the list.  Currently, each row in `address` is separated by a comma. "
   ]
  },
  {
   "cell_type": "code",
   "execution_count": 8,
   "id": "8e29a94e",
   "metadata": {
    "execution": {
     "iopub.execute_input": "2024-07-03T12:09:19.148122Z",
     "iopub.status.busy": "2024-07-03T12:09:19.147350Z",
     "iopub.status.idle": "2024-07-03T12:09:19.156428Z",
     "shell.execute_reply": "2024-07-03T12:09:19.155243Z"
    },
    "papermill": {
     "duration": 0.019116,
     "end_time": "2024-07-03T12:09:19.158600",
     "exception": false,
     "start_time": "2024-07-03T12:09:19.139484",
     "status": "completed"
    },
    "tags": []
   },
   "outputs": [
    {
     "data": {
      "application/javascript": [
       "parent.postMessage({\"jupyterEvent\": \"custom.exercise_interaction\", \"data\": {\"outcomeType\": 1, \"valueTowardsCompletion\": 0.2, \"interactionType\": 1, \"questionType\": 1, \"questionId\": \"3_SplitString\", \"learnToolsVersion\": \"0.3.4\", \"failureMessage\": \"\", \"exceptionClass\": \"\", \"trace\": \"\"}}, \"*\")"
      ],
      "text/plain": [
       "<IPython.core.display.Javascript object>"
      ]
     },
     "metadata": {},
     "output_type": "display_data"
    },
    {
     "data": {
      "text/markdown": [
       "<span style=\"color:#33cc33\">Correct</span>"
      ],
      "text/plain": [
       "Correct"
      ]
     },
     "metadata": {},
     "output_type": "display_data"
    }
   ],
   "source": [
    "# DO not change: Define two Python strings\n",
    "alphabet = \"A.B.C.D.E.F.G.H.I.J.K.L.M.N.O.P.Q.R.S.T.U.V.W.X.Y.Z\"\n",
    "address = \"Mr. H. Potter,The cupboard under the Stairs,4 Privet Drive,Little Whinging,Surrey\"\n",
    "\n",
    "# TODO: Convert strings into Python lists\n",
    "letters = list(alphabet.split('.'))\n",
    "formatted_address = list(address.split(','))\n",
    "\n",
    "# Do not change: Check your answer\n",
    "q3.check()"
   ]
  },
  {
   "cell_type": "code",
   "execution_count": 9,
   "id": "602d28a0",
   "metadata": {
    "execution": {
     "iopub.execute_input": "2024-07-03T12:09:19.174822Z",
     "iopub.status.busy": "2024-07-03T12:09:19.173922Z",
     "iopub.status.idle": "2024-07-03T12:09:19.179035Z",
     "shell.execute_reply": "2024-07-03T12:09:19.177758Z"
    },
    "papermill": {
     "duration": 0.015454,
     "end_time": "2024-07-03T12:09:19.181133",
     "exception": false,
     "start_time": "2024-07-03T12:09:19.165679",
     "status": "completed"
    },
    "tags": []
   },
   "outputs": [],
   "source": [
    "# Uncomment to see a hint\n",
    "#q3.hint()\n",
    "\n",
    "# Uncomment to see the solution\n",
    "#q3.solution()"
   ]
  },
  {
   "cell_type": "markdown",
   "id": "01206f54",
   "metadata": {
    "papermill": {
     "duration": 0.006736,
     "end_time": "2024-07-03T12:09:19.195106",
     "exception": false,
     "start_time": "2024-07-03T12:09:19.188370",
     "status": "completed"
    },
    "tags": []
   },
   "source": [
    "# Question 4\n",
    "\n",
    "In the Python course, you'll learn all about **list comprehensions**, which allow you to create a list based on the values in another list.  In this question, you'll get a brief preview of how they work.\n",
    "\n",
    "Say we're working with the list below."
   ]
  },
  {
   "cell_type": "code",
   "execution_count": 10,
   "id": "1805b3b6",
   "metadata": {
    "execution": {
     "iopub.execute_input": "2024-07-03T12:09:19.210492Z",
     "iopub.status.busy": "2024-07-03T12:09:19.210137Z",
     "iopub.status.idle": "2024-07-03T12:09:19.214768Z",
     "shell.execute_reply": "2024-07-03T12:09:19.213786Z"
    },
    "papermill": {
     "duration": 0.014952,
     "end_time": "2024-07-03T12:09:19.216948",
     "exception": false,
     "start_time": "2024-07-03T12:09:19.201996",
     "status": "completed"
    },
    "tags": []
   },
   "outputs": [],
   "source": [
    "test_ratings = [1, 2, 3, 4, 5]"
   ]
  },
  {
   "cell_type": "markdown",
   "id": "7f729ded",
   "metadata": {
    "papermill": {
     "duration": 0.006726,
     "end_time": "2024-07-03T12:09:19.230986",
     "exception": false,
     "start_time": "2024-07-03T12:09:19.224260",
     "status": "completed"
    },
    "tags": []
   },
   "source": [
    "Then we can use this list (`test_ratings`) to create a new list (`test_liked`) where each item has been turned into a boolean, depending on whether or not the item is greater than or equal to four."
   ]
  },
  {
   "cell_type": "code",
   "execution_count": 11,
   "id": "5ff42e52",
   "metadata": {
    "execution": {
     "iopub.execute_input": "2024-07-03T12:09:19.246995Z",
     "iopub.status.busy": "2024-07-03T12:09:19.246644Z",
     "iopub.status.idle": "2024-07-03T12:09:19.251694Z",
     "shell.execute_reply": "2024-07-03T12:09:19.250629Z"
    },
    "papermill": {
     "duration": 0.016201,
     "end_time": "2024-07-03T12:09:19.254256",
     "exception": false,
     "start_time": "2024-07-03T12:09:19.238055",
     "status": "completed"
    },
    "tags": []
   },
   "outputs": [
    {
     "name": "stdout",
     "output_type": "stream",
     "text": [
      "[False, False, False, True, True]\n"
     ]
    }
   ],
   "source": [
    "test_liked = [i>=4 for i in test_ratings]\n",
    "print(test_liked)"
   ]
  },
  {
   "cell_type": "markdown",
   "id": "03b06518",
   "metadata": {
    "papermill": {
     "duration": 0.006864,
     "end_time": "2024-07-03T12:09:19.268331",
     "exception": false,
     "start_time": "2024-07-03T12:09:19.261467",
     "status": "completed"
    },
    "tags": []
   },
   "source": [
    "In this question, you'll use this list comprehension to define a function `percentage_liked()` that takes one argument as input:\n",
    "- `ratings`: list of ratings that people gave to a movie, where each rating is a number between 1-5, inclusive\n",
    "\n",
    "We say someone liked the movie, if they gave a rating of either 4 or 5.  Your function should return the percentage of people who liked the movie.\n",
    "\n",
    "For instance, if we supply a value of `[1, 2, 3, 4, 5, 4, 5, 1]`, then 50% (4/8) of the people liked the movie, and the function should return `0.5`.\n",
    "\n",
    "Part of the function has already been completed for you.  You need only use `list_liked` to calculate `percentage_liked`."
   ]
  },
  {
   "cell_type": "code",
   "execution_count": 12,
   "id": "4eec3e64",
   "metadata": {
    "execution": {
     "iopub.execute_input": "2024-07-03T12:09:19.284674Z",
     "iopub.status.busy": "2024-07-03T12:09:19.283699Z",
     "iopub.status.idle": "2024-07-03T12:09:19.293253Z",
     "shell.execute_reply": "2024-07-03T12:09:19.292304Z"
    },
    "papermill": {
     "duration": 0.020108,
     "end_time": "2024-07-03T12:09:19.295423",
     "exception": false,
     "start_time": "2024-07-03T12:09:19.275315",
     "status": "completed"
    },
    "tags": []
   },
   "outputs": [
    {
     "data": {
      "application/javascript": [
       "parent.postMessage({\"jupyterEvent\": \"custom.exercise_interaction\", \"data\": {\"outcomeType\": 1, \"valueTowardsCompletion\": 0.2, \"interactionType\": 1, \"questionType\": 2, \"questionId\": \"4_PercentageLiked\", \"learnToolsVersion\": \"0.3.4\", \"failureMessage\": \"\", \"exceptionClass\": \"\", \"trace\": \"\"}}, \"*\")"
      ],
      "text/plain": [
       "<IPython.core.display.Javascript object>"
      ]
     },
     "metadata": {},
     "output_type": "display_data"
    },
    {
     "data": {
      "text/markdown": [
       "<span style=\"color:#33cc33\">Correct</span>"
      ],
      "text/plain": [
       "Correct"
      ]
     },
     "metadata": {},
     "output_type": "display_data"
    }
   ],
   "source": [
    "\n",
    "def percentage_liked(ratings):\n",
    "    list_liked = [i>=4 for i in ratings]\n",
    "    # TODO: Complete the function\n",
    "    percentage_liked = sum(list_liked)/len(list_liked)\n",
    "    return percentage_liked\n",
    "\n",
    "# Do not change: should return 0.5\n",
    "percentage_liked([1, 2, 3, 4, 5, 4, 5, 1])\n",
    "\n",
    "# Do not change: Check your answer\n",
    "q4.check()"
   ]
  },
  {
   "cell_type": "code",
   "execution_count": 13,
   "id": "9663faf7",
   "metadata": {
    "execution": {
     "iopub.execute_input": "2024-07-03T12:09:19.311984Z",
     "iopub.status.busy": "2024-07-03T12:09:19.311308Z",
     "iopub.status.idle": "2024-07-03T12:09:19.315706Z",
     "shell.execute_reply": "2024-07-03T12:09:19.314710Z"
    },
    "papermill": {
     "duration": 0.015042,
     "end_time": "2024-07-03T12:09:19.317894",
     "exception": false,
     "start_time": "2024-07-03T12:09:19.302852",
     "status": "completed"
    },
    "tags": []
   },
   "outputs": [],
   "source": [
    "# Uncomment to see a hint\n",
    "#q4.hint()\n",
    "\n",
    "# Uncomment to see the solution\n",
    "#q4.solution()"
   ]
  },
  {
   "cell_type": "markdown",
   "id": "eaf017bc",
   "metadata": {
    "papermill": {
     "duration": 0.007557,
     "end_time": "2024-07-03T12:09:19.332854",
     "exception": false,
     "start_time": "2024-07-03T12:09:19.325297",
     "status": "completed"
    },
    "tags": []
   },
   "source": [
    "# 🌶️ Question 5\n",
    " \n",
    "Say you're doing analytics for a website.  You need to write a function that returns the percentage growth in the total number of users relative to a specified number of years ago.\n",
    "\n",
    "Your function `percentage_growth()` should take two arguments as input:\n",
    "- `num_users` = Python list with the total number of users each year.  So `num_users[0]` is the total number of users in the first year, `num_users[1]` is the total number of users in the second year, and so on.  The final entry in the list gives the total number of users in the most recently completed year.\n",
    "- `yrs_ago` = number of years to go back in time when calculating the growth percentage\n",
    "\n",
    "For instance, say `num_users = [920344, 1043553, 1204334, 1458996, 1503323, 1593432, 1623463, 1843064, 1930992, 2001078]`.\n",
    "- if `yrs_ago = 1`, we want the function to return a value of about `0.036`. This corresponds to a percentage growth of approximately 3.6%, calculated as (2001078 - 1930992)/1930992.\n",
    "- if `years_ago = 7`, we would want to return approximately `0.66`.  This corresponds to a percentage growth of approximately 66%, calculated as (2001078 - 1204334)/1204334.\n",
    "\n",
    "Your coworker sent you a draft of a function, but it doesn't seem to be doing the correct calculation.  Can you figure out what has gone wrong and make the needed changes?"
   ]
  },
  {
   "cell_type": "code",
   "execution_count": 14,
   "id": "2ddc34b1",
   "metadata": {
    "execution": {
     "iopub.execute_input": "2024-07-03T12:09:19.349799Z",
     "iopub.status.busy": "2024-07-03T12:09:19.348988Z",
     "iopub.status.idle": "2024-07-03T12:09:19.360281Z",
     "shell.execute_reply": "2024-07-03T12:09:19.359248Z"
    },
    "papermill": {
     "duration": 0.022543,
     "end_time": "2024-07-03T12:09:19.362820",
     "exception": false,
     "start_time": "2024-07-03T12:09:19.340277",
     "status": "completed"
    },
    "tags": []
   },
   "outputs": [
    {
     "name": "stdout",
     "output_type": "stream",
     "text": [
      "0.03629533421163837\n",
      "0.6615639847417742\n"
     ]
    },
    {
     "data": {
      "application/javascript": [
       "parent.postMessage({\"jupyterEvent\": \"custom.exercise_interaction\", \"data\": {\"outcomeType\": 1, \"valueTowardsCompletion\": 0.2, \"interactionType\": 1, \"questionType\": 2, \"questionId\": \"5_WebsiteAnalytics\", \"learnToolsVersion\": \"0.3.4\", \"failureMessage\": \"\", \"exceptionClass\": \"\", \"trace\": \"\"}}, \"*\")"
      ],
      "text/plain": [
       "<IPython.core.display.Javascript object>"
      ]
     },
     "metadata": {},
     "output_type": "display_data"
    },
    {
     "data": {
      "text/markdown": [
       "<span style=\"color:#33cc33\">Correct</span>"
      ],
      "text/plain": [
       "Correct"
      ]
     },
     "metadata": {},
     "output_type": "display_data"
    }
   ],
   "source": [
    "# TODO: Edit the function\n",
    "def percentage_growth(num_users, yrs_ago):\n",
    "    growth = (num_users[len(num_users)-1] - num_users[len(num_users)-yrs_ago-1])/num_users[len(num_users)-yrs_ago-1]\n",
    "    return growth\n",
    "\n",
    "# Do not change: Variable for calculating some test examples\n",
    "num_users_test = [920344, 1043553, 1204334, 1458996, 1503323, 1593432, 1623463, 1843064, 1930992, 2001078]\n",
    "\n",
    "# Do not change: Should return .036\n",
    "print(percentage_growth(num_users_test, 1))\n",
    "\n",
    "# Do not change: Should return 0.66\n",
    "print(percentage_growth(num_users_test, 7))\n",
    "\n",
    "# Do not change: Check your answer\n",
    "q5.check()"
   ]
  },
  {
   "cell_type": "code",
   "execution_count": 15,
   "id": "45919d86",
   "metadata": {
    "execution": {
     "iopub.execute_input": "2024-07-03T12:09:19.380253Z",
     "iopub.status.busy": "2024-07-03T12:09:19.379878Z",
     "iopub.status.idle": "2024-07-03T12:09:19.384345Z",
     "shell.execute_reply": "2024-07-03T12:09:19.383136Z"
    },
    "papermill": {
     "duration": 0.016189,
     "end_time": "2024-07-03T12:09:19.386620",
     "exception": false,
     "start_time": "2024-07-03T12:09:19.370431",
     "status": "completed"
    },
    "tags": []
   },
   "outputs": [],
   "source": [
    "# Uncomment to see a hint\n",
    "#q5.hint()\n",
    "\n",
    "# Uncomment to see the solution\n",
    "#q5.solution()"
   ]
  },
  {
   "cell_type": "markdown",
   "id": "0c687386",
   "metadata": {
    "papermill": {
     "duration": 0.007404,
     "end_time": "2024-07-03T12:09:19.401775",
     "exception": false,
     "start_time": "2024-07-03T12:09:19.394371",
     "status": "completed"
    },
    "tags": []
   },
   "source": [
    "# Congratulations!\n",
    "\n",
    "Congratulations for finishing the Intro to Programming course!  You should be proud of your very first steps with learning programming.  As next steps, we recommend taking:\n",
    "- the **[Python course](http://www.kaggle.com/learn/python)**, and \n",
    "- the **[Intro to Machine Learning course](https://www.kaggle.com/learn/intro-to-machine-learning)**."
   ]
  },
  {
   "cell_type": "markdown",
   "id": "e8c677b2",
   "metadata": {
    "papermill": {
     "duration": 0.007294,
     "end_time": "2024-07-03T12:09:19.416969",
     "exception": false,
     "start_time": "2024-07-03T12:09:19.409675",
     "status": "completed"
    },
    "tags": []
   },
   "source": [
    "---\n",
    "\n",
    "\n",
    "\n",
    "\n",
    "*Have questions or comments? Visit the [course discussion forum](https://www.kaggle.com/learn/intro-to-programming/discussion) to chat with other learners.*"
   ]
  }
 ],
 "metadata": {
  "kaggle": {
   "accelerator": "none",
   "dataSources": [],
   "isGpuEnabled": false,
   "isInternetEnabled": false,
   "language": "python",
   "sourceType": "notebook"
  },
  "kernelspec": {
   "display_name": "Python 3",
   "language": "python",
   "name": "python3"
  },
  "language_info": {
   "codemirror_mode": {
    "name": "ipython",
    "version": 3
   },
   "file_extension": ".py",
   "mimetype": "text/x-python",
   "name": "python",
   "nbconvert_exporter": "python",
   "pygments_lexer": "ipython3",
   "version": "3.10.13"
  },
  "papermill": {
   "default_parameters": {},
   "duration": 4.563992,
   "end_time": "2024-07-03T12:09:19.945735",
   "environment_variables": {},
   "exception": null,
   "input_path": "__notebook__.ipynb",
   "output_path": "__notebook__.ipynb",
   "parameters": {},
   "start_time": "2024-07-03T12:09:15.381743",
   "version": "2.5.0"
  }
 },
 "nbformat": 4,
 "nbformat_minor": 5
}
