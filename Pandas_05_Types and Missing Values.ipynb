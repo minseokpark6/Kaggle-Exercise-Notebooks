{
 "cells": [
  {
   "cell_type": "markdown",
   "id": "813f9760",
   "metadata": {
    "papermill": {
     "duration": 0.004348,
     "end_time": "2024-07-03T09:11:23.231002",
     "exception": false,
     "start_time": "2024-07-03T09:11:23.226654",
     "status": "completed"
    },
    "tags": []
   },
   "source": [
    "**This notebook is an exercise in the [Pandas](https://www.kaggle.com/learn/pandas) course.  You can reference the tutorial at [this link](https://www.kaggle.com/residentmario/data-types-and-missing-values).**\n",
    "\n",
    "---\n"
   ]
  },
  {
   "cell_type": "markdown",
   "id": "ea624ac4",
   "metadata": {
    "papermill": {
     "duration": 0.003661,
     "end_time": "2024-07-03T09:11:23.238779",
     "exception": false,
     "start_time": "2024-07-03T09:11:23.235118",
     "status": "completed"
    },
    "tags": []
   },
   "source": [
    "# Introduction\n",
    "\n",
    "Run the following cell to load your data and some utility functions."
   ]
  },
  {
   "cell_type": "code",
   "execution_count": 1,
   "id": "83cbc2db",
   "metadata": {
    "execution": {
     "iopub.execute_input": "2024-07-03T09:11:23.248160Z",
     "iopub.status.busy": "2024-07-03T09:11:23.247855Z",
     "iopub.status.idle": "2024-07-03T09:11:26.273234Z",
     "shell.execute_reply": "2024-07-03T09:11:26.272000Z"
    },
    "papermill": {
     "duration": 3.032585,
     "end_time": "2024-07-03T09:11:26.275276",
     "exception": false,
     "start_time": "2024-07-03T09:11:23.242691",
     "status": "completed"
    },
    "tags": []
   },
   "outputs": [
    {
     "name": "stdout",
     "output_type": "stream",
     "text": [
      "Setup complete.\n"
     ]
    }
   ],
   "source": [
    "import pandas as pd\n",
    "\n",
    "reviews = pd.read_csv(\"../input/wine-reviews/winemag-data-130k-v2.csv\", index_col=0)\n",
    "\n",
    "from learntools.core import binder; binder.bind(globals())\n",
    "from learntools.pandas.data_types_and_missing_data import *\n",
    "print(\"Setup complete.\")"
   ]
  },
  {
   "cell_type": "markdown",
   "id": "0739d654",
   "metadata": {
    "papermill": {
     "duration": 0.003569,
     "end_time": "2024-07-03T09:11:26.282860",
     "exception": false,
     "start_time": "2024-07-03T09:11:26.279291",
     "status": "completed"
    },
    "tags": []
   },
   "source": [
    "# Exercises"
   ]
  },
  {
   "cell_type": "code",
   "execution_count": 2,
   "id": "2c9be8c3",
   "metadata": {
    "execution": {
     "iopub.execute_input": "2024-07-03T09:11:26.291777Z",
     "iopub.status.busy": "2024-07-03T09:11:26.291429Z",
     "iopub.status.idle": "2024-07-03T09:11:26.310648Z",
     "shell.execute_reply": "2024-07-03T09:11:26.309427Z"
    },
    "papermill": {
     "duration": 0.025836,
     "end_time": "2024-07-03T09:11:26.312353",
     "exception": false,
     "start_time": "2024-07-03T09:11:26.286517",
     "status": "completed"
    },
    "tags": []
   },
   "outputs": [
    {
     "data": {
      "text/html": [
       "<div>\n",
       "<style scoped>\n",
       "    .dataframe tbody tr th:only-of-type {\n",
       "        vertical-align: middle;\n",
       "    }\n",
       "\n",
       "    .dataframe tbody tr th {\n",
       "        vertical-align: top;\n",
       "    }\n",
       "\n",
       "    .dataframe thead th {\n",
       "        text-align: right;\n",
       "    }\n",
       "</style>\n",
       "<table border=\"1\" class=\"dataframe\">\n",
       "  <thead>\n",
       "    <tr style=\"text-align: right;\">\n",
       "      <th></th>\n",
       "      <th>country</th>\n",
       "      <th>description</th>\n",
       "      <th>designation</th>\n",
       "      <th>points</th>\n",
       "      <th>price</th>\n",
       "      <th>province</th>\n",
       "      <th>region_1</th>\n",
       "      <th>region_2</th>\n",
       "      <th>taster_name</th>\n",
       "      <th>taster_twitter_handle</th>\n",
       "      <th>title</th>\n",
       "      <th>variety</th>\n",
       "      <th>winery</th>\n",
       "    </tr>\n",
       "  </thead>\n",
       "  <tbody>\n",
       "    <tr>\n",
       "      <th>0</th>\n",
       "      <td>Italy</td>\n",
       "      <td>Aromas include tropical fruit, broom, brimston...</td>\n",
       "      <td>Vulkà Bianco</td>\n",
       "      <td>87</td>\n",
       "      <td>NaN</td>\n",
       "      <td>Sicily &amp; Sardinia</td>\n",
       "      <td>Etna</td>\n",
       "      <td>NaN</td>\n",
       "      <td>Kerin O’Keefe</td>\n",
       "      <td>@kerinokeefe</td>\n",
       "      <td>Nicosia 2013 Vulkà Bianco  (Etna)</td>\n",
       "      <td>White Blend</td>\n",
       "      <td>Nicosia</td>\n",
       "    </tr>\n",
       "    <tr>\n",
       "      <th>1</th>\n",
       "      <td>Portugal</td>\n",
       "      <td>This is ripe and fruity, a wine that is smooth...</td>\n",
       "      <td>Avidagos</td>\n",
       "      <td>87</td>\n",
       "      <td>15.0</td>\n",
       "      <td>Douro</td>\n",
       "      <td>NaN</td>\n",
       "      <td>NaN</td>\n",
       "      <td>Roger Voss</td>\n",
       "      <td>@vossroger</td>\n",
       "      <td>Quinta dos Avidagos 2011 Avidagos Red (Douro)</td>\n",
       "      <td>Portuguese Red</td>\n",
       "      <td>Quinta dos Avidagos</td>\n",
       "    </tr>\n",
       "    <tr>\n",
       "      <th>2</th>\n",
       "      <td>US</td>\n",
       "      <td>Tart and snappy, the flavors of lime flesh and...</td>\n",
       "      <td>NaN</td>\n",
       "      <td>87</td>\n",
       "      <td>14.0</td>\n",
       "      <td>Oregon</td>\n",
       "      <td>Willamette Valley</td>\n",
       "      <td>Willamette Valley</td>\n",
       "      <td>Paul Gregutt</td>\n",
       "      <td>@paulgwine</td>\n",
       "      <td>Rainstorm 2013 Pinot Gris (Willamette Valley)</td>\n",
       "      <td>Pinot Gris</td>\n",
       "      <td>Rainstorm</td>\n",
       "    </tr>\n",
       "  </tbody>\n",
       "</table>\n",
       "</div>"
      ],
      "text/plain": [
       "    country                                        description   designation  \\\n",
       "0     Italy  Aromas include tropical fruit, broom, brimston...  Vulkà Bianco   \n",
       "1  Portugal  This is ripe and fruity, a wine that is smooth...      Avidagos   \n",
       "2        US  Tart and snappy, the flavors of lime flesh and...           NaN   \n",
       "\n",
       "   points  price           province           region_1           region_2  \\\n",
       "0      87    NaN  Sicily & Sardinia               Etna                NaN   \n",
       "1      87   15.0              Douro                NaN                NaN   \n",
       "2      87   14.0             Oregon  Willamette Valley  Willamette Valley   \n",
       "\n",
       "     taster_name taster_twitter_handle  \\\n",
       "0  Kerin O’Keefe          @kerinokeefe   \n",
       "1     Roger Voss            @vossroger   \n",
       "2   Paul Gregutt           @paulgwine    \n",
       "\n",
       "                                           title         variety  \\\n",
       "0              Nicosia 2013 Vulkà Bianco  (Etna)     White Blend   \n",
       "1  Quinta dos Avidagos 2011 Avidagos Red (Douro)  Portuguese Red   \n",
       "2  Rainstorm 2013 Pinot Gris (Willamette Valley)      Pinot Gris   \n",
       "\n",
       "                winery  \n",
       "0              Nicosia  \n",
       "1  Quinta dos Avidagos  \n",
       "2            Rainstorm  "
      ]
     },
     "execution_count": 2,
     "metadata": {},
     "output_type": "execute_result"
    }
   ],
   "source": [
    "reviews.head(3)"
   ]
  },
  {
   "cell_type": "markdown",
   "id": "f84db999",
   "metadata": {
    "papermill": {
     "duration": 0.003689,
     "end_time": "2024-07-03T09:11:26.320272",
     "exception": false,
     "start_time": "2024-07-03T09:11:26.316583",
     "status": "completed"
    },
    "tags": []
   },
   "source": [
    "## 1. \n",
    "What is the data type of the `points` column in the dataset?"
   ]
  },
  {
   "cell_type": "code",
   "execution_count": 3,
   "id": "30fe4126",
   "metadata": {
    "execution": {
     "iopub.execute_input": "2024-07-03T09:11:26.329421Z",
     "iopub.status.busy": "2024-07-03T09:11:26.329126Z",
     "iopub.status.idle": "2024-07-03T09:11:26.336733Z",
     "shell.execute_reply": "2024-07-03T09:11:26.335789Z"
    },
    "papermill": {
     "duration": 0.014665,
     "end_time": "2024-07-03T09:11:26.338754",
     "exception": false,
     "start_time": "2024-07-03T09:11:26.324089",
     "status": "completed"
    },
    "tags": []
   },
   "outputs": [
    {
     "data": {
      "application/javascript": [
       "parent.postMessage({\"jupyterEvent\": \"custom.exercise_interaction\", \"data\": {\"outcomeType\": 1, \"valueTowardsCompletion\": 0.25, \"interactionType\": 1, \"questionType\": 1, \"questionId\": \"1_PointsDtype\", \"learnToolsVersion\": \"0.3.4\", \"failureMessage\": \"\", \"exceptionClass\": \"\", \"trace\": \"\"}}, \"*\")"
      ],
      "text/plain": [
       "<IPython.core.display.Javascript object>"
      ]
     },
     "metadata": {},
     "output_type": "display_data"
    },
    {
     "data": {
      "text/markdown": [
       "<span style=\"color:#33cc33\">Correct</span>"
      ],
      "text/plain": [
       "Correct"
      ]
     },
     "metadata": {},
     "output_type": "display_data"
    }
   ],
   "source": [
    "# Your code here\n",
    "dtype = reviews.points.dtype\n",
    "\n",
    "# Check your answer\n",
    "q1.check()"
   ]
  },
  {
   "cell_type": "code",
   "execution_count": 4,
   "id": "d5758e03",
   "metadata": {
    "execution": {
     "iopub.execute_input": "2024-07-03T09:11:26.348431Z",
     "iopub.status.busy": "2024-07-03T09:11:26.348176Z",
     "iopub.status.idle": "2024-07-03T09:11:26.352218Z",
     "shell.execute_reply": "2024-07-03T09:11:26.351171Z"
    },
    "papermill": {
     "duration": 0.010952,
     "end_time": "2024-07-03T09:11:26.354077",
     "exception": false,
     "start_time": "2024-07-03T09:11:26.343125",
     "status": "completed"
    },
    "tags": []
   },
   "outputs": [],
   "source": [
    "#q1.hint()\n",
    "#q1.solution()"
   ]
  },
  {
   "cell_type": "markdown",
   "id": "1c2754f3",
   "metadata": {
    "papermill": {
     "duration": 0.004096,
     "end_time": "2024-07-03T09:11:26.362943",
     "exception": false,
     "start_time": "2024-07-03T09:11:26.358847",
     "status": "completed"
    },
    "tags": []
   },
   "source": [
    "## 2. \n",
    "Create a Series from entries in the `points` column, but convert the entries to strings. Hint: strings are `str` in native Python."
   ]
  },
  {
   "cell_type": "code",
   "execution_count": 5,
   "id": "dde78cc1",
   "metadata": {
    "execution": {
     "iopub.execute_input": "2024-07-03T09:11:26.373184Z",
     "iopub.status.busy": "2024-07-03T09:11:26.372877Z",
     "iopub.status.idle": "2024-07-03T09:11:26.404430Z",
     "shell.execute_reply": "2024-07-03T09:11:26.403625Z"
    },
    "papermill": {
     "duration": 0.038937,
     "end_time": "2024-07-03T09:11:26.406166",
     "exception": false,
     "start_time": "2024-07-03T09:11:26.367229",
     "status": "completed"
    },
    "tags": []
   },
   "outputs": [
    {
     "data": {
      "application/javascript": [
       "parent.postMessage({\"jupyterEvent\": \"custom.exercise_interaction\", \"data\": {\"outcomeType\": 1, \"valueTowardsCompletion\": 0.25, \"interactionType\": 1, \"questionType\": 1, \"questionId\": \"2_StrPoints\", \"learnToolsVersion\": \"0.3.4\", \"failureMessage\": \"\", \"exceptionClass\": \"\", \"trace\": \"\"}}, \"*\")"
      ],
      "text/plain": [
       "<IPython.core.display.Javascript object>"
      ]
     },
     "metadata": {},
     "output_type": "display_data"
    },
    {
     "data": {
      "text/markdown": [
       "<span style=\"color:#33cc33\">Correct</span>"
      ],
      "text/plain": [
       "Correct"
      ]
     },
     "metadata": {},
     "output_type": "display_data"
    }
   ],
   "source": [
    "point_strings = reviews.points.astype('str')\n",
    "\n",
    "# Check your answer\n",
    "q2.check()"
   ]
  },
  {
   "cell_type": "code",
   "execution_count": 6,
   "id": "e417df86",
   "metadata": {
    "execution": {
     "iopub.execute_input": "2024-07-03T09:11:26.416628Z",
     "iopub.status.busy": "2024-07-03T09:11:26.416292Z",
     "iopub.status.idle": "2024-07-03T09:11:26.419548Z",
     "shell.execute_reply": "2024-07-03T09:11:26.418836Z"
    },
    "papermill": {
     "duration": 0.010321,
     "end_time": "2024-07-03T09:11:26.421122",
     "exception": false,
     "start_time": "2024-07-03T09:11:26.410801",
     "status": "completed"
    },
    "tags": []
   },
   "outputs": [],
   "source": [
    "#q2.hint()\n",
    "#q2.solution()"
   ]
  },
  {
   "cell_type": "markdown",
   "id": "2c785e31",
   "metadata": {
    "papermill": {
     "duration": 0.004335,
     "end_time": "2024-07-03T09:11:26.430228",
     "exception": false,
     "start_time": "2024-07-03T09:11:26.425893",
     "status": "completed"
    },
    "tags": []
   },
   "source": [
    "## 3.\n",
    "Sometimes the price column is null. How many reviews in the dataset are missing a price?"
   ]
  },
  {
   "cell_type": "code",
   "execution_count": 7,
   "id": "627c98d1",
   "metadata": {
    "execution": {
     "iopub.execute_input": "2024-07-03T09:11:26.440489Z",
     "iopub.status.busy": "2024-07-03T09:11:26.440195Z",
     "iopub.status.idle": "2024-07-03T09:11:26.448266Z",
     "shell.execute_reply": "2024-07-03T09:11:26.447501Z"
    },
    "papermill": {
     "duration": 0.01519,
     "end_time": "2024-07-03T09:11:26.449820",
     "exception": false,
     "start_time": "2024-07-03T09:11:26.434630",
     "status": "completed"
    },
    "tags": []
   },
   "outputs": [
    {
     "data": {
      "application/javascript": [
       "parent.postMessage({\"jupyterEvent\": \"custom.exercise_interaction\", \"data\": {\"outcomeType\": 1, \"valueTowardsCompletion\": 0.25, \"interactionType\": 1, \"questionType\": 1, \"questionId\": \"3_CountMissingPrices\", \"learnToolsVersion\": \"0.3.4\", \"failureMessage\": \"\", \"exceptionClass\": \"\", \"trace\": \"\"}}, \"*\")"
      ],
      "text/plain": [
       "<IPython.core.display.Javascript object>"
      ]
     },
     "metadata": {},
     "output_type": "display_data"
    },
    {
     "data": {
      "text/markdown": [
       "<span style=\"color:#33cc33\">Correct</span>"
      ],
      "text/plain": [
       "Correct"
      ]
     },
     "metadata": {},
     "output_type": "display_data"
    }
   ],
   "source": [
    "n_missing_prices = reviews.price.isnull().sum()\n",
    "\n",
    "# Check your answer\n",
    "q3.check()"
   ]
  },
  {
   "cell_type": "code",
   "execution_count": 8,
   "id": "c403c674",
   "metadata": {
    "execution": {
     "iopub.execute_input": "2024-07-03T09:11:26.460683Z",
     "iopub.status.busy": "2024-07-03T09:11:26.460385Z",
     "iopub.status.idle": "2024-07-03T09:11:26.463865Z",
     "shell.execute_reply": "2024-07-03T09:11:26.463098Z"
    },
    "papermill": {
     "duration": 0.011491,
     "end_time": "2024-07-03T09:11:26.466019",
     "exception": false,
     "start_time": "2024-07-03T09:11:26.454528",
     "status": "completed"
    },
    "tags": []
   },
   "outputs": [],
   "source": [
    "#q3.hint()\n",
    "#q3.solution()"
   ]
  },
  {
   "cell_type": "markdown",
   "id": "8a833d38",
   "metadata": {
    "papermill": {
     "duration": 0.004745,
     "end_time": "2024-07-03T09:11:26.475991",
     "exception": false,
     "start_time": "2024-07-03T09:11:26.471246",
     "status": "completed"
    },
    "tags": []
   },
   "source": [
    "## 4.\n",
    "What are the most common wine-producing regions? Create a Series counting the number of times each value occurs in the `region_1` field. This field is often missing data, so replace missing values with `Unknown`. Sort in descending order.  Your output should look something like this:\n",
    "\n",
    "```\n",
    "Unknown                    21247\n",
    "Napa Valley                 4480\n",
    "                           ...  \n",
    "Bardolino Superiore            1\n",
    "Primitivo del Tarantino        1\n",
    "Name: region_1, Length: 1230, dtype: int64\n",
    "```"
   ]
  },
  {
   "cell_type": "code",
   "execution_count": 9,
   "id": "db49ee30",
   "metadata": {
    "execution": {
     "iopub.execute_input": "2024-07-03T09:11:26.487818Z",
     "iopub.status.busy": "2024-07-03T09:11:26.487128Z",
     "iopub.status.idle": "2024-07-03T09:11:26.529442Z",
     "shell.execute_reply": "2024-07-03T09:11:26.528640Z"
    },
    "papermill": {
     "duration": 0.050578,
     "end_time": "2024-07-03T09:11:26.531475",
     "exception": false,
     "start_time": "2024-07-03T09:11:26.480897",
     "status": "completed"
    },
    "tags": []
   },
   "outputs": [
    {
     "data": {
      "application/javascript": [
       "parent.postMessage({\"jupyterEvent\": \"custom.exercise_interaction\", \"data\": {\"outcomeType\": 1, \"valueTowardsCompletion\": 0.25, \"interactionType\": 1, \"questionType\": 2, \"questionId\": \"4_ReviewsPerRegion\", \"learnToolsVersion\": \"0.3.4\", \"failureMessage\": \"\", \"exceptionClass\": \"\", \"trace\": \"\"}}, \"*\")"
      ],
      "text/plain": [
       "<IPython.core.display.Javascript object>"
      ]
     },
     "metadata": {},
     "output_type": "display_data"
    },
    {
     "data": {
      "text/markdown": [
       "<span style=\"color:#33cc33\">Correct</span>"
      ],
      "text/plain": [
       "Correct"
      ]
     },
     "metadata": {},
     "output_type": "display_data"
    }
   ],
   "source": [
    "reviews_per_region = reviews['region_1'].fillna('Unknown').value_counts().sort_values(ascending=False)\n",
    "\n",
    "# Check your answer\n",
    "q4.check()"
   ]
  },
  {
   "cell_type": "code",
   "execution_count": 10,
   "id": "8c582d1e",
   "metadata": {
    "execution": {
     "iopub.execute_input": "2024-07-03T09:11:26.544496Z",
     "iopub.status.busy": "2024-07-03T09:11:26.544189Z",
     "iopub.status.idle": "2024-07-03T09:11:26.548515Z",
     "shell.execute_reply": "2024-07-03T09:11:26.547534Z"
    },
    "papermill": {
     "duration": 0.012942,
     "end_time": "2024-07-03T09:11:26.550734",
     "exception": false,
     "start_time": "2024-07-03T09:11:26.537792",
     "status": "completed"
    },
    "tags": []
   },
   "outputs": [],
   "source": [
    "#q4.hint()\n",
    "#q4.solution()"
   ]
  },
  {
   "cell_type": "markdown",
   "id": "1188d2ba",
   "metadata": {
    "papermill": {
     "duration": 0.005608,
     "end_time": "2024-07-03T09:11:26.561749",
     "exception": false,
     "start_time": "2024-07-03T09:11:26.556141",
     "status": "completed"
    },
    "tags": []
   },
   "source": [
    "# Keep going\n",
    "\n",
    "Move on to **[renaming and combining](https://www.kaggle.com/residentmario/renaming-and-combining)**."
   ]
  },
  {
   "cell_type": "markdown",
   "id": "a55053b8",
   "metadata": {
    "papermill": {
     "duration": 0.005401,
     "end_time": "2024-07-03T09:11:26.572404",
     "exception": false,
     "start_time": "2024-07-03T09:11:26.567003",
     "status": "completed"
    },
    "tags": []
   },
   "source": [
    "---\n",
    "\n",
    "\n",
    "\n",
    "\n",
    "*Have questions or comments? Visit the [course discussion forum](https://www.kaggle.com/learn/pandas/discussion) to chat with other learners.*"
   ]
  }
 ],
 "metadata": {
  "kaggle": {
   "accelerator": "none",
   "dataSources": [
    {
     "datasetId": 655,
     "sourceId": 1252,
     "sourceType": "datasetVersion"
    },
    {
     "datasetId": 2321,
     "sourceId": 3919,
     "sourceType": "datasetVersion"
    },
    {
     "datasetId": 2894,
     "sourceId": 4877,
     "sourceType": "datasetVersion"
    },
    {
     "datasetId": 3491,
     "sourceId": 5624,
     "sourceType": "datasetVersion"
    },
    {
     "datasetId": 1442,
     "sourceId": 8172,
     "sourceType": "datasetVersion"
    },
    {
     "datasetId": 9366,
     "sourceId": 13206,
     "sourceType": "datasetVersion"
    },
    {
     "datasetId": 179555,
     "sourceId": 403916,
     "sourceType": "datasetVersion"
    },
    {
     "datasetId": 4549,
     "sourceId": 466349,
     "sourceType": "datasetVersion"
    },
    {
     "datasetId": 2478,
     "sourceId": 1151655,
     "sourceType": "datasetVersion"
    },
    {
     "datasetId": 10128,
     "sourceId": 5438389,
     "sourceType": "datasetVersion"
    }
   ],
   "isGpuEnabled": false,
   "isInternetEnabled": false,
   "language": "python",
   "sourceType": "notebook"
  },
  "kernelspec": {
   "display_name": "Python 3",
   "language": "python",
   "name": "python3"
  },
  "language_info": {
   "codemirror_mode": {
    "name": "ipython",
    "version": 3
   },
   "file_extension": ".py",
   "mimetype": "text/x-python",
   "name": "python",
   "nbconvert_exporter": "python",
   "pygments_lexer": "ipython3",
   "version": "3.10.13"
  },
  "papermill": {
   "default_parameters": {},
   "duration": 5.93127,
   "end_time": "2024-07-03T09:11:26.997170",
   "environment_variables": {},
   "exception": null,
   "input_path": "__notebook__.ipynb",
   "output_path": "__notebook__.ipynb",
   "parameters": {},
   "start_time": "2024-07-03T09:11:21.065900",
   "version": "2.5.0"
  }
 },
 "nbformat": 4,
 "nbformat_minor": 5
}
