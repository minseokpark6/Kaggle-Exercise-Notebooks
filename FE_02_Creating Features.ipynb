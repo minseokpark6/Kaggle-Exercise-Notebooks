{
 "cells": [
  {
   "cell_type": "markdown",
   "id": "c21428be",
   "metadata": {
    "papermill": {
     "duration": 0.009728,
     "end_time": "2024-07-04T07:26:23.532982",
     "exception": false,
     "start_time": "2024-07-04T07:26:23.523254",
     "status": "completed"
    },
    "tags": []
   },
   "source": [
    "**This notebook is an exercise in the [Feature Engineering](https://www.kaggle.com/learn/feature-engineering) course.  You can reference the tutorial at [this link](https://www.kaggle.com/ryanholbrook/creating-features).**\n",
    "\n",
    "---\n"
   ]
  },
  {
   "cell_type": "markdown",
   "id": "6c6a3fce",
   "metadata": {
    "papermill": {
     "duration": 0.00893,
     "end_time": "2024-07-04T07:26:23.551364",
     "exception": false,
     "start_time": "2024-07-04T07:26:23.542434",
     "status": "completed"
    },
    "tags": []
   },
   "source": [
    "# Introduction #\n",
    "\n",
    "In this exercise you'll start developing the features you identified in Exercise 2 as having the most potential. As you work through this exercise, you might take a moment to look at the data documentation again and consider whether the features we're creating make sense from a real-world perspective, and whether there are any useful combinations that stand out to you.\n",
    "\n",
    "Run this cell to set everything up!"
   ]
  },
  {
   "cell_type": "code",
   "execution_count": 1,
   "id": "ff5c12d1",
   "metadata": {
    "execution": {
     "iopub.execute_input": "2024-07-04T07:26:23.571675Z",
     "iopub.status.busy": "2024-07-04T07:26:23.571152Z",
     "iopub.status.idle": "2024-07-04T07:26:26.454477Z",
     "shell.execute_reply": "2024-07-04T07:26:26.453261Z"
    },
    "papermill": {
     "duration": 2.896757,
     "end_time": "2024-07-04T07:26:26.457352",
     "exception": false,
     "start_time": "2024-07-04T07:26:23.560595",
     "status": "completed"
    },
    "tags": []
   },
   "outputs": [],
   "source": [
    "# Setup feedback system\n",
    "from learntools.core import binder\n",
    "binder.bind(globals())\n",
    "from learntools.feature_engineering_new.ex3 import *\n",
    "\n",
    "import numpy as np\n",
    "import pandas as pd\n",
    "from sklearn.model_selection import cross_val_score\n",
    "from xgboost import XGBRegressor\n",
    "\n",
    "\n",
    "def score_dataset(X, y, model=XGBRegressor()):\n",
    "    # Label encoding for categoricals\n",
    "    for colname in X.select_dtypes([\"category\", \"object\"]):\n",
    "        X[colname], _ = X[colname].factorize()\n",
    "    # Metric for Housing competition is RMSLE (Root Mean Squared Log Error)\n",
    "    score = cross_val_score(\n",
    "        model, X, y, cv=5, scoring=\"neg_mean_squared_log_error\",\n",
    "    )\n",
    "    score = -1 * score.mean()\n",
    "    score = np.sqrt(score)\n",
    "    return score\n",
    "\n",
    "\n",
    "# Prepare data\n",
    "df = pd.read_csv(\"../input/fe-course-data/ames.csv\")\n",
    "X = df.copy()\n",
    "y = X.pop(\"SalePrice\")"
   ]
  },
  {
   "cell_type": "markdown",
   "id": "08e12017",
   "metadata": {
    "papermill": {
     "duration": 0.008824,
     "end_time": "2024-07-04T07:26:26.475745",
     "exception": false,
     "start_time": "2024-07-04T07:26:26.466921",
     "status": "completed"
    },
    "tags": []
   },
   "source": [
    "-------------------------------------------------------------------------------\n",
    "\n",
    "Let's start with a few mathematical combinations. We'll focus on features describing areas -- having the same units (square-feet) makes it easy to combine them in sensible ways. Since we're using XGBoost (a tree-based model), we'll focus on ratios and sums.\n",
    "\n",
    "# 1) Create Mathematical Transforms\n",
    "\n",
    "Create the following features:\n",
    "\n",
    "- `LivLotRatio`: the ratio of `GrLivArea` to `LotArea`\n",
    "- `Spaciousness`: the sum of `FirstFlrSF` and `SecondFlrSF` divided by `TotRmsAbvGrd`\n",
    "- `TotalOutsideSF`: the sum of `WoodDeckSF`, `OpenPorchSF`, `EnclosedPorch`, `Threeseasonporch`, and `ScreenPorch`"
   ]
  },
  {
   "cell_type": "code",
   "execution_count": 2,
   "id": "02a4f9ba",
   "metadata": {
    "execution": {
     "iopub.execute_input": "2024-07-04T07:26:26.497399Z",
     "iopub.status.busy": "2024-07-04T07:26:26.496882Z",
     "iopub.status.idle": "2024-07-04T07:26:26.536784Z",
     "shell.execute_reply": "2024-07-04T07:26:26.535541Z"
    },
    "papermill": {
     "duration": 0.055066,
     "end_time": "2024-07-04T07:26:26.539794",
     "exception": false,
     "start_time": "2024-07-04T07:26:26.484728",
     "status": "completed"
    },
    "tags": []
   },
   "outputs": [
    {
     "data": {
      "text/html": [
       "<div>\n",
       "<style scoped>\n",
       "    .dataframe tbody tr th:only-of-type {\n",
       "        vertical-align: middle;\n",
       "    }\n",
       "\n",
       "    .dataframe tbody tr th {\n",
       "        vertical-align: top;\n",
       "    }\n",
       "\n",
       "    .dataframe thead th {\n",
       "        text-align: right;\n",
       "    }\n",
       "</style>\n",
       "<table border=\"1\" class=\"dataframe\">\n",
       "  <thead>\n",
       "    <tr style=\"text-align: right;\">\n",
       "      <th></th>\n",
       "      <th>MSSubClass</th>\n",
       "      <th>MSZoning</th>\n",
       "      <th>LotFrontage</th>\n",
       "      <th>LotArea</th>\n",
       "      <th>Street</th>\n",
       "      <th>Alley</th>\n",
       "      <th>LotShape</th>\n",
       "      <th>LandContour</th>\n",
       "      <th>Utilities</th>\n",
       "      <th>LotConfig</th>\n",
       "      <th>...</th>\n",
       "      <th>ScreenPorch</th>\n",
       "      <th>PoolArea</th>\n",
       "      <th>PoolQC</th>\n",
       "      <th>Fence</th>\n",
       "      <th>MiscFeature</th>\n",
       "      <th>MiscVal</th>\n",
       "      <th>MoSold</th>\n",
       "      <th>YearSold</th>\n",
       "      <th>SaleType</th>\n",
       "      <th>SaleCondition</th>\n",
       "    </tr>\n",
       "  </thead>\n",
       "  <tbody>\n",
       "    <tr>\n",
       "      <th>0</th>\n",
       "      <td>One_Story_1946_and_Newer_All_Styles</td>\n",
       "      <td>Residential_Low_Density</td>\n",
       "      <td>141.0</td>\n",
       "      <td>31770.0</td>\n",
       "      <td>Pave</td>\n",
       "      <td>No_Alley_Access</td>\n",
       "      <td>Slightly_Irregular</td>\n",
       "      <td>Lvl</td>\n",
       "      <td>AllPub</td>\n",
       "      <td>Corner</td>\n",
       "      <td>...</td>\n",
       "      <td>0.0</td>\n",
       "      <td>0.0</td>\n",
       "      <td>No_Pool</td>\n",
       "      <td>No_Fence</td>\n",
       "      <td>NaN</td>\n",
       "      <td>0.0</td>\n",
       "      <td>5</td>\n",
       "      <td>2010</td>\n",
       "      <td>WD</td>\n",
       "      <td>Normal</td>\n",
       "    </tr>\n",
       "    <tr>\n",
       "      <th>1</th>\n",
       "      <td>One_Story_1946_and_Newer_All_Styles</td>\n",
       "      <td>Residential_High_Density</td>\n",
       "      <td>80.0</td>\n",
       "      <td>11622.0</td>\n",
       "      <td>Pave</td>\n",
       "      <td>No_Alley_Access</td>\n",
       "      <td>Regular</td>\n",
       "      <td>Lvl</td>\n",
       "      <td>AllPub</td>\n",
       "      <td>Inside</td>\n",
       "      <td>...</td>\n",
       "      <td>120.0</td>\n",
       "      <td>0.0</td>\n",
       "      <td>No_Pool</td>\n",
       "      <td>Minimum_Privacy</td>\n",
       "      <td>NaN</td>\n",
       "      <td>0.0</td>\n",
       "      <td>6</td>\n",
       "      <td>2010</td>\n",
       "      <td>WD</td>\n",
       "      <td>Normal</td>\n",
       "    </tr>\n",
       "    <tr>\n",
       "      <th>2</th>\n",
       "      <td>One_Story_1946_and_Newer_All_Styles</td>\n",
       "      <td>Residential_Low_Density</td>\n",
       "      <td>81.0</td>\n",
       "      <td>14267.0</td>\n",
       "      <td>Pave</td>\n",
       "      <td>No_Alley_Access</td>\n",
       "      <td>Slightly_Irregular</td>\n",
       "      <td>Lvl</td>\n",
       "      <td>AllPub</td>\n",
       "      <td>Corner</td>\n",
       "      <td>...</td>\n",
       "      <td>0.0</td>\n",
       "      <td>0.0</td>\n",
       "      <td>No_Pool</td>\n",
       "      <td>No_Fence</td>\n",
       "      <td>Gar2</td>\n",
       "      <td>12500.0</td>\n",
       "      <td>6</td>\n",
       "      <td>2010</td>\n",
       "      <td>WD</td>\n",
       "      <td>Normal</td>\n",
       "    </tr>\n",
       "  </tbody>\n",
       "</table>\n",
       "<p>3 rows × 78 columns</p>\n",
       "</div>"
      ],
      "text/plain": [
       "                            MSSubClass                  MSZoning  LotFrontage  \\\n",
       "0  One_Story_1946_and_Newer_All_Styles   Residential_Low_Density        141.0   \n",
       "1  One_Story_1946_and_Newer_All_Styles  Residential_High_Density         80.0   \n",
       "2  One_Story_1946_and_Newer_All_Styles   Residential_Low_Density         81.0   \n",
       "\n",
       "   LotArea Street            Alley            LotShape LandContour Utilities  \\\n",
       "0  31770.0   Pave  No_Alley_Access  Slightly_Irregular         Lvl    AllPub   \n",
       "1  11622.0   Pave  No_Alley_Access             Regular         Lvl    AllPub   \n",
       "2  14267.0   Pave  No_Alley_Access  Slightly_Irregular         Lvl    AllPub   \n",
       "\n",
       "  LotConfig  ... ScreenPorch PoolArea   PoolQC            Fence MiscFeature  \\\n",
       "0    Corner  ...         0.0      0.0  No_Pool         No_Fence         NaN   \n",
       "1    Inside  ...       120.0      0.0  No_Pool  Minimum_Privacy         NaN   \n",
       "2    Corner  ...         0.0      0.0  No_Pool         No_Fence        Gar2   \n",
       "\n",
       "   MiscVal MoSold YearSold  SaleType  SaleCondition  \n",
       "0      0.0      5     2010       WD          Normal  \n",
       "1      0.0      6     2010       WD          Normal  \n",
       "2  12500.0      6     2010       WD          Normal  \n",
       "\n",
       "[3 rows x 78 columns]"
      ]
     },
     "execution_count": 2,
     "metadata": {},
     "output_type": "execute_result"
    }
   ],
   "source": [
    "X.head(3)"
   ]
  },
  {
   "cell_type": "code",
   "execution_count": 3,
   "id": "817170a5",
   "metadata": {
    "execution": {
     "iopub.execute_input": "2024-07-04T07:26:26.561358Z",
     "iopub.status.busy": "2024-07-04T07:26:26.560932Z",
     "iopub.status.idle": "2024-07-04T07:26:26.582074Z",
     "shell.execute_reply": "2024-07-04T07:26:26.580899Z"
    },
    "lines_to_next_cell": 0,
    "papermill": {
     "duration": 0.035309,
     "end_time": "2024-07-04T07:26:26.584977",
     "exception": false,
     "start_time": "2024-07-04T07:26:26.549668",
     "status": "completed"
    },
    "tags": []
   },
   "outputs": [
    {
     "data": {
      "application/javascript": [
       "parent.postMessage({\"jupyterEvent\": \"custom.exercise_interaction\", \"data\": {\"outcomeType\": 1, \"valueTowardsCompletion\": 0.2, \"interactionType\": 1, \"questionType\": 2, \"questionId\": \"1_Q1\", \"learnToolsVersion\": \"0.3.4\", \"failureMessage\": \"\", \"exceptionClass\": \"\", \"trace\": \"\"}}, \"*\")"
      ],
      "text/plain": [
       "<IPython.core.display.Javascript object>"
      ]
     },
     "metadata": {},
     "output_type": "display_data"
    },
    {
     "data": {
      "text/markdown": [
       "<span style=\"color:#33cc33\">Correct</span>"
      ],
      "text/plain": [
       "Correct"
      ]
     },
     "metadata": {},
     "output_type": "display_data"
    }
   ],
   "source": [
    "# YOUR CODE HERE\n",
    "X_1 = pd.DataFrame()  # dataframe to hold new features\n",
    "\n",
    "X_1[\"LivLotRatio\"] = X.GrLivArea / X.LotArea\n",
    "X_1[\"Spaciousness\"] = (X.FirstFlrSF + X.SecondFlrSF) / X.TotRmsAbvGrd\n",
    "X_1[\"TotalOutsideSF\"] = X.WoodDeckSF + X.OpenPorchSF + X.EnclosedPorch + X.Threeseasonporch + X.ScreenPorch\n",
    "\n",
    "\n",
    "# Check your answer\n",
    "q_1.check()"
   ]
  },
  {
   "cell_type": "code",
   "execution_count": 4,
   "id": "fe579016",
   "metadata": {
    "execution": {
     "iopub.execute_input": "2024-07-04T07:26:26.606602Z",
     "iopub.status.busy": "2024-07-04T07:26:26.606171Z",
     "iopub.status.idle": "2024-07-04T07:26:26.611764Z",
     "shell.execute_reply": "2024-07-04T07:26:26.610369Z"
    },
    "lines_to_next_cell": 0,
    "papermill": {
     "duration": 0.019509,
     "end_time": "2024-07-04T07:26:26.614314",
     "exception": false,
     "start_time": "2024-07-04T07:26:26.594805",
     "status": "completed"
    },
    "tags": []
   },
   "outputs": [],
   "source": [
    "# Lines below will give you a hint or solution code\n",
    "#q_1.hint()\n",
    "#q_1.solution()"
   ]
  },
  {
   "cell_type": "markdown",
   "id": "ab74833e",
   "metadata": {
    "papermill": {
     "duration": 0.009424,
     "end_time": "2024-07-04T07:26:26.633506",
     "exception": false,
     "start_time": "2024-07-04T07:26:26.624082",
     "status": "completed"
    },
    "tags": []
   },
   "source": [
    "-------------------------------------------------------------------------------\n",
    "\n",
    "If you've discovered an interaction effect between a numeric feature and a categorical feature, you might want to model it explicitly using a one-hot encoding, like so:\n",
    "\n",
    "```\n",
    "# One-hot encode Categorical feature, adding a column prefix \"Cat\"\n",
    "X_new = pd.get_dummies(df.Categorical, prefix=\"Cat\")\n",
    "\n",
    "# Multiply row-by-row\n",
    "X_new = X_new.mul(df.Continuous, axis=0)\n",
    "\n",
    "# Join the new features to the feature set\n",
    "X = X.join(X_new)\n",
    "```\n",
    "\n",
    "# 2) Interaction with a Categorical\n",
    "\n",
    "We discovered an interaction between `BldgType` and `GrLivArea` in Exercise 2. Now create their interaction features."
   ]
  },
  {
   "cell_type": "code",
   "execution_count": 5,
   "id": "0beec72c",
   "metadata": {
    "execution": {
     "iopub.execute_input": "2024-07-04T07:26:26.654884Z",
     "iopub.status.busy": "2024-07-04T07:26:26.654450Z",
     "iopub.status.idle": "2024-07-04T07:26:26.672805Z",
     "shell.execute_reply": "2024-07-04T07:26:26.671622Z"
    },
    "lines_to_next_cell": 0,
    "papermill": {
     "duration": 0.032602,
     "end_time": "2024-07-04T07:26:26.675858",
     "exception": false,
     "start_time": "2024-07-04T07:26:26.643256",
     "status": "completed"
    },
    "tags": []
   },
   "outputs": [
    {
     "data": {
      "application/javascript": [
       "parent.postMessage({\"jupyterEvent\": \"custom.exercise_interaction\", \"data\": {\"outcomeType\": 1, \"valueTowardsCompletion\": 0.2, \"interactionType\": 1, \"questionType\": 2, \"questionId\": \"2_Q2\", \"learnToolsVersion\": \"0.3.4\", \"failureMessage\": \"\", \"exceptionClass\": \"\", \"trace\": \"\"}}, \"*\")"
      ],
      "text/plain": [
       "<IPython.core.display.Javascript object>"
      ]
     },
     "metadata": {},
     "output_type": "display_data"
    },
    {
     "data": {
      "text/markdown": [
       "<span style=\"color:#33cc33\">Correct</span>"
      ],
      "text/plain": [
       "Correct"
      ]
     },
     "metadata": {},
     "output_type": "display_data"
    }
   ],
   "source": [
    "# YOUR CODE HERE\n",
    "# One-hot encode BldgType. Use `prefix=\"Bldg\"` in `get_dummies`\n",
    "X_2 = pd.get_dummies(df['BldgType'], prefix=\"Bldg\")\n",
    "# prefix=\"Bldg\" >> 원핫인코딩으로 생기는 열 앞에 \"Bldg\"를 붙여줘\n",
    "                                      \n",
    "# Multiply\n",
    "X_2 = X_2.mul(df['GrLivArea'], axis=0)\n",
    "# mul(): 판다스에서 각 요소에 대한 곱셈을 수행하는 함수\n",
    "\n",
    "# Check your answer\n",
    "q_2.check()"
   ]
  },
  {
   "cell_type": "code",
   "execution_count": 6,
   "id": "ef70f318",
   "metadata": {
    "execution": {
     "iopub.execute_input": "2024-07-04T07:26:26.698104Z",
     "iopub.status.busy": "2024-07-04T07:26:26.697701Z",
     "iopub.status.idle": "2024-07-04T07:26:26.702864Z",
     "shell.execute_reply": "2024-07-04T07:26:26.701618Z"
    },
    "lines_to_next_cell": 0,
    "papermill": {
     "duration": 0.019287,
     "end_time": "2024-07-04T07:26:26.705468",
     "exception": false,
     "start_time": "2024-07-04T07:26:26.686181",
     "status": "completed"
    },
    "tags": []
   },
   "outputs": [],
   "source": [
    "# Lines below will give you a hint or solution code\n",
    "#q_2.hint()\n",
    "#q_2.solution()"
   ]
  },
  {
   "cell_type": "markdown",
   "id": "9ba156ce",
   "metadata": {
    "lines_to_next_cell": 0,
    "papermill": {
     "duration": 0.009825,
     "end_time": "2024-07-04T07:26:26.725422",
     "exception": false,
     "start_time": "2024-07-04T07:26:26.715597",
     "status": "completed"
    },
    "tags": []
   },
   "source": [
    "# 3) Count Feature\n",
    "\n",
    "Let's try creating a feature that describes how many kinds of outdoor areas a dwelling has. Create a feature `PorchTypes` that counts how many of the following are greater than 0.0:\n",
    "\n",
    "```\n",
    "WoodDeckSF\n",
    "OpenPorchSF\n",
    "EnclosedPorch\n",
    "Threeseasonporch\n",
    "ScreenPorch\n",
    "```"
   ]
  },
  {
   "cell_type": "code",
   "execution_count": 7,
   "id": "3cde3f06",
   "metadata": {
    "execution": {
     "iopub.execute_input": "2024-07-04T07:26:26.748073Z",
     "iopub.status.busy": "2024-07-04T07:26:26.747068Z",
     "iopub.status.idle": "2024-07-04T07:26:26.767109Z",
     "shell.execute_reply": "2024-07-04T07:26:26.765986Z"
    },
    "lines_to_next_cell": 0,
    "papermill": {
     "duration": 0.034082,
     "end_time": "2024-07-04T07:26:26.769664",
     "exception": false,
     "start_time": "2024-07-04T07:26:26.735582",
     "status": "completed"
    },
    "tags": []
   },
   "outputs": [
    {
     "data": {
      "application/javascript": [
       "parent.postMessage({\"jupyterEvent\": \"custom.exercise_interaction\", \"data\": {\"outcomeType\": 1, \"valueTowardsCompletion\": 0.2, \"interactionType\": 1, \"questionType\": 2, \"questionId\": \"3_Q3\", \"learnToolsVersion\": \"0.3.4\", \"failureMessage\": \"\", \"exceptionClass\": \"\", \"trace\": \"\"}}, \"*\")"
      ],
      "text/plain": [
       "<IPython.core.display.Javascript object>"
      ]
     },
     "metadata": {},
     "output_type": "display_data"
    },
    {
     "data": {
      "text/markdown": [
       "<span style=\"color:#33cc33\">Correct</span>"
      ],
      "text/plain": [
       "Correct"
      ]
     },
     "metadata": {},
     "output_type": "display_data"
    }
   ],
   "source": [
    "X_3 = pd.DataFrame()\n",
    "\n",
    "# YOUR CODE HERE\n",
    "X_3[\"PorchTypes\"] = df[[\n",
    "    'WoodDeckSF',\n",
    "    'OpenPorchSF',\n",
    "    'EnclosedPorch',\n",
    "    'Threeseasonporch',\n",
    "    'ScreenPorch',\n",
    "]].gt(0.0).sum(axis=1)\n",
    "\n",
    "# gt(0.0)\n",
    "# gt - greater than의 약자 : 비교 연산 함수 \n",
    "# 각 요소가 (0.0)보다 큰지 여부를 판단하고 Boolean 형태로 출력 \n",
    "\n",
    "# Check your answer\n",
    "q_3.check()"
   ]
  },
  {
   "cell_type": "code",
   "execution_count": 8,
   "id": "1c0f17b8",
   "metadata": {
    "execution": {
     "iopub.execute_input": "2024-07-04T07:26:26.793277Z",
     "iopub.status.busy": "2024-07-04T07:26:26.792869Z",
     "iopub.status.idle": "2024-07-04T07:26:26.805565Z",
     "shell.execute_reply": "2024-07-04T07:26:26.804313Z"
    },
    "papermill": {
     "duration": 0.027462,
     "end_time": "2024-07-04T07:26:26.808124",
     "exception": false,
     "start_time": "2024-07-04T07:26:26.780662",
     "status": "completed"
    },
    "tags": []
   },
   "outputs": [
    {
     "data": {
      "text/html": [
       "<div>\n",
       "<style scoped>\n",
       "    .dataframe tbody tr th:only-of-type {\n",
       "        vertical-align: middle;\n",
       "    }\n",
       "\n",
       "    .dataframe tbody tr th {\n",
       "        vertical-align: top;\n",
       "    }\n",
       "\n",
       "    .dataframe thead th {\n",
       "        text-align: right;\n",
       "    }\n",
       "</style>\n",
       "<table border=\"1\" class=\"dataframe\">\n",
       "  <thead>\n",
       "    <tr style=\"text-align: right;\">\n",
       "      <th></th>\n",
       "      <th>PorchTypes</th>\n",
       "    </tr>\n",
       "  </thead>\n",
       "  <tbody>\n",
       "    <tr>\n",
       "      <th>0</th>\n",
       "      <td>2</td>\n",
       "    </tr>\n",
       "    <tr>\n",
       "      <th>1</th>\n",
       "      <td>2</td>\n",
       "    </tr>\n",
       "    <tr>\n",
       "      <th>2</th>\n",
       "      <td>2</td>\n",
       "    </tr>\n",
       "    <tr>\n",
       "      <th>3</th>\n",
       "      <td>0</td>\n",
       "    </tr>\n",
       "    <tr>\n",
       "      <th>4</th>\n",
       "      <td>2</td>\n",
       "    </tr>\n",
       "    <tr>\n",
       "      <th>...</th>\n",
       "      <td>...</td>\n",
       "    </tr>\n",
       "    <tr>\n",
       "      <th>2925</th>\n",
       "      <td>1</td>\n",
       "    </tr>\n",
       "    <tr>\n",
       "      <th>2926</th>\n",
       "      <td>1</td>\n",
       "    </tr>\n",
       "    <tr>\n",
       "      <th>2927</th>\n",
       "      <td>2</td>\n",
       "    </tr>\n",
       "    <tr>\n",
       "      <th>2928</th>\n",
       "      <td>2</td>\n",
       "    </tr>\n",
       "    <tr>\n",
       "      <th>2929</th>\n",
       "      <td>2</td>\n",
       "    </tr>\n",
       "  </tbody>\n",
       "</table>\n",
       "<p>2930 rows × 1 columns</p>\n",
       "</div>"
      ],
      "text/plain": [
       "      PorchTypes\n",
       "0              2\n",
       "1              2\n",
       "2              2\n",
       "3              0\n",
       "4              2\n",
       "...          ...\n",
       "2925           1\n",
       "2926           1\n",
       "2927           2\n",
       "2928           2\n",
       "2929           2\n",
       "\n",
       "[2930 rows x 1 columns]"
      ]
     },
     "execution_count": 8,
     "metadata": {},
     "output_type": "execute_result"
    }
   ],
   "source": [
    "X_3"
   ]
  },
  {
   "cell_type": "code",
   "execution_count": 9,
   "id": "c081fe82",
   "metadata": {
    "execution": {
     "iopub.execute_input": "2024-07-04T07:26:26.831544Z",
     "iopub.status.busy": "2024-07-04T07:26:26.831077Z",
     "iopub.status.idle": "2024-07-04T07:26:26.835891Z",
     "shell.execute_reply": "2024-07-04T07:26:26.834689Z"
    },
    "lines_to_next_cell": 0,
    "papermill": {
     "duration": 0.019554,
     "end_time": "2024-07-04T07:26:26.838481",
     "exception": false,
     "start_time": "2024-07-04T07:26:26.818927",
     "status": "completed"
    },
    "tags": []
   },
   "outputs": [],
   "source": [
    "# Lines below will give you a hint or solution code\n",
    "#q_3.hint()\n",
    "#q_3.solution()"
   ]
  },
  {
   "cell_type": "markdown",
   "id": "41740d3c",
   "metadata": {
    "papermill": {
     "duration": 0.01044,
     "end_time": "2024-07-04T07:26:26.859661",
     "exception": false,
     "start_time": "2024-07-04T07:26:26.849221",
     "status": "completed"
    },
    "tags": []
   },
   "source": [
    "# 4) Break Down a Categorical Feature\n",
    "\n",
    "`MSSubClass` describes the type of a dwelling:"
   ]
  },
  {
   "cell_type": "code",
   "execution_count": 10,
   "id": "db4af8bc",
   "metadata": {
    "execution": {
     "iopub.execute_input": "2024-07-04T07:26:26.883487Z",
     "iopub.status.busy": "2024-07-04T07:26:26.883064Z",
     "iopub.status.idle": "2024-07-04T07:26:26.891280Z",
     "shell.execute_reply": "2024-07-04T07:26:26.890134Z"
    },
    "papermill": {
     "duration": 0.022792,
     "end_time": "2024-07-04T07:26:26.893696",
     "exception": false,
     "start_time": "2024-07-04T07:26:26.870904",
     "status": "completed"
    },
    "tags": []
   },
   "outputs": [
    {
     "data": {
      "text/plain": [
       "array(['One_Story_1946_and_Newer_All_Styles', 'Two_Story_1946_and_Newer',\n",
       "       'One_Story_PUD_1946_and_Newer',\n",
       "       'One_and_Half_Story_Finished_All_Ages', 'Split_Foyer',\n",
       "       'Two_Story_PUD_1946_and_Newer', 'Split_or_Multilevel',\n",
       "       'One_Story_1945_and_Older', 'Duplex_All_Styles_and_Ages',\n",
       "       'Two_Family_conversion_All_Styles_and_Ages',\n",
       "       'One_and_Half_Story_Unfinished_All_Ages',\n",
       "       'Two_Story_1945_and_Older', 'Two_and_Half_Story_All_Ages',\n",
       "       'One_Story_with_Finished_Attic_All_Ages',\n",
       "       'PUD_Multilevel_Split_Level_Foyer',\n",
       "       'One_and_Half_Story_PUD_All_Ages'], dtype=object)"
      ]
     },
     "execution_count": 10,
     "metadata": {},
     "output_type": "execute_result"
    }
   ],
   "source": [
    "df.MSSubClass.unique()"
   ]
  },
  {
   "cell_type": "markdown",
   "id": "a10518a2",
   "metadata": {
    "papermill": {
     "duration": 0.010634,
     "end_time": "2024-07-04T07:26:26.915279",
     "exception": false,
     "start_time": "2024-07-04T07:26:26.904645",
     "status": "completed"
    },
    "tags": []
   },
   "source": [
    "You can see that there is a more general categorization described (roughly) by the first word of each category. Create a feature containing only these first words by splitting `MSSubClass` at the first underscore `_`. (Hint: In the `split` method use an argument `n=1`.)"
   ]
  },
  {
   "cell_type": "code",
   "execution_count": 11,
   "id": "6fcad5d7",
   "metadata": {
    "execution": {
     "iopub.execute_input": "2024-07-04T07:26:26.938891Z",
     "iopub.status.busy": "2024-07-04T07:26:26.938481Z",
     "iopub.status.idle": "2024-07-04T07:26:27.049870Z",
     "shell.execute_reply": "2024-07-04T07:26:27.048724Z"
    },
    "lines_to_next_cell": 0,
    "papermill": {
     "duration": 0.126213,
     "end_time": "2024-07-04T07:26:27.052417",
     "exception": false,
     "start_time": "2024-07-04T07:26:26.926204",
     "status": "completed"
    },
    "tags": []
   },
   "outputs": [
    {
     "data": {
      "application/javascript": [
       "parent.postMessage({\"jupyterEvent\": \"custom.exercise_interaction\", \"data\": {\"outcomeType\": 1, \"valueTowardsCompletion\": 0.2, \"interactionType\": 1, \"questionType\": 2, \"questionId\": \"4_Q4\", \"learnToolsVersion\": \"0.3.4\", \"failureMessage\": \"\", \"exceptionClass\": \"\", \"trace\": \"\"}}, \"*\")"
      ],
      "text/plain": [
       "<IPython.core.display.Javascript object>"
      ]
     },
     "metadata": {},
     "output_type": "display_data"
    },
    {
     "data": {
      "text/markdown": [
       "<span style=\"color:#33cc33\">Correct</span>"
      ],
      "text/plain": [
       "Correct"
      ]
     },
     "metadata": {},
     "output_type": "display_data"
    }
   ],
   "source": [
    "X_4 = pd.DataFrame()\n",
    "\n",
    "# YOUR CODE HERE\n",
    "X_4[\"MSClass\"] = df['MSSubClass'].str.split(\"_\", n=1, expand=True)[0]\n",
    "\n",
    "# expand=True >> 데이터프레임 형식으로 확장하여 반환 \n",
    "# n=1 >> 분할하고자하는 수 제한 >> 1번만 분할해라\n",
    "\n",
    "# Check your answer\n",
    "q_4.check()"
   ]
  },
  {
   "cell_type": "code",
   "execution_count": 12,
   "id": "2b84f3a7",
   "metadata": {
    "execution": {
     "iopub.execute_input": "2024-07-04T07:26:27.076637Z",
     "iopub.status.busy": "2024-07-04T07:26:27.076175Z",
     "iopub.status.idle": "2024-07-04T07:26:27.080903Z",
     "shell.execute_reply": "2024-07-04T07:26:27.079751Z"
    },
    "lines_to_next_cell": 0,
    "papermill": {
     "duration": 0.019754,
     "end_time": "2024-07-04T07:26:27.083455",
     "exception": false,
     "start_time": "2024-07-04T07:26:27.063701",
     "status": "completed"
    },
    "tags": []
   },
   "outputs": [],
   "source": [
    "# Lines below will give you a hint or solution code\n",
    "#q_4.hint()\n",
    "#q_4.solution()"
   ]
  },
  {
   "cell_type": "markdown",
   "id": "ad31dbbe",
   "metadata": {
    "papermill": {
     "duration": 0.011006,
     "end_time": "2024-07-04T07:26:27.106187",
     "exception": false,
     "start_time": "2024-07-04T07:26:27.095181",
     "status": "completed"
    },
    "tags": []
   },
   "source": [
    "# 5) Use a Grouped Transform\n",
    "\n",
    "The value of a home often depends on how it compares to typical homes in its neighborhood. Create a feature `MedNhbdArea` that describes the *median* of `GrLivArea` grouped on `Neighborhood`."
   ]
  },
  {
   "cell_type": "code",
   "execution_count": 13,
   "id": "b3217823",
   "metadata": {
    "execution": {
     "iopub.execute_input": "2024-07-04T07:26:27.130616Z",
     "iopub.status.busy": "2024-07-04T07:26:27.130070Z",
     "iopub.status.idle": "2024-07-04T07:26:27.142954Z",
     "shell.execute_reply": "2024-07-04T07:26:27.141709Z"
    },
    "papermill": {
     "duration": 0.028092,
     "end_time": "2024-07-04T07:26:27.145625",
     "exception": false,
     "start_time": "2024-07-04T07:26:27.117533",
     "status": "completed"
    },
    "tags": []
   },
   "outputs": [
    {
     "data": {
      "text/html": [
       "<div>\n",
       "<style scoped>\n",
       "    .dataframe tbody tr th:only-of-type {\n",
       "        vertical-align: middle;\n",
       "    }\n",
       "\n",
       "    .dataframe tbody tr th {\n",
       "        vertical-align: top;\n",
       "    }\n",
       "\n",
       "    .dataframe thead th {\n",
       "        text-align: right;\n",
       "    }\n",
       "</style>\n",
       "<table border=\"1\" class=\"dataframe\">\n",
       "  <thead>\n",
       "    <tr style=\"text-align: right;\">\n",
       "      <th></th>\n",
       "      <th>Neighborhood</th>\n",
       "      <th>GrLivArea</th>\n",
       "    </tr>\n",
       "  </thead>\n",
       "  <tbody>\n",
       "    <tr>\n",
       "      <th>0</th>\n",
       "      <td>North_Ames</td>\n",
       "      <td>1656.0</td>\n",
       "    </tr>\n",
       "    <tr>\n",
       "      <th>1</th>\n",
       "      <td>North_Ames</td>\n",
       "      <td>896.0</td>\n",
       "    </tr>\n",
       "    <tr>\n",
       "      <th>2</th>\n",
       "      <td>North_Ames</td>\n",
       "      <td>1329.0</td>\n",
       "    </tr>\n",
       "    <tr>\n",
       "      <th>3</th>\n",
       "      <td>North_Ames</td>\n",
       "      <td>2110.0</td>\n",
       "    </tr>\n",
       "    <tr>\n",
       "      <th>4</th>\n",
       "      <td>Gilbert</td>\n",
       "      <td>1629.0</td>\n",
       "    </tr>\n",
       "  </tbody>\n",
       "</table>\n",
       "</div>"
      ],
      "text/plain": [
       "  Neighborhood  GrLivArea\n",
       "0   North_Ames     1656.0\n",
       "1   North_Ames      896.0\n",
       "2   North_Ames     1329.0\n",
       "3   North_Ames     2110.0\n",
       "4      Gilbert     1629.0"
      ]
     },
     "execution_count": 13,
     "metadata": {},
     "output_type": "execute_result"
    }
   ],
   "source": [
    "df[['Neighborhood', 'GrLivArea']].head()"
   ]
  },
  {
   "cell_type": "code",
   "execution_count": 14,
   "id": "5a9fca35",
   "metadata": {
    "execution": {
     "iopub.execute_input": "2024-07-04T07:26:27.170742Z",
     "iopub.status.busy": "2024-07-04T07:26:27.170278Z",
     "iopub.status.idle": "2024-07-04T07:26:27.185946Z",
     "shell.execute_reply": "2024-07-04T07:26:27.184774Z"
    },
    "papermill": {
     "duration": 0.031291,
     "end_time": "2024-07-04T07:26:27.188459",
     "exception": false,
     "start_time": "2024-07-04T07:26:27.157168",
     "status": "completed"
    },
    "tags": []
   },
   "outputs": [
    {
     "data": {
      "text/plain": [
       "Neighborhood\n",
       "Bloomington_Heights                        1455.5\n",
       "Blueste                                    1118.0\n",
       "Briardale                                  1092.0\n",
       "Brookside                                  1231.0\n",
       "Clear_Creek                                1694.0\n",
       "College_Creek                              1504.0\n",
       "Crawford                                   1648.0\n",
       "Edwards                                    1195.5\n",
       "Gilbert                                    1560.0\n",
       "Green_Hills                                1398.5\n",
       "Greens                                     1226.0\n",
       "Iowa_DOT_and_Rail_Road                     1128.0\n",
       "Landmark                                   1320.0\n",
       "Meadow_Village                             1092.0\n",
       "Mitchell                                   1282.0\n",
       "North_Ames                                 1200.0\n",
       "Northpark_Villa                            1322.0\n",
       "Northridge                                 2418.0\n",
       "Northridge_Heights                         1832.0\n",
       "Northwest_Ames                             1632.0\n",
       "Old_Town                                   1374.0\n",
       "Sawyer                                     1052.0\n",
       "Sawyer_West                                1575.0\n",
       "Somerset                                   1555.0\n",
       "South_and_West_of_Iowa_State_University    1536.5\n",
       "Stone_Brook                                1767.0\n",
       "Timberland                                 1650.5\n",
       "Veenker                                    1706.5\n",
       "Name: GrLivArea, dtype: float64"
      ]
     },
     "execution_count": 14,
     "metadata": {},
     "output_type": "execute_result"
    }
   ],
   "source": [
    "df.groupby('Neighborhood')['GrLivArea'].median()"
   ]
  },
  {
   "cell_type": "code",
   "execution_count": 15,
   "id": "f12ac248",
   "metadata": {
    "execution": {
     "iopub.execute_input": "2024-07-04T07:26:27.213972Z",
     "iopub.status.busy": "2024-07-04T07:26:27.213168Z",
     "iopub.status.idle": "2024-07-04T07:26:27.226934Z",
     "shell.execute_reply": "2024-07-04T07:26:27.225704Z"
    },
    "papermill": {
     "duration": 0.029503,
     "end_time": "2024-07-04T07:26:27.229565",
     "exception": false,
     "start_time": "2024-07-04T07:26:27.200062",
     "status": "completed"
    },
    "tags": []
   },
   "outputs": [
    {
     "data": {
      "text/plain": [
       "0       1200.0\n",
       "1       1200.0\n",
       "2       1200.0\n",
       "3       1200.0\n",
       "4       1560.0\n",
       "         ...  \n",
       "2925    1282.0\n",
       "2926    1282.0\n",
       "2927    1282.0\n",
       "2928    1282.0\n",
       "2929    1282.0\n",
       "Name: GrLivArea, Length: 2930, dtype: float64"
      ]
     },
     "execution_count": 15,
     "metadata": {},
     "output_type": "execute_result"
    }
   ],
   "source": [
    "df.groupby(\"Neighborhood\")[\"GrLivArea\"].transform(\"median\")"
   ]
  },
  {
   "cell_type": "code",
   "execution_count": 16,
   "id": "c9f743fa",
   "metadata": {
    "execution": {
     "iopub.execute_input": "2024-07-04T07:26:27.255410Z",
     "iopub.status.busy": "2024-07-04T07:26:27.254693Z",
     "iopub.status.idle": "2024-07-04T07:26:27.270942Z",
     "shell.execute_reply": "2024-07-04T07:26:27.269773Z"
    },
    "lines_to_next_cell": 0,
    "papermill": {
     "duration": 0.032134,
     "end_time": "2024-07-04T07:26:27.273552",
     "exception": false,
     "start_time": "2024-07-04T07:26:27.241418",
     "status": "completed"
    },
    "tags": []
   },
   "outputs": [
    {
     "data": {
      "application/javascript": [
       "parent.postMessage({\"jupyterEvent\": \"custom.exercise_interaction\", \"data\": {\"outcomeType\": 1, \"valueTowardsCompletion\": 0.2, \"interactionType\": 1, \"questionType\": 2, \"questionId\": \"5_Q5\", \"learnToolsVersion\": \"0.3.4\", \"failureMessage\": \"\", \"exceptionClass\": \"\", \"trace\": \"\"}}, \"*\")"
      ],
      "text/plain": [
       "<IPython.core.display.Javascript object>"
      ]
     },
     "metadata": {},
     "output_type": "display_data"
    },
    {
     "data": {
      "text/markdown": [
       "<span style=\"color:#33cc33\">Correct</span>"
      ],
      "text/plain": [
       "Correct"
      ]
     },
     "metadata": {},
     "output_type": "display_data"
    }
   ],
   "source": [
    "X_5 = pd.DataFrame()\n",
    "\n",
    "# YOUR CODE HERE\n",
    "X_5[\"MedNhbdArea\"] = df.groupby('Neighborhood')['GrLivArea'].transform(\"median\")\n",
    "\n",
    "# transform >> 연산한 결과를 원래 데이터에 집어넣을 때 쓰는 함수 (***)\n",
    "\n",
    "# Check your answer\n",
    "q_5.check()"
   ]
  },
  {
   "cell_type": "code",
   "execution_count": 17,
   "id": "da596e56",
   "metadata": {
    "execution": {
     "iopub.execute_input": "2024-07-04T07:26:27.299684Z",
     "iopub.status.busy": "2024-07-04T07:26:27.299226Z",
     "iopub.status.idle": "2024-07-04T07:26:27.308852Z",
     "shell.execute_reply": "2024-07-04T07:26:27.307502Z"
    },
    "lines_to_next_cell": 0,
    "papermill": {
     "duration": 0.025651,
     "end_time": "2024-07-04T07:26:27.311456",
     "exception": false,
     "start_time": "2024-07-04T07:26:27.285805",
     "status": "completed"
    },
    "tags": []
   },
   "outputs": [
    {
     "data": {
      "application/javascript": [
       "parent.postMessage({\"jupyterEvent\": \"custom.exercise_interaction\", \"data\": {\"interactionType\": 3, \"questionType\": 2, \"questionId\": \"5_Q5\", \"learnToolsVersion\": \"0.3.4\", \"valueTowardsCompletion\": 0.0, \"failureMessage\": \"\", \"exceptionClass\": \"\", \"trace\": \"\", \"outcomeType\": 4}}, \"*\")"
      ],
      "text/plain": [
       "<IPython.core.display.Javascript object>"
      ]
     },
     "metadata": {},
     "output_type": "display_data"
    },
    {
     "data": {
      "text/markdown": [
       "<span style=\"color:#33cc99\">Solution:</span> \n",
       "```python\n",
       "\n",
       "X_5 = pd.DataFrame()\n",
       "\n",
       "X_5[\"MedNhbdArea\"] = df.groupby(\"Neighborhood\")[\"GrLivArea\"].transform(\"median\")\n",
       "\n",
       "```"
      ],
      "text/plain": [
       "Solution: \n",
       "```python\n",
       "\n",
       "X_5 = pd.DataFrame()\n",
       "\n",
       "X_5[\"MedNhbdArea\"] = df.groupby(\"Neighborhood\")[\"GrLivArea\"].transform(\"median\")\n",
       "\n",
       "```"
      ]
     },
     "metadata": {},
     "output_type": "display_data"
    }
   ],
   "source": [
    "# Lines below will give you a hint or solution code\n",
    "#q_5.hint()\n",
    "q_5.solution()"
   ]
  },
  {
   "cell_type": "markdown",
   "id": "6480550f",
   "metadata": {
    "papermill": {
     "duration": 0.012333,
     "end_time": "2024-07-04T07:26:27.337207",
     "exception": false,
     "start_time": "2024-07-04T07:26:27.324874",
     "status": "completed"
    },
    "tags": []
   },
   "source": [
    "Now you've made your first new feature set! If you like, you can run the cell below to score the model with all of your new features added:"
   ]
  },
  {
   "cell_type": "code",
   "execution_count": 18,
   "id": "55cbe2de",
   "metadata": {
    "execution": {
     "iopub.execute_input": "2024-07-04T07:26:27.364401Z",
     "iopub.status.busy": "2024-07-04T07:26:27.363995Z",
     "iopub.status.idle": "2024-07-04T07:26:30.398708Z",
     "shell.execute_reply": "2024-07-04T07:26:30.397733Z"
    },
    "papermill": {
     "duration": 3.05194,
     "end_time": "2024-07-04T07:26:30.401577",
     "exception": false,
     "start_time": "2024-07-04T07:26:27.349637",
     "status": "completed"
    },
    "tags": []
   },
   "outputs": [
    {
     "data": {
      "text/plain": [
       "0.13954039591355258"
      ]
     },
     "execution_count": 18,
     "metadata": {},
     "output_type": "execute_result"
    }
   ],
   "source": [
    "X_new = X.join([X_1, X_2, X_3, X_4, X_5])\n",
    "score_dataset(X_new, y)"
   ]
  },
  {
   "cell_type": "markdown",
   "id": "c24c2c6f",
   "metadata": {
    "papermill": {
     "duration": 0.012592,
     "end_time": "2024-07-04T07:26:30.428087",
     "exception": false,
     "start_time": "2024-07-04T07:26:30.415495",
     "status": "completed"
    },
    "tags": []
   },
   "source": [
    "# Keep Going #\n",
    "\n",
    "[**Untangle spatial relationships**](https://www.kaggle.com/ryanholbrook/clustering-with-k-means) by adding cluster labels to your dataset."
   ]
  },
  {
   "cell_type": "markdown",
   "id": "d09ff9e2",
   "metadata": {
    "papermill": {
     "duration": 0.012472,
     "end_time": "2024-07-04T07:26:30.453452",
     "exception": false,
     "start_time": "2024-07-04T07:26:30.440980",
     "status": "completed"
    },
    "tags": []
   },
   "source": [
    "---\n",
    "\n",
    "\n",
    "\n",
    "\n",
    "*Have questions or comments? Visit the [course discussion forum](https://www.kaggle.com/learn/feature-engineering/discussion) to chat with other learners.*"
   ]
  }
 ],
 "metadata": {
  "jupytext": {
   "cell_metadata_filter": "-all",
   "formats": "ipynb"
  },
  "kaggle": {
   "accelerator": "none",
   "dataSources": [
    {
     "datasetId": 933090,
     "sourceId": 1828856,
     "sourceType": "datasetVersion"
    }
   ],
   "isGpuEnabled": false,
   "isInternetEnabled": false,
   "language": "python",
   "sourceType": "notebook"
  },
  "kernelspec": {
   "display_name": "Python 3",
   "language": "python",
   "name": "python3"
  },
  "language_info": {
   "codemirror_mode": {
    "name": "ipython",
    "version": 3
   },
   "file_extension": ".py",
   "mimetype": "text/x-python",
   "name": "python",
   "nbconvert_exporter": "python",
   "pygments_lexer": "ipython3",
   "version": "3.10.13"
  },
  "papermill": {
   "default_parameters": {},
   "duration": 10.85343,
   "end_time": "2024-07-04T07:26:31.088465",
   "environment_variables": {},
   "exception": null,
   "input_path": "__notebook__.ipynb",
   "output_path": "__notebook__.ipynb",
   "parameters": {},
   "start_time": "2024-07-04T07:26:20.235035",
   "version": "2.5.0"
  }
 },
 "nbformat": 4,
 "nbformat_minor": 5
}
