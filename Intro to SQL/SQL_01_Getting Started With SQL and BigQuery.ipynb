{
 "cells": [
  {
   "cell_type": "markdown",
   "id": "960728a0",
   "metadata": {
    "papermill": {
     "duration": 0.007998,
     "end_time": "2024-07-03T15:01:35.845966",
     "exception": false,
     "start_time": "2024-07-03T15:01:35.837968",
     "status": "completed"
    },
    "tags": []
   },
   "source": [
    "**This notebook is an exercise in the [SQL](https://www.kaggle.com/learn/intro-to-sql) course.  You can reference the tutorial at [this link](https://www.kaggle.com/dansbecker/getting-started-with-sql-and-bigquery).**\n",
    "\n",
    "---\n"
   ]
  },
  {
   "cell_type": "markdown",
   "id": "cd784aa0",
   "metadata": {
    "papermill": {
     "duration": 0.007046,
     "end_time": "2024-07-03T15:01:35.860692",
     "exception": false,
     "start_time": "2024-07-03T15:01:35.853646",
     "status": "completed"
    },
    "tags": []
   },
   "source": [
    "# Introduction\n",
    "\n",
    "The first test of your new data exploration skills uses data describing crime in the city of Chicago.\n",
    "\n",
    "Before you get started, run the following cell. It sets up the automated feedback system to review your answers."
   ]
  },
  {
   "cell_type": "code",
   "execution_count": 1,
   "id": "8dca21a5",
   "metadata": {
    "execution": {
     "iopub.execute_input": "2024-07-03T15:01:35.878749Z",
     "iopub.status.busy": "2024-07-03T15:01:35.878311Z",
     "iopub.status.idle": "2024-07-03T15:01:43.680884Z",
     "shell.execute_reply": "2024-07-03T15:01:43.679351Z"
    },
    "papermill": {
     "duration": 7.815168,
     "end_time": "2024-07-03T15:01:43.684101",
     "exception": false,
     "start_time": "2024-07-03T15:01:35.868933",
     "status": "completed"
    },
    "tags": []
   },
   "outputs": [
    {
     "name": "stdout",
     "output_type": "stream",
     "text": [
      "Using Kaggle's public dataset BigQuery integration.\n",
      "Setup Complete\n"
     ]
    }
   ],
   "source": [
    "# Set up feedack system\n",
    "from learntools.core import binder\n",
    "binder.bind(globals())\n",
    "from learntools.sql.ex1 import *\n",
    "print(\"Setup Complete\")"
   ]
  },
  {
   "cell_type": "markdown",
   "id": "910689f7",
   "metadata": {
    "papermill": {
     "duration": 0.007266,
     "end_time": "2024-07-03T15:01:43.699164",
     "exception": false,
     "start_time": "2024-07-03T15:01:43.691898",
     "status": "completed"
    },
    "tags": []
   },
   "source": [
    "Use the next code cell to fetch the dataset."
   ]
  },
  {
   "cell_type": "code",
   "execution_count": 2,
   "id": "949de1ec",
   "metadata": {
    "execution": {
     "iopub.execute_input": "2024-07-03T15:01:43.716508Z",
     "iopub.status.busy": "2024-07-03T15:01:43.715874Z",
     "iopub.status.idle": "2024-07-03T15:01:44.283798Z",
     "shell.execute_reply": "2024-07-03T15:01:44.282599Z"
    },
    "papermill": {
     "duration": 0.580301,
     "end_time": "2024-07-03T15:01:44.287014",
     "exception": false,
     "start_time": "2024-07-03T15:01:43.706713",
     "status": "completed"
    },
    "tags": []
   },
   "outputs": [
    {
     "name": "stdout",
     "output_type": "stream",
     "text": [
      "Using Kaggle's public dataset BigQuery integration.\n"
     ]
    }
   ],
   "source": [
    "from google.cloud import bigquery\n",
    "\n",
    "# Create a \"Client\" object\n",
    "client = bigquery.Client()\n",
    "\n",
    "# Construct a reference to the \"chicago_crime\" dataset\n",
    "dataset_ref = client.dataset(\"chicago_crime\", project=\"bigquery-public-data\")\n",
    "\n",
    "# API request - fetch the dataset\n",
    "dataset = client.get_dataset(dataset_ref)"
   ]
  },
  {
   "cell_type": "markdown",
   "id": "9e67f3de",
   "metadata": {
    "papermill": {
     "duration": 0.00751,
     "end_time": "2024-07-03T15:01:44.302503",
     "exception": false,
     "start_time": "2024-07-03T15:01:44.294993",
     "status": "completed"
    },
    "tags": []
   },
   "source": [
    "# Exercises\n",
    "\n",
    "### 1) Count tables in the dataset\n",
    "\n",
    "How many tables are in the Chicago Crime dataset?"
   ]
  },
  {
   "cell_type": "code",
   "execution_count": 3,
   "id": "9b7bd8b9",
   "metadata": {
    "execution": {
     "iopub.execute_input": "2024-07-03T15:01:44.319757Z",
     "iopub.status.busy": "2024-07-03T15:01:44.319333Z",
     "iopub.status.idle": "2024-07-03T15:01:44.832826Z",
     "shell.execute_reply": "2024-07-03T15:01:44.831477Z"
    },
    "papermill": {
     "duration": 0.52576,
     "end_time": "2024-07-03T15:01:44.836054",
     "exception": false,
     "start_time": "2024-07-03T15:01:44.310294",
     "status": "completed"
    },
    "tags": []
   },
   "outputs": [
    {
     "data": {
      "text/plain": [
       "1"
      ]
     },
     "execution_count": 3,
     "metadata": {},
     "output_type": "execute_result"
    }
   ],
   "source": [
    "# Write the code you need here to figure out the answer\n",
    "\n",
    "# 데이터셋 내 모든 테이블 불러오기 >> 리스트에 담아 변수 저장 \n",
    "tables = list(client.list_tables(dataset))\n",
    "# 리스트 내 개수 카운트\n",
    "len(tables)"
   ]
  },
  {
   "cell_type": "code",
   "execution_count": 4,
   "id": "069b6228",
   "metadata": {
    "execution": {
     "iopub.execute_input": "2024-07-03T15:01:44.854713Z",
     "iopub.status.busy": "2024-07-03T15:01:44.853711Z",
     "iopub.status.idle": "2024-07-03T15:01:44.863899Z",
     "shell.execute_reply": "2024-07-03T15:01:44.862721Z"
    },
    "papermill": {
     "duration": 0.022488,
     "end_time": "2024-07-03T15:01:44.866635",
     "exception": false,
     "start_time": "2024-07-03T15:01:44.844147",
     "status": "completed"
    },
    "tags": []
   },
   "outputs": [
    {
     "data": {
      "application/javascript": [
       "parent.postMessage({\"jupyterEvent\": \"custom.exercise_interaction\", \"data\": {\"outcomeType\": 1, \"valueTowardsCompletion\": 0.3333333333333333, \"interactionType\": 1, \"questionType\": 1, \"questionId\": \"1_CountTables\", \"learnToolsVersion\": \"0.3.4\", \"failureMessage\": \"\", \"exceptionClass\": \"\", \"trace\": \"\"}}, \"*\")"
      ],
      "text/plain": [
       "<IPython.core.display.Javascript object>"
      ]
     },
     "metadata": {},
     "output_type": "display_data"
    },
    {
     "data": {
      "text/markdown": [
       "<span style=\"color:#33cc33\">Correct</span>"
      ],
      "text/plain": [
       "Correct"
      ]
     },
     "metadata": {},
     "output_type": "display_data"
    }
   ],
   "source": [
    "num_tables = len(tables)\n",
    "\n",
    "# Check your answer\n",
    "q_1.check()"
   ]
  },
  {
   "cell_type": "markdown",
   "id": "629f15c8",
   "metadata": {
    "papermill": {
     "duration": 0.007922,
     "end_time": "2024-07-03T15:01:44.883070",
     "exception": false,
     "start_time": "2024-07-03T15:01:44.875148",
     "status": "completed"
    },
    "tags": []
   },
   "source": [
    "For a hint or the solution, uncomment the appropriate line below."
   ]
  },
  {
   "cell_type": "code",
   "execution_count": 5,
   "id": "f9078df3",
   "metadata": {
    "execution": {
     "iopub.execute_input": "2024-07-03T15:01:44.901838Z",
     "iopub.status.busy": "2024-07-03T15:01:44.901360Z",
     "iopub.status.idle": "2024-07-03T15:01:44.906774Z",
     "shell.execute_reply": "2024-07-03T15:01:44.905380Z"
    },
    "papermill": {
     "duration": 0.018276,
     "end_time": "2024-07-03T15:01:44.909474",
     "exception": false,
     "start_time": "2024-07-03T15:01:44.891198",
     "status": "completed"
    },
    "tags": []
   },
   "outputs": [],
   "source": [
    "#q_1.hint()\n",
    "#q_1.solution()"
   ]
  },
  {
   "cell_type": "markdown",
   "id": "a48005f9",
   "metadata": {
    "papermill": {
     "duration": 0.007856,
     "end_time": "2024-07-03T15:01:44.925477",
     "exception": false,
     "start_time": "2024-07-03T15:01:44.917621",
     "status": "completed"
    },
    "tags": []
   },
   "source": [
    "### 2) Explore the table schema\n",
    "\n",
    "How many columns in the `crime` table have `TIMESTAMP` data?"
   ]
  },
  {
   "cell_type": "code",
   "execution_count": 6,
   "id": "d0d72753",
   "metadata": {
    "execution": {
     "iopub.execute_input": "2024-07-03T15:01:44.943658Z",
     "iopub.status.busy": "2024-07-03T15:01:44.943153Z",
     "iopub.status.idle": "2024-07-03T15:01:45.248390Z",
     "shell.execute_reply": "2024-07-03T15:01:45.246947Z"
    },
    "papermill": {
     "duration": 0.317638,
     "end_time": "2024-07-03T15:01:45.251219",
     "exception": false,
     "start_time": "2024-07-03T15:01:44.933581",
     "status": "completed"
    },
    "tags": []
   },
   "outputs": [
    {
     "name": "stdout",
     "output_type": "stream",
     "text": [
      "[SchemaField('unique_key', 'INTEGER', 'REQUIRED', None, (), None), SchemaField('case_number', 'STRING', 'NULLABLE', None, (), None), SchemaField('date', 'TIMESTAMP', 'NULLABLE', None, (), None), SchemaField('block', 'STRING', 'NULLABLE', None, (), None), SchemaField('iucr', 'STRING', 'NULLABLE', None, (), None), SchemaField('primary_type', 'STRING', 'NULLABLE', None, (), None), SchemaField('description', 'STRING', 'NULLABLE', None, (), None), SchemaField('location_description', 'STRING', 'NULLABLE', None, (), None), SchemaField('arrest', 'BOOLEAN', 'NULLABLE', None, (), None), SchemaField('domestic', 'BOOLEAN', 'NULLABLE', None, (), None), SchemaField('beat', 'INTEGER', 'NULLABLE', None, (), None), SchemaField('district', 'INTEGER', 'NULLABLE', None, (), None), SchemaField('ward', 'INTEGER', 'NULLABLE', None, (), None), SchemaField('community_area', 'INTEGER', 'NULLABLE', None, (), None), SchemaField('fbi_code', 'STRING', 'NULLABLE', None, (), None), SchemaField('x_coordinate', 'FLOAT', 'NULLABLE', None, (), None), SchemaField('y_coordinate', 'FLOAT', 'NULLABLE', None, (), None), SchemaField('year', 'INTEGER', 'NULLABLE', None, (), None), SchemaField('updated_on', 'TIMESTAMP', 'NULLABLE', None, (), None), SchemaField('latitude', 'FLOAT', 'NULLABLE', None, (), None), SchemaField('longitude', 'FLOAT', 'NULLABLE', None, (), None), SchemaField('location', 'STRING', 'NULLABLE', None, (), None)]\n"
     ]
    }
   ],
   "source": [
    "# \"crime\" table 호출\n",
    "\n",
    "table_ref = dataset_ref.table(\"crime\")\n",
    "# dataset_ref 내 테이블 \"crime\" 테이블 지정 >> table_ref 변수에 저장\n",
    "\n",
    "table = client.get_table(table_ref)\n",
    "# get_table() : table_ref가 가리키는 테이블 가져오기\n",
    "\n",
    "print(table.schema)\n",
    "# table의 스키마 정보 출력"
   ]
  },
  {
   "cell_type": "code",
   "execution_count": 7,
   "id": "4991f878",
   "metadata": {
    "execution": {
     "iopub.execute_input": "2024-07-03T15:01:45.269830Z",
     "iopub.status.busy": "2024-07-03T15:01:45.269393Z",
     "iopub.status.idle": "2024-07-03T15:01:45.280845Z",
     "shell.execute_reply": "2024-07-03T15:01:45.279561Z"
    },
    "papermill": {
     "duration": 0.024222,
     "end_time": "2024-07-03T15:01:45.283676",
     "exception": false,
     "start_time": "2024-07-03T15:01:45.259454",
     "status": "completed"
    },
    "tags": []
   },
   "outputs": [
    {
     "data": {
      "application/javascript": [
       "parent.postMessage({\"jupyterEvent\": \"custom.exercise_interaction\", \"data\": {\"outcomeType\": 1, \"valueTowardsCompletion\": 0.3333333333333333, \"interactionType\": 1, \"questionType\": 1, \"questionId\": \"2_CountTimestampFields\", \"learnToolsVersion\": \"0.3.4\", \"failureMessage\": \"\", \"exceptionClass\": \"\", \"trace\": \"\"}}, \"*\")"
      ],
      "text/plain": [
       "<IPython.core.display.Javascript object>"
      ]
     },
     "metadata": {},
     "output_type": "display_data"
    },
    {
     "data": {
      "text/markdown": [
       "<span style=\"color:#33cc33\">Correct</span>"
      ],
      "text/plain": [
       "Correct"
      ]
     },
     "metadata": {},
     "output_type": "display_data"
    }
   ],
   "source": [
    "num_timestamp_fields =  sum(field.field_type == \"TIMESTAMP\" for field in table.schema)\n",
    "# field.field_type == \"TIMESTAMP\" : field의 field Type이 \"TIMESTAMP\"인 field를 불러오는 리스트 컴프리헨션\n",
    "\n",
    "# Check your answer\n",
    "q_2.check()"
   ]
  },
  {
   "cell_type": "markdown",
   "id": "569e11c5",
   "metadata": {
    "papermill": {
     "duration": 0.009025,
     "end_time": "2024-07-03T15:01:45.301616",
     "exception": false,
     "start_time": "2024-07-03T15:01:45.292591",
     "status": "completed"
    },
    "tags": []
   },
   "source": [
    "For a hint or the solution, uncomment the appropriate line below."
   ]
  },
  {
   "cell_type": "code",
   "execution_count": 8,
   "id": "9ffa40fe",
   "metadata": {
    "execution": {
     "iopub.execute_input": "2024-07-03T15:01:45.321991Z",
     "iopub.status.busy": "2024-07-03T15:01:45.321536Z",
     "iopub.status.idle": "2024-07-03T15:01:45.326837Z",
     "shell.execute_reply": "2024-07-03T15:01:45.325640Z"
    },
    "papermill": {
     "duration": 0.01876,
     "end_time": "2024-07-03T15:01:45.329515",
     "exception": false,
     "start_time": "2024-07-03T15:01:45.310755",
     "status": "completed"
    },
    "tags": []
   },
   "outputs": [],
   "source": [
    "#q_2.hint()\n",
    "#q_2.solution()"
   ]
  },
  {
   "cell_type": "markdown",
   "id": "d9ad1e3f",
   "metadata": {
    "papermill": {
     "duration": 0.008898,
     "end_time": "2024-07-03T15:01:45.346982",
     "exception": false,
     "start_time": "2024-07-03T15:01:45.338084",
     "status": "completed"
    },
    "tags": []
   },
   "source": [
    "### 3) Create a crime map\n",
    "\n",
    "If you wanted to create a map with a dot at the location of each crime, what are the names of the two fields you likely need to pull out of the `crime` table to plot the crimes on a map?"
   ]
  },
  {
   "cell_type": "code",
   "execution_count": 9,
   "id": "bff4204d",
   "metadata": {
    "execution": {
     "iopub.execute_input": "2024-07-03T15:01:45.366180Z",
     "iopub.status.busy": "2024-07-03T15:01:45.365712Z",
     "iopub.status.idle": "2024-07-03T15:01:45.374960Z",
     "shell.execute_reply": "2024-07-03T15:01:45.373772Z"
    },
    "papermill": {
     "duration": 0.022513,
     "end_time": "2024-07-03T15:01:45.378094",
     "exception": false,
     "start_time": "2024-07-03T15:01:45.355581",
     "status": "completed"
    },
    "tags": []
   },
   "outputs": [
    {
     "data": {
      "text/plain": [
       "['unique_key',\n",
       " 'case_number',\n",
       " 'date',\n",
       " 'block',\n",
       " 'iucr',\n",
       " 'primary_type',\n",
       " 'description',\n",
       " 'location_description',\n",
       " 'arrest',\n",
       " 'domestic',\n",
       " 'beat',\n",
       " 'district',\n",
       " 'ward',\n",
       " 'community_area',\n",
       " 'fbi_code',\n",
       " 'x_coordinate',\n",
       " 'y_coordinate',\n",
       " 'year',\n",
       " 'updated_on',\n",
       " 'latitude',\n",
       " 'longitude',\n",
       " 'location']"
      ]
     },
     "execution_count": 9,
     "metadata": {},
     "output_type": "execute_result"
    }
   ],
   "source": [
    "# Write the code here to explore the data so you can find the answer\n",
    "\n",
    "columns = [field.name for field in table.schema]\n",
    "columns"
   ]
  },
  {
   "cell_type": "code",
   "execution_count": 10,
   "id": "8251626c",
   "metadata": {
    "execution": {
     "iopub.execute_input": "2024-07-03T15:01:45.398068Z",
     "iopub.status.busy": "2024-07-03T15:01:45.397566Z",
     "iopub.status.idle": "2024-07-03T15:01:45.408226Z",
     "shell.execute_reply": "2024-07-03T15:01:45.406905Z"
    },
    "papermill": {
     "duration": 0.023861,
     "end_time": "2024-07-03T15:01:45.410806",
     "exception": false,
     "start_time": "2024-07-03T15:01:45.386945",
     "status": "completed"
    },
    "tags": []
   },
   "outputs": [
    {
     "data": {
      "application/javascript": [
       "parent.postMessage({\"jupyterEvent\": \"custom.exercise_interaction\", \"data\": {\"outcomeType\": 1, \"valueTowardsCompletion\": 0.3333333333333333, \"interactionType\": 1, \"questionType\": 2, \"questionId\": \"3_IdentifyFieldsForPlotting\", \"learnToolsVersion\": \"0.3.4\", \"failureMessage\": \"\", \"exceptionClass\": \"\", \"trace\": \"\"}}, \"*\")"
      ],
      "text/plain": [
       "<IPython.core.display.Javascript object>"
      ]
     },
     "metadata": {},
     "output_type": "display_data"
    },
    {
     "data": {
      "text/markdown": [
       "<span style=\"color:#33cc33\">Correct</span>"
      ],
      "text/plain": [
       "Correct"
      ]
     },
     "metadata": {},
     "output_type": "display_data"
    }
   ],
   "source": [
    "fields_for_plotting = ['latitude', 'longitude'] # Put your answers here\n",
    "\n",
    "# Check your answer\n",
    "q_3.check()"
   ]
  },
  {
   "cell_type": "markdown",
   "id": "21244d98",
   "metadata": {
    "papermill": {
     "duration": 0.008699,
     "end_time": "2024-07-03T15:01:45.428619",
     "exception": false,
     "start_time": "2024-07-03T15:01:45.419920",
     "status": "completed"
    },
    "tags": []
   },
   "source": [
    "For a hint or the solution, uncomment the appropriate line below."
   ]
  },
  {
   "cell_type": "code",
   "execution_count": 11,
   "id": "67c5dc76",
   "metadata": {
    "execution": {
     "iopub.execute_input": "2024-07-03T15:01:45.448773Z",
     "iopub.status.busy": "2024-07-03T15:01:45.448283Z",
     "iopub.status.idle": "2024-07-03T15:01:45.453812Z",
     "shell.execute_reply": "2024-07-03T15:01:45.452647Z"
    },
    "papermill": {
     "duration": 0.018889,
     "end_time": "2024-07-03T15:01:45.456528",
     "exception": false,
     "start_time": "2024-07-03T15:01:45.437639",
     "status": "completed"
    },
    "tags": []
   },
   "outputs": [],
   "source": [
    "#q_3.hint()\n",
    "#q_3.solution()"
   ]
  },
  {
   "cell_type": "markdown",
   "id": "49940c99",
   "metadata": {
    "papermill": {
     "duration": 0.009071,
     "end_time": "2024-07-03T15:01:45.474855",
     "exception": false,
     "start_time": "2024-07-03T15:01:45.465784",
     "status": "completed"
    },
    "tags": []
   },
   "source": [
    "Thinking about the question above, there are a few columns that appear to have geographic data. Look at a few values (with the `list_rows()` command) to see if you can determine their relationship.  Two columns will still be hard to interpret. But it should be obvious how the `location` column relates to `latitude` and `longitude`."
   ]
  },
  {
   "cell_type": "code",
   "execution_count": 12,
   "id": "ea9208cb",
   "metadata": {
    "execution": {
     "iopub.execute_input": "2024-07-03T15:01:45.494873Z",
     "iopub.status.busy": "2024-07-03T15:01:45.494488Z",
     "iopub.status.idle": "2024-07-03T15:01:45.500176Z",
     "shell.execute_reply": "2024-07-03T15:01:45.498867Z"
    },
    "papermill": {
     "duration": 0.019029,
     "end_time": "2024-07-03T15:01:45.502975",
     "exception": false,
     "start_time": "2024-07-03T15:01:45.483946",
     "status": "completed"
    },
    "tags": []
   },
   "outputs": [],
   "source": [
    "# Scratch space for your code"
   ]
  },
  {
   "cell_type": "markdown",
   "id": "9c640ac7",
   "metadata": {
    "papermill": {
     "duration": 0.009056,
     "end_time": "2024-07-03T15:01:45.521351",
     "exception": false,
     "start_time": "2024-07-03T15:01:45.512295",
     "status": "completed"
    },
    "tags": []
   },
   "source": [
    "# Keep going\n",
    "\n",
    "You've looked at the schema, but you haven't yet done anything exciting with the data itself. Things get more interesting when you get to the data, so keep going to **[write your first SQL query](https://www.kaggle.com/dansbecker/select-from-where).**"
   ]
  },
  {
   "cell_type": "markdown",
   "id": "1a931d8a",
   "metadata": {
    "papermill": {
     "duration": 0.009,
     "end_time": "2024-07-03T15:01:45.539834",
     "exception": false,
     "start_time": "2024-07-03T15:01:45.530834",
     "status": "completed"
    },
    "tags": []
   },
   "source": [
    "---\n",
    "\n",
    "\n",
    "\n",
    "\n",
    "*Have questions or comments? Visit the [course discussion forum](https://www.kaggle.com/learn/intro-to-sql/discussion) to chat with other learners.*"
   ]
  }
 ],
 "metadata": {
  "kaggle": {
   "accelerator": "none",
   "dataSources": [
    {
     "datasetId": 22090,
     "sourceId": 28376,
     "sourceType": "datasetVersion"
    },
    {
     "datasetId": 6057,
     "sourceId": 285982,
     "sourceType": "datasetVersion"
    }
   ],
   "isGpuEnabled": false,
   "isInternetEnabled": false,
   "language": "python",
   "sourceType": "notebook"
  },
  "kernelspec": {
   "display_name": "Python 3",
   "language": "python",
   "name": "python3"
  },
  "language_info": {
   "codemirror_mode": {
    "name": "ipython",
    "version": 3
   },
   "file_extension": ".py",
   "mimetype": "text/x-python",
   "name": "python",
   "nbconvert_exporter": "python",
   "pygments_lexer": "ipython3",
   "version": "3.10.13"
  },
  "papermill": {
   "default_parameters": {},
   "duration": 14.080742,
   "end_time": "2024-07-03T15:01:46.473168",
   "environment_variables": {},
   "exception": null,
   "input_path": "__notebook__.ipynb",
   "output_path": "__notebook__.ipynb",
   "parameters": {},
   "start_time": "2024-07-03T15:01:32.392426",
   "version": "2.5.0"
  }
 },
 "nbformat": 4,
 "nbformat_minor": 5
}
