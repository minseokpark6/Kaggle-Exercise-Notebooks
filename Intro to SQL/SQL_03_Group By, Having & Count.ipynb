{
 "cells": [
  {
   "cell_type": "markdown",
   "id": "2796b145",
   "metadata": {
    "papermill": {
     "duration": 0.005853,
     "end_time": "2024-07-03T22:42:04.130369",
     "exception": false,
     "start_time": "2024-07-03T22:42:04.124516",
     "status": "completed"
    },
    "tags": []
   },
   "source": [
    "**This notebook is an exercise in the [SQL](https://www.kaggle.com/learn/intro-to-sql) course.  You can reference the tutorial at [this link](https://www.kaggle.com/dansbecker/group-by-having-count).**\n",
    "\n",
    "---\n"
   ]
  },
  {
   "cell_type": "markdown",
   "id": "ab1cfeea",
   "metadata": {
    "papermill": {
     "duration": 0.005168,
     "end_time": "2024-07-03T22:42:04.141334",
     "exception": false,
     "start_time": "2024-07-03T22:42:04.136166",
     "status": "completed"
    },
    "tags": []
   },
   "source": [
    "# Introduction\n",
    "\n",
    "Queries with **GROUP BY** can be powerful. There are many small things that can trip you up (like the order of the clauses), but it will start to feel natural once you've done it a few times. Here, you'll write queries using **GROUP BY** to answer questions from the Hacker News dataset.\n",
    "\n",
    "Before you get started, run the following cell to set everything up:"
   ]
  },
  {
   "cell_type": "code",
   "execution_count": 1,
   "id": "a9c0e8cc",
   "metadata": {
    "execution": {
     "iopub.execute_input": "2024-07-03T22:42:04.154655Z",
     "iopub.status.busy": "2024-07-03T22:42:04.154222Z",
     "iopub.status.idle": "2024-07-03T22:42:13.158941Z",
     "shell.execute_reply": "2024-07-03T22:42:13.157257Z"
    },
    "papermill": {
     "duration": 9.014428,
     "end_time": "2024-07-03T22:42:13.161761",
     "exception": false,
     "start_time": "2024-07-03T22:42:04.147333",
     "status": "completed"
    },
    "tags": []
   },
   "outputs": [
    {
     "name": "stdout",
     "output_type": "stream",
     "text": [
      "Using Kaggle's public dataset BigQuery integration.\n",
      "Setup Complete\n"
     ]
    }
   ],
   "source": [
    "# Set up feedback system\n",
    "from learntools.core import binder\n",
    "binder.bind(globals())\n",
    "from learntools.sql.ex3 import *\n",
    "print(\"Setup Complete\")"
   ]
  },
  {
   "cell_type": "markdown",
   "id": "06c3a843",
   "metadata": {
    "papermill": {
     "duration": 0.005855,
     "end_time": "2024-07-03T22:42:13.173654",
     "exception": false,
     "start_time": "2024-07-03T22:42:13.167799",
     "status": "completed"
    },
    "tags": []
   },
   "source": [
    "The code cell below fetches the `full` table from the `hacker_news` dataset.  We also preview the first five rows of the table."
   ]
  },
  {
   "cell_type": "code",
   "execution_count": 2,
   "id": "02142b18",
   "metadata": {
    "execution": {
     "iopub.execute_input": "2024-07-03T22:42:13.188064Z",
     "iopub.status.busy": "2024-07-03T22:42:13.187417Z",
     "iopub.status.idle": "2024-07-03T22:42:14.716339Z",
     "shell.execute_reply": "2024-07-03T22:42:14.715032Z"
    },
    "papermill": {
     "duration": 1.539684,
     "end_time": "2024-07-03T22:42:14.719115",
     "exception": false,
     "start_time": "2024-07-03T22:42:13.179431",
     "status": "completed"
    },
    "tags": []
   },
   "outputs": [
    {
     "name": "stdout",
     "output_type": "stream",
     "text": [
      "Using Kaggle's public dataset BigQuery integration.\n"
     ]
    },
    {
     "data": {
      "text/html": [
       "<div>\n",
       "<style scoped>\n",
       "    .dataframe tbody tr th:only-of-type {\n",
       "        vertical-align: middle;\n",
       "    }\n",
       "\n",
       "    .dataframe tbody tr th {\n",
       "        vertical-align: top;\n",
       "    }\n",
       "\n",
       "    .dataframe thead th {\n",
       "        text-align: right;\n",
       "    }\n",
       "</style>\n",
       "<table border=\"1\" class=\"dataframe\">\n",
       "  <thead>\n",
       "    <tr style=\"text-align: right;\">\n",
       "      <th></th>\n",
       "      <th>title</th>\n",
       "      <th>url</th>\n",
       "      <th>text</th>\n",
       "      <th>dead</th>\n",
       "      <th>by</th>\n",
       "      <th>score</th>\n",
       "      <th>time</th>\n",
       "      <th>timestamp</th>\n",
       "      <th>type</th>\n",
       "      <th>id</th>\n",
       "      <th>parent</th>\n",
       "      <th>descendants</th>\n",
       "      <th>ranking</th>\n",
       "      <th>deleted</th>\n",
       "    </tr>\n",
       "  </thead>\n",
       "  <tbody>\n",
       "    <tr>\n",
       "      <th>0</th>\n",
       "      <td>None</td>\n",
       "      <td>None</td>\n",
       "      <td>None</td>\n",
       "      <td>None</td>\n",
       "      <td>None</td>\n",
       "      <td>NaN</td>\n",
       "      <td>1281355579</td>\n",
       "      <td>2010-08-09 12:06:19+00:00</td>\n",
       "      <td>story</td>\n",
       "      <td>1587710</td>\n",
       "      <td>NaN</td>\n",
       "      <td>NaN</td>\n",
       "      <td>NaN</td>\n",
       "      <td>True</td>\n",
       "    </tr>\n",
       "    <tr>\n",
       "      <th>1</th>\n",
       "      <td>None</td>\n",
       "      <td>None</td>\n",
       "      <td>None</td>\n",
       "      <td>True</td>\n",
       "      <td>None</td>\n",
       "      <td>NaN</td>\n",
       "      <td>1512718887</td>\n",
       "      <td>2017-12-08 07:41:27+00:00</td>\n",
       "      <td>story</td>\n",
       "      <td>15877314</td>\n",
       "      <td>NaN</td>\n",
       "      <td>NaN</td>\n",
       "      <td>NaN</td>\n",
       "      <td>True</td>\n",
       "    </tr>\n",
       "    <tr>\n",
       "      <th>2</th>\n",
       "      <td>None</td>\n",
       "      <td>None</td>\n",
       "      <td>None</td>\n",
       "      <td>None</td>\n",
       "      <td>None</td>\n",
       "      <td>NaN</td>\n",
       "      <td>1512719102</td>\n",
       "      <td>2017-12-08 07:45:02+00:00</td>\n",
       "      <td>story</td>\n",
       "      <td>15877325</td>\n",
       "      <td>NaN</td>\n",
       "      <td>NaN</td>\n",
       "      <td>NaN</td>\n",
       "      <td>True</td>\n",
       "    </tr>\n",
       "    <tr>\n",
       "      <th>3</th>\n",
       "      <td>None</td>\n",
       "      <td>None</td>\n",
       "      <td>None</td>\n",
       "      <td>None</td>\n",
       "      <td>None</td>\n",
       "      <td>NaN</td>\n",
       "      <td>1512721152</td>\n",
       "      <td>2017-12-08 08:19:12+00:00</td>\n",
       "      <td>story</td>\n",
       "      <td>15877444</td>\n",
       "      <td>NaN</td>\n",
       "      <td>NaN</td>\n",
       "      <td>NaN</td>\n",
       "      <td>True</td>\n",
       "    </tr>\n",
       "    <tr>\n",
       "      <th>4</th>\n",
       "      <td>None</td>\n",
       "      <td>None</td>\n",
       "      <td>None</td>\n",
       "      <td>None</td>\n",
       "      <td>None</td>\n",
       "      <td>NaN</td>\n",
       "      <td>1281356759</td>\n",
       "      <td>2010-08-09 12:25:59+00:00</td>\n",
       "      <td>story</td>\n",
       "      <td>1587751</td>\n",
       "      <td>NaN</td>\n",
       "      <td>NaN</td>\n",
       "      <td>NaN</td>\n",
       "      <td>True</td>\n",
       "    </tr>\n",
       "  </tbody>\n",
       "</table>\n",
       "</div>"
      ],
      "text/plain": [
       "  title   url  text  dead    by  score        time                 timestamp  \\\n",
       "0  None  None  None  None  None    NaN  1281355579 2010-08-09 12:06:19+00:00   \n",
       "1  None  None  None  True  None    NaN  1512718887 2017-12-08 07:41:27+00:00   \n",
       "2  None  None  None  None  None    NaN  1512719102 2017-12-08 07:45:02+00:00   \n",
       "3  None  None  None  None  None    NaN  1512721152 2017-12-08 08:19:12+00:00   \n",
       "4  None  None  None  None  None    NaN  1281356759 2010-08-09 12:25:59+00:00   \n",
       "\n",
       "    type        id  parent  descendants  ranking  deleted  \n",
       "0  story   1587710     NaN          NaN      NaN     True  \n",
       "1  story  15877314     NaN          NaN      NaN     True  \n",
       "2  story  15877325     NaN          NaN      NaN     True  \n",
       "3  story  15877444     NaN          NaN      NaN     True  \n",
       "4  story   1587751     NaN          NaN      NaN     True  "
      ]
     },
     "execution_count": 2,
     "metadata": {},
     "output_type": "execute_result"
    }
   ],
   "source": [
    "from google.cloud import bigquery\n",
    "\n",
    "# Create a \"Client\" object\n",
    "client = bigquery.Client()\n",
    "\n",
    "# Construct a reference to the \"hacker_news\" dataset\n",
    "dataset_ref = client.dataset(\"hacker_news\", project=\"bigquery-public-data\")\n",
    "\n",
    "# API request - fetch the dataset\n",
    "dataset = client.get_dataset(dataset_ref)\n",
    "\n",
    "# Construct a reference to the \"full\" table\n",
    "table_ref = dataset_ref.table(\"full\")\n",
    "\n",
    "# API request - fetch the table\n",
    "table = client.get_table(table_ref)\n",
    "\n",
    "# Preview the first five lines of the table\n",
    "client.list_rows(table, max_results=5).to_dataframe()"
   ]
  },
  {
   "cell_type": "markdown",
   "id": "4daed90e",
   "metadata": {
    "papermill": {
     "duration": 0.005761,
     "end_time": "2024-07-03T22:42:14.731233",
     "exception": false,
     "start_time": "2024-07-03T22:42:14.725472",
     "status": "completed"
    },
    "tags": []
   },
   "source": [
    "# Exercises\n",
    "\n",
    "### 1) Prolific commenters\n",
    "\n",
    "Hacker News would like to send awards to everyone who has written more than 10,000 posts. Write a query that returns all authors with more than 10,000 posts as well as their post counts. Call the column with post counts `NumPosts`.\n",
    "\n",
    "In case sample query is helpful, here is a query you saw in the tutorial to answer a similar question:\n",
    "```\n",
    "query = \"\"\"\n",
    "        SELECT parent, COUNT(1) AS NumPosts\n",
    "        FROM `bigquery-public-data.hacker_news.full`\n",
    "        GROUP BY parent\n",
    "        HAVING COUNT(1) > 10\n",
    "        \"\"\"\n",
    "```"
   ]
  },
  {
   "cell_type": "code",
   "execution_count": 3,
   "id": "cd829a80",
   "metadata": {
    "execution": {
     "iopub.execute_input": "2024-07-03T22:42:14.745104Z",
     "iopub.status.busy": "2024-07-03T22:42:14.744700Z",
     "iopub.status.idle": "2024-07-03T22:42:15.866796Z",
     "shell.execute_reply": "2024-07-03T22:42:15.865437Z"
    },
    "papermill": {
     "duration": 1.132469,
     "end_time": "2024-07-03T22:42:15.869765",
     "exception": false,
     "start_time": "2024-07-03T22:42:14.737296",
     "status": "completed"
    },
    "tags": []
   },
   "outputs": [
    {
     "name": "stdout",
     "output_type": "stream",
     "text": [
      "           author  NumPosts\n",
      "0          lisper     11641\n",
      "1        viraptor     14275\n",
      "2        nitrogen     10896\n",
      "3  JumpCrisscross     29569\n",
      "4           Tichy     10066\n"
     ]
    },
    {
     "data": {
      "application/javascript": [
       "parent.postMessage({\"jupyterEvent\": \"custom.exercise_interaction\", \"data\": {\"outcomeType\": 1, \"valueTowardsCompletion\": 0.5, \"interactionType\": 1, \"questionType\": 2, \"questionId\": \"1_ProlificCommenters\", \"learnToolsVersion\": \"0.3.4\", \"failureMessage\": \"\", \"exceptionClass\": \"\", \"trace\": \"\"}}, \"*\")"
      ],
      "text/plain": [
       "<IPython.core.display.Javascript object>"
      ]
     },
     "metadata": {},
     "output_type": "display_data"
    },
    {
     "data": {
      "text/markdown": [
       "<span style=\"color:#33cc33\">Correct</span>"
      ],
      "text/plain": [
       "Correct"
      ]
     },
     "metadata": {},
     "output_type": "display_data"
    }
   ],
   "source": [
    "# Query to select prolific commenters and post counts\n",
    "prolific_commenters_query = \"\"\"\n",
    "                            SELECT `by` AS author, COUNT(1) AS NumPosts\n",
    "                            FROM `bigquery-public-data.hacker_news.full`\n",
    "                            GROUP BY author\n",
    "                            HAVING COUNT(1) > 10000\n",
    "                            \"\"\"\n",
    "# Set up the query (cancel the query if it would use too much of \n",
    "# your quota, with the limit set to 1 GB)\n",
    "safe_config = bigquery.QueryJobConfig(maximum_bytes_billed=10**10)\n",
    "query_job = client.query(prolific_commenters_query, job_config=safe_config)\n",
    "\n",
    "# API request - run the query, and return a pandas DataFrame\n",
    "prolific_commenters = query_job.to_dataframe()\n",
    "\n",
    "# View top few rows of results\n",
    "print(prolific_commenters.head())\n",
    "\n",
    "# Check your answer\n",
    "q_1.check()"
   ]
  },
  {
   "cell_type": "markdown",
   "id": "7ecb557b",
   "metadata": {
    "papermill": {
     "duration": 0.006241,
     "end_time": "2024-07-03T22:42:15.882816",
     "exception": false,
     "start_time": "2024-07-03T22:42:15.876575",
     "status": "completed"
    },
    "tags": []
   },
   "source": [
    "For the solution, uncomment the line below."
   ]
  },
  {
   "cell_type": "code",
   "execution_count": 4,
   "id": "58640626",
   "metadata": {
    "execution": {
     "iopub.execute_input": "2024-07-03T22:42:15.898222Z",
     "iopub.status.busy": "2024-07-03T22:42:15.897803Z",
     "iopub.status.idle": "2024-07-03T22:42:15.903408Z",
     "shell.execute_reply": "2024-07-03T22:42:15.902006Z"
    },
    "papermill": {
     "duration": 0.01666,
     "end_time": "2024-07-03T22:42:15.906241",
     "exception": false,
     "start_time": "2024-07-03T22:42:15.889581",
     "status": "completed"
    },
    "tags": []
   },
   "outputs": [],
   "source": [
    "#q_1.solution()"
   ]
  },
  {
   "cell_type": "markdown",
   "id": "aff94f4d",
   "metadata": {
    "papermill": {
     "duration": 0.006316,
     "end_time": "2024-07-03T22:42:15.919307",
     "exception": false,
     "start_time": "2024-07-03T22:42:15.912991",
     "status": "completed"
    },
    "tags": []
   },
   "source": [
    "### 2) Deleted comments\n",
    "\n",
    "How many comments have been deleted? (If a comment was deleted, the `deleted` column in the table will have the value `True`.)"
   ]
  },
  {
   "cell_type": "code",
   "execution_count": 5,
   "id": "2d63d54d",
   "metadata": {
    "execution": {
     "iopub.execute_input": "2024-07-03T22:42:15.934826Z",
     "iopub.status.busy": "2024-07-03T22:42:15.934387Z",
     "iopub.status.idle": "2024-07-03T22:42:17.013114Z",
     "shell.execute_reply": "2024-07-03T22:42:17.011735Z"
    },
    "papermill": {
     "duration": 1.090023,
     "end_time": "2024-07-03T22:42:17.016035",
     "exception": false,
     "start_time": "2024-07-03T22:42:15.926012",
     "status": "completed"
    },
    "tags": []
   },
   "outputs": [
    {
     "name": "stdout",
     "output_type": "stream",
     "text": [
      "   num_deleted_posts\n",
      "0            1186180\n"
     ]
    }
   ],
   "source": [
    "# sql 쿼리\n",
    "deleted_query = \"\"\"\n",
    "                SELECT COUNT(1) AS num_deleted_posts\n",
    "                FROM `bigquery-public-data.hacker_news.full`\n",
    "                WHERE deleted = True\n",
    "                \"\"\"\n",
    "\n",
    "# Set up the query\n",
    "query_job = client.query(deleted_query)\n",
    "\n",
    "# API request - run the query, and return a pandas DataFrame\n",
    "deleted_posts = query_job.to_dataframe()\n",
    "\n",
    "# View results\n",
    "print(deleted_posts)"
   ]
  },
  {
   "cell_type": "code",
   "execution_count": 6,
   "id": "519983d6",
   "metadata": {
    "execution": {
     "iopub.execute_input": "2024-07-03T22:42:17.031528Z",
     "iopub.status.busy": "2024-07-03T22:42:17.031100Z",
     "iopub.status.idle": "2024-07-03T22:42:17.042464Z",
     "shell.execute_reply": "2024-07-03T22:42:17.040420Z"
    },
    "papermill": {
     "duration": 0.022503,
     "end_time": "2024-07-03T22:42:17.045550",
     "exception": false,
     "start_time": "2024-07-03T22:42:17.023047",
     "status": "completed"
    },
    "tags": []
   },
   "outputs": [
    {
     "data": {
      "application/javascript": [
       "parent.postMessage({\"jupyterEvent\": \"custom.exercise_interaction\", \"data\": {\"outcomeType\": 1, \"valueTowardsCompletion\": 0.5, \"interactionType\": 1, \"questionType\": 1, \"questionId\": \"2_NumDeletedPosts\", \"learnToolsVersion\": \"0.3.4\", \"failureMessage\": \"\", \"exceptionClass\": \"\", \"trace\": \"\"}}, \"*\")"
      ],
      "text/plain": [
       "<IPython.core.display.Javascript object>"
      ]
     },
     "metadata": {},
     "output_type": "display_data"
    },
    {
     "data": {
      "text/markdown": [
       "<span style=\"color:#33cc33\">Correct</span>"
      ],
      "text/plain": [
       "Correct"
      ]
     },
     "metadata": {},
     "output_type": "display_data"
    }
   ],
   "source": [
    "num_deleted_posts = deleted_posts.iloc[0, 0]\n",
    "\n",
    "# Check your answer\n",
    "q_2.check()"
   ]
  },
  {
   "cell_type": "markdown",
   "id": "39d442e4",
   "metadata": {
    "papermill": {
     "duration": 0.00675,
     "end_time": "2024-07-03T22:42:17.059631",
     "exception": false,
     "start_time": "2024-07-03T22:42:17.052881",
     "status": "completed"
    },
    "tags": []
   },
   "source": [
    "For the solution, uncomment the line below."
   ]
  },
  {
   "cell_type": "code",
   "execution_count": 7,
   "id": "dad14f20",
   "metadata": {
    "execution": {
     "iopub.execute_input": "2024-07-03T22:42:17.075961Z",
     "iopub.status.busy": "2024-07-03T22:42:17.075576Z",
     "iopub.status.idle": "2024-07-03T22:42:17.080440Z",
     "shell.execute_reply": "2024-07-03T22:42:17.079099Z"
    },
    "papermill": {
     "duration": 0.016267,
     "end_time": "2024-07-03T22:42:17.083181",
     "exception": false,
     "start_time": "2024-07-03T22:42:17.066914",
     "status": "completed"
    },
    "tags": []
   },
   "outputs": [],
   "source": [
    "#q_2.solution()"
   ]
  },
  {
   "cell_type": "markdown",
   "id": "7fdbd580",
   "metadata": {
    "papermill": {
     "duration": 0.006743,
     "end_time": "2024-07-03T22:42:17.097153",
     "exception": false,
     "start_time": "2024-07-03T22:42:17.090410",
     "status": "completed"
    },
    "tags": []
   },
   "source": [
    "# Keep Going\n",
    "**[Click here](https://www.kaggle.com/dansbecker/order-by)** to move on and learn about the **ORDER BY** clause."
   ]
  },
  {
   "cell_type": "markdown",
   "id": "a65e3d0a",
   "metadata": {
    "papermill": {
     "duration": 0.007174,
     "end_time": "2024-07-03T22:42:17.111405",
     "exception": false,
     "start_time": "2024-07-03T22:42:17.104231",
     "status": "completed"
    },
    "tags": []
   },
   "source": [
    "---\n",
    "\n",
    "\n",
    "\n",
    "\n",
    "*Have questions or comments? Visit the [course discussion forum](https://www.kaggle.com/learn/intro-to-sql/discussion) to chat with other learners.*"
   ]
  }
 ],
 "metadata": {
  "kaggle": {
   "accelerator": "none",
   "dataSources": [
    {
     "datasetId": 6057,
     "sourceId": 285982,
     "sourceType": "datasetVersion"
    }
   ],
   "isGpuEnabled": false,
   "isInternetEnabled": false,
   "language": "python",
   "sourceType": "notebook"
  },
  "kernelspec": {
   "display_name": "Python 3",
   "language": "python",
   "name": "python3"
  },
  "language_info": {
   "codemirror_mode": {
    "name": "ipython",
    "version": 3
   },
   "file_extension": ".py",
   "mimetype": "text/x-python",
   "name": "python",
   "nbconvert_exporter": "python",
   "pygments_lexer": "ipython3",
   "version": "3.10.13"
  },
  "papermill": {
   "default_parameters": {},
   "duration": 17.086205,
   "end_time": "2024-07-03T22:42:17.941980",
   "environment_variables": {},
   "exception": null,
   "input_path": "__notebook__.ipynb",
   "output_path": "__notebook__.ipynb",
   "parameters": {},
   "start_time": "2024-07-03T22:42:00.855775",
   "version": "2.5.0"
  }
 },
 "nbformat": 4,
 "nbformat_minor": 5
}
