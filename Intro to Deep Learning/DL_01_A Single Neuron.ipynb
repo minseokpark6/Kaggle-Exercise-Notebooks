{
 "cells": [
  {
   "cell_type": "markdown",
   "id": "be3b7bca",
   "metadata": {
    "papermill": {
     "duration": 0.008494,
     "end_time": "2024-07-04T08:48:45.756206",
     "exception": false,
     "start_time": "2024-07-04T08:48:45.747712",
     "status": "completed"
    },
    "tags": []
   },
   "source": [
    "**This notebook is an exercise in the [Intro to Deep Learning](https://www.kaggle.com/learn/intro-to-deep-learning) course.  You can reference the tutorial at [this link](https://www.kaggle.com/ryanholbrook/a-single-neuron).**\n",
    "\n",
    "---\n"
   ]
  },
  {
   "cell_type": "markdown",
   "id": "64a7331f",
   "metadata": {
    "papermill": {
     "duration": 0.007889,
     "end_time": "2024-07-04T08:48:45.773031",
     "exception": false,
     "start_time": "2024-07-04T08:48:45.765142",
     "status": "completed"
    },
    "tags": []
   },
   "source": [
    "# Introduction #\n",
    "\n",
    "In the tutorial we learned about the building blocks of neural networks: *linear units*. We saw that a model of just one linear unit will fit a linear function to a dataset (equivalent to linear regression). In this exercise, you'll build a linear model and get some practice working with models in Keras.\n",
    "\n",
    "Before you get started, run the code cell below to set everything up."
   ]
  },
  {
   "cell_type": "code",
   "execution_count": 1,
   "id": "da00f5e0",
   "metadata": {
    "execution": {
     "iopub.execute_input": "2024-07-04T08:48:45.791022Z",
     "iopub.status.busy": "2024-07-04T08:48:45.790578Z",
     "iopub.status.idle": "2024-07-04T08:49:02.720211Z",
     "shell.execute_reply": "2024-07-04T08:49:02.718899Z"
    },
    "papermill": {
     "duration": 16.941958,
     "end_time": "2024-07-04T08:49:02.723128",
     "exception": false,
     "start_time": "2024-07-04T08:48:45.781170",
     "status": "completed"
    },
    "tags": []
   },
   "outputs": [
    {
     "name": "stderr",
     "output_type": "stream",
     "text": [
      "/tmp/ipykernel_18/3895727876.py:4: MatplotlibDeprecationWarning: The seaborn styles shipped by Matplotlib are deprecated since 3.6, as they no longer correspond to the styles shipped by seaborn. However, they will remain available as 'seaborn-v0_8-<style>'. Alternatively, directly use the seaborn API instead.\n",
      "  plt.style.use('seaborn-whitegrid')\n",
      "2024-07-04 08:48:49.142245: E external/local_xla/xla/stream_executor/cuda/cuda_dnn.cc:9261] Unable to register cuDNN factory: Attempting to register factory for plugin cuDNN when one has already been registered\n",
      "2024-07-04 08:48:49.142377: E external/local_xla/xla/stream_executor/cuda/cuda_fft.cc:607] Unable to register cuFFT factory: Attempting to register factory for plugin cuFFT when one has already been registered\n",
      "2024-07-04 08:48:49.312274: E external/local_xla/xla/stream_executor/cuda/cuda_blas.cc:1515] Unable to register cuBLAS factory: Attempting to register factory for plugin cuBLAS when one has already been registered\n"
     ]
    }
   ],
   "source": [
    "# Setup plotting\n",
    "import matplotlib.pyplot as plt\n",
    "\n",
    "plt.style.use('seaborn-whitegrid')\n",
    "# Set Matplotlib defaults\n",
    "plt.rc('figure', autolayout=True)\n",
    "plt.rc('axes', labelweight='bold', labelsize='large',\n",
    "       titleweight='bold', titlesize=18, titlepad=10)\n",
    "\n",
    "# Setup feedback system\n",
    "from learntools.core import binder\n",
    "binder.bind(globals())\n",
    "from learntools.deep_learning_intro.ex1 import *"
   ]
  },
  {
   "cell_type": "markdown",
   "id": "2dc47ba1",
   "metadata": {
    "papermill": {
     "duration": 0.007891,
     "end_time": "2024-07-04T08:49:02.739416",
     "exception": false,
     "start_time": "2024-07-04T08:49:02.731525",
     "status": "completed"
    },
    "tags": []
   },
   "source": [
    "The *Red Wine Quality* dataset consists of physiochemical measurements from about 1600 Portuguese red wines.  Also included is a quality rating for each wine from blind taste-tests. \n",
    "\n",
    "First, run the next cell to display the first few rows of this dataset."
   ]
  },
  {
   "cell_type": "code",
   "execution_count": 2,
   "id": "f829071e",
   "metadata": {
    "execution": {
     "iopub.execute_input": "2024-07-04T08:49:02.758374Z",
     "iopub.status.busy": "2024-07-04T08:49:02.757688Z",
     "iopub.status.idle": "2024-07-04T08:49:02.805453Z",
     "shell.execute_reply": "2024-07-04T08:49:02.803919Z"
    },
    "papermill": {
     "duration": 0.060489,
     "end_time": "2024-07-04T08:49:02.808424",
     "exception": false,
     "start_time": "2024-07-04T08:49:02.747935",
     "status": "completed"
    },
    "tags": []
   },
   "outputs": [
    {
     "data": {
      "text/html": [
       "<div>\n",
       "<style scoped>\n",
       "    .dataframe tbody tr th:only-of-type {\n",
       "        vertical-align: middle;\n",
       "    }\n",
       "\n",
       "    .dataframe tbody tr th {\n",
       "        vertical-align: top;\n",
       "    }\n",
       "\n",
       "    .dataframe thead th {\n",
       "        text-align: right;\n",
       "    }\n",
       "</style>\n",
       "<table border=\"1\" class=\"dataframe\">\n",
       "  <thead>\n",
       "    <tr style=\"text-align: right;\">\n",
       "      <th></th>\n",
       "      <th>fixed acidity</th>\n",
       "      <th>volatile acidity</th>\n",
       "      <th>citric acid</th>\n",
       "      <th>residual sugar</th>\n",
       "      <th>chlorides</th>\n",
       "      <th>free sulfur dioxide</th>\n",
       "      <th>total sulfur dioxide</th>\n",
       "      <th>density</th>\n",
       "      <th>pH</th>\n",
       "      <th>sulphates</th>\n",
       "      <th>alcohol</th>\n",
       "      <th>quality</th>\n",
       "    </tr>\n",
       "  </thead>\n",
       "  <tbody>\n",
       "    <tr>\n",
       "      <th>0</th>\n",
       "      <td>7.4</td>\n",
       "      <td>0.70</td>\n",
       "      <td>0.00</td>\n",
       "      <td>1.9</td>\n",
       "      <td>0.076</td>\n",
       "      <td>11.0</td>\n",
       "      <td>34.0</td>\n",
       "      <td>0.9978</td>\n",
       "      <td>3.51</td>\n",
       "      <td>0.56</td>\n",
       "      <td>9.4</td>\n",
       "      <td>5</td>\n",
       "    </tr>\n",
       "    <tr>\n",
       "      <th>1</th>\n",
       "      <td>7.8</td>\n",
       "      <td>0.88</td>\n",
       "      <td>0.00</td>\n",
       "      <td>2.6</td>\n",
       "      <td>0.098</td>\n",
       "      <td>25.0</td>\n",
       "      <td>67.0</td>\n",
       "      <td>0.9968</td>\n",
       "      <td>3.20</td>\n",
       "      <td>0.68</td>\n",
       "      <td>9.8</td>\n",
       "      <td>5</td>\n",
       "    </tr>\n",
       "    <tr>\n",
       "      <th>2</th>\n",
       "      <td>7.8</td>\n",
       "      <td>0.76</td>\n",
       "      <td>0.04</td>\n",
       "      <td>2.3</td>\n",
       "      <td>0.092</td>\n",
       "      <td>15.0</td>\n",
       "      <td>54.0</td>\n",
       "      <td>0.9970</td>\n",
       "      <td>3.26</td>\n",
       "      <td>0.65</td>\n",
       "      <td>9.8</td>\n",
       "      <td>5</td>\n",
       "    </tr>\n",
       "    <tr>\n",
       "      <th>3</th>\n",
       "      <td>11.2</td>\n",
       "      <td>0.28</td>\n",
       "      <td>0.56</td>\n",
       "      <td>1.9</td>\n",
       "      <td>0.075</td>\n",
       "      <td>17.0</td>\n",
       "      <td>60.0</td>\n",
       "      <td>0.9980</td>\n",
       "      <td>3.16</td>\n",
       "      <td>0.58</td>\n",
       "      <td>9.8</td>\n",
       "      <td>6</td>\n",
       "    </tr>\n",
       "    <tr>\n",
       "      <th>4</th>\n",
       "      <td>7.4</td>\n",
       "      <td>0.70</td>\n",
       "      <td>0.00</td>\n",
       "      <td>1.9</td>\n",
       "      <td>0.076</td>\n",
       "      <td>11.0</td>\n",
       "      <td>34.0</td>\n",
       "      <td>0.9978</td>\n",
       "      <td>3.51</td>\n",
       "      <td>0.56</td>\n",
       "      <td>9.4</td>\n",
       "      <td>5</td>\n",
       "    </tr>\n",
       "  </tbody>\n",
       "</table>\n",
       "</div>"
      ],
      "text/plain": [
       "   fixed acidity  volatile acidity  citric acid  residual sugar  chlorides  \\\n",
       "0            7.4              0.70         0.00             1.9      0.076   \n",
       "1            7.8              0.88         0.00             2.6      0.098   \n",
       "2            7.8              0.76         0.04             2.3      0.092   \n",
       "3           11.2              0.28         0.56             1.9      0.075   \n",
       "4            7.4              0.70         0.00             1.9      0.076   \n",
       "\n",
       "   free sulfur dioxide  total sulfur dioxide  density    pH  sulphates  \\\n",
       "0                 11.0                  34.0   0.9978  3.51       0.56   \n",
       "1                 25.0                  67.0   0.9968  3.20       0.68   \n",
       "2                 15.0                  54.0   0.9970  3.26       0.65   \n",
       "3                 17.0                  60.0   0.9980  3.16       0.58   \n",
       "4                 11.0                  34.0   0.9978  3.51       0.56   \n",
       "\n",
       "   alcohol  quality  \n",
       "0      9.4        5  \n",
       "1      9.8        5  \n",
       "2      9.8        5  \n",
       "3      9.8        6  \n",
       "4      9.4        5  "
      ]
     },
     "execution_count": 2,
     "metadata": {},
     "output_type": "execute_result"
    }
   ],
   "source": [
    "import pandas as pd\n",
    "\n",
    "red_wine = pd.read_csv('../input/dl-course-data/red-wine.csv')\n",
    "red_wine.head()"
   ]
  },
  {
   "cell_type": "markdown",
   "id": "f03d2e6c",
   "metadata": {
    "papermill": {
     "duration": 0.008246,
     "end_time": "2024-07-04T08:49:02.825297",
     "exception": false,
     "start_time": "2024-07-04T08:49:02.817051",
     "status": "completed"
    },
    "tags": []
   },
   "source": [
    "You can get the number of rows and columns of a dataframe (or a Numpy array) with the `shape` attribute."
   ]
  },
  {
   "cell_type": "code",
   "execution_count": 3,
   "id": "630b5be1",
   "metadata": {
    "execution": {
     "iopub.execute_input": "2024-07-04T08:49:02.844386Z",
     "iopub.status.busy": "2024-07-04T08:49:02.843954Z",
     "iopub.status.idle": "2024-07-04T08:49:02.851822Z",
     "shell.execute_reply": "2024-07-04T08:49:02.850558Z"
    },
    "papermill": {
     "duration": 0.020465,
     "end_time": "2024-07-04T08:49:02.854413",
     "exception": false,
     "start_time": "2024-07-04T08:49:02.833948",
     "status": "completed"
    },
    "tags": []
   },
   "outputs": [
    {
     "data": {
      "text/plain": [
       "(1599, 12)"
      ]
     },
     "execution_count": 3,
     "metadata": {},
     "output_type": "execute_result"
    }
   ],
   "source": [
    "red_wine.shape # (rows, columns)"
   ]
  },
  {
   "cell_type": "markdown",
   "id": "bb3999f8",
   "metadata": {
    "papermill": {
     "duration": 0.008425,
     "end_time": "2024-07-04T08:49:02.871674",
     "exception": false,
     "start_time": "2024-07-04T08:49:02.863249",
     "status": "completed"
    },
    "tags": []
   },
   "source": [
    "# 1) Input shape #\n",
    "\n",
    "How well can we predict a wine's perceived quality from the physiochemical measurements?  \n",
    "\n",
    "The target is `'quality'`, and the remaining columns are the features.  How would you set the `input_shape` parameter for a Keras model on this task?"
   ]
  },
  {
   "cell_type": "code",
   "execution_count": 4,
   "id": "049b56ef",
   "metadata": {
    "execution": {
     "iopub.execute_input": "2024-07-04T08:49:02.890818Z",
     "iopub.status.busy": "2024-07-04T08:49:02.890376Z",
     "iopub.status.idle": "2024-07-04T08:49:02.900708Z",
     "shell.execute_reply": "2024-07-04T08:49:02.899477Z"
    },
    "lines_to_next_cell": 0,
    "papermill": {
     "duration": 0.022885,
     "end_time": "2024-07-04T08:49:02.903308",
     "exception": false,
     "start_time": "2024-07-04T08:49:02.880423",
     "status": "completed"
    },
    "tags": []
   },
   "outputs": [
    {
     "data": {
      "application/javascript": [
       "parent.postMessage({\"jupyterEvent\": \"custom.exercise_interaction\", \"data\": {\"outcomeType\": 1, \"valueTowardsCompletion\": 0.3333333333333333, \"interactionType\": 1, \"questionType\": 2, \"questionId\": \"1_Q1\", \"learnToolsVersion\": \"0.3.4\", \"failureMessage\": \"\", \"exceptionClass\": \"\", \"trace\": \"\"}}, \"*\")"
      ],
      "text/plain": [
       "<IPython.core.display.Javascript object>"
      ]
     },
     "metadata": {},
     "output_type": "display_data"
    },
    {
     "data": {
      "text/markdown": [
       "<span style=\"color:#33cc33\">Correct</span>"
      ],
      "text/plain": [
       "Correct"
      ]
     },
     "metadata": {},
     "output_type": "display_data"
    }
   ],
   "source": [
    "# YOUR CODE HERE\n",
    "input_shape = [red_wine.shape[1] - 1]\n",
    "\n",
    "# Check your answer\n",
    "q_1.check()"
   ]
  },
  {
   "cell_type": "code",
   "execution_count": 5,
   "id": "00c15621",
   "metadata": {
    "execution": {
     "iopub.execute_input": "2024-07-04T08:49:02.924150Z",
     "iopub.status.busy": "2024-07-04T08:49:02.923124Z",
     "iopub.status.idle": "2024-07-04T08:49:02.927945Z",
     "shell.execute_reply": "2024-07-04T08:49:02.926832Z"
    },
    "papermill": {
     "duration": 0.017894,
     "end_time": "2024-07-04T08:49:02.930658",
     "exception": false,
     "start_time": "2024-07-04T08:49:02.912764",
     "status": "completed"
    },
    "tags": []
   },
   "outputs": [],
   "source": [
    "# Lines below will give you a hint or solution code\n",
    "#q_1.hint()\n",
    "#q_1.solution()"
   ]
  },
  {
   "cell_type": "markdown",
   "id": "1c3ead39",
   "metadata": {
    "papermill": {
     "duration": 0.008707,
     "end_time": "2024-07-04T08:49:02.948613",
     "exception": false,
     "start_time": "2024-07-04T08:49:02.939906",
     "status": "completed"
    },
    "tags": []
   },
   "source": [
    "# 2) Define a linear model\n",
    "\n",
    "Now define a linear model appropriate for this task. Pay attention to how many inputs and outputs the model should have."
   ]
  },
  {
   "cell_type": "code",
   "execution_count": 6,
   "id": "d6a2fe62",
   "metadata": {
    "execution": {
     "iopub.execute_input": "2024-07-04T08:49:02.969478Z",
     "iopub.status.busy": "2024-07-04T08:49:02.969092Z",
     "iopub.status.idle": "2024-07-04T08:49:03.216161Z",
     "shell.execute_reply": "2024-07-04T08:49:03.215079Z"
    },
    "lines_to_next_cell": 0,
    "papermill": {
     "duration": 0.259971,
     "end_time": "2024-07-04T08:49:03.218678",
     "exception": false,
     "start_time": "2024-07-04T08:49:02.958707",
     "status": "completed"
    },
    "tags": []
   },
   "outputs": [
    {
     "data": {
      "application/javascript": [
       "parent.postMessage({\"jupyterEvent\": \"custom.exercise_interaction\", \"data\": {\"outcomeType\": 1, \"valueTowardsCompletion\": 0.3333333333333333, \"interactionType\": 1, \"questionType\": 2, \"questionId\": \"2_Q2\", \"learnToolsVersion\": \"0.3.4\", \"failureMessage\": \"\", \"exceptionClass\": \"\", \"trace\": \"\"}}, \"*\")"
      ],
      "text/plain": [
       "<IPython.core.display.Javascript object>"
      ]
     },
     "metadata": {},
     "output_type": "display_data"
    },
    {
     "data": {
      "text/markdown": [
       "<span style=\"color:#33cc33\">Correct</span>"
      ],
      "text/plain": [
       "Correct"
      ]
     },
     "metadata": {},
     "output_type": "display_data"
    }
   ],
   "source": [
    "from tensorflow import keras\n",
    "from tensorflow.keras import layers\n",
    "\n",
    "# YOUR CODE HERE\n",
    "model = keras.Sequential([\n",
    "    layers.Dense(units=1, input_shape= input_shape)\n",
    "])\n",
    "\n",
    "# Check your answer\n",
    "q_2.check()"
   ]
  },
  {
   "cell_type": "code",
   "execution_count": 7,
   "id": "25b08095",
   "metadata": {
    "execution": {
     "iopub.execute_input": "2024-07-04T08:49:03.239389Z",
     "iopub.status.busy": "2024-07-04T08:49:03.238960Z",
     "iopub.status.idle": "2024-07-04T08:49:03.244290Z",
     "shell.execute_reply": "2024-07-04T08:49:03.243081Z"
    },
    "papermill": {
     "duration": 0.018588,
     "end_time": "2024-07-04T08:49:03.246746",
     "exception": false,
     "start_time": "2024-07-04T08:49:03.228158",
     "status": "completed"
    },
    "tags": []
   },
   "outputs": [],
   "source": [
    "# Lines below will give you a hint or solution code\n",
    "#q_2.hint()\n",
    "#q_2.solution()"
   ]
  },
  {
   "cell_type": "markdown",
   "id": "8b923047",
   "metadata": {
    "papermill": {
     "duration": 0.009197,
     "end_time": "2024-07-04T08:49:03.265651",
     "exception": false,
     "start_time": "2024-07-04T08:49:03.256454",
     "status": "completed"
    },
    "tags": []
   },
   "source": [
    "# 3) Look at the weights\n",
    "\n",
    "Internally, Keras represents the weights of a neural network with **tensors**. Tensors are basically TensorFlow's version of a Numpy array with a few differences that make them better suited to deep learning. One of the most important is that tensors are compatible with [GPU](https://www.kaggle.com/docs/efficient-gpu-usage) and [TPU](https://www.kaggle.com/docs/tpu)) accelerators. TPUs, in fact, are designed specifically for tensor computations.\n",
    "\n",
    "A model's weights are kept in its `weights` attribute as a list of tensors. Get the weights of the model you defined above. (If you want, you could display the weights with something like: `print(\"Weights\\n{}\\n\\nBias\\n{}\".format(w, b))`)."
   ]
  },
  {
   "cell_type": "code",
   "execution_count": 8,
   "id": "6392c738",
   "metadata": {
    "execution": {
     "iopub.execute_input": "2024-07-04T08:49:03.286646Z",
     "iopub.status.busy": "2024-07-04T08:49:03.286209Z",
     "iopub.status.idle": "2024-07-04T08:49:03.301353Z",
     "shell.execute_reply": "2024-07-04T08:49:03.299972Z"
    },
    "papermill": {
     "duration": 0.028962,
     "end_time": "2024-07-04T08:49:03.304182",
     "exception": false,
     "start_time": "2024-07-04T08:49:03.275220",
     "status": "completed"
    },
    "tags": []
   },
   "outputs": [
    {
     "data": {
      "text/plain": [
       "[<tf.Variable 'dense/kernel:0' shape=(11, 1) dtype=float32, numpy=\n",
       " array([[ 0.6060607 ],\n",
       "        [-0.3854636 ],\n",
       "        [-0.43468523],\n",
       "        [-0.25664818],\n",
       "        [-0.56835043],\n",
       "        [-0.69951767],\n",
       "        [ 0.5311213 ],\n",
       "        [ 0.11642712],\n",
       "        [-0.25143966],\n",
       "        [ 0.28438133],\n",
       "        [ 0.27247095]], dtype=float32)>,\n",
       " <tf.Variable 'dense/bias:0' shape=(1,) dtype=float32, numpy=array([0.], dtype=float32)>]"
      ]
     },
     "execution_count": 8,
     "metadata": {},
     "output_type": "execute_result"
    }
   ],
   "source": [
    "model.weights"
   ]
  },
  {
   "cell_type": "code",
   "execution_count": 9,
   "id": "4ce835c3",
   "metadata": {
    "execution": {
     "iopub.execute_input": "2024-07-04T08:49:03.325648Z",
     "iopub.status.busy": "2024-07-04T08:49:03.325244Z",
     "iopub.status.idle": "2024-07-04T08:49:03.335081Z",
     "shell.execute_reply": "2024-07-04T08:49:03.333817Z"
    },
    "lines_to_next_cell": 0,
    "papermill": {
     "duration": 0.023489,
     "end_time": "2024-07-04T08:49:03.337683",
     "exception": false,
     "start_time": "2024-07-04T08:49:03.314194",
     "status": "completed"
    },
    "tags": []
   },
   "outputs": [
    {
     "data": {
      "application/javascript": [
       "parent.postMessage({\"jupyterEvent\": \"custom.exercise_interaction\", \"data\": {\"outcomeType\": 1, \"valueTowardsCompletion\": 0.3333333333333333, \"interactionType\": 1, \"questionType\": 2, \"questionId\": \"3_Q3\", \"learnToolsVersion\": \"0.3.4\", \"failureMessage\": \"\", \"exceptionClass\": \"\", \"trace\": \"\"}}, \"*\")"
      ],
      "text/plain": [
       "<IPython.core.display.Javascript object>"
      ]
     },
     "metadata": {},
     "output_type": "display_data"
    },
    {
     "data": {
      "text/markdown": [
       "<span style=\"color:#33cc33\">Correct:</span> Do you see how there's one weight for each input (and a bias)? Notice though that there doesn't seem to be any pattern to the values the weights have. Before the model is trained, the weights are set to random numbers (and the bias to 0.0). A neural network learns by finding better values for its weights.\n"
      ],
      "text/plain": [
       "Correct: Do you see how there's one weight for each input (and a bias)? Notice though that there doesn't seem to be any pattern to the values the weights have. Before the model is trained, the weights are set to random numbers (and the bias to 0.0). A neural network learns by finding better values for its weights."
      ]
     },
     "metadata": {},
     "output_type": "display_data"
    }
   ],
   "source": [
    "# YOUR CODE HERE\n",
    "w, b = model.weights\n",
    "\n",
    "# Check your answer\n",
    "q_3.check()"
   ]
  },
  {
   "cell_type": "code",
   "execution_count": 10,
   "id": "096a1688",
   "metadata": {
    "execution": {
     "iopub.execute_input": "2024-07-04T08:49:03.361720Z",
     "iopub.status.busy": "2024-07-04T08:49:03.360411Z",
     "iopub.status.idle": "2024-07-04T08:49:03.368514Z",
     "shell.execute_reply": "2024-07-04T08:49:03.367477Z"
    },
    "papermill": {
     "duration": 0.023084,
     "end_time": "2024-07-04T08:49:03.370926",
     "exception": false,
     "start_time": "2024-07-04T08:49:03.347842",
     "status": "completed"
    },
    "tags": []
   },
   "outputs": [
    {
     "data": {
      "text/plain": [
       "<tf.Variable 'dense/kernel:0' shape=(11, 1) dtype=float32, numpy=\n",
       "array([[ 0.6060607 ],\n",
       "       [-0.3854636 ],\n",
       "       [-0.43468523],\n",
       "       [-0.25664818],\n",
       "       [-0.56835043],\n",
       "       [-0.69951767],\n",
       "       [ 0.5311213 ],\n",
       "       [ 0.11642712],\n",
       "       [-0.25143966],\n",
       "       [ 0.28438133],\n",
       "       [ 0.27247095]], dtype=float32)>"
      ]
     },
     "execution_count": 10,
     "metadata": {},
     "output_type": "execute_result"
    }
   ],
   "source": [
    "w"
   ]
  },
  {
   "cell_type": "code",
   "execution_count": 11,
   "id": "6aa637ef",
   "metadata": {
    "execution": {
     "iopub.execute_input": "2024-07-04T08:49:03.394037Z",
     "iopub.status.busy": "2024-07-04T08:49:03.393070Z",
     "iopub.status.idle": "2024-07-04T08:49:03.407566Z",
     "shell.execute_reply": "2024-07-04T08:49:03.406357Z"
    },
    "papermill": {
     "duration": 0.029005,
     "end_time": "2024-07-04T08:49:03.410329",
     "exception": false,
     "start_time": "2024-07-04T08:49:03.381324",
     "status": "completed"
    },
    "tags": []
   },
   "outputs": [
    {
     "data": {
      "text/plain": [
       "<tf.Tensor: shape=(1,), dtype=float32, numpy=array([0.6060607], dtype=float32)>"
      ]
     },
     "execution_count": 11,
     "metadata": {},
     "output_type": "execute_result"
    }
   ],
   "source": [
    "w[0]"
   ]
  },
  {
   "cell_type": "code",
   "execution_count": 12,
   "id": "2523fc13",
   "metadata": {
    "execution": {
     "iopub.execute_input": "2024-07-04T08:49:03.433168Z",
     "iopub.status.busy": "2024-07-04T08:49:03.432690Z",
     "iopub.status.idle": "2024-07-04T08:49:03.441523Z",
     "shell.execute_reply": "2024-07-04T08:49:03.440479Z"
    },
    "papermill": {
     "duration": 0.022884,
     "end_time": "2024-07-04T08:49:03.443964",
     "exception": false,
     "start_time": "2024-07-04T08:49:03.421080",
     "status": "completed"
    },
    "tags": []
   },
   "outputs": [
    {
     "data": {
      "text/plain": [
       "<tf.Tensor: shape=(), dtype=float32, numpy=0.6060607>"
      ]
     },
     "execution_count": 12,
     "metadata": {},
     "output_type": "execute_result"
    }
   ],
   "source": [
    "w[0][0]"
   ]
  },
  {
   "cell_type": "code",
   "execution_count": 13,
   "id": "73c07bb8",
   "metadata": {
    "execution": {
     "iopub.execute_input": "2024-07-04T08:49:03.466892Z",
     "iopub.status.busy": "2024-07-04T08:49:03.466489Z",
     "iopub.status.idle": "2024-07-04T08:49:03.474865Z",
     "shell.execute_reply": "2024-07-04T08:49:03.473739Z"
    },
    "papermill": {
     "duration": 0.022846,
     "end_time": "2024-07-04T08:49:03.477377",
     "exception": false,
     "start_time": "2024-07-04T08:49:03.454531",
     "status": "completed"
    },
    "tags": []
   },
   "outputs": [
    {
     "data": {
      "text/plain": [
       "<tf.Variable 'dense/bias:0' shape=(1,) dtype=float32, numpy=array([0.], dtype=float32)>"
      ]
     },
     "execution_count": 13,
     "metadata": {},
     "output_type": "execute_result"
    }
   ],
   "source": [
    "b"
   ]
  },
  {
   "cell_type": "code",
   "execution_count": 14,
   "id": "6ffebbc4",
   "metadata": {
    "execution": {
     "iopub.execute_input": "2024-07-04T08:49:03.500693Z",
     "iopub.status.busy": "2024-07-04T08:49:03.500271Z",
     "iopub.status.idle": "2024-07-04T08:49:03.508488Z",
     "shell.execute_reply": "2024-07-04T08:49:03.507393Z"
    },
    "papermill": {
     "duration": 0.022809,
     "end_time": "2024-07-04T08:49:03.510966",
     "exception": false,
     "start_time": "2024-07-04T08:49:03.488157",
     "status": "completed"
    },
    "tags": []
   },
   "outputs": [
    {
     "data": {
      "text/plain": [
       "<tf.Tensor: shape=(), dtype=float32, numpy=0.0>"
      ]
     },
     "execution_count": 14,
     "metadata": {},
     "output_type": "execute_result"
    }
   ],
   "source": [
    "b[0]"
   ]
  },
  {
   "cell_type": "code",
   "execution_count": 15,
   "id": "dd357803",
   "metadata": {
    "execution": {
     "iopub.execute_input": "2024-07-04T08:49:03.534359Z",
     "iopub.status.busy": "2024-07-04T08:49:03.533930Z",
     "iopub.status.idle": "2024-07-04T08:49:03.538851Z",
     "shell.execute_reply": "2024-07-04T08:49:03.537723Z"
    },
    "lines_to_next_cell": 0,
    "papermill": {
     "duration": 0.019468,
     "end_time": "2024-07-04T08:49:03.541398",
     "exception": false,
     "start_time": "2024-07-04T08:49:03.521930",
     "status": "completed"
    },
    "tags": []
   },
   "outputs": [],
   "source": [
    "# Lines below will give you a hint or solution code\n",
    "#q_3.hint()\n",
    "#q_3.solution()"
   ]
  },
  {
   "cell_type": "markdown",
   "id": "7279b4ac",
   "metadata": {
    "papermill": {
     "duration": 0.010474,
     "end_time": "2024-07-04T08:49:03.562713",
     "exception": false,
     "start_time": "2024-07-04T08:49:03.552239",
     "status": "completed"
    },
    "tags": []
   },
   "source": [
    "(By the way, Keras represents weights as tensors, but also uses tensors to represent data. When you set the `input_shape` argument, you are telling Keras the dimensions of the array it should expect for each example in the training data. Setting `input_shape=[3]` would create a network accepting vectors of length 3, like `[0.2, 0.4, 0.6]`.)\n",
    " \n",
    "\n",
    "# Optional: Plot the output of an untrained linear model\n",
    " \n",
    "The kinds of problems we'll work on through Lesson 5 will be *regression* problems, where the goal is to predict some numeric target. Regression problems are like \"curve-fitting\" problems: we're trying to find a curve that best fits the data. Let's take a look at the \"curve\" produced by a linear model. (You've probably guessed that it's a line!)\n",
    " \n",
    "We mentioned that before training a model's weights are set randomly. Run the cell below a few times to see the different lines produced with a random initialization. (There's no coding for this exercise -- it's just a demonstration.)"
   ]
  },
  {
   "cell_type": "code",
   "execution_count": 16,
   "id": "33be6309",
   "metadata": {
    "execution": {
     "iopub.execute_input": "2024-07-04T08:49:03.586160Z",
     "iopub.status.busy": "2024-07-04T08:49:03.585727Z",
     "iopub.status.idle": "2024-07-04T08:49:04.280102Z",
     "shell.execute_reply": "2024-07-04T08:49:04.278835Z"
    },
    "lines_to_next_cell": 0,
    "papermill": {
     "duration": 0.70908,
     "end_time": "2024-07-04T08:49:04.282614",
     "exception": false,
     "start_time": "2024-07-04T08:49:03.573534",
     "status": "completed"
    },
    "tags": []
   },
   "outputs": [
    {
     "name": "stdout",
     "output_type": "stream",
     "text": [
      "4/4 [==============================] - 0s 2ms/step\n"
     ]
    },
    {
     "data": {
      "image/png": "[encoded data removed]",
      "text/plain": [
       "<Figure size 640x480 with 1 Axes>"
      ]
     },
     "metadata": {},
     "output_type": "display_data"
    }
   ],
   "source": [
    "import tensorflow as tf\n",
    "import matplotlib.pyplot as plt\n",
    "\n",
    "model = keras.Sequential([\n",
    "    layers.Dense(1, input_shape=[1]),\n",
    "])\n",
    "\n",
    "x = tf.linspace(-1.0, 1.0, 100)\n",
    "y = model.predict(x)\n",
    "\n",
    "plt.figure(dpi=100)\n",
    "plt.plot(x, y, 'k')\n",
    "plt.xlim(-1, 1)\n",
    "plt.ylim(-1, 1)\n",
    "plt.xlabel(\"Input: x\")\n",
    "plt.ylabel(\"Target y\")\n",
    "w, b = model.weights # you could also use model.get_weights() here\n",
    "plt.title(\"Weight: {:0.2f}\\nBias: {:0.2f}\".format(w[0][0], b[0]))\n",
    "plt.show()"
   ]
  },
  {
   "cell_type": "markdown",
   "id": "fffe40b4",
   "metadata": {
    "papermill": {
     "duration": 0.011349,
     "end_time": "2024-07-04T08:49:04.305714",
     "exception": false,
     "start_time": "2024-07-04T08:49:04.294365",
     "status": "completed"
    },
    "tags": []
   },
   "source": [
    "# Keep Going #\n",
    "\n",
    "Add hidden layers and [**make your models deep**](https://www.kaggle.com/ryanholbrook/deep-neural-networks) in Lesson 2."
   ]
  },
  {
   "cell_type": "markdown",
   "id": "fe944590",
   "metadata": {
    "papermill": {
     "duration": 0.011408,
     "end_time": "2024-07-04T08:49:04.329149",
     "exception": false,
     "start_time": "2024-07-04T08:49:04.317741",
     "status": "completed"
    },
    "tags": []
   },
   "source": [
    "---\n",
    "\n",
    "\n",
    "\n",
    "\n",
    "*Have questions or comments? Visit the [course discussion forum](https://www.kaggle.com/learn/intro-to-deep-learning/discussion) to chat with other learners.*"
   ]
  }
 ],
 "metadata": {
  "jupytext": {
   "cell_metadata_filter": "-all",
   "formats": "ipynb"
  },
  "kaggle": {
   "accelerator": "none",
   "dataSources": [
    {
     "datasetId": 829369,
     "sourceId": 1480608,
     "sourceType": "datasetVersion"
    }
   ],
   "dockerImageVersionId": 30646,
   "isGpuEnabled": false,
   "isInternetEnabled": false,
   "language": "python",
   "sourceType": "notebook"
  },
  "kernelspec": {
   "display_name": "Python 3",
   "language": "python",
   "name": "python3"
  },
  "language_info": {
   "codemirror_mode": {
    "name": "ipython",
    "version": 3
   },
   "file_extension": ".py",
   "mimetype": "text/x-python",
   "name": "python",
   "nbconvert_exporter": "python",
   "pygments_lexer": "ipython3",
   "version": "3.10.13"
  },
  "papermill": {
   "default_parameters": {},
   "duration": 24.231433,
   "end_time": "2024-07-04T08:49:06.750312",
   "environment_variables": {},
   "exception": null,
   "input_path": "__notebook__.ipynb",
   "output_path": "__notebook__.ipynb",
   "parameters": {},
   "start_time": "2024-07-04T08:48:42.518879",
   "version": "2.5.0"
  }
 },
 "nbformat": 4,
 "nbformat_minor": 5
}
