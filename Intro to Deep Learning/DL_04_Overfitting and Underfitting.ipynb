{
 "cells": [
  {
   "cell_type": "markdown",
   "id": "d026c348",
   "metadata": {
    "papermill": {
     "duration": 0.005979,
     "end_time": "2024-07-04T09:54:07.110836",
     "exception": false,
     "start_time": "2024-07-04T09:54:07.104857",
     "status": "completed"
    },
    "tags": []
   },
   "source": [
    "**This notebook is an exercise in the [Intro to Deep Learning](https://www.kaggle.com/learn/intro-to-deep-learning) course.  You can reference the tutorial at [this link](https://www.kaggle.com/ryanholbrook/overfitting-and-underfitting).**\n",
    "\n",
    "---\n"
   ]
  },
  {
   "cell_type": "markdown",
   "id": "67018da8",
   "metadata": {
    "papermill": {
     "duration": 0.004979,
     "end_time": "2024-07-04T09:54:07.121206",
     "exception": false,
     "start_time": "2024-07-04T09:54:07.116227",
     "status": "completed"
    },
    "tags": []
   },
   "source": [
    "# Introduction #\n",
    "\n",
    "In this exercise, you’ll learn how to improve training outcomes by including an early stopping callback to prevent overfitting.\n",
    "\n",
    "When you're ready, run this next cell to set everything up!"
   ]
  },
  {
   "cell_type": "code",
   "execution_count": 1,
   "id": "b206a08e",
   "metadata": {
    "execution": {
     "iopub.execute_input": "2024-07-04T09:54:07.134772Z",
     "iopub.status.busy": "2024-07-04T09:54:07.134289Z",
     "iopub.status.idle": "2024-07-04T09:54:08.172128Z",
     "shell.execute_reply": "2024-07-04T09:54:08.170977Z"
    },
    "papermill": {
     "duration": 1.048219,
     "end_time": "2024-07-04T09:54:08.174769",
     "exception": false,
     "start_time": "2024-07-04T09:54:07.126550",
     "status": "completed"
    },
    "tags": []
   },
   "outputs": [
    {
     "name": "stderr",
     "output_type": "stream",
     "text": [
      "/tmp/ipykernel_18/1500229236.py:3: MatplotlibDeprecationWarning: The seaborn styles shipped by Matplotlib are deprecated since 3.6, as they no longer correspond to the styles shipped by seaborn. However, they will remain available as 'seaborn-v0_8-<style>'. Alternatively, directly use the seaborn API instead.\n",
      "  plt.style.use('seaborn-whitegrid')\n"
     ]
    }
   ],
   "source": [
    "# Setup plotting\n",
    "import matplotlib.pyplot as plt\n",
    "plt.style.use('seaborn-whitegrid')\n",
    "# Set Matplotlib defaults\n",
    "plt.rc('figure', autolayout=True)\n",
    "plt.rc('axes', labelweight='bold', labelsize='large',\n",
    "       titleweight='bold', titlesize=18, titlepad=10)\n",
    "plt.rc('animation', html='html5')\n",
    "\n",
    "# Setup feedback system\n",
    "from learntools.core import binder\n",
    "binder.bind(globals())\n",
    "from learntools.deep_learning_intro.ex4 import *"
   ]
  },
  {
   "cell_type": "markdown",
   "id": "26b53879",
   "metadata": {
    "papermill": {
     "duration": 0.005164,
     "end_time": "2024-07-04T09:54:08.185446",
     "exception": false,
     "start_time": "2024-07-04T09:54:08.180282",
     "status": "completed"
    },
    "tags": []
   },
   "source": [
    "First load the *Spotify* dataset. Your task will be to predict the popularity of a song based on various audio features, like `'tempo'`, `'danceability'`, and `'mode'`."
   ]
  },
  {
   "cell_type": "code",
   "execution_count": 2,
   "id": "f1c810f9",
   "metadata": {
    "execution": {
     "iopub.execute_input": "2024-07-04T09:54:08.198192Z",
     "iopub.status.busy": "2024-07-04T09:54:08.197706Z",
     "iopub.status.idle": "2024-07-04T09:54:25.355774Z",
     "shell.execute_reply": "2024-07-04T09:54:25.354695Z"
    },
    "papermill": {
     "duration": 17.167308,
     "end_time": "2024-07-04T09:54:25.358170",
     "exception": false,
     "start_time": "2024-07-04T09:54:08.190862",
     "status": "completed"
    },
    "tags": []
   },
   "outputs": [
    {
     "name": "stderr",
     "output_type": "stream",
     "text": [
      "2024-07-04 09:54:12.082107: E external/local_xla/xla/stream_executor/cuda/cuda_dnn.cc:9261] Unable to register cuDNN factory: Attempting to register factory for plugin cuDNN when one has already been registered\n",
      "2024-07-04 09:54:12.082232: E external/local_xla/xla/stream_executor/cuda/cuda_fft.cc:607] Unable to register cuFFT factory: Attempting to register factory for plugin cuFFT when one has already been registered\n",
      "2024-07-04 09:54:12.245745: E external/local_xla/xla/stream_executor/cuda/cuda_blas.cc:1515] Unable to register cuBLAS factory: Attempting to register factory for plugin cuBLAS when one has already been registered\n"
     ]
    },
    {
     "name": "stdout",
     "output_type": "stream",
     "text": [
      "Input shape: [18]\n"
     ]
    }
   ],
   "source": [
    "import pandas as pd\n",
    "from sklearn.preprocessing import StandardScaler, OneHotEncoder\n",
    "from sklearn.compose import make_column_transformer\n",
    "from sklearn.model_selection import GroupShuffleSplit\n",
    "\n",
    "from tensorflow import keras\n",
    "from tensorflow.keras import layers\n",
    "from tensorflow.keras import callbacks\n",
    "\n",
    "spotify = pd.read_csv('../input/dl-course-data/spotify.csv')\n",
    "\n",
    "X = spotify.copy().dropna()\n",
    "y = X.pop('track_popularity')\n",
    "artists = X['track_artist']\n",
    "\n",
    "features_num = ['danceability', 'energy', 'key', 'loudness', 'mode',\n",
    "                'speechiness', 'acousticness', 'instrumentalness',\n",
    "                'liveness', 'valence', 'tempo', 'duration_ms']\n",
    "features_cat = ['playlist_genre']\n",
    "\n",
    "preprocessor = make_column_transformer(\n",
    "    (StandardScaler(), features_num),\n",
    "    (OneHotEncoder(), features_cat),\n",
    ")\n",
    "\n",
    "# We'll do a \"grouped\" split to keep all of an artist's songs in one\n",
    "# split or the other. This is to help prevent signal leakage.\n",
    "def group_split(X, y, group, train_size=0.75):\n",
    "    splitter = GroupShuffleSplit(train_size=train_size)\n",
    "    train, test = next(splitter.split(X, y, groups=group))\n",
    "    return (X.iloc[train], X.iloc[test], y.iloc[train], y.iloc[test])\n",
    "\n",
    "X_train, X_valid, y_train, y_valid = group_split(X, y, artists)\n",
    "\n",
    "X_train = preprocessor.fit_transform(X_train)\n",
    "X_valid = preprocessor.transform(X_valid)\n",
    "y_train = y_train / 100 # popularity is on a scale 0-100, so this rescales to 0-1.\n",
    "y_valid = y_valid / 100\n",
    "\n",
    "input_shape = [X_train.shape[1]]\n",
    "print(\"Input shape: {}\".format(input_shape))"
   ]
  },
  {
   "cell_type": "markdown",
   "id": "70515ade",
   "metadata": {
    "papermill": {
     "duration": 0.005236,
     "end_time": "2024-07-04T09:54:25.369121",
     "exception": false,
     "start_time": "2024-07-04T09:54:25.363885",
     "status": "completed"
    },
    "tags": []
   },
   "source": [
    "Let's start with the simplest network, a linear model. This model has low capacity.\n",
    "\n",
    "Run this next cell without any changes to train a linear model on the *Spotify* dataset."
   ]
  },
  {
   "cell_type": "code",
   "execution_count": 3,
   "id": "dae0b8b3",
   "metadata": {
    "execution": {
     "iopub.execute_input": "2024-07-04T09:54:25.381915Z",
     "iopub.status.busy": "2024-07-04T09:54:25.381506Z",
     "iopub.status.idle": "2024-07-04T09:54:32.049169Z",
     "shell.execute_reply": "2024-07-04T09:54:32.047913Z"
    },
    "lines_to_next_cell": 0,
    "papermill": {
     "duration": 6.677275,
     "end_time": "2024-07-04T09:54:32.051868",
     "exception": false,
     "start_time": "2024-07-04T09:54:25.374593",
     "status": "completed"
    },
    "tags": []
   },
   "outputs": [
    {
     "name": "stdout",
     "output_type": "stream",
     "text": [
      "Minimum Validation Loss: 0.1982\n"
     ]
    },
    {
     "data": {
      "image/png": "[encoded data removed]",
      "text/plain": [
       "<Figure size 640x480 with 1 Axes>"
      ]
     },
     "metadata": {},
     "output_type": "display_data"
    }
   ],
   "source": [
    "model = keras.Sequential([\n",
    "    layers.Dense(1, input_shape=input_shape),\n",
    "])\n",
    "model.compile(\n",
    "    optimizer='adam',\n",
    "    loss='mae',\n",
    ")\n",
    "history = model.fit(\n",
    "    X_train, y_train,\n",
    "    validation_data=(X_valid, y_valid),\n",
    "    batch_size=512,\n",
    "    epochs=50,\n",
    "    verbose=0, # suppress output since we'll plot the curves\n",
    ")\n",
    "history_df = pd.DataFrame(history.history)\n",
    "history_df.loc[0:, ['loss', 'val_loss']].plot()\n",
    "print(\"Minimum Validation Loss: {:0.4f}\".format(history_df['val_loss'].min()));"
   ]
  },
  {
   "cell_type": "markdown",
   "id": "867b42e0",
   "metadata": {
    "papermill": {
     "duration": 0.005906,
     "end_time": "2024-07-04T09:54:32.063978",
     "exception": false,
     "start_time": "2024-07-04T09:54:32.058072",
     "status": "completed"
    },
    "tags": []
   },
   "source": [
    "It's not uncommon for the curves to follow a \"hockey stick\" pattern like you see here. This makes the final part of training hard to see, so let's start at epoch 10 instead:"
   ]
  },
  {
   "cell_type": "code",
   "execution_count": 4,
   "id": "1fdc1c58",
   "metadata": {
    "execution": {
     "iopub.execute_input": "2024-07-04T09:54:32.077896Z",
     "iopub.status.busy": "2024-07-04T09:54:32.077493Z",
     "iopub.status.idle": "2024-07-04T09:54:32.457775Z",
     "shell.execute_reply": "2024-07-04T09:54:32.456610Z"
    },
    "papermill": {
     "duration": 0.39006,
     "end_time": "2024-07-04T09:54:32.460174",
     "exception": false,
     "start_time": "2024-07-04T09:54:32.070114",
     "status": "completed"
    },
    "tags": []
   },
   "outputs": [
    {
     "name": "stdout",
     "output_type": "stream",
     "text": [
      "Minimum Validation Loss: 0.1982\n"
     ]
    },
    {
     "data": {
      "image/png": "[encoded data removed]",
      "text/plain": [
       "<Figure size 640x480 with 1 Axes>"
      ]
     },
     "metadata": {},
     "output_type": "display_data"
    }
   ],
   "source": [
    "# Start the plot at epoch 10\n",
    "history_df.loc[10:, ['loss', 'val_loss']].plot()\n",
    "print(\"Minimum Validation Loss: {:0.4f}\".format(history_df['val_loss'].min()));"
   ]
  },
  {
   "cell_type": "markdown",
   "id": "d2fcd1ea",
   "metadata": {
    "papermill": {
     "duration": 0.006633,
     "end_time": "2024-07-04T09:54:32.473595",
     "exception": false,
     "start_time": "2024-07-04T09:54:32.466962",
     "status": "completed"
    },
    "tags": []
   },
   "source": [
    "# 1) Evaluate Baseline\n",
    "\n",
    "What do you think? Would you say this model is underfitting, overfitting, just right?"
   ]
  },
  {
   "cell_type": "code",
   "execution_count": 5,
   "id": "eb9c4a39",
   "metadata": {
    "execution": {
     "iopub.execute_input": "2024-07-04T09:54:32.489887Z",
     "iopub.status.busy": "2024-07-04T09:54:32.489052Z",
     "iopub.status.idle": "2024-07-04T09:54:32.497775Z",
     "shell.execute_reply": "2024-07-04T09:54:32.496623Z"
    },
    "papermill": {
     "duration": 0.019085,
     "end_time": "2024-07-04T09:54:32.500023",
     "exception": false,
     "start_time": "2024-07-04T09:54:32.480938",
     "status": "completed"
    },
    "tags": []
   },
   "outputs": [
    {
     "data": {
      "application/javascript": [
       "parent.postMessage({\"jupyterEvent\": \"custom.exercise_interaction\", \"data\": {\"outcomeType\": 1, \"valueTowardsCompletion\": 0.25, \"interactionType\": 1, \"questionType\": 4, \"questionId\": \"1_Q1\", \"learnToolsVersion\": \"0.3.4\", \"failureMessage\": \"\", \"exceptionClass\": \"\", \"trace\": \"\"}}, \"*\")"
      ],
      "text/plain": [
       "<IPython.core.display.Javascript object>"
      ]
     },
     "metadata": {},
     "output_type": "display_data"
    },
    {
     "data": {
      "text/markdown": [
       "<span style=\"color:#33cc33\">Correct:</span> \n",
       "\n",
       "The gap between these curves is quite small and the validation loss never increases, so it's more likely that the network is underfitting than overfitting. It would be worth experimenting with more capacity to see if that's the case."
      ],
      "text/plain": [
       "Correct: \n",
       "\n",
       "The gap between these curves is quite small and the validation loss never increases, so it's more likely that the network is underfitting than overfitting. It would be worth experimenting with more capacity to see if that's the case."
      ]
     },
     "metadata": {},
     "output_type": "display_data"
    }
   ],
   "source": [
    "# View the solution (Run this cell to receive credit!)\n",
    "q_1.check()"
   ]
  },
  {
   "cell_type": "markdown",
   "id": "071d99a2",
   "metadata": {
    "papermill": {
     "duration": 0.006776,
     "end_time": "2024-07-04T09:54:32.515125",
     "exception": false,
     "start_time": "2024-07-04T09:54:32.508349",
     "status": "completed"
    },
    "tags": []
   },
   "source": [
    "Now let's add some capacity to our network. We'll add three hidden layers with 128 units each. Run the next cell to train the network and see the learning curves."
   ]
  },
  {
   "cell_type": "code",
   "execution_count": 6,
   "id": "ae126200",
   "metadata": {
    "execution": {
     "iopub.execute_input": "2024-07-04T09:54:32.530930Z",
     "iopub.status.busy": "2024-07-04T09:54:32.530558Z",
     "iopub.status.idle": "2024-07-04T09:54:43.674833Z",
     "shell.execute_reply": "2024-07-04T09:54:43.673462Z"
    },
    "papermill": {
     "duration": 11.155265,
     "end_time": "2024-07-04T09:54:43.677308",
     "exception": false,
     "start_time": "2024-07-04T09:54:32.522043",
     "status": "completed"
    },
    "tags": []
   },
   "outputs": [
    {
     "name": "stdout",
     "output_type": "stream",
     "text": [
      "Epoch 1/50\n",
      "49/49 [==============================] - 1s 7ms/step - loss: 0.2169 - val_loss: 0.2061\n",
      "Epoch 2/50\n",
      "49/49 [==============================] - 0s 4ms/step - loss: 0.1978 - val_loss: 0.2021\n",
      "Epoch 3/50\n",
      "49/49 [==============================] - 0s 4ms/step - loss: 0.1939 - val_loss: 0.1997\n",
      "Epoch 4/50\n",
      "49/49 [==============================] - 0s 4ms/step - loss: 0.1910 - val_loss: 0.1994\n",
      "Epoch 5/50\n",
      "49/49 [==============================] - 0s 4ms/step - loss: 0.1890 - val_loss: 0.2008\n",
      "Epoch 6/50\n",
      "49/49 [==============================] - 0s 4ms/step - loss: 0.1876 - val_loss: 0.1992\n",
      "Epoch 7/50\n",
      "49/49 [==============================] - 0s 4ms/step - loss: 0.1869 - val_loss: 0.1995\n",
      "Epoch 8/50\n",
      "49/49 [==============================] - 0s 4ms/step - loss: 0.1854 - val_loss: 0.1983\n",
      "Epoch 9/50\n",
      "49/49 [==============================] - 0s 4ms/step - loss: 0.1843 - val_loss: 0.1985\n",
      "Epoch 10/50\n",
      "49/49 [==============================] - 0s 4ms/step - loss: 0.1833 - val_loss: 0.1991\n",
      "Epoch 11/50\n",
      "49/49 [==============================] - 0s 4ms/step - loss: 0.1837 - val_loss: 0.1986\n",
      "Epoch 12/50\n",
      "49/49 [==============================] - 0s 4ms/step - loss: 0.1818 - val_loss: 0.1983\n",
      "Epoch 13/50\n",
      "49/49 [==============================] - 0s 4ms/step - loss: 0.1809 - val_loss: 0.1996\n",
      "Epoch 14/50\n",
      "49/49 [==============================] - 0s 4ms/step - loss: 0.1800 - val_loss: 0.1988\n",
      "Epoch 15/50\n",
      "49/49 [==============================] - 0s 4ms/step - loss: 0.1799 - val_loss: 0.1988\n",
      "Epoch 16/50\n",
      "49/49 [==============================] - 0s 4ms/step - loss: 0.1795 - val_loss: 0.2000\n",
      "Epoch 17/50\n",
      "49/49 [==============================] - 0s 4ms/step - loss: 0.1792 - val_loss: 0.2009\n",
      "Epoch 18/50\n",
      "49/49 [==============================] - 0s 4ms/step - loss: 0.1789 - val_loss: 0.1991\n",
      "Epoch 19/50\n",
      "49/49 [==============================] - 0s 4ms/step - loss: 0.1779 - val_loss: 0.1991\n",
      "Epoch 20/50\n",
      "49/49 [==============================] - 0s 4ms/step - loss: 0.1770 - val_loss: 0.1993\n",
      "Epoch 21/50\n",
      "49/49 [==============================] - 0s 4ms/step - loss: 0.1762 - val_loss: 0.1998\n",
      "Epoch 22/50\n",
      "49/49 [==============================] - 0s 4ms/step - loss: 0.1766 - val_loss: 0.2000\n",
      "Epoch 23/50\n",
      "49/49 [==============================] - 0s 4ms/step - loss: 0.1754 - val_loss: 0.2033\n",
      "Epoch 24/50\n",
      "49/49 [==============================] - 0s 4ms/step - loss: 0.1749 - val_loss: 0.1998\n",
      "Epoch 25/50\n",
      "49/49 [==============================] - 0s 4ms/step - loss: 0.1752 - val_loss: 0.2003\n",
      "Epoch 26/50\n",
      "49/49 [==============================] - 0s 4ms/step - loss: 0.1738 - val_loss: 0.2005\n",
      "Epoch 27/50\n",
      "49/49 [==============================] - 0s 4ms/step - loss: 0.1731 - val_loss: 0.2003\n",
      "Epoch 28/50\n",
      "49/49 [==============================] - 0s 4ms/step - loss: 0.1732 - val_loss: 0.2005\n",
      "Epoch 29/50\n",
      "49/49 [==============================] - 0s 4ms/step - loss: 0.1720 - val_loss: 0.2017\n",
      "Epoch 30/50\n",
      "49/49 [==============================] - 0s 4ms/step - loss: 0.1718 - val_loss: 0.2043\n",
      "Epoch 31/50\n",
      "49/49 [==============================] - 0s 4ms/step - loss: 0.1726 - val_loss: 0.2012\n",
      "Epoch 32/50\n",
      "49/49 [==============================] - 0s 4ms/step - loss: 0.1715 - val_loss: 0.2012\n",
      "Epoch 33/50\n",
      "49/49 [==============================] - 0s 4ms/step - loss: 0.1705 - val_loss: 0.2023\n",
      "Epoch 34/50\n",
      "49/49 [==============================] - 0s 4ms/step - loss: 0.1711 - val_loss: 0.2023\n",
      "Epoch 35/50\n",
      "49/49 [==============================] - 0s 4ms/step - loss: 0.1693 - val_loss: 0.2031\n",
      "Epoch 36/50\n",
      "49/49 [==============================] - 0s 4ms/step - loss: 0.1696 - val_loss: 0.2031\n",
      "Epoch 37/50\n",
      "49/49 [==============================] - 0s 4ms/step - loss: 0.1705 - val_loss: 0.2037\n",
      "Epoch 38/50\n",
      "49/49 [==============================] - 0s 4ms/step - loss: 0.1688 - val_loss: 0.2037\n",
      "Epoch 39/50\n",
      "49/49 [==============================] - 0s 4ms/step - loss: 0.1678 - val_loss: 0.2041\n",
      "Epoch 40/50\n",
      "49/49 [==============================] - 0s 4ms/step - loss: 0.1676 - val_loss: 0.2044\n",
      "Epoch 41/50\n",
      "49/49 [==============================] - 0s 4ms/step - loss: 0.1674 - val_loss: 0.2049\n",
      "Epoch 42/50\n",
      "49/49 [==============================] - 0s 4ms/step - loss: 0.1673 - val_loss: 0.2044\n",
      "Epoch 43/50\n",
      "49/49 [==============================] - 0s 4ms/step - loss: 0.1668 - val_loss: 0.2054\n",
      "Epoch 44/50\n",
      "49/49 [==============================] - 0s 4ms/step - loss: 0.1664 - val_loss: 0.2040\n",
      "Epoch 45/50\n",
      "49/49 [==============================] - 0s 4ms/step - loss: 0.1657 - val_loss: 0.2052\n",
      "Epoch 46/50\n",
      "49/49 [==============================] - 0s 4ms/step - loss: 0.1660 - val_loss: 0.2050\n",
      "Epoch 47/50\n",
      "49/49 [==============================] - 0s 4ms/step - loss: 0.1648 - val_loss: 0.2054\n",
      "Epoch 48/50\n",
      "49/49 [==============================] - 0s 4ms/step - loss: 0.1657 - val_loss: 0.2107\n",
      "Epoch 49/50\n",
      "49/49 [==============================] - 0s 4ms/step - loss: 0.1657 - val_loss: 0.2052\n",
      "Epoch 50/50\n",
      "49/49 [==============================] - 0s 4ms/step - loss: 0.1633 - val_loss: 0.2065\n",
      "Minimum Validation Loss: 0.1983\n"
     ]
    },
    {
     "data": {
      "image/png": "[encoded data removed]",
      "text/plain": [
       "<Figure size 640x480 with 1 Axes>"
      ]
     },
     "metadata": {},
     "output_type": "display_data"
    }
   ],
   "source": [
    "model = keras.Sequential([\n",
    "    layers.Dense(128, activation='relu', input_shape=input_shape),\n",
    "    layers.Dense(64, activation='relu'),\n",
    "    layers.Dense(1)\n",
    "])\n",
    "model.compile(\n",
    "    optimizer='adam',\n",
    "    loss='mae',\n",
    ")\n",
    "history = model.fit(\n",
    "    X_train, y_train,\n",
    "    validation_data=(X_valid, y_valid),\n",
    "    batch_size=512,\n",
    "    epochs=50,\n",
    ")\n",
    "history_df = pd.DataFrame(history.history)\n",
    "history_df.loc[:, ['loss', 'val_loss']].plot()\n",
    "print(\"Minimum Validation Loss: {:0.4f}\".format(history_df['val_loss'].min()));"
   ]
  },
  {
   "cell_type": "markdown",
   "id": "a83437e9",
   "metadata": {
    "papermill": {
     "duration": 0.023611,
     "end_time": "2024-07-04T09:54:43.724554",
     "exception": false,
     "start_time": "2024-07-04T09:54:43.700943",
     "status": "completed"
    },
    "tags": []
   },
   "source": [
    "# 2) Add Capacity\n",
    "\n",
    "What is your evaluation of these curves? Underfitting, overfitting, just right?"
   ]
  },
  {
   "cell_type": "code",
   "execution_count": 7,
   "id": "82ad8462",
   "metadata": {
    "execution": {
     "iopub.execute_input": "2024-07-04T09:54:43.775612Z",
     "iopub.status.busy": "2024-07-04T09:54:43.775166Z",
     "iopub.status.idle": "2024-07-04T09:54:43.784763Z",
     "shell.execute_reply": "2024-07-04T09:54:43.783432Z"
    },
    "papermill": {
     "duration": 0.037098,
     "end_time": "2024-07-04T09:54:43.787202",
     "exception": false,
     "start_time": "2024-07-04T09:54:43.750104",
     "status": "completed"
    },
    "tags": []
   },
   "outputs": [
    {
     "data": {
      "application/javascript": [
       "parent.postMessage({\"jupyterEvent\": \"custom.exercise_interaction\", \"data\": {\"outcomeType\": 1, \"valueTowardsCompletion\": 0.25, \"interactionType\": 1, \"questionType\": 4, \"questionId\": \"2_Q2\", \"learnToolsVersion\": \"0.3.4\", \"failureMessage\": \"\", \"exceptionClass\": \"\", \"trace\": \"\"}}, \"*\")"
      ],
      "text/plain": [
       "<IPython.core.display.Javascript object>"
      ]
     },
     "metadata": {},
     "output_type": "display_data"
    },
    {
     "data": {
      "text/markdown": [
       "<span style=\"color:#33cc33\">Correct:</span> \n",
       "\n",
       "Now the validation loss begins to rise very early, while the training loss continues to decrease. This indicates that the network has begun to overfit. At this point, we would need to try something to prevent it, either by reducing the number of units or through a method like early stopping. (We'll see another in the next lesson!)"
      ],
      "text/plain": [
       "Correct: \n",
       "\n",
       "Now the validation loss begins to rise very early, while the training loss continues to decrease. This indicates that the network has begun to overfit. At this point, we would need to try something to prevent it, either by reducing the number of units or through a method like early stopping. (We'll see another in the next lesson!)"
      ]
     },
     "metadata": {},
     "output_type": "display_data"
    }
   ],
   "source": [
    "# View the solution (Run this cell to receive credit!)\n",
    "q_2.check()"
   ]
  },
  {
   "cell_type": "markdown",
   "id": "df14790d",
   "metadata": {
    "papermill": {
     "duration": 0.024244,
     "end_time": "2024-07-04T09:54:43.835250",
     "exception": false,
     "start_time": "2024-07-04T09:54:43.811006",
     "status": "completed"
    },
    "tags": []
   },
   "source": [
    "# 3) Define Early Stopping Callback\n",
    "\n",
    "Now define an early stopping callback that waits 5 epochs (`patience'`) for a change in validation loss of at least `0.001` (`min_delta`) and keeps the weights with the best loss (`restore_best_weights`)."
   ]
  },
  {
   "cell_type": "code",
   "execution_count": 8,
   "id": "ee678deb",
   "metadata": {
    "execution": {
     "iopub.execute_input": "2024-07-04T09:54:43.886308Z",
     "iopub.status.busy": "2024-07-04T09:54:43.885896Z",
     "iopub.status.idle": "2024-07-04T09:54:43.896806Z",
     "shell.execute_reply": "2024-07-04T09:54:43.895699Z"
    },
    "lines_to_next_cell": 0,
    "papermill": {
     "duration": 0.03904,
     "end_time": "2024-07-04T09:54:43.899386",
     "exception": false,
     "start_time": "2024-07-04T09:54:43.860346",
     "status": "completed"
    },
    "tags": []
   },
   "outputs": [
    {
     "data": {
      "application/javascript": [
       "parent.postMessage({\"jupyterEvent\": \"custom.exercise_interaction\", \"data\": {\"outcomeType\": 1, \"valueTowardsCompletion\": 0.25, \"interactionType\": 1, \"questionType\": 2, \"questionId\": \"3_Q3\", \"learnToolsVersion\": \"0.3.4\", \"failureMessage\": \"\", \"exceptionClass\": \"\", \"trace\": \"\"}}, \"*\")"
      ],
      "text/plain": [
       "<IPython.core.display.Javascript object>"
      ]
     },
     "metadata": {},
     "output_type": "display_data"
    },
    {
     "data": {
      "text/markdown": [
       "<span style=\"color:#33cc33\">Correct</span>"
      ],
      "text/plain": [
       "Correct"
      ]
     },
     "metadata": {},
     "output_type": "display_data"
    }
   ],
   "source": [
    "from tensorflow.keras import callbacks\n",
    "\n",
    "# YOUR CODE HERE: define an early stopping callback\n",
    "early_stopping = callbacks.EarlyStopping(patience = 5, min_delta = 0.001, restore_best_weights=True,)\n",
    "\n",
    "# min_delta: 계산된 것으로 간주하기 위한 최소한의 변화량 (for a change in validation loss of at least)\n",
    "# restore_best_weights=True : Training 종료 후 모델의 weight를 모니터하고 있던 값 중 가장 좋았을 때의 wieght로 복원\n",
    "\n",
    "# Check your answer\n",
    "q_3.check()"
   ]
  },
  {
   "cell_type": "code",
   "execution_count": 9,
   "id": "55b845ae",
   "metadata": {
    "execution": {
     "iopub.execute_input": "2024-07-04T09:54:43.951075Z",
     "iopub.status.busy": "2024-07-04T09:54:43.950691Z",
     "iopub.status.idle": "2024-07-04T09:54:43.955211Z",
     "shell.execute_reply": "2024-07-04T09:54:43.954093Z"
    },
    "papermill": {
     "duration": 0.032216,
     "end_time": "2024-07-04T09:54:43.957453",
     "exception": false,
     "start_time": "2024-07-04T09:54:43.925237",
     "status": "completed"
    },
    "tags": []
   },
   "outputs": [],
   "source": [
    "# Lines below will give you a hint or solution code\n",
    "#q_3.hint()\n",
    "#q_3.solution()"
   ]
  },
  {
   "cell_type": "markdown",
   "id": "2ded73f8",
   "metadata": {
    "papermill": {
     "duration": 0.02349,
     "end_time": "2024-07-04T09:54:44.005503",
     "exception": false,
     "start_time": "2024-07-04T09:54:43.982013",
     "status": "completed"
    },
    "tags": []
   },
   "source": [
    "Now run this cell to train the model and get the learning curves. Notice the `callbacks` argument in `model.fit`."
   ]
  },
  {
   "cell_type": "code",
   "execution_count": 10,
   "id": "40f2fd01",
   "metadata": {
    "execution": {
     "iopub.execute_input": "2024-07-04T09:54:44.059567Z",
     "iopub.status.busy": "2024-07-04T09:54:44.059159Z",
     "iopub.status.idle": "2024-07-04T09:54:50.286168Z",
     "shell.execute_reply": "2024-07-04T09:54:50.285031Z"
    },
    "papermill": {
     "duration": 6.257251,
     "end_time": "2024-07-04T09:54:50.288552",
     "exception": false,
     "start_time": "2024-07-04T09:54:44.031301",
     "status": "completed"
    },
    "tags": []
   },
   "outputs": [
    {
     "name": "stdout",
     "output_type": "stream",
     "text": [
      "Epoch 1/50\n",
      "49/49 [==============================] - 1s 7ms/step - loss: 0.2324 - val_loss: 0.2101\n",
      "Epoch 2/50\n",
      "49/49 [==============================] - 0s 4ms/step - loss: 0.2013 - val_loss: 0.2043\n",
      "Epoch 3/50\n",
      "49/49 [==============================] - 0s 4ms/step - loss: 0.1957 - val_loss: 0.2030\n",
      "Epoch 4/50\n",
      "49/49 [==============================] - 0s 4ms/step - loss: 0.1926 - val_loss: 0.2023\n",
      "Epoch 5/50\n",
      "49/49 [==============================] - 0s 5ms/step - loss: 0.1900 - val_loss: 0.2015\n",
      "Epoch 6/50\n",
      "49/49 [==============================] - 0s 5ms/step - loss: 0.1885 - val_loss: 0.2023\n",
      "Epoch 7/50\n",
      "49/49 [==============================] - 0s 5ms/step - loss: 0.1878 - val_loss: 0.1986\n",
      "Epoch 8/50\n",
      "49/49 [==============================] - 0s 4ms/step - loss: 0.1870 - val_loss: 0.2016\n",
      "Epoch 9/50\n",
      "49/49 [==============================] - 0s 4ms/step - loss: 0.1855 - val_loss: 0.1987\n",
      "Epoch 10/50\n",
      "49/49 [==============================] - 0s 4ms/step - loss: 0.1845 - val_loss: 0.1995\n",
      "Epoch 11/50\n",
      "49/49 [==============================] - 0s 4ms/step - loss: 0.1833 - val_loss: 0.1991\n",
      "Epoch 12/50\n",
      "49/49 [==============================] - 0s 4ms/step - loss: 0.1838 - val_loss: 0.1998\n",
      "Minimum Validation Loss: 0.1986\n"
     ]
    },
    {
     "data": {
      "image/png": "[encoded data removed]",
      "text/plain": [
       "<Figure size 640x480 with 1 Axes>"
      ]
     },
     "metadata": {},
     "output_type": "display_data"
    }
   ],
   "source": [
    "model = keras.Sequential([\n",
    "    layers.Dense(128, activation='relu', input_shape=input_shape),\n",
    "    layers.Dense(64, activation='relu'),    \n",
    "    layers.Dense(1)\n",
    "])\n",
    "model.compile(\n",
    "    optimizer='adam',\n",
    "    loss='mae',\n",
    ")\n",
    "history = model.fit(\n",
    "    X_train, y_train,\n",
    "    validation_data=(X_valid, y_valid),\n",
    "    batch_size=512,\n",
    "    epochs=50,\n",
    "    callbacks=[early_stopping]\n",
    ")\n",
    "history_df = pd.DataFrame(history.history)\n",
    "history_df.loc[:, ['loss', 'val_loss']].plot()\n",
    "print(\"Minimum Validation Loss: {:0.4f}\".format(history_df['val_loss'].min()));"
   ]
  },
  {
   "cell_type": "markdown",
   "id": "34f28408",
   "metadata": {
    "papermill": {
     "duration": 0.02817,
     "end_time": "2024-07-04T09:54:50.345478",
     "exception": false,
     "start_time": "2024-07-04T09:54:50.317308",
     "status": "completed"
    },
    "tags": []
   },
   "source": [
    "# 4) Train and Interpret\n",
    "\n",
    "Was this an improvement compared to training without early stopping?"
   ]
  },
  {
   "cell_type": "code",
   "execution_count": 11,
   "id": "b3a26c95",
   "metadata": {
    "execution": {
     "iopub.execute_input": "2024-07-04T09:54:50.404434Z",
     "iopub.status.busy": "2024-07-04T09:54:50.404046Z",
     "iopub.status.idle": "2024-07-04T09:54:50.412879Z",
     "shell.execute_reply": "2024-07-04T09:54:50.411745Z"
    },
    "papermill": {
     "duration": 0.041086,
     "end_time": "2024-07-04T09:54:50.415120",
     "exception": false,
     "start_time": "2024-07-04T09:54:50.374034",
     "status": "completed"
    },
    "tags": []
   },
   "outputs": [
    {
     "data": {
      "application/javascript": [
       "parent.postMessage({\"jupyterEvent\": \"custom.exercise_interaction\", \"data\": {\"outcomeType\": 1, \"valueTowardsCompletion\": 0.25, \"interactionType\": 1, \"questionType\": 4, \"questionId\": \"4_Q4\", \"learnToolsVersion\": \"0.3.4\", \"failureMessage\": \"\", \"exceptionClass\": \"\", \"trace\": \"\"}}, \"*\")"
      ],
      "text/plain": [
       "<IPython.core.display.Javascript object>"
      ]
     },
     "metadata": {},
     "output_type": "display_data"
    },
    {
     "data": {
      "text/markdown": [
       "<span style=\"color:#33cc33\">Correct:</span> \n",
       "\n",
       "The early stopping callback did stop the training once the network began overfitting. Moreover, by including `restore_best_weights` we still get to keep the model where validation loss was lowest."
      ],
      "text/plain": [
       "Correct: \n",
       "\n",
       "The early stopping callback did stop the training once the network began overfitting. Moreover, by including `restore_best_weights` we still get to keep the model where validation loss was lowest."
      ]
     },
     "metadata": {},
     "output_type": "display_data"
    }
   ],
   "source": [
    "# View the solution (Run this cell to receive credit!)\n",
    "q_4.check()"
   ]
  },
  {
   "cell_type": "markdown",
   "id": "91e6e340",
   "metadata": {
    "papermill": {
     "duration": 0.028701,
     "end_time": "2024-07-04T09:54:50.473014",
     "exception": false,
     "start_time": "2024-07-04T09:54:50.444313",
     "status": "completed"
    },
    "tags": []
   },
   "source": [
    "If you like, try experimenting with `patience` and `min_delta` to see what difference it might make.\n",
    "\n",
    "# Keep Going #\n",
    "\n",
    "Move on to [**learn about a couple of special layers**](https://www.kaggle.com/ryanholbrook/dropout-and-batch-normalization): batch normalization and dropout."
   ]
  },
  {
   "cell_type": "markdown",
   "id": "efa23a3b",
   "metadata": {
    "papermill": {
     "duration": 0.028769,
     "end_time": "2024-07-04T09:54:50.530613",
     "exception": false,
     "start_time": "2024-07-04T09:54:50.501844",
     "status": "completed"
    },
    "tags": []
   },
   "source": [
    "---\n",
    "\n",
    "\n",
    "\n",
    "\n",
    "*Have questions or comments? Visit the [course discussion forum](https://www.kaggle.com/learn/intro-to-deep-learning/discussion) to chat with other learners.*"
   ]
  }
 ],
 "metadata": {
  "jupytext": {
   "cell_metadata_filter": "-all",
   "formats": "ipynb"
  },
  "kaggle": {
   "accelerator": "gpu",
   "dataSources": [
    {
     "datasetId": 829369,
     "sourceId": 1480608,
     "sourceType": "datasetVersion"
    }
   ],
   "dockerImageVersionId": 30648,
   "isGpuEnabled": true,
   "isInternetEnabled": false,
   "language": "python",
   "sourceType": "notebook"
  },
  "kernelspec": {
   "display_name": "Python 3",
   "language": "python",
   "name": "python3"
  },
  "language_info": {
   "codemirror_mode": {
    "name": "ipython",
    "version": 3
   },
   "file_extension": ".py",
   "mimetype": "text/x-python",
   "name": "python",
   "nbconvert_exporter": "python",
   "pygments_lexer": "ipython3",
   "version": "3.10.13"
  },
  "papermill": {
   "default_parameters": {},
   "duration": 49.221709,
   "end_time": "2024-07-04T09:54:53.264965",
   "environment_variables": {},
   "exception": null,
   "input_path": "__notebook__.ipynb",
   "output_path": "__notebook__.ipynb",
   "parameters": {},
   "start_time": "2024-07-04T09:54:04.043256",
   "version": "2.5.0"
  }
 },
 "nbformat": 4,
 "nbformat_minor": 5
}
