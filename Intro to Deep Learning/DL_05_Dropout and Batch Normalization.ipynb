{
 "cells": [
  {
   "cell_type": "markdown",
   "id": "3a9a1ea9",
   "metadata": {
    "papermill": {
     "duration": 0.006165,
     "end_time": "2024-07-04T09:59:08.089200",
     "exception": false,
     "start_time": "2024-07-04T09:59:08.083035",
     "status": "completed"
    },
    "tags": []
   },
   "source": [
    "**This notebook is an exercise in the [Intro to Deep Learning](https://www.kaggle.com/learn/intro-to-deep-learning) course.  You can reference the tutorial at [this link](https://www.kaggle.com/ryanholbrook/dropout-and-batch-normalization).**\n",
    "\n",
    "---\n"
   ]
  },
  {
   "cell_type": "markdown",
   "id": "86d3dde3",
   "metadata": {
    "papermill": {
     "duration": 0.005344,
     "end_time": "2024-07-04T09:59:08.100329",
     "exception": false,
     "start_time": "2024-07-04T09:59:08.094985",
     "status": "completed"
    },
    "tags": []
   },
   "source": [
    "# Introduction #\n",
    "\n",
    "In this exercise, you'll add dropout to the *Spotify* model from Exercise 4 and see how batch normalization can let you successfully train models on difficult datasets.\n",
    "\n",
    "Run the next cell to get started!"
   ]
  },
  {
   "cell_type": "code",
   "execution_count": 1,
   "id": "3f3eb3f0",
   "metadata": {
    "execution": {
     "iopub.execute_input": "2024-07-04T09:59:08.114475Z",
     "iopub.status.busy": "2024-07-04T09:59:08.113980Z",
     "iopub.status.idle": "2024-07-04T09:59:09.256352Z",
     "shell.execute_reply": "2024-07-04T09:59:09.255129Z"
    },
    "papermill": {
     "duration": 1.152893,
     "end_time": "2024-07-04T09:59:09.259008",
     "exception": false,
     "start_time": "2024-07-04T09:59:08.106115",
     "status": "completed"
    },
    "tags": []
   },
   "outputs": [
    {
     "name": "stderr",
     "output_type": "stream",
     "text": [
      "/tmp/ipykernel_18/195640296.py:3: MatplotlibDeprecationWarning: The seaborn styles shipped by Matplotlib are deprecated since 3.6, as they no longer correspond to the styles shipped by seaborn. However, they will remain available as 'seaborn-v0_8-<style>'. Alternatively, directly use the seaborn API instead.\n",
      "  plt.style.use('seaborn-whitegrid')\n"
     ]
    }
   ],
   "source": [
    "# Setup plotting\n",
    "import matplotlib.pyplot as plt\n",
    "plt.style.use('seaborn-whitegrid')\n",
    "# Set Matplotlib defaults\n",
    "plt.rc('figure', autolayout=True)\n",
    "plt.rc('axes', labelweight='bold', labelsize='large',\n",
    "       titleweight='bold', titlesize=18, titlepad=10)\n",
    "plt.rc('animation', html='html5')\n",
    "\n",
    "# Setup feedback system\n",
    "from learntools.core import binder\n",
    "binder.bind(globals())\n",
    "from learntools.deep_learning_intro.ex5 import *"
   ]
  },
  {
   "cell_type": "markdown",
   "id": "1ccbb233",
   "metadata": {
    "papermill": {
     "duration": 0.00566,
     "end_time": "2024-07-04T09:59:09.270571",
     "exception": false,
     "start_time": "2024-07-04T09:59:09.264911",
     "status": "completed"
    },
    "tags": []
   },
   "source": [
    "First load the *Spotify* dataset."
   ]
  },
  {
   "cell_type": "code",
   "execution_count": 2,
   "id": "792e99eb",
   "metadata": {
    "execution": {
     "iopub.execute_input": "2024-07-04T09:59:09.284196Z",
     "iopub.status.busy": "2024-07-04T09:59:09.283648Z",
     "iopub.status.idle": "2024-07-04T09:59:27.930490Z",
     "shell.execute_reply": "2024-07-04T09:59:27.928657Z"
    },
    "papermill": {
     "duration": 18.657028,
     "end_time": "2024-07-04T09:59:27.933430",
     "exception": false,
     "start_time": "2024-07-04T09:59:09.276402",
     "status": "completed"
    },
    "tags": []
   },
   "outputs": [
    {
     "name": "stderr",
     "output_type": "stream",
     "text": [
      "2024-07-04 09:59:13.535480: E external/local_xla/xla/stream_executor/cuda/cuda_dnn.cc:9261] Unable to register cuDNN factory: Attempting to register factory for plugin cuDNN when one has already been registered\n",
      "2024-07-04 09:59:13.535658: E external/local_xla/xla/stream_executor/cuda/cuda_fft.cc:607] Unable to register cuFFT factory: Attempting to register factory for plugin cuFFT when one has already been registered\n",
      "2024-07-04 09:59:13.716243: E external/local_xla/xla/stream_executor/cuda/cuda_blas.cc:1515] Unable to register cuBLAS factory: Attempting to register factory for plugin cuBLAS when one has already been registered\n"
     ]
    },
    {
     "name": "stdout",
     "output_type": "stream",
     "text": [
      "Input shape: [18]\n"
     ]
    }
   ],
   "source": [
    "import pandas as pd\n",
    "from sklearn.preprocessing import StandardScaler, OneHotEncoder\n",
    "from sklearn.compose import make_column_transformer\n",
    "from sklearn.model_selection import GroupShuffleSplit\n",
    "\n",
    "from tensorflow import keras\n",
    "from tensorflow.keras import layers\n",
    "from tensorflow.keras import callbacks\n",
    "\n",
    "spotify = pd.read_csv('../input/dl-course-data/spotify.csv')\n",
    "\n",
    "X = spotify.copy().dropna()\n",
    "y = X.pop('track_popularity')\n",
    "artists = X['track_artist']\n",
    "\n",
    "features_num = ['danceability', 'energy', 'key', 'loudness', 'mode',\n",
    "                'speechiness', 'acousticness', 'instrumentalness',\n",
    "                'liveness', 'valence', 'tempo', 'duration_ms']\n",
    "features_cat = ['playlist_genre']\n",
    "\n",
    "preprocessor = make_column_transformer(\n",
    "    (StandardScaler(), features_num),\n",
    "    (OneHotEncoder(), features_cat),\n",
    ")\n",
    "\n",
    "def group_split(X, y, group, train_size=0.75):\n",
    "    splitter = GroupShuffleSplit(train_size=train_size)\n",
    "    train, test = next(splitter.split(X, y, groups=group))\n",
    "    return (X.iloc[train], X.iloc[test], y.iloc[train], y.iloc[test])\n",
    "\n",
    "X_train, X_valid, y_train, y_valid = group_split(X, y, artists)\n",
    "\n",
    "X_train = preprocessor.fit_transform(X_train)\n",
    "X_valid = preprocessor.transform(X_valid)\n",
    "y_train = y_train / 100\n",
    "y_valid = y_valid / 100\n",
    "\n",
    "input_shape = [X_train.shape[1]]\n",
    "print(\"Input shape: {}\".format(input_shape))"
   ]
  },
  {
   "cell_type": "markdown",
   "id": "ef5e3fe5",
   "metadata": {
    "papermill": {
     "duration": 0.006043,
     "end_time": "2024-07-04T09:59:27.945674",
     "exception": false,
     "start_time": "2024-07-04T09:59:27.939631",
     "status": "completed"
    },
    "tags": []
   },
   "source": [
    "# 1) Add Dropout to Spotify Model\n",
    "\n",
    "Here is the last model from Exercise 4. Add two dropout layers, one after the `Dense` layer with 128 units, and one after the `Dense` layer with 64 units. Set the dropout rate on both to `0.3`."
   ]
  },
  {
   "cell_type": "code",
   "execution_count": 3,
   "id": "3db30b26",
   "metadata": {
    "execution": {
     "iopub.execute_input": "2024-07-04T09:59:27.959573Z",
     "iopub.status.busy": "2024-07-04T09:59:27.959104Z",
     "iopub.status.idle": "2024-07-04T09:59:28.136571Z",
     "shell.execute_reply": "2024-07-04T09:59:28.135303Z"
    },
    "lines_to_next_cell": 2,
    "papermill": {
     "duration": 0.187723,
     "end_time": "2024-07-04T09:59:28.139483",
     "exception": false,
     "start_time": "2024-07-04T09:59:27.951760",
     "status": "completed"
    },
    "tags": []
   },
   "outputs": [
    {
     "data": {
      "application/javascript": [
       "parent.postMessage({\"jupyterEvent\": \"custom.exercise_interaction\", \"data\": {\"outcomeType\": 1, \"valueTowardsCompletion\": 0.25, \"interactionType\": 1, \"questionType\": 2, \"questionId\": \"1_Q1\", \"learnToolsVersion\": \"0.3.4\", \"failureMessage\": \"\", \"exceptionClass\": \"\", \"trace\": \"\"}}, \"*\")"
      ],
      "text/plain": [
       "<IPython.core.display.Javascript object>"
      ]
     },
     "metadata": {},
     "output_type": "display_data"
    },
    {
     "data": {
      "text/markdown": [
       "<span style=\"color:#33cc33\">Correct</span>"
      ],
      "text/plain": [
       "Correct"
      ]
     },
     "metadata": {},
     "output_type": "display_data"
    }
   ],
   "source": [
    "# YOUR CODE HERE: Add two 30% dropout layers, one after 128 and one after 64\n",
    "model = keras.Sequential([\n",
    "    layers.Dense(128, activation='relu', input_shape=input_shape),\n",
    "    layers.Dropout(0.3),\n",
    "    layers.Dense(64, activation='relu'),\n",
    "    layers.Dropout(0.3),\n",
    "    layers.Dense(1)\n",
    "])\n",
    "\n",
    "# Check your answer\n",
    "q_1.check()"
   ]
  },
  {
   "cell_type": "code",
   "execution_count": 4,
   "id": "2d989d6f",
   "metadata": {
    "execution": {
     "iopub.execute_input": "2024-07-04T09:59:28.155321Z",
     "iopub.status.busy": "2024-07-04T09:59:28.154892Z",
     "iopub.status.idle": "2024-07-04T09:59:28.160386Z",
     "shell.execute_reply": "2024-07-04T09:59:28.159231Z"
    },
    "papermill": {
     "duration": 0.017629,
     "end_time": "2024-07-04T09:59:28.163438",
     "exception": false,
     "start_time": "2024-07-04T09:59:28.145809",
     "status": "completed"
    },
    "tags": []
   },
   "outputs": [],
   "source": [
    "# Lines below will give you a hint or solution code\n",
    "#q_1.hint()\n",
    "#q_1.solution()"
   ]
  },
  {
   "cell_type": "markdown",
   "id": "7495d2e4",
   "metadata": {
    "papermill": {
     "duration": 0.006848,
     "end_time": "2024-07-04T09:59:28.176954",
     "exception": false,
     "start_time": "2024-07-04T09:59:28.170106",
     "status": "completed"
    },
    "tags": []
   },
   "source": [
    "Now run this next cell to train the model see the effect of adding dropout."
   ]
  },
  {
   "cell_type": "code",
   "execution_count": 5,
   "id": "dd682b6a",
   "metadata": {
    "execution": {
     "iopub.execute_input": "2024-07-04T09:59:28.193213Z",
     "iopub.status.busy": "2024-07-04T09:59:28.192803Z",
     "iopub.status.idle": "2024-07-04T09:59:43.311075Z",
     "shell.execute_reply": "2024-07-04T09:59:43.309919Z"
    },
    "papermill": {
     "duration": 15.129224,
     "end_time": "2024-07-04T09:59:43.313751",
     "exception": false,
     "start_time": "2024-07-04T09:59:28.184527",
     "status": "completed"
    },
    "tags": []
   },
   "outputs": [
    {
     "name": "stdout",
     "output_type": "stream",
     "text": [
      "Minimum Validation Loss: 0.1853\n"
     ]
    },
    {
     "data": {
      "image/png": "[encoded data removed]",
      "text/plain": [
       "<Figure size 640x480 with 1 Axes>"
      ]
     },
     "metadata": {},
     "output_type": "display_data"
    }
   ],
   "source": [
    "model.compile(\n",
    "    optimizer='adam',\n",
    "    loss='mae',\n",
    ")\n",
    "history = model.fit(\n",
    "    X_train, y_train,\n",
    "    validation_data=(X_valid, y_valid),\n",
    "    batch_size=512,\n",
    "    epochs=50,\n",
    "    verbose=0,\n",
    ")\n",
    "history_df = pd.DataFrame(history.history)\n",
    "history_df.loc[:, ['loss', 'val_loss']].plot()\n",
    "print(\"Minimum Validation Loss: {:0.4f}\".format(history_df['val_loss'].min()))"
   ]
  },
  {
   "cell_type": "markdown",
   "id": "e4c236b9",
   "metadata": {
    "papermill": {
     "duration": 0.006542,
     "end_time": "2024-07-04T09:59:43.327321",
     "exception": false,
     "start_time": "2024-07-04T09:59:43.320779",
     "status": "completed"
    },
    "tags": []
   },
   "source": [
    "# 2) Evaluate Dropout\n",
    "\n",
    "Recall from Exercise 4 that this model tended to overfit the data around epoch 5. Did adding dropout seem to help prevent overfitting this time?"
   ]
  },
  {
   "cell_type": "code",
   "execution_count": 6,
   "id": "dbf5ed06",
   "metadata": {
    "execution": {
     "iopub.execute_input": "2024-07-04T09:59:43.345081Z",
     "iopub.status.busy": "2024-07-04T09:59:43.344047Z",
     "iopub.status.idle": "2024-07-04T09:59:43.354030Z",
     "shell.execute_reply": "2024-07-04T09:59:43.352937Z"
    },
    "papermill": {
     "duration": 0.02111,
     "end_time": "2024-07-04T09:59:43.356858",
     "exception": false,
     "start_time": "2024-07-04T09:59:43.335748",
     "status": "completed"
    },
    "tags": []
   },
   "outputs": [
    {
     "data": {
      "application/javascript": [
       "parent.postMessage({\"jupyterEvent\": \"custom.exercise_interaction\", \"data\": {\"outcomeType\": 1, \"valueTowardsCompletion\": 0.25, \"interactionType\": 1, \"questionType\": 4, \"questionId\": \"2_Q2\", \"learnToolsVersion\": \"0.3.4\", \"failureMessage\": \"\", \"exceptionClass\": \"\", \"trace\": \"\"}}, \"*\")"
      ],
      "text/plain": [
       "<IPython.core.display.Javascript object>"
      ]
     },
     "metadata": {},
     "output_type": "display_data"
    },
    {
     "data": {
      "text/markdown": [
       "<span style=\"color:#33cc33\">Correct:</span> \n",
       "\n",
       "\n",
       "From the learning curves, you can see that the validation loss remains near a constant minimum even though the training loss continues to decrease. So we can see that adding dropout did prevent overfitting this time. Moreover, by making it harder for the network to fit spurious patterns, dropout may have encouraged the network to seek out more of the true patterns, possibly improving the validation loss some as well).\n"
      ],
      "text/plain": [
       "Correct: \n",
       "\n",
       "\n",
       "From the learning curves, you can see that the validation loss remains near a constant minimum even though the training loss continues to decrease. So we can see that adding dropout did prevent overfitting this time. Moreover, by making it harder for the network to fit spurious patterns, dropout may have encouraged the network to seek out more of the true patterns, possibly improving the validation loss some as well)."
      ]
     },
     "metadata": {},
     "output_type": "display_data"
    }
   ],
   "source": [
    "# View the solution (Run this cell to receive credit!)\n",
    "q_2.check()"
   ]
  },
  {
   "cell_type": "markdown",
   "id": "8a26d1a5",
   "metadata": {
    "papermill": {
     "duration": 0.006899,
     "end_time": "2024-07-04T09:59:43.371498",
     "exception": false,
     "start_time": "2024-07-04T09:59:43.364599",
     "status": "completed"
    },
    "tags": []
   },
   "source": [
    "Now, we'll switch topics to explore how batch normalization can fix problems in training.\n",
    "\n",
    "Load the *Concrete* dataset. We won't do any standardization this time. This will make the effect of batch normalization much more apparent."
   ]
  },
  {
   "cell_type": "code",
   "execution_count": 7,
   "id": "c1544e62",
   "metadata": {
    "execution": {
     "iopub.execute_input": "2024-07-04T09:59:43.388364Z",
     "iopub.status.busy": "2024-07-04T09:59:43.387718Z",
     "iopub.status.idle": "2024-07-04T09:59:43.407252Z",
     "shell.execute_reply": "2024-07-04T09:59:43.405958Z"
    },
    "papermill": {
     "duration": 0.031398,
     "end_time": "2024-07-04T09:59:43.410147",
     "exception": false,
     "start_time": "2024-07-04T09:59:43.378749",
     "status": "completed"
    },
    "tags": []
   },
   "outputs": [],
   "source": [
    "import pandas as pd\n",
    "\n",
    "concrete = pd.read_csv('../input/dl-course-data/concrete.csv')\n",
    "df = concrete.copy()\n",
    "\n",
    "df_train = df.sample(frac=0.7, random_state=0)\n",
    "df_valid = df.drop(df_train.index)\n",
    "\n",
    "X_train = df_train.drop('CompressiveStrength', axis=1)\n",
    "X_valid = df_valid.drop('CompressiveStrength', axis=1)\n",
    "y_train = df_train['CompressiveStrength']\n",
    "y_valid = df_valid['CompressiveStrength']\n",
    "\n",
    "input_shape = [X_train.shape[1]]"
   ]
  },
  {
   "cell_type": "markdown",
   "id": "c36db3d5",
   "metadata": {
    "papermill": {
     "duration": 0.006986,
     "end_time": "2024-07-04T09:59:43.425183",
     "exception": false,
     "start_time": "2024-07-04T09:59:43.418197",
     "status": "completed"
    },
    "tags": []
   },
   "source": [
    "Run the following cell to train the network on the unstandardized *Concrete* data."
   ]
  },
  {
   "cell_type": "code",
   "execution_count": 8,
   "id": "43ce8e64",
   "metadata": {
    "execution": {
     "iopub.execute_input": "2024-07-04T09:59:43.442401Z",
     "iopub.status.busy": "2024-07-04T09:59:43.441997Z",
     "iopub.status.idle": "2024-07-04T09:59:57.615203Z",
     "shell.execute_reply": "2024-07-04T09:59:57.613739Z"
    },
    "papermill": {
     "duration": 14.186275,
     "end_time": "2024-07-04T09:59:57.618887",
     "exception": false,
     "start_time": "2024-07-04T09:59:43.432612",
     "status": "completed"
    },
    "tags": []
   },
   "outputs": [
    {
     "name": "stdout",
     "output_type": "stream",
     "text": [
      "Minimum Validation Loss: nan\n"
     ]
    },
    {
     "data": {
      "image/png": "[encoded data removed]",
      "text/plain": [
       "<Figure size 640x480 with 1 Axes>"
      ]
     },
     "metadata": {},
     "output_type": "display_data"
    }
   ],
   "source": [
    "model = keras.Sequential([\n",
    "    layers.Dense(512, activation='relu', input_shape=input_shape),\n",
    "    layers.Dense(512, activation='relu'),    \n",
    "    layers.Dense(512, activation='relu'),\n",
    "    layers.Dense(1),\n",
    "])\n",
    "model.compile(\n",
    "    optimizer='sgd', # SGD is more sensitive to differences of scale\n",
    "    loss='mae',\n",
    "    metrics=['mae'],\n",
    ")\n",
    "history = model.fit(\n",
    "    X_train, y_train,\n",
    "    validation_data=(X_valid, y_valid),\n",
    "    batch_size=64,\n",
    "    epochs=100,\n",
    "    verbose=0,\n",
    ")\n",
    "\n",
    "history_df = pd.DataFrame(history.history)\n",
    "history_df.loc[0:, ['loss', 'val_loss']].plot()\n",
    "print((\"Minimum Validation Loss: {:0.4f}\").format(history_df['val_loss'].min()))"
   ]
  },
  {
   "cell_type": "markdown",
   "id": "fe4563f0",
   "metadata": {
    "papermill": {
     "duration": 0.007483,
     "end_time": "2024-07-04T09:59:57.634692",
     "exception": false,
     "start_time": "2024-07-04T09:59:57.627209",
     "status": "completed"
    },
    "tags": []
   },
   "source": [
    "Did you end up with a blank graph? Trying to train this network on this dataset will usually fail. Even when it does converge (due to a lucky weight initialization), it tends to converge to a very large number.\n",
    "\n",
    "# 3) Add Batch Normalization Layers\n",
    "\n",
    "Batch normalization can help correct problems like this.\n",
    "\n",
    "Add four `BatchNormalization` layers, one before each of the dense layers. (Remember to move the `input_shape` argument to the new first layer.)"
   ]
  },
  {
   "cell_type": "code",
   "execution_count": 9,
   "id": "8232fe5a",
   "metadata": {
    "execution": {
     "iopub.execute_input": "2024-07-04T09:59:57.651873Z",
     "iopub.status.busy": "2024-07-04T09:59:57.651447Z",
     "iopub.status.idle": "2024-07-04T09:59:57.842927Z",
     "shell.execute_reply": "2024-07-04T09:59:57.841689Z"
    },
    "lines_to_next_cell": 0,
    "papermill": {
     "duration": 0.203569,
     "end_time": "2024-07-04T09:59:57.845940",
     "exception": false,
     "start_time": "2024-07-04T09:59:57.642371",
     "status": "completed"
    },
    "tags": []
   },
   "outputs": [
    {
     "data": {
      "application/javascript": [
       "parent.postMessage({\"jupyterEvent\": \"custom.exercise_interaction\", \"data\": {\"outcomeType\": 1, \"valueTowardsCompletion\": 0.25, \"interactionType\": 1, \"questionType\": 2, \"questionId\": \"3_Q3\", \"learnToolsVersion\": \"0.3.4\", \"failureMessage\": \"\", \"exceptionClass\": \"\", \"trace\": \"\"}}, \"*\")"
      ],
      "text/plain": [
       "<IPython.core.display.Javascript object>"
      ]
     },
     "metadata": {},
     "output_type": "display_data"
    },
    {
     "data": {
      "text/markdown": [
       "<span style=\"color:#33cc33\">Correct</span>"
      ],
      "text/plain": [
       "Correct"
      ]
     },
     "metadata": {},
     "output_type": "display_data"
    }
   ],
   "source": [
    "# YOUR CODE HERE: Add a BatchNormalization layer before each Dense layer\n",
    "model = keras.Sequential([\n",
    "    layers.BatchNormalization(input_shape=input_shape),\n",
    "    layers.Dense(512, activation='relu'),\n",
    "    layers.BatchNormalization(),\n",
    "    layers.Dense(512, activation='relu'),\n",
    "    layers.BatchNormalization(),\n",
    "    layers.Dense(512, activation='relu'),\n",
    "    layers.BatchNormalization(),\n",
    "    layers.Dense(1),\n",
    "])\n",
    "\n",
    "# Check your answer\n",
    "q_3.check()"
   ]
  },
  {
   "cell_type": "code",
   "execution_count": 10,
   "id": "c9c8cd5d",
   "metadata": {
    "execution": {
     "iopub.execute_input": "2024-07-04T09:59:57.864508Z",
     "iopub.status.busy": "2024-07-04T09:59:57.863707Z",
     "iopub.status.idle": "2024-07-04T09:59:57.869049Z",
     "shell.execute_reply": "2024-07-04T09:59:57.867721Z"
    },
    "papermill": {
     "duration": 0.01768,
     "end_time": "2024-07-04T09:59:57.871815",
     "exception": false,
     "start_time": "2024-07-04T09:59:57.854135",
     "status": "completed"
    },
    "tags": []
   },
   "outputs": [],
   "source": [
    "# Lines below will give you a hint or solution code\n",
    "#q_3.hint()\n",
    "#q_3.solution()"
   ]
  },
  {
   "cell_type": "markdown",
   "id": "42f2334c",
   "metadata": {
    "papermill": {
     "duration": 0.007967,
     "end_time": "2024-07-04T09:59:57.887612",
     "exception": false,
     "start_time": "2024-07-04T09:59:57.879645",
     "status": "completed"
    },
    "tags": []
   },
   "source": [
    "Run the next cell to see if batch normalization will let us train the model."
   ]
  },
  {
   "cell_type": "code",
   "execution_count": 11,
   "id": "32aa8c64",
   "metadata": {
    "execution": {
     "iopub.execute_input": "2024-07-04T09:59:57.905895Z",
     "iopub.status.busy": "2024-07-04T09:59:57.904663Z",
     "iopub.status.idle": "2024-07-04T10:00:16.038240Z",
     "shell.execute_reply": "2024-07-04T10:00:16.036917Z"
    },
    "papermill": {
     "duration": 18.146086,
     "end_time": "2024-07-04T10:00:16.041485",
     "exception": false,
     "start_time": "2024-07-04T09:59:57.895399",
     "status": "completed"
    },
    "tags": []
   },
   "outputs": [
    {
     "name": "stdout",
     "output_type": "stream",
     "text": [
      "Minimum Validation Loss: 4.2144\n"
     ]
    },
    {
     "data": {
      "image/png": "[encoded data removed]",
      "text/plain": [
       "<Figure size 640x480 with 1 Axes>"
      ]
     },
     "metadata": {},
     "output_type": "display_data"
    }
   ],
   "source": [
    "model.compile(\n",
    "    optimizer='sgd',\n",
    "    loss='mae',\n",
    "    metrics=['mae'],\n",
    ")\n",
    "EPOCHS = 100\n",
    "history = model.fit(\n",
    "    X_train, y_train,\n",
    "    validation_data=(X_valid, y_valid),\n",
    "    batch_size=64,\n",
    "    epochs=EPOCHS,\n",
    "    verbose=0,\n",
    ")\n",
    "\n",
    "history_df = pd.DataFrame(history.history)\n",
    "history_df.loc[0:, ['loss', 'val_loss']].plot()\n",
    "print((\"Minimum Validation Loss: {:0.4f}\").format(history_df['val_loss'].min()))"
   ]
  },
  {
   "cell_type": "markdown",
   "id": "070a62ab",
   "metadata": {
    "papermill": {
     "duration": 0.008184,
     "end_time": "2024-07-04T10:00:16.062214",
     "exception": false,
     "start_time": "2024-07-04T10:00:16.054030",
     "status": "completed"
    },
    "tags": []
   },
   "source": [
    "# 4) Evaluate Batch Normalization\n",
    "\n",
    "Did adding batch normalization help?"
   ]
  },
  {
   "cell_type": "code",
   "execution_count": 12,
   "id": "39062bef",
   "metadata": {
    "execution": {
     "iopub.execute_input": "2024-07-04T10:00:16.083954Z",
     "iopub.status.busy": "2024-07-04T10:00:16.083549Z",
     "iopub.status.idle": "2024-07-04T10:00:16.097077Z",
     "shell.execute_reply": "2024-07-04T10:00:16.095914Z"
    },
    "lines_to_next_cell": 0,
    "papermill": {
     "duration": 0.028953,
     "end_time": "2024-07-04T10:00:16.099710",
     "exception": false,
     "start_time": "2024-07-04T10:00:16.070757",
     "status": "completed"
    },
    "tags": []
   },
   "outputs": [
    {
     "data": {
      "application/javascript": [
       "parent.postMessage({\"jupyterEvent\": \"custom.exercise_interaction\", \"data\": {\"outcomeType\": 1, \"valueTowardsCompletion\": 0.25, \"interactionType\": 1, \"questionType\": 4, \"questionId\": \"4_Q4\", \"learnToolsVersion\": \"0.3.4\", \"failureMessage\": \"\", \"exceptionClass\": \"\", \"trace\": \"\"}}, \"*\")"
      ],
      "text/plain": [
       "<IPython.core.display.Javascript object>"
      ]
     },
     "metadata": {},
     "output_type": "display_data"
    },
    {
     "data": {
      "text/markdown": [
       "<span style=\"color:#33cc33\">Correct:</span> \n",
       "\n",
       "\n",
       "You can see that adding batch normalization was a big improvement on the first attempt! By adaptively scaling the data as it passes through the network, batch normalization can let you train models on difficult datasets.\n"
      ],
      "text/plain": [
       "Correct: \n",
       "\n",
       "\n",
       "You can see that adding batch normalization was a big improvement on the first attempt! By adaptively scaling the data as it passes through the network, batch normalization can let you train models on difficult datasets."
      ]
     },
     "metadata": {},
     "output_type": "display_data"
    }
   ],
   "source": [
    "# View the solution (Run this cell to receive credit!)\n",
    "q_4.check()"
   ]
  },
  {
   "cell_type": "markdown",
   "id": "aedbcde2",
   "metadata": {
    "papermill": {
     "duration": 0.00829,
     "end_time": "2024-07-04T10:00:16.116650",
     "exception": false,
     "start_time": "2024-07-04T10:00:16.108360",
     "status": "completed"
    },
    "tags": []
   },
   "source": [
    "# Keep Going #\n",
    "\n",
    "[**Create neural networks**](https://www.kaggle.com/ryanholbrook/binary-classification) for binary classification."
   ]
  },
  {
   "cell_type": "markdown",
   "id": "02d21bf5",
   "metadata": {
    "papermill": {
     "duration": 0.008724,
     "end_time": "2024-07-04T10:00:16.134116",
     "exception": false,
     "start_time": "2024-07-04T10:00:16.125392",
     "status": "completed"
    },
    "tags": []
   },
   "source": [
    "---\n",
    "\n",
    "\n",
    "\n",
    "\n",
    "*Have questions or comments? Visit the [course discussion forum](https://www.kaggle.com/learn/intro-to-deep-learning/discussion) to chat with other learners.*"
   ]
  }
 ],
 "metadata": {
  "jupytext": {
   "cell_metadata_filter": "-all",
   "formats": "ipynb"
  },
  "kaggle": {
   "accelerator": "gpu",
   "dataSources": [
    {
     "datasetId": 829369,
     "sourceId": 1480608,
     "sourceType": "datasetVersion"
    }
   ],
   "dockerImageVersionId": 30648,
   "isGpuEnabled": true,
   "isInternetEnabled": false,
   "language": "python",
   "sourceType": "notebook"
  },
  "kernelspec": {
   "display_name": "Python 3",
   "language": "python",
   "name": "python3"
  },
  "language_info": {
   "codemirror_mode": {
    "name": "ipython",
    "version": 3
   },
   "file_extension": ".py",
   "mimetype": "text/x-python",
   "name": "python",
   "nbconvert_exporter": "python",
   "pygments_lexer": "ipython3",
   "version": "3.10.13"
  },
  "papermill": {
   "default_parameters": {},
   "duration": 73.191135,
   "end_time": "2024-07-04T10:00:18.081959",
   "environment_variables": {},
   "exception": null,
   "input_path": "__notebook__.ipynb",
   "output_path": "__notebook__.ipynb",
   "parameters": {},
   "start_time": "2024-07-04T09:59:04.890824",
   "version": "2.5.0"
  }
 },
 "nbformat": 4,
 "nbformat_minor": 5
}
