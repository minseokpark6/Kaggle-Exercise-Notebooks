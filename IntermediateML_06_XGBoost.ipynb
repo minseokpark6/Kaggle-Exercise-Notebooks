{
 "cells": [
  {
   "cell_type": "markdown",
   "id": "b61086cf",
   "metadata": {
    "papermill": {
     "duration": 0.005438,
     "end_time": "2024-07-05T03:53:01.341822",
     "exception": false,
     "start_time": "2024-07-05T03:53:01.336384",
     "status": "completed"
    },
    "tags": []
   },
   "source": [
    "**This notebook is an exercise in the [Intermediate Machine Learning](https://www.kaggle.com/learn/intermediate-machine-learning) course.  You can reference the tutorial at [this link](https://www.kaggle.com/alexisbcook/xgboost).**\n",
    "\n",
    "---\n"
   ]
  },
  {
   "cell_type": "markdown",
   "id": "e41715bf",
   "metadata": {
    "papermill": {
     "duration": 0.004337,
     "end_time": "2024-07-05T03:53:01.350957",
     "exception": false,
     "start_time": "2024-07-05T03:53:01.346620",
     "status": "completed"
    },
    "tags": []
   },
   "source": [
    "In this exercise, you will use your new knowledge to train a model with **gradient boosting**.\n",
    "\n",
    "# Setup\n",
    "\n",
    "The questions below will give you feedback on your work. Run the following cell to set up the feedback system."
   ]
  },
  {
   "cell_type": "code",
   "execution_count": 1,
   "id": "bea07711",
   "metadata": {
    "execution": {
     "iopub.execute_input": "2024-07-05T03:53:01.361931Z",
     "iopub.status.busy": "2024-07-05T03:53:01.361588Z",
     "iopub.status.idle": "2024-07-05T03:53:04.310130Z",
     "shell.execute_reply": "2024-07-05T03:53:04.309170Z"
    },
    "papermill": {
     "duration": 2.956282,
     "end_time": "2024-07-05T03:53:04.311984",
     "exception": false,
     "start_time": "2024-07-05T03:53:01.355702",
     "status": "completed"
    },
    "tags": []
   },
   "outputs": [
    {
     "name": "stdout",
     "output_type": "stream",
     "text": [
      "Setup Complete\n"
     ]
    }
   ],
   "source": [
    "# Set up code checking\n",
    "import os\n",
    "if not os.path.exists(\"../input/train.csv\"):\n",
    "    os.symlink(\"../input/home-data-for-ml-course/train.csv\", \"../input/train.csv\")  \n",
    "    os.symlink(\"../input/home-data-for-ml-course/test.csv\", \"../input/test.csv\") \n",
    "from learntools.core import binder\n",
    "binder.bind(globals())\n",
    "from learntools.ml_intermediate.ex6 import *\n",
    "print(\"Setup Complete\")"
   ]
  },
  {
   "cell_type": "markdown",
   "id": "8ca9ea42",
   "metadata": {
    "papermill": {
     "duration": 0.004605,
     "end_time": "2024-07-05T03:53:04.322410",
     "exception": false,
     "start_time": "2024-07-05T03:53:04.317805",
     "status": "completed"
    },
    "tags": []
   },
   "source": [
    "You will work with the [Housing Prices Competition for Kaggle Learn Users](https://www.kaggle.com/c/home-data-for-ml-course) dataset from the previous exercise. \n",
    "\n",
    "![Ames Housing dataset image](https://storage.googleapis.com/kaggle-media/learn/images/lTJVG4e.png)\n",
    "\n",
    "Run the next code cell without changes to load the training and validation sets in `X_train`, `X_valid`, `y_train`, and `y_valid`.  The test set is loaded in `X_test`."
   ]
  },
  {
   "cell_type": "code",
   "execution_count": 2,
   "id": "5f9de90a",
   "metadata": {
    "execution": {
     "iopub.execute_input": "2024-07-05T03:53:04.333522Z",
     "iopub.status.busy": "2024-07-05T03:53:04.333188Z",
     "iopub.status.idle": "2024-07-05T03:53:04.461853Z",
     "shell.execute_reply": "2024-07-05T03:53:04.460761Z"
    },
    "papermill": {
     "duration": 0.13721,
     "end_time": "2024-07-05T03:53:04.464384",
     "exception": false,
     "start_time": "2024-07-05T03:53:04.327174",
     "status": "completed"
    },
    "tags": []
   },
   "outputs": [],
   "source": [
    "import pandas as pd\n",
    "from sklearn.model_selection import train_test_split\n",
    "\n",
    "# Read the data\n",
    "X = pd.read_csv('../input/train.csv', index_col='Id')\n",
    "X_test_full = pd.read_csv('../input/test.csv', index_col='Id')\n",
    "\n",
    "# Remove rows with missing target, separate target from predictors\n",
    "X.dropna(axis=0, subset=['SalePrice'], inplace=True)\n",
    "y = X.SalePrice              \n",
    "X.drop(['SalePrice'], axis=1, inplace=True)\n",
    "\n",
    "# Break off validation set from training data\n",
    "X_train_full, X_valid_full, y_train, y_valid = train_test_split(X, y, train_size=0.8, test_size=0.2,\n",
    "                                                                random_state=0)\n",
    "\n",
    "# \"Cardinality\" means the number of unique values in a column\n",
    "# Select categorical columns with relatively low cardinality (convenient but arbitrary)\n",
    "low_cardinality_cols = [cname for cname in X_train_full.columns if X_train_full[cname].nunique() < 10 and \n",
    "                        X_train_full[cname].dtype == \"object\"]\n",
    "\n",
    "# Select numeric columns\n",
    "numeric_cols = [cname for cname in X_train_full.columns if X_train_full[cname].dtype in ['int64', 'float64']]\n",
    "\n",
    "# Keep selected columns only\n",
    "my_cols = low_cardinality_cols + numeric_cols\n",
    "X_train = X_train_full[my_cols].copy()\n",
    "X_valid = X_valid_full[my_cols].copy()\n",
    "X_test = X_test_full[my_cols].copy()\n",
    "\n",
    "# One-hot encode the data (to shorten the code, we use pandas)\n",
    "X_train = pd.get_dummies(X_train)\n",
    "X_valid = pd.get_dummies(X_valid)\n",
    "X_test = pd.get_dummies(X_test)\n",
    "X_train, X_valid = X_train.align(X_valid, join='left', axis=1)\n",
    "X_train, X_test = X_train.align(X_test, join='left', axis=1)\n",
    "\n",
    "# align(): 인덱스와 컬럼을 맞추는 메소드 "
   ]
  },
  {
   "cell_type": "markdown",
   "id": "0bc99a0f",
   "metadata": {
    "papermill": {
     "duration": 0.004517,
     "end_time": "2024-07-05T03:53:04.473911",
     "exception": false,
     "start_time": "2024-07-05T03:53:04.469394",
     "status": "completed"
    },
    "tags": []
   },
   "source": [
    "# Step 1: Build model\n",
    "\n",
    "### Part A\n",
    "\n",
    "In this step, you'll build and train your first model with gradient boosting.\n",
    "\n",
    "- Begin by setting `my_model_1` to an XGBoost model.  Use the [XGBRegressor](https://xgboost.readthedocs.io/en/latest/python/python_api.html#xgboost.XGBRegressor) class, and set the random seed to 0 (`random_state=0`).  **Leave all other parameters as default.**\n",
    "- Then, fit the model to the training data in `X_train` and `y_train`."
   ]
  },
  {
   "cell_type": "code",
   "execution_count": 3,
   "id": "9eb86547",
   "metadata": {
    "execution": {
     "iopub.execute_input": "2024-07-05T03:53:04.484814Z",
     "iopub.status.busy": "2024-07-05T03:53:04.484439Z",
     "iopub.status.idle": "2024-07-05T03:53:04.843239Z",
     "shell.execute_reply": "2024-07-05T03:53:04.842383Z"
    },
    "papermill": {
     "duration": 0.366381,
     "end_time": "2024-07-05T03:53:04.844856",
     "exception": false,
     "start_time": "2024-07-05T03:53:04.478475",
     "status": "completed"
    },
    "tags": []
   },
   "outputs": [
    {
     "data": {
      "application/javascript": [
       "parent.postMessage({\"jupyterEvent\": \"custom.exercise_interaction\", \"data\": {\"outcomeType\": 1, \"valueTowardsCompletion\": 0.5, \"interactionType\": 1, \"questionType\": 2, \"questionId\": \"1.1_Model1A\", \"learnToolsVersion\": \"0.3.4\", \"failureMessage\": \"\", \"exceptionClass\": \"\", \"trace\": \"\"}}, \"*\")"
      ],
      "text/plain": [
       "<IPython.core.display.Javascript object>"
      ]
     },
     "metadata": {},
     "output_type": "display_data"
    },
    {
     "data": {
      "text/markdown": [
       "<span style=\"color:#33cc33\">Correct</span>"
      ],
      "text/plain": [
       "Correct"
      ]
     },
     "metadata": {},
     "output_type": "display_data"
    }
   ],
   "source": [
    "from xgboost import XGBRegressor\n",
    "\n",
    "# Define the model\n",
    "my_model_1 = XGBRegressor(random_state=0)\n",
    "\n",
    "# Fit the model\n",
    "my_model_1.fit(X_train, y_train)\n",
    "\n",
    "# Check your answer\n",
    "step_1.a.check()"
   ]
  },
  {
   "cell_type": "code",
   "execution_count": 4,
   "id": "097c8486",
   "metadata": {
    "execution": {
     "iopub.execute_input": "2024-07-05T03:53:04.856241Z",
     "iopub.status.busy": "2024-07-05T03:53:04.855928Z",
     "iopub.status.idle": "2024-07-05T03:53:04.860052Z",
     "shell.execute_reply": "2024-07-05T03:53:04.859204Z"
    },
    "papermill": {
     "duration": 0.011985,
     "end_time": "2024-07-05T03:53:04.861827",
     "exception": false,
     "start_time": "2024-07-05T03:53:04.849842",
     "status": "completed"
    },
    "tags": []
   },
   "outputs": [],
   "source": [
    "# Lines below will give you a hint or solution code\n",
    "#step_1.a.hint()\n",
    "#step_1.a.solution()"
   ]
  },
  {
   "cell_type": "markdown",
   "id": "8149f3f4",
   "metadata": {
    "papermill": {
     "duration": 0.004816,
     "end_time": "2024-07-05T03:53:04.871922",
     "exception": false,
     "start_time": "2024-07-05T03:53:04.867106",
     "status": "completed"
    },
    "tags": []
   },
   "source": [
    "### Part B\n",
    "\n",
    "Set `predictions_1` to the model's predictions for the validation data.  Recall that the validation features are stored in `X_valid`."
   ]
  },
  {
   "cell_type": "code",
   "execution_count": 5,
   "id": "56b96b76",
   "metadata": {
    "execution": {
     "iopub.execute_input": "2024-07-05T03:53:04.883964Z",
     "iopub.status.busy": "2024-07-05T03:53:04.883637Z",
     "iopub.status.idle": "2024-07-05T03:53:04.918421Z",
     "shell.execute_reply": "2024-07-05T03:53:04.917795Z"
    },
    "papermill": {
     "duration": 0.044304,
     "end_time": "2024-07-05T03:53:04.921710",
     "exception": false,
     "start_time": "2024-07-05T03:53:04.877406",
     "status": "completed"
    },
    "tags": []
   },
   "outputs": [
    {
     "data": {
      "application/javascript": [
       "parent.postMessage({\"jupyterEvent\": \"custom.exercise_interaction\", \"data\": {\"outcomeType\": 1, \"valueTowardsCompletion\": 0.5, \"interactionType\": 1, \"questionType\": 2, \"questionId\": \"1.2_Model1B\", \"learnToolsVersion\": \"0.3.4\", \"failureMessage\": \"\", \"exceptionClass\": \"\", \"trace\": \"\"}}, \"*\")"
      ],
      "text/plain": [
       "<IPython.core.display.Javascript object>"
      ]
     },
     "metadata": {},
     "output_type": "display_data"
    },
    {
     "data": {
      "text/markdown": [
       "<span style=\"color:#33cc33\">Correct</span>"
      ],
      "text/plain": [
       "Correct"
      ]
     },
     "metadata": {},
     "output_type": "display_data"
    }
   ],
   "source": [
    "from sklearn.metrics import mean_absolute_error\n",
    "\n",
    "# Get predictions\n",
    "predictions_1 = my_model_1.predict(X_valid)\n",
    "\n",
    "# Check your answer\n",
    "step_1.b.check()"
   ]
  },
  {
   "cell_type": "code",
   "execution_count": 6,
   "id": "924e196b",
   "metadata": {
    "execution": {
     "iopub.execute_input": "2024-07-05T03:53:04.933698Z",
     "iopub.status.busy": "2024-07-05T03:53:04.933371Z",
     "iopub.status.idle": "2024-07-05T03:53:04.937957Z",
     "shell.execute_reply": "2024-07-05T03:53:04.936774Z"
    },
    "papermill": {
     "duration": 0.012971,
     "end_time": "2024-07-05T03:53:04.940035",
     "exception": false,
     "start_time": "2024-07-05T03:53:04.927064",
     "status": "completed"
    },
    "tags": []
   },
   "outputs": [],
   "source": [
    "# Lines below will give you a hint or solution code\n",
    "#step_1.b.hint()\n",
    "#step_1.b.solution()"
   ]
  },
  {
   "cell_type": "markdown",
   "id": "6d06b4d7",
   "metadata": {
    "papermill": {
     "duration": 0.004969,
     "end_time": "2024-07-05T03:53:04.950512",
     "exception": false,
     "start_time": "2024-07-05T03:53:04.945543",
     "status": "completed"
    },
    "tags": []
   },
   "source": [
    "### Part C\n",
    "\n",
    "Finally, use the `mean_absolute_error()` function to calculate the mean absolute error (MAE) corresponding to the predictions for the validation set.  Recall that the labels for the validation data are stored in `y_valid`."
   ]
  },
  {
   "cell_type": "code",
   "execution_count": 7,
   "id": "4642623e",
   "metadata": {
    "execution": {
     "iopub.execute_input": "2024-07-05T03:53:04.962609Z",
     "iopub.status.busy": "2024-07-05T03:53:04.962258Z",
     "iopub.status.idle": "2024-07-05T03:53:04.971803Z",
     "shell.execute_reply": "2024-07-05T03:53:04.971001Z"
    },
    "papermill": {
     "duration": 0.01817,
     "end_time": "2024-07-05T03:53:04.973984",
     "exception": false,
     "start_time": "2024-07-05T03:53:04.955814",
     "status": "completed"
    },
    "tags": []
   },
   "outputs": [
    {
     "data": {
      "application/javascript": [
       "parent.postMessage({\"jupyterEvent\": \"custom.exercise_interaction\", \"data\": {\"outcomeType\": 1, \"valueTowardsCompletion\": 0.5, \"interactionType\": 1, \"questionType\": 2, \"questionId\": \"1.3_Model1C\", \"learnToolsVersion\": \"0.3.4\", \"failureMessage\": \"\", \"exceptionClass\": \"\", \"trace\": \"\"}}, \"*\")"
      ],
      "text/plain": [
       "<IPython.core.display.Javascript object>"
      ]
     },
     "metadata": {},
     "output_type": "display_data"
    },
    {
     "data": {
      "text/markdown": [
       "<span style=\"color:#33cc33\">Correct</span>"
      ],
      "text/plain": [
       "Correct"
      ]
     },
     "metadata": {},
     "output_type": "display_data"
    }
   ],
   "source": [
    "# Calculate MAE\n",
    "mae_1 = mean_absolute_error(y_valid, predictions_1)\n",
    "\n",
    "# Uncomment to print MAE\n",
    "# print(\"Mean Absolute Error:\" , mae_1)\n",
    "\n",
    "# Check your answer\n",
    "step_1.c.check()"
   ]
  },
  {
   "cell_type": "code",
   "execution_count": 8,
   "id": "54e6f09f",
   "metadata": {
    "execution": {
     "iopub.execute_input": "2024-07-05T03:53:04.987223Z",
     "iopub.status.busy": "2024-07-05T03:53:04.986888Z",
     "iopub.status.idle": "2024-07-05T03:53:04.991526Z",
     "shell.execute_reply": "2024-07-05T03:53:04.990473Z"
    },
    "papermill": {
     "duration": 0.013109,
     "end_time": "2024-07-05T03:53:04.993345",
     "exception": false,
     "start_time": "2024-07-05T03:53:04.980236",
     "status": "completed"
    },
    "tags": []
   },
   "outputs": [
    {
     "name": "stdout",
     "output_type": "stream",
     "text": [
      "Mean Absolute Error: 18161.82412510702\n"
     ]
    }
   ],
   "source": [
    "print(\"Mean Absolute Error:\" , mae_1)"
   ]
  },
  {
   "cell_type": "code",
   "execution_count": 9,
   "id": "99c95d6e",
   "metadata": {
    "execution": {
     "iopub.execute_input": "2024-07-05T03:53:05.006088Z",
     "iopub.status.busy": "2024-07-05T03:53:05.005720Z",
     "iopub.status.idle": "2024-07-05T03:53:05.010088Z",
     "shell.execute_reply": "2024-07-05T03:53:05.009058Z"
    },
    "papermill": {
     "duration": 0.012943,
     "end_time": "2024-07-05T03:53:05.011988",
     "exception": false,
     "start_time": "2024-07-05T03:53:04.999045",
     "status": "completed"
    },
    "tags": []
   },
   "outputs": [],
   "source": [
    "# Lines below will give you a hint or solution code\n",
    "#step_1.c.hint()\n",
    "#step_1.c.solution()"
   ]
  },
  {
   "cell_type": "markdown",
   "id": "20d69490",
   "metadata": {
    "papermill": {
     "duration": 0.005415,
     "end_time": "2024-07-05T03:53:05.023419",
     "exception": false,
     "start_time": "2024-07-05T03:53:05.018004",
     "status": "completed"
    },
    "tags": []
   },
   "source": [
    "# Step 2: Improve the model\n",
    "\n",
    "Now that you've trained a default model as baseline, it's time to tinker with the parameters, to see if you can get better performance!\n",
    "- Begin by setting `my_model_2` to an XGBoost model, using the [XGBRegressor](https://xgboost.readthedocs.io/en/latest/python/python_api.html#xgboost.XGBRegressor) class.  Use what you learned in the previous tutorial to figure out how to change the default parameters (like `n_estimators` and `learning_rate`) to get better results.\n",
    "- Then, fit the model to the training data in `X_train` and `y_train`.\n",
    "- Set `predictions_2` to the model's predictions for the validation data.  Recall that the validation features are stored in `X_valid`.\n",
    "- Finally, use the `mean_absolute_error()` function to calculate the mean absolute error (MAE) corresponding to the predictions on the validation set.  Recall that the labels for the validation data are stored in `y_valid`.\n",
    "\n",
    "In order for this step to be marked correct, your model in `my_model_2` must attain lower MAE than the model in `my_model_1`. "
   ]
  },
  {
   "cell_type": "code",
   "execution_count": 10,
   "id": "4b7aa154",
   "metadata": {
    "execution": {
     "iopub.execute_input": "2024-07-05T03:53:05.036687Z",
     "iopub.status.busy": "2024-07-05T03:53:05.036296Z",
     "iopub.status.idle": "2024-07-05T03:53:08.026710Z",
     "shell.execute_reply": "2024-07-05T03:53:08.025802Z"
    },
    "papermill": {
     "duration": 2.99945,
     "end_time": "2024-07-05T03:53:08.028583",
     "exception": false,
     "start_time": "2024-07-05T03:53:05.029133",
     "status": "completed"
    },
    "tags": []
   },
   "outputs": [
    {
     "data": {
      "application/javascript": [
       "parent.postMessage({\"jupyterEvent\": \"custom.exercise_interaction\", \"data\": {\"outcomeType\": 1, \"valueTowardsCompletion\": 0.5, \"interactionType\": 1, \"questionType\": 2, \"questionId\": \"2_Model2\", \"learnToolsVersion\": \"0.3.4\", \"failureMessage\": \"\", \"exceptionClass\": \"\", \"trace\": \"\"}}, \"*\")"
      ],
      "text/plain": [
       "<IPython.core.display.Javascript object>"
      ]
     },
     "metadata": {},
     "output_type": "display_data"
    },
    {
     "data": {
      "text/markdown": [
       "<span style=\"color:#33cc33\">Correct</span>"
      ],
      "text/plain": [
       "Correct"
      ]
     },
     "metadata": {},
     "output_type": "display_data"
    }
   ],
   "source": [
    "# Define the model\n",
    "my_model_2 = XGBRegressor(n_estimators=1000, learning_rate=0.05)\n",
    "\n",
    "# n_estimators : 생성할 결정 트리 수 (디폴트 = 100개)\n",
    "# lenaring_rate = 트리의 기여도를 조정하는 매개변수 (디폴트 = 0.3)\n",
    "# >> 0.05 : 학습 속도를 낮추고 더 천천히 최적화를 진행 // 낮은 학습률일수록 트리 수를 늘려서 충분히 학습해야함. \n",
    "# >> 모델 일반화 및 과적합 방지 목적 \n",
    "\n",
    "# Fit the model\n",
    "my_model_2.fit(X_train, y_train)\n",
    "\n",
    "# Get predictions\n",
    "predictions_2 = my_model_2.predict(X_valid)\n",
    "\n",
    "# Calculate MAE\n",
    "mae_2 = mean_absolute_error(y_valid, predictions_2)\n",
    "\n",
    "# Uncomment to print MAE\n",
    "# print(\"Mean Absolute Error:\" , mae_2)\n",
    "\n",
    "# Check your answer\n",
    "step_2.check()"
   ]
  },
  {
   "cell_type": "code",
   "execution_count": 11,
   "id": "022cab48",
   "metadata": {
    "execution": {
     "iopub.execute_input": "2024-07-05T03:53:08.042405Z",
     "iopub.status.busy": "2024-07-05T03:53:08.042066Z",
     "iopub.status.idle": "2024-07-05T03:53:08.046717Z",
     "shell.execute_reply": "2024-07-05T03:53:08.045782Z"
    },
    "papermill": {
     "duration": 0.013887,
     "end_time": "2024-07-05T03:53:08.048876",
     "exception": false,
     "start_time": "2024-07-05T03:53:08.034989",
     "status": "completed"
    },
    "tags": []
   },
   "outputs": [
    {
     "name": "stdout",
     "output_type": "stream",
     "text": [
      "Mean Absolute Error: 17224.27947078339\n"
     ]
    }
   ],
   "source": [
    "print(\"Mean Absolute Error:\" , mae_2)"
   ]
  },
  {
   "cell_type": "code",
   "execution_count": 12,
   "id": "90d31dd1",
   "metadata": {
    "execution": {
     "iopub.execute_input": "2024-07-05T03:53:08.063028Z",
     "iopub.status.busy": "2024-07-05T03:53:08.062115Z",
     "iopub.status.idle": "2024-07-05T03:53:08.066339Z",
     "shell.execute_reply": "2024-07-05T03:53:08.065491Z"
    },
    "papermill": {
     "duration": 0.013069,
     "end_time": "2024-07-05T03:53:08.068057",
     "exception": false,
     "start_time": "2024-07-05T03:53:08.054988",
     "status": "completed"
    },
    "tags": []
   },
   "outputs": [],
   "source": [
    "# Lines below will give you a hint or solution code\n",
    "#step_2.hint()\n",
    "#step_2.solution()"
   ]
  },
  {
   "cell_type": "markdown",
   "id": "6b94d50b",
   "metadata": {
    "papermill": {
     "duration": 0.005668,
     "end_time": "2024-07-05T03:53:08.079948",
     "exception": false,
     "start_time": "2024-07-05T03:53:08.074280",
     "status": "completed"
    },
    "tags": []
   },
   "source": [
    "# Step 3: Break the model\n",
    "\n",
    "In this step, you will create a model that performs worse than the original model in Step 1.  This will help you to develop your intuition for how to set parameters.  You might even find that you accidentally get better performance, which is ultimately a nice problem to have and a valuable learning experience!\n",
    "- Begin by setting `my_model_3` to an XGBoost model, using the [XGBRegressor](https://xgboost.readthedocs.io/en/latest/python/python_api.html#xgboost.XGBRegressor) class.  Use what you learned in the previous tutorial to figure out how to change the default parameters (like `n_estimators` and `learning_rate`) to design a model to get high MAE.\n",
    "- Then, fit the model to the training data in `X_train` and `y_train`.\n",
    "- Set `predictions_3` to the model's predictions for the validation data.  Recall that the validation features are stored in `X_valid`.\n",
    "- Finally, use the `mean_absolute_error()` function to calculate the mean absolute error (MAE) corresponding to the predictions on the validation set.  Recall that the labels for the validation data are stored in `y_valid`.\n",
    "\n",
    "In order for this step to be marked correct, your model in `my_model_3` must attain higher MAE than the model in `my_model_1`. "
   ]
  },
  {
   "cell_type": "code",
   "execution_count": 13,
   "id": "0b96cc70",
   "metadata": {
    "execution": {
     "iopub.execute_input": "2024-07-05T03:53:08.093021Z",
     "iopub.status.busy": "2024-07-05T03:53:08.092678Z",
     "iopub.status.idle": "2024-07-05T03:53:08.191223Z",
     "shell.execute_reply": "2024-07-05T03:53:08.190000Z"
    },
    "papermill": {
     "duration": 0.1076,
     "end_time": "2024-07-05T03:53:08.193385",
     "exception": false,
     "start_time": "2024-07-05T03:53:08.085785",
     "status": "completed"
    },
    "tags": []
   },
   "outputs": [
    {
     "name": "stdout",
     "output_type": "stream",
     "text": [
      "Mean Absolute Error: 42678.815550085616\n"
     ]
    },
    {
     "data": {
      "application/javascript": [
       "parent.postMessage({\"jupyterEvent\": \"custom.exercise_interaction\", \"data\": {\"outcomeType\": 1, \"valueTowardsCompletion\": 0.5, \"interactionType\": 1, \"questionType\": 2, \"questionId\": \"3_Model3\", \"learnToolsVersion\": \"0.3.4\", \"failureMessage\": \"\", \"exceptionClass\": \"\", \"trace\": \"\"}}, \"*\")"
      ],
      "text/plain": [
       "<IPython.core.display.Javascript object>"
      ]
     },
     "metadata": {},
     "output_type": "display_data"
    },
    {
     "data": {
      "text/markdown": [
       "<span style=\"color:#33cc33\">Correct</span>"
      ],
      "text/plain": [
       "Correct"
      ]
     },
     "metadata": {},
     "output_type": "display_data"
    }
   ],
   "source": [
    "# Define the model\n",
    "my_model_3 = XGBRegressor(n_estimators=1)\n",
    "\n",
    "# Fit the model\n",
    "my_model_3.fit(X_train, y_train)\n",
    "\n",
    "# Get predictions\n",
    "predictions_3 = my_model_3.predict(X_valid)\n",
    "\n",
    "# Calculate MAE\n",
    "mae_3 = mean_absolute_error(y_valid, predictions_3)\n",
    "\n",
    "# Uncomment to print MAE\n",
    "print(\"Mean Absolute Error:\" , mae_3)\n",
    "\n",
    "# Check your answer\n",
    "step_3.check()"
   ]
  },
  {
   "cell_type": "code",
   "execution_count": 14,
   "id": "a9925062",
   "metadata": {
    "execution": {
     "iopub.execute_input": "2024-07-05T03:53:08.207292Z",
     "iopub.status.busy": "2024-07-05T03:53:08.206947Z",
     "iopub.status.idle": "2024-07-05T03:53:08.211213Z",
     "shell.execute_reply": "2024-07-05T03:53:08.210259Z"
    },
    "papermill": {
     "duration": 0.013745,
     "end_time": "2024-07-05T03:53:08.213504",
     "exception": false,
     "start_time": "2024-07-05T03:53:08.199759",
     "status": "completed"
    },
    "tags": []
   },
   "outputs": [],
   "source": [
    "# Lines below will give you a hint or solution code\n",
    "#step_3.hint()\n",
    "#step_3.solution()"
   ]
  },
  {
   "cell_type": "markdown",
   "id": "060a2ce2",
   "metadata": {
    "papermill": {
     "duration": 0.005639,
     "end_time": "2024-07-05T03:53:08.225579",
     "exception": false,
     "start_time": "2024-07-05T03:53:08.219940",
     "status": "completed"
    },
    "tags": []
   },
   "source": [
    "# Keep going\n",
    "\n",
    "Continue to learn about **[data leakage](https://www.kaggle.com/alexisbcook/data-leakage)**.  This is an important issue for a data scientist to understand, and it has the potential to ruin your models in subtle and dangerous ways!"
   ]
  },
  {
   "cell_type": "markdown",
   "id": "9d1a853e",
   "metadata": {
    "papermill": {
     "duration": 0.005594,
     "end_time": "2024-07-05T03:53:08.237088",
     "exception": false,
     "start_time": "2024-07-05T03:53:08.231494",
     "status": "completed"
    },
    "tags": []
   },
   "source": [
    "---\n",
    "\n",
    "\n",
    "\n",
    "\n",
    "*Have questions or comments? Visit the [course discussion forum](https://www.kaggle.com/learn/intermediate-machine-learning/discussion) to chat with other learners.*"
   ]
  }
 ],
 "metadata": {
  "kaggle": {
   "accelerator": "none",
   "dataSources": [
    {
     "databundleVersionId": 111096,
     "sourceId": 10211,
     "sourceType": "competition"
    }
   ],
   "isGpuEnabled": false,
   "isInternetEnabled": false,
   "language": "python",
   "sourceType": "notebook"
  },
  "kernelspec": {
   "display_name": "Python 3",
   "language": "python",
   "name": "python3"
  },
  "language_info": {
   "codemirror_mode": {
    "name": "ipython",
    "version": 3
   },
   "file_extension": ".py",
   "mimetype": "text/x-python",
   "name": "python",
   "nbconvert_exporter": "python",
   "pygments_lexer": "ipython3",
   "version": "3.10.13"
  },
  "papermill": {
   "default_parameters": {},
   "duration": 9.906431,
   "end_time": "2024-07-05T03:53:08.761922",
   "environment_variables": {},
   "exception": null,
   "input_path": "__notebook__.ipynb",
   "output_path": "__notebook__.ipynb",
   "parameters": {},
   "start_time": "2024-07-05T03:52:58.855491",
   "version": "2.5.0"
  }
 },
 "nbformat": 4,
 "nbformat_minor": 5
}
