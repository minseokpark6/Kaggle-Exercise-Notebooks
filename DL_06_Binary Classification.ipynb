{
 "cells": [
  {
   "cell_type": "markdown",
   "id": "8f33d035",
   "metadata": {
    "papermill": {
     "duration": 0.006308,
     "end_time": "2024-07-04T10:25:45.748688",
     "exception": false,
     "start_time": "2024-07-04T10:25:45.742380",
     "status": "completed"
    },
    "tags": []
   },
   "source": [
    "**This notebook is an exercise in the [Intro to Deep Learning](https://www.kaggle.com/learn/intro-to-deep-learning) course.  You can reference the tutorial at [this link](https://www.kaggle.com/ryanholbrook/binary-classification).**\n",
    "\n",
    "---\n"
   ]
  },
  {
   "cell_type": "markdown",
   "id": "f9c86c52",
   "metadata": {
    "papermill": {
     "duration": 0.005559,
     "end_time": "2024-07-04T10:25:45.760367",
     "exception": false,
     "start_time": "2024-07-04T10:25:45.754808",
     "status": "completed"
    },
    "tags": []
   },
   "source": [
    "# Introduction #\n",
    "\n",
    "In this exercise, you'll build a model to predict hotel cancellations with a binary classifier."
   ]
  },
  {
   "cell_type": "code",
   "execution_count": 1,
   "id": "c58a78b6",
   "metadata": {
    "execution": {
     "iopub.execute_input": "2024-07-04T10:25:45.773857Z",
     "iopub.status.busy": "2024-07-04T10:25:45.773424Z",
     "iopub.status.idle": "2024-07-04T10:25:46.782479Z",
     "shell.execute_reply": "2024-07-04T10:25:46.781313Z"
    },
    "lines_to_next_cell": 0,
    "papermill": {
     "duration": 1.019213,
     "end_time": "2024-07-04T10:25:46.785364",
     "exception": false,
     "start_time": "2024-07-04T10:25:45.766151",
     "status": "completed"
    },
    "tags": []
   },
   "outputs": [
    {
     "name": "stderr",
     "output_type": "stream",
     "text": [
      "/tmp/ipykernel_18/3338970720.py:3: MatplotlibDeprecationWarning: The seaborn styles shipped by Matplotlib are deprecated since 3.6, as they no longer correspond to the styles shipped by seaborn. However, they will remain available as 'seaborn-v0_8-<style>'. Alternatively, directly use the seaborn API instead.\n",
      "  plt.style.use('seaborn-whitegrid')\n"
     ]
    }
   ],
   "source": [
    "# Setup plotting\n",
    "import matplotlib.pyplot as plt\n",
    "plt.style.use('seaborn-whitegrid')\n",
    "# Set Matplotlib defaults\n",
    "plt.rc('figure', autolayout=True)\n",
    "plt.rc('axes', labelweight='bold', labelsize='large',\n",
    "       titleweight='bold', titlesize=18, titlepad=10)\n",
    "plt.rc('animation', html='html5')\n",
    "\n",
    "# Setup feedback system\n",
    "from learntools.core import binder\n",
    "binder.bind(globals())\n",
    "from learntools.deep_learning_intro.ex6 import *"
   ]
  },
  {
   "cell_type": "markdown",
   "id": "be0abf69",
   "metadata": {
    "papermill": {
     "duration": 0.00562,
     "end_time": "2024-07-04T10:25:46.797084",
     "exception": false,
     "start_time": "2024-07-04T10:25:46.791464",
     "status": "completed"
    },
    "tags": []
   },
   "source": [
    "First, load the *Hotel Cancellations* dataset."
   ]
  },
  {
   "cell_type": "code",
   "execution_count": 2,
   "id": "11d2dcc7",
   "metadata": {
    "execution": {
     "iopub.execute_input": "2024-07-04T10:25:46.810849Z",
     "iopub.status.busy": "2024-07-04T10:25:46.810306Z",
     "iopub.status.idle": "2024-07-04T10:25:50.190594Z",
     "shell.execute_reply": "2024-07-04T10:25:50.189359Z"
    },
    "lines_to_next_cell": 2,
    "papermill": {
     "duration": 3.39073,
     "end_time": "2024-07-04T10:25:50.193630",
     "exception": false,
     "start_time": "2024-07-04T10:25:46.802900",
     "status": "completed"
    },
    "tags": []
   },
   "outputs": [],
   "source": [
    "import pandas as pd\n",
    "\n",
    "from sklearn.model_selection import train_test_split\n",
    "from sklearn.preprocessing import StandardScaler, OneHotEncoder\n",
    "from sklearn.impute import SimpleImputer\n",
    "from sklearn.pipeline import make_pipeline\n",
    "from sklearn.compose import make_column_transformer\n",
    "\n",
    "hotel = pd.read_csv('../input/dl-course-data/hotel.csv')\n",
    "\n",
    "X = hotel.copy()\n",
    "y = X.pop('is_canceled')\n",
    "\n",
    "X['arrival_date_month'] = \\\n",
    "    X['arrival_date_month'].map(\n",
    "        {'January':1, 'February': 2, 'March':3,\n",
    "         'April':4, 'May':5, 'June':6, 'July':7,\n",
    "         'August':8, 'September':9, 'October':10,\n",
    "         'November':11, 'December':12}\n",
    "    )\n",
    "\n",
    "features_num = [\n",
    "    \"lead_time\", \"arrival_date_week_number\",\n",
    "    \"arrival_date_day_of_month\", \"stays_in_weekend_nights\",\n",
    "    \"stays_in_week_nights\", \"adults\", \"children\", \"babies\",\n",
    "    \"is_repeated_guest\", \"previous_cancellations\",\n",
    "    \"previous_bookings_not_canceled\", \"required_car_parking_spaces\",\n",
    "    \"total_of_special_requests\", \"adr\",\n",
    "]\n",
    "features_cat = [\n",
    "    \"hotel\", \"arrival_date_month\", \"meal\",\n",
    "    \"market_segment\", \"distribution_channel\",\n",
    "    \"reserved_room_type\", \"deposit_type\", \"customer_type\",\n",
    "]\n",
    "\n",
    "transformer_num = make_pipeline(\n",
    "    SimpleImputer(strategy=\"constant\"), # there are a few missing values\n",
    "    StandardScaler(),\n",
    ")\n",
    "\n",
    "# SimpleImputer : 결측치 처리 함수 \n",
    "# strategy : 결측치 처리 방법 >> mean, median, most_frequent, constant (numeric)// most_frequent, constant (Categorical)\n",
    "# constant : 특정값으로 결측치를 대치해줘. \n",
    "\n",
    "transformer_cat = make_pipeline(\n",
    "    SimpleImputer(strategy=\"constant\", fill_value=\"NA\"),\n",
    "    OneHotEncoder(handle_unknown='ignore'),\n",
    ")\n",
    "\n",
    "preprocessor = make_column_transformer(\n",
    "    (transformer_num, features_num),\n",
    "    (transformer_cat, features_cat),\n",
    ")\n",
    "\n",
    "# stratify - make sure classes are evenlly represented across splits\n",
    "X_train, X_valid, y_train, y_valid = \\\n",
    "    train_test_split(X, y, stratify=y, train_size=0.75)\n",
    "\n",
    "X_train = preprocessor.fit_transform(X_train)\n",
    "X_valid = preprocessor.transform(X_valid)\n",
    "\n",
    "input_shape = [X_train.shape[1]]"
   ]
  },
  {
   "cell_type": "markdown",
   "id": "eae7bae9",
   "metadata": {
    "papermill": {
     "duration": 0.006413,
     "end_time": "2024-07-04T10:25:50.206377",
     "exception": false,
     "start_time": "2024-07-04T10:25:50.199964",
     "status": "completed"
    },
    "tags": []
   },
   "source": [
    "# 1) Define Model #\n",
    "\n",
    "The model we'll use this time will have both batch normalization and dropout layers. To ease reading we've broken the diagram into blocks, but you can define it layer by layer as usual.\n",
    "\n",
    "Define a model with an architecture given by this diagram:\n",
    "\n",
    "<figure style=\"padding: 1em;\">\n",
    "<img src=\"https://storage.googleapis.com/kaggle-media/learn/images/V04o59Z.png\" width=\"400\" alt=\"Diagram of network architecture: BatchNorm, Dense, BatchNorm, Dropout, Dense, BatchNorm, Dropout, Dense.\">\n",
    "<figcaption style=\"textalign: center; font-style: italic\"><center>Diagram of a binary classifier.</center></figcaption>\n",
    "</figure>\n"
   ]
  },
  {
   "cell_type": "code",
   "execution_count": 3,
   "id": "b774f42b",
   "metadata": {
    "execution": {
     "iopub.execute_input": "2024-07-04T10:25:50.220603Z",
     "iopub.status.busy": "2024-07-04T10:25:50.220161Z",
     "iopub.status.idle": "2024-07-04T10:25:50.252417Z",
     "shell.execute_reply": "2024-07-04T10:25:50.251202Z"
    },
    "papermill": {
     "duration": 0.042643,
     "end_time": "2024-07-04T10:25:50.255023",
     "exception": false,
     "start_time": "2024-07-04T10:25:50.212380",
     "status": "completed"
    },
    "tags": []
   },
   "outputs": [
    {
     "data": {
      "text/html": [
       "<div>\n",
       "<style scoped>\n",
       "    .dataframe tbody tr th:only-of-type {\n",
       "        vertical-align: middle;\n",
       "    }\n",
       "\n",
       "    .dataframe tbody tr th {\n",
       "        vertical-align: top;\n",
       "    }\n",
       "\n",
       "    .dataframe thead th {\n",
       "        text-align: right;\n",
       "    }\n",
       "</style>\n",
       "<table border=\"1\" class=\"dataframe\">\n",
       "  <thead>\n",
       "    <tr style=\"text-align: right;\">\n",
       "      <th></th>\n",
       "      <th>hotel</th>\n",
       "      <th>lead_time</th>\n",
       "      <th>arrival_date_year</th>\n",
       "      <th>arrival_date_month</th>\n",
       "      <th>arrival_date_week_number</th>\n",
       "      <th>arrival_date_day_of_month</th>\n",
       "      <th>stays_in_weekend_nights</th>\n",
       "      <th>stays_in_week_nights</th>\n",
       "      <th>adults</th>\n",
       "      <th>children</th>\n",
       "      <th>...</th>\n",
       "      <th>deposit_type</th>\n",
       "      <th>agent</th>\n",
       "      <th>company</th>\n",
       "      <th>days_in_waiting_list</th>\n",
       "      <th>customer_type</th>\n",
       "      <th>adr</th>\n",
       "      <th>required_car_parking_spaces</th>\n",
       "      <th>total_of_special_requests</th>\n",
       "      <th>reservation_status</th>\n",
       "      <th>reservation_status_date</th>\n",
       "    </tr>\n",
       "  </thead>\n",
       "  <tbody>\n",
       "    <tr>\n",
       "      <th>0</th>\n",
       "      <td>Resort Hotel</td>\n",
       "      <td>342</td>\n",
       "      <td>2015</td>\n",
       "      <td>7</td>\n",
       "      <td>27</td>\n",
       "      <td>1</td>\n",
       "      <td>0</td>\n",
       "      <td>0</td>\n",
       "      <td>2</td>\n",
       "      <td>0.0</td>\n",
       "      <td>...</td>\n",
       "      <td>No Deposit</td>\n",
       "      <td>NaN</td>\n",
       "      <td>NaN</td>\n",
       "      <td>0</td>\n",
       "      <td>Transient</td>\n",
       "      <td>0.0</td>\n",
       "      <td>0</td>\n",
       "      <td>0</td>\n",
       "      <td>Check-Out</td>\n",
       "      <td>2015-07-01</td>\n",
       "    </tr>\n",
       "    <tr>\n",
       "      <th>1</th>\n",
       "      <td>Resort Hotel</td>\n",
       "      <td>737</td>\n",
       "      <td>2015</td>\n",
       "      <td>7</td>\n",
       "      <td>27</td>\n",
       "      <td>1</td>\n",
       "      <td>0</td>\n",
       "      <td>0</td>\n",
       "      <td>2</td>\n",
       "      <td>0.0</td>\n",
       "      <td>...</td>\n",
       "      <td>No Deposit</td>\n",
       "      <td>NaN</td>\n",
       "      <td>NaN</td>\n",
       "      <td>0</td>\n",
       "      <td>Transient</td>\n",
       "      <td>0.0</td>\n",
       "      <td>0</td>\n",
       "      <td>0</td>\n",
       "      <td>Check-Out</td>\n",
       "      <td>2015-07-01</td>\n",
       "    </tr>\n",
       "    <tr>\n",
       "      <th>2</th>\n",
       "      <td>Resort Hotel</td>\n",
       "      <td>7</td>\n",
       "      <td>2015</td>\n",
       "      <td>7</td>\n",
       "      <td>27</td>\n",
       "      <td>1</td>\n",
       "      <td>0</td>\n",
       "      <td>1</td>\n",
       "      <td>1</td>\n",
       "      <td>0.0</td>\n",
       "      <td>...</td>\n",
       "      <td>No Deposit</td>\n",
       "      <td>NaN</td>\n",
       "      <td>NaN</td>\n",
       "      <td>0</td>\n",
       "      <td>Transient</td>\n",
       "      <td>75.0</td>\n",
       "      <td>0</td>\n",
       "      <td>0</td>\n",
       "      <td>Check-Out</td>\n",
       "      <td>2015-07-02</td>\n",
       "    </tr>\n",
       "    <tr>\n",
       "      <th>3</th>\n",
       "      <td>Resort Hotel</td>\n",
       "      <td>13</td>\n",
       "      <td>2015</td>\n",
       "      <td>7</td>\n",
       "      <td>27</td>\n",
       "      <td>1</td>\n",
       "      <td>0</td>\n",
       "      <td>1</td>\n",
       "      <td>1</td>\n",
       "      <td>0.0</td>\n",
       "      <td>...</td>\n",
       "      <td>No Deposit</td>\n",
       "      <td>304.0</td>\n",
       "      <td>NaN</td>\n",
       "      <td>0</td>\n",
       "      <td>Transient</td>\n",
       "      <td>75.0</td>\n",
       "      <td>0</td>\n",
       "      <td>0</td>\n",
       "      <td>Check-Out</td>\n",
       "      <td>2015-07-02</td>\n",
       "    </tr>\n",
       "    <tr>\n",
       "      <th>4</th>\n",
       "      <td>Resort Hotel</td>\n",
       "      <td>14</td>\n",
       "      <td>2015</td>\n",
       "      <td>7</td>\n",
       "      <td>27</td>\n",
       "      <td>1</td>\n",
       "      <td>0</td>\n",
       "      <td>2</td>\n",
       "      <td>2</td>\n",
       "      <td>0.0</td>\n",
       "      <td>...</td>\n",
       "      <td>No Deposit</td>\n",
       "      <td>240.0</td>\n",
       "      <td>NaN</td>\n",
       "      <td>0</td>\n",
       "      <td>Transient</td>\n",
       "      <td>98.0</td>\n",
       "      <td>0</td>\n",
       "      <td>1</td>\n",
       "      <td>Check-Out</td>\n",
       "      <td>2015-07-03</td>\n",
       "    </tr>\n",
       "  </tbody>\n",
       "</table>\n",
       "<p>5 rows × 31 columns</p>\n",
       "</div>"
      ],
      "text/plain": [
       "          hotel  lead_time  arrival_date_year  arrival_date_month  \\\n",
       "0  Resort Hotel        342               2015                   7   \n",
       "1  Resort Hotel        737               2015                   7   \n",
       "2  Resort Hotel          7               2015                   7   \n",
       "3  Resort Hotel         13               2015                   7   \n",
       "4  Resort Hotel         14               2015                   7   \n",
       "\n",
       "   arrival_date_week_number  arrival_date_day_of_month  \\\n",
       "0                        27                          1   \n",
       "1                        27                          1   \n",
       "2                        27                          1   \n",
       "3                        27                          1   \n",
       "4                        27                          1   \n",
       "\n",
       "   stays_in_weekend_nights  stays_in_week_nights  adults  children  ...  \\\n",
       "0                        0                     0       2       0.0  ...   \n",
       "1                        0                     0       2       0.0  ...   \n",
       "2                        0                     1       1       0.0  ...   \n",
       "3                        0                     1       1       0.0  ...   \n",
       "4                        0                     2       2       0.0  ...   \n",
       "\n",
       "   deposit_type  agent company days_in_waiting_list customer_type   adr  \\\n",
       "0    No Deposit    NaN     NaN                    0     Transient   0.0   \n",
       "1    No Deposit    NaN     NaN                    0     Transient   0.0   \n",
       "2    No Deposit    NaN     NaN                    0     Transient  75.0   \n",
       "3    No Deposit  304.0     NaN                    0     Transient  75.0   \n",
       "4    No Deposit  240.0     NaN                    0     Transient  98.0   \n",
       "\n",
       "   required_car_parking_spaces  total_of_special_requests reservation_status  \\\n",
       "0                            0                          0          Check-Out   \n",
       "1                            0                          0          Check-Out   \n",
       "2                            0                          0          Check-Out   \n",
       "3                            0                          0          Check-Out   \n",
       "4                            0                          1          Check-Out   \n",
       "\n",
       "  reservation_status_date  \n",
       "0              2015-07-01  \n",
       "1              2015-07-01  \n",
       "2              2015-07-02  \n",
       "3              2015-07-02  \n",
       "4              2015-07-03  \n",
       "\n",
       "[5 rows x 31 columns]"
      ]
     },
     "execution_count": 3,
     "metadata": {},
     "output_type": "execute_result"
    }
   ],
   "source": [
    "X.head()"
   ]
  },
  {
   "cell_type": "code",
   "execution_count": 4,
   "id": "0843b6b4",
   "metadata": {
    "execution": {
     "iopub.execute_input": "2024-07-04T10:25:50.270169Z",
     "iopub.status.busy": "2024-07-04T10:25:50.269389Z",
     "iopub.status.idle": "2024-07-04T10:26:05.889999Z",
     "shell.execute_reply": "2024-07-04T10:26:05.888884Z"
    },
    "lines_to_next_cell": 2,
    "papermill": {
     "duration": 15.63095,
     "end_time": "2024-07-04T10:26:05.892509",
     "exception": false,
     "start_time": "2024-07-04T10:25:50.261559",
     "status": "completed"
    },
    "tags": []
   },
   "outputs": [
    {
     "name": "stderr",
     "output_type": "stream",
     "text": [
      "2024-07-04 10:25:52.503718: E external/local_xla/xla/stream_executor/cuda/cuda_dnn.cc:9261] Unable to register cuDNN factory: Attempting to register factory for plugin cuDNN when one has already been registered\n",
      "2024-07-04 10:25:52.503841: E external/local_xla/xla/stream_executor/cuda/cuda_fft.cc:607] Unable to register cuFFT factory: Attempting to register factory for plugin cuFFT when one has already been registered\n",
      "2024-07-04 10:25:52.686351: E external/local_xla/xla/stream_executor/cuda/cuda_blas.cc:1515] Unable to register cuBLAS factory: Attempting to register factory for plugin cuBLAS when one has already been registered\n"
     ]
    },
    {
     "data": {
      "application/javascript": [
       "parent.postMessage({\"jupyterEvent\": \"custom.exercise_interaction\", \"data\": {\"outcomeType\": 1, \"valueTowardsCompletion\": 0.3333333333333333, \"interactionType\": 1, \"questionType\": 2, \"questionId\": \"1_Q1\", \"learnToolsVersion\": \"0.3.4\", \"failureMessage\": \"\", \"exceptionClass\": \"\", \"trace\": \"\"}}, \"*\")"
      ],
      "text/plain": [
       "<IPython.core.display.Javascript object>"
      ]
     },
     "metadata": {},
     "output_type": "display_data"
    },
    {
     "data": {
      "text/markdown": [
       "<span style=\"color:#33cc33\">Correct</span>"
      ],
      "text/plain": [
       "Correct"
      ]
     },
     "metadata": {},
     "output_type": "display_data"
    }
   ],
   "source": [
    "from tensorflow import keras\n",
    "from tensorflow.keras import layers\n",
    "from keras.layers import BatchNormalization, Dense, Dropout\n",
    "\n",
    "# YOUR CODE HERE: define the model given in the diagram\n",
    "model = keras.Sequential()\n",
    "model.add(BatchNormalization(input_shape=input_shape))\n",
    "model.add(Dense(256, activation='relu'))\n",
    "model.add(BatchNormalization())\n",
    "model.add(Dropout(0.3))\n",
    "model.add(Dense(256, activation='relu'))\n",
    "model.add(BatchNormalization())\n",
    "model.add(Dropout(0.3))\n",
    "model.add(Dense(1, activation = 'sigmoid'))\n",
    "\n",
    "# Check your answer\n",
    "q_1.check()"
   ]
  },
  {
   "cell_type": "markdown",
   "id": "462dfe4c",
   "metadata": {
    "papermill": {
     "duration": 0.006557,
     "end_time": "2024-07-04T10:26:05.905970",
     "exception": false,
     "start_time": "2024-07-04T10:26:05.899413",
     "status": "completed"
    },
    "tags": []
   },
   "source": [
    "# 2) Add Optimizer, Loss, and Metric #\n",
    "\n",
    "Now compile the model with the Adam optimizer and binary versions of the cross-entropy loss and accuracy metric."
   ]
  },
  {
   "cell_type": "code",
   "execution_count": 5,
   "id": "899c734b",
   "metadata": {
    "execution": {
     "iopub.execute_input": "2024-07-04T10:26:05.921428Z",
     "iopub.status.busy": "2024-07-04T10:26:05.920935Z",
     "iopub.status.idle": "2024-07-04T10:26:05.950285Z",
     "shell.execute_reply": "2024-07-04T10:26:05.949165Z"
    },
    "lines_to_next_cell": 0,
    "papermill": {
     "duration": 0.040197,
     "end_time": "2024-07-04T10:26:05.952897",
     "exception": false,
     "start_time": "2024-07-04T10:26:05.912700",
     "status": "completed"
    },
    "tags": []
   },
   "outputs": [
    {
     "data": {
      "application/javascript": [
       "parent.postMessage({\"jupyterEvent\": \"custom.exercise_interaction\", \"data\": {\"outcomeType\": 1, \"valueTowardsCompletion\": 0.3333333333333333, \"interactionType\": 1, \"questionType\": 2, \"questionId\": \"2_Q2\", \"learnToolsVersion\": \"0.3.4\", \"failureMessage\": \"\", \"exceptionClass\": \"\", \"trace\": \"\"}}, \"*\")"
      ],
      "text/plain": [
       "<IPython.core.display.Javascript object>"
      ]
     },
     "metadata": {},
     "output_type": "display_data"
    },
    {
     "data": {
      "text/markdown": [
       "<span style=\"color:#33cc33\">Correct</span>"
      ],
      "text/plain": [
       "Correct"
      ]
     },
     "metadata": {},
     "output_type": "display_data"
    }
   ],
   "source": [
    "# YOUR CODE HERE\n",
    "model.compile(loss = 'binary_crossentropy', optimizer = 'adam', metrics = ['binary_accuracy'])\n",
    "\n",
    "# Check your answer\n",
    "q_2.check()"
   ]
  },
  {
   "cell_type": "code",
   "execution_count": 6,
   "id": "00bb545c",
   "metadata": {
    "execution": {
     "iopub.execute_input": "2024-07-04T10:26:05.969422Z",
     "iopub.status.busy": "2024-07-04T10:26:05.968932Z",
     "iopub.status.idle": "2024-07-04T10:26:05.974054Z",
     "shell.execute_reply": "2024-07-04T10:26:05.972872Z"
    },
    "lines_to_next_cell": 0,
    "papermill": {
     "duration": 0.016585,
     "end_time": "2024-07-04T10:26:05.976761",
     "exception": false,
     "start_time": "2024-07-04T10:26:05.960176",
     "status": "completed"
    },
    "tags": []
   },
   "outputs": [],
   "source": [
    "# Lines below will give you a hint or solution code\n",
    "#q_2.hint()\n",
    "#q_2.solution()"
   ]
  },
  {
   "cell_type": "markdown",
   "id": "482f4f45",
   "metadata": {
    "papermill": {
     "duration": 0.006912,
     "end_time": "2024-07-04T10:26:05.990984",
     "exception": false,
     "start_time": "2024-07-04T10:26:05.984072",
     "status": "completed"
    },
    "tags": []
   },
   "source": [
    "Finally, run this cell to train the model and view the learning curves. It may run for around 60 to 70 epochs, which could take a minute or two."
   ]
  },
  {
   "cell_type": "code",
   "execution_count": 7,
   "id": "e5ed0071",
   "metadata": {
    "execution": {
     "iopub.execute_input": "2024-07-04T10:26:06.007522Z",
     "iopub.status.busy": "2024-07-04T10:26:06.007043Z",
     "iopub.status.idle": "2024-07-04T10:27:28.648936Z",
     "shell.execute_reply": "2024-07-04T10:27:28.647606Z"
    },
    "papermill": {
     "duration": 82.653696,
     "end_time": "2024-07-04T10:27:28.651839",
     "exception": false,
     "start_time": "2024-07-04T10:26:05.998143",
     "status": "completed"
    },
    "tags": []
   },
   "outputs": [
    {
     "name": "stdout",
     "output_type": "stream",
     "text": [
      "Epoch 1/200\n",
      "175/175 [==============================] - 5s 16ms/step - loss: 0.4798 - binary_accuracy: 0.7735 - val_loss: 0.4317 - val_binary_accuracy: 0.8050\n",
      "Epoch 2/200\n",
      "175/175 [==============================] - 2s 13ms/step - loss: 0.4214 - binary_accuracy: 0.8019 - val_loss: 0.4057 - val_binary_accuracy: 0.8101\n",
      "Epoch 3/200\n",
      "175/175 [==============================] - 2s 13ms/step - loss: 0.4094 - binary_accuracy: 0.8085 - val_loss: 0.3942 - val_binary_accuracy: 0.8160\n",
      "Epoch 4/200\n",
      "175/175 [==============================] - 2s 13ms/step - loss: 0.4022 - binary_accuracy: 0.8126 - val_loss: 0.3929 - val_binary_accuracy: 0.8178\n",
      "Epoch 5/200\n",
      "175/175 [==============================] - 2s 14ms/step - loss: 0.3966 - binary_accuracy: 0.8143 - val_loss: 0.3884 - val_binary_accuracy: 0.8207\n",
      "Epoch 6/200\n",
      "175/175 [==============================] - 2s 13ms/step - loss: 0.3906 - binary_accuracy: 0.8179 - val_loss: 0.3851 - val_binary_accuracy: 0.8218\n",
      "Epoch 7/200\n",
      "175/175 [==============================] - 2s 13ms/step - loss: 0.3883 - binary_accuracy: 0.8193 - val_loss: 0.3812 - val_binary_accuracy: 0.8221\n",
      "Epoch 8/200\n",
      "175/175 [==============================] - 2s 14ms/step - loss: 0.3843 - binary_accuracy: 0.8211 - val_loss: 0.3798 - val_binary_accuracy: 0.8218\n",
      "Epoch 9/200\n",
      "175/175 [==============================] - 2s 14ms/step - loss: 0.3822 - binary_accuracy: 0.8220 - val_loss: 0.3795 - val_binary_accuracy: 0.8255\n",
      "Epoch 10/200\n",
      "175/175 [==============================] - 2s 14ms/step - loss: 0.3796 - binary_accuracy: 0.8233 - val_loss: 0.3766 - val_binary_accuracy: 0.8275\n",
      "Epoch 11/200\n",
      "175/175 [==============================] - 2s 14ms/step - loss: 0.3752 - binary_accuracy: 0.8262 - val_loss: 0.3707 - val_binary_accuracy: 0.8292\n",
      "Epoch 12/200\n",
      "175/175 [==============================] - 3s 15ms/step - loss: 0.3741 - binary_accuracy: 0.8274 - val_loss: 0.3707 - val_binary_accuracy: 0.8290\n",
      "Epoch 13/200\n",
      "175/175 [==============================] - 2s 14ms/step - loss: 0.3708 - binary_accuracy: 0.8283 - val_loss: 0.3678 - val_binary_accuracy: 0.8310\n",
      "Epoch 14/200\n",
      "175/175 [==============================] - 2s 14ms/step - loss: 0.3700 - binary_accuracy: 0.8289 - val_loss: 0.3678 - val_binary_accuracy: 0.8304\n",
      "Epoch 15/200\n",
      "175/175 [==============================] - 2s 14ms/step - loss: 0.3672 - binary_accuracy: 0.8307 - val_loss: 0.3687 - val_binary_accuracy: 0.8300\n",
      "Epoch 16/200\n",
      "175/175 [==============================] - 2s 14ms/step - loss: 0.3648 - binary_accuracy: 0.8318 - val_loss: 0.3668 - val_binary_accuracy: 0.8317\n",
      "Epoch 17/200\n",
      "175/175 [==============================] - 2s 14ms/step - loss: 0.3636 - binary_accuracy: 0.8318 - val_loss: 0.3668 - val_binary_accuracy: 0.8306\n",
      "Epoch 18/200\n",
      "175/175 [==============================] - 2s 14ms/step - loss: 0.3615 - binary_accuracy: 0.8333 - val_loss: 0.3628 - val_binary_accuracy: 0.8327\n",
      "Epoch 19/200\n",
      "175/175 [==============================] - 2s 14ms/step - loss: 0.3598 - binary_accuracy: 0.8333 - val_loss: 0.3633 - val_binary_accuracy: 0.8335\n",
      "Epoch 20/200\n",
      "175/175 [==============================] - 2s 14ms/step - loss: 0.3584 - binary_accuracy: 0.8334 - val_loss: 0.3592 - val_binary_accuracy: 0.8344\n",
      "Epoch 21/200\n",
      "175/175 [==============================] - 2s 13ms/step - loss: 0.3579 - binary_accuracy: 0.8346 - val_loss: 0.3611 - val_binary_accuracy: 0.8332\n",
      "Epoch 22/200\n",
      "175/175 [==============================] - 2s 14ms/step - loss: 0.3562 - binary_accuracy: 0.8353 - val_loss: 0.3594 - val_binary_accuracy: 0.8358\n",
      "Epoch 23/200\n",
      "175/175 [==============================] - 2s 14ms/step - loss: 0.3542 - binary_accuracy: 0.8368 - val_loss: 0.3577 - val_binary_accuracy: 0.8370\n",
      "Epoch 24/200\n",
      "175/175 [==============================] - 2s 14ms/step - loss: 0.3533 - binary_accuracy: 0.8369 - val_loss: 0.3592 - val_binary_accuracy: 0.8341\n",
      "Epoch 25/200\n",
      "175/175 [==============================] - 3s 15ms/step - loss: 0.3518 - binary_accuracy: 0.8375 - val_loss: 0.3584 - val_binary_accuracy: 0.8363\n",
      "Epoch 26/200\n",
      "175/175 [==============================] - 2s 14ms/step - loss: 0.3503 - binary_accuracy: 0.8381 - val_loss: 0.3574 - val_binary_accuracy: 0.8368\n",
      "Epoch 27/200\n",
      "175/175 [==============================] - 2s 14ms/step - loss: 0.3503 - binary_accuracy: 0.8398 - val_loss: 0.3568 - val_binary_accuracy: 0.8364\n",
      "Epoch 28/200\n",
      "175/175 [==============================] - 2s 13ms/step - loss: 0.3487 - binary_accuracy: 0.8388 - val_loss: 0.3548 - val_binary_accuracy: 0.8381\n",
      "Epoch 29/200\n",
      "175/175 [==============================] - 2s 13ms/step - loss: 0.3479 - binary_accuracy: 0.8398 - val_loss: 0.3555 - val_binary_accuracy: 0.8370\n",
      "Epoch 30/200\n",
      "175/175 [==============================] - 2s 14ms/step - loss: 0.3466 - binary_accuracy: 0.8395 - val_loss: 0.3588 - val_binary_accuracy: 0.8356\n",
      "Epoch 31/200\n",
      "175/175 [==============================] - 2s 13ms/step - loss: 0.3444 - binary_accuracy: 0.8412 - val_loss: 0.3559 - val_binary_accuracy: 0.8381\n",
      "Epoch 32/200\n",
      "175/175 [==============================] - 2s 14ms/step - loss: 0.3451 - binary_accuracy: 0.8412 - val_loss: 0.3591 - val_binary_accuracy: 0.8356\n",
      "Epoch 33/200\n",
      "175/175 [==============================] - 2s 14ms/step - loss: 0.3445 - binary_accuracy: 0.8412 - val_loss: 0.3542 - val_binary_accuracy: 0.8381\n"
     ]
    },
    {
     "data": {
      "text/plain": [
       "<Axes: title={'center': 'Accuracy'}>"
      ]
     },
     "execution_count": 7,
     "metadata": {},
     "output_type": "execute_result"
    },
    {
     "data": {
      "image/png": "[encoded data removed]",
      "text/plain": [
       "<Figure size 640x480 with 1 Axes>"
      ]
     },
     "metadata": {},
     "output_type": "display_data"
    },
    {
     "data": {
      "image/png": "[encoded data removed]",
      "text/plain": [
       "<Figure size 640x480 with 1 Axes>"
      ]
     },
     "metadata": {},
     "output_type": "display_data"
    }
   ],
   "source": [
    "early_stopping = keras.callbacks.EarlyStopping(\n",
    "    patience=5,\n",
    "    min_delta=0.001,\n",
    "    restore_best_weights=True,\n",
    ")\n",
    "history = model.fit(\n",
    "    X_train, y_train,\n",
    "    validation_data=(X_valid, y_valid),\n",
    "    batch_size=512,\n",
    "    epochs=200,\n",
    "    callbacks=[early_stopping],\n",
    ")\n",
    "\n",
    "history_df = pd.DataFrame(history.history)\n",
    "history_df.loc[:, ['loss', 'val_loss']].plot(title=\"Cross-entropy\")\n",
    "history_df.loc[:, ['binary_accuracy', 'val_binary_accuracy']].plot(title=\"Accuracy\")"
   ]
  },
  {
   "cell_type": "markdown",
   "id": "c22b6fe1",
   "metadata": {
    "papermill": {
     "duration": 0.135477,
     "end_time": "2024-07-04T10:27:28.923021",
     "exception": false,
     "start_time": "2024-07-04T10:27:28.787544",
     "status": "completed"
    },
    "tags": []
   },
   "source": [
    "# 3) Train and Evaluate #\n",
    "\n",
    "\n",
    "What do you think about the learning curves? Does it look like the model underfit or overfit? Was the cross-entropy loss a good stand-in for accuracy?"
   ]
  },
  {
   "cell_type": "code",
   "execution_count": 8,
   "id": "de29df4a",
   "metadata": {
    "execution": {
     "iopub.execute_input": "2024-07-04T10:27:29.266359Z",
     "iopub.status.busy": "2024-07-04T10:27:29.265866Z",
     "iopub.status.idle": "2024-07-04T10:27:29.275272Z",
     "shell.execute_reply": "2024-07-04T10:27:29.274159Z"
    },
    "papermill": {
     "duration": 0.217739,
     "end_time": "2024-07-04T10:27:29.277658",
     "exception": false,
     "start_time": "2024-07-04T10:27:29.059919",
     "status": "completed"
    },
    "tags": []
   },
   "outputs": [
    {
     "data": {
      "application/javascript": [
       "parent.postMessage({\"jupyterEvent\": \"custom.exercise_interaction\", \"data\": {\"outcomeType\": 1, \"valueTowardsCompletion\": 0.3333333333333333, \"interactionType\": 1, \"questionType\": 4, \"questionId\": \"3_Q3\", \"learnToolsVersion\": \"0.3.4\", \"failureMessage\": \"\", \"exceptionClass\": \"\", \"trace\": \"\"}}, \"*\")"
      ],
      "text/plain": [
       "<IPython.core.display.Javascript object>"
      ]
     },
     "metadata": {},
     "output_type": "display_data"
    },
    {
     "data": {
      "text/markdown": [
       "<span style=\"color:#33cc33\">Correct:</span> \n",
       "\n",
       "Though we can see the training loss continuing to fall, the early stopping callback prevented any overfitting. Moreover, the accuracy rose at the same rate as the cross-entropy fell, so it appears that minimizing cross-entropy was a good stand-in. All in all, it looks like this training was a success!"
      ],
      "text/plain": [
       "Correct: \n",
       "\n",
       "Though we can see the training loss continuing to fall, the early stopping callback prevented any overfitting. Moreover, the accuracy rose at the same rate as the cross-entropy fell, so it appears that minimizing cross-entropy was a good stand-in. All in all, it looks like this training was a success!"
      ]
     },
     "metadata": {},
     "output_type": "display_data"
    }
   ],
   "source": [
    "# View the solution (Run this cell to receive credit!)\n",
    "q_3.check()"
   ]
  },
  {
   "cell_type": "markdown",
   "id": "a858358a",
   "metadata": {
    "papermill": {
     "duration": 0.140082,
     "end_time": "2024-07-04T10:27:29.555564",
     "exception": false,
     "start_time": "2024-07-04T10:27:29.415482",
     "status": "completed"
    },
    "tags": []
   },
   "source": [
    "# Conclusion #\n",
    "\n",
    "Congratulations! You've completed Kaggle's *Introduction to Deep Learning* course!\n",
    "\n",
    "With your new skills you're ready to take on more advanced applications like computer vision and sentiment classification. What would you like to do next?\n",
    "\n",
    "Why not try one of our *Getting Started* competitions?\n",
    "\n",
    "- Classify images with TPUs in [**Petals to the Metal**](https://www.kaggle.com/c/tpu-getting-started)\n",
    "- Create art with GANs in [**I'm Something of a Painter Myself**](https://www.kaggle.com/c/gan-getting-started)\n",
    "- Classify Tweets in [**Real or Not? NLP with Disaster Tweets**](https://www.kaggle.com/c/nlp-getting-started)\n",
    "- Detect contradiction and entailment in [**Contradictory, My Dear Watson**](https://www.kaggle.com/c/contradictory-my-dear-watson)\n",
    "\n",
    "Until next time, Kagglers!"
   ]
  },
  {
   "cell_type": "markdown",
   "id": "a7a11953",
   "metadata": {
    "papermill": {
     "duration": 0.138455,
     "end_time": "2024-07-04T10:27:29.849394",
     "exception": false,
     "start_time": "2024-07-04T10:27:29.710939",
     "status": "completed"
    },
    "tags": []
   },
   "source": [
    "---\n",
    "\n",
    "\n",
    "\n",
    "\n",
    "*Have questions or comments? Visit the [course discussion forum](https://www.kaggle.com/learn/intro-to-deep-learning/discussion) to chat with other learners.*"
   ]
  }
 ],
 "metadata": {
  "jupytext": {
   "cell_metadata_filter": "-all",
   "formats": "ipynb"
  },
  "kaggle": {
   "accelerator": "gpu",
   "dataSources": [
    {
     "datasetId": 829369,
     "sourceId": 1480608,
     "sourceType": "datasetVersion"
    }
   ],
   "dockerImageVersionId": 30648,
   "isGpuEnabled": true,
   "isInternetEnabled": false,
   "language": "python",
   "sourceType": "notebook"
  },
  "kernelspec": {
   "display_name": "Python 3",
   "language": "python",
   "name": "python3"
  },
  "language_info": {
   "codemirror_mode": {
    "name": "ipython",
    "version": 3
   },
   "file_extension": ".py",
   "mimetype": "text/x-python",
   "name": "python",
   "nbconvert_exporter": "python",
   "pygments_lexer": "ipython3",
   "version": "3.10.13"
  },
  "papermill": {
   "default_parameters": {},
   "duration": 110.718776,
   "end_time": "2024-07-04T10:27:32.833205",
   "environment_variables": {},
   "exception": null,
   "input_path": "__notebook__.ipynb",
   "output_path": "__notebook__.ipynb",
   "parameters": {},
   "start_time": "2024-07-04T10:25:42.114429",
   "version": "2.5.0"
  }
 },
 "nbformat": 4,
 "nbformat_minor": 5
}
