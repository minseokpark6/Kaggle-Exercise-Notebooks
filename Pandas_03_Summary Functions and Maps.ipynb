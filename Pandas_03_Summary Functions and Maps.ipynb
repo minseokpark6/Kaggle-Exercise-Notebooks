{
 "cells": [
  {
   "cell_type": "markdown",
   "id": "d28102b4",
   "metadata": {
    "papermill": {
     "duration": 0.006773,
     "end_time": "2024-07-03T08:48:47.138569",
     "exception": false,
     "start_time": "2024-07-03T08:48:47.131796",
     "status": "completed"
    },
    "tags": []
   },
   "source": [
    "**This notebook is an exercise in the [Pandas](https://www.kaggle.com/learn/pandas) course.  You can reference the tutorial at [this link](https://www.kaggle.com/residentmario/summary-functions-and-maps).**\n",
    "\n",
    "---\n"
   ]
  },
  {
   "cell_type": "markdown",
   "id": "336b39dd",
   "metadata": {
    "papermill": {
     "duration": 0.006248,
     "end_time": "2024-07-03T08:48:47.151718",
     "exception": false,
     "start_time": "2024-07-03T08:48:47.145470",
     "status": "completed"
    },
    "tags": []
   },
   "source": [
    "# Introduction\n",
    "\n",
    "Now you are ready to get a deeper understanding of your data.\n",
    "\n",
    "Run the following cell to load your data and some utility functions (including code to check your answers)."
   ]
  },
  {
   "cell_type": "code",
   "execution_count": 1,
   "id": "fdd876d8",
   "metadata": {
    "execution": {
     "iopub.execute_input": "2024-07-03T08:48:47.166302Z",
     "iopub.status.busy": "2024-07-03T08:48:47.165866Z",
     "iopub.status.idle": "2024-07-03T08:48:54.566064Z",
     "shell.execute_reply": "2024-07-03T08:48:54.565075Z"
    },
    "papermill": {
     "duration": 7.41027,
     "end_time": "2024-07-03T08:48:54.568293",
     "exception": false,
     "start_time": "2024-07-03T08:48:47.158023",
     "status": "completed"
    },
    "tags": []
   },
   "outputs": [
    {
     "name": "stdout",
     "output_type": "stream",
     "text": [
      "Setup complete.\n"
     ]
    },
    {
     "data": {
      "text/html": [
       "<div>\n",
       "<style scoped>\n",
       "    .dataframe tbody tr th:only-of-type {\n",
       "        vertical-align: middle;\n",
       "    }\n",
       "\n",
       "    .dataframe tbody tr th {\n",
       "        vertical-align: top;\n",
       "    }\n",
       "\n",
       "    .dataframe thead th {\n",
       "        text-align: right;\n",
       "    }\n",
       "</style>\n",
       "<table border=\"1\" class=\"dataframe\">\n",
       "  <thead>\n",
       "    <tr style=\"text-align: right;\">\n",
       "      <th></th>\n",
       "      <th>country</th>\n",
       "      <th>description</th>\n",
       "      <th>designation</th>\n",
       "      <th>points</th>\n",
       "      <th>price</th>\n",
       "      <th>province</th>\n",
       "      <th>region_1</th>\n",
       "      <th>region_2</th>\n",
       "      <th>taster_name</th>\n",
       "      <th>taster_twitter_handle</th>\n",
       "      <th>title</th>\n",
       "      <th>variety</th>\n",
       "      <th>winery</th>\n",
       "    </tr>\n",
       "  </thead>\n",
       "  <tbody>\n",
       "    <tr>\n",
       "      <th>0</th>\n",
       "      <td>Italy</td>\n",
       "      <td>Aromas include tropical fruit, broom, brimston...</td>\n",
       "      <td>Vulkà Bianco</td>\n",
       "      <td>87</td>\n",
       "      <td>NaN</td>\n",
       "      <td>Sicily &amp; Sardinia</td>\n",
       "      <td>Etna</td>\n",
       "      <td>NaN</td>\n",
       "      <td>Kerin O’Keefe</td>\n",
       "      <td>@kerinokeefe</td>\n",
       "      <td>Nicosia 2013 Vulkà Bianco  (Etna)</td>\n",
       "      <td>White Blend</td>\n",
       "      <td>Nicosia</td>\n",
       "    </tr>\n",
       "    <tr>\n",
       "      <th>1</th>\n",
       "      <td>Portugal</td>\n",
       "      <td>This is ripe and fruity, a wine that is smooth...</td>\n",
       "      <td>Avidagos</td>\n",
       "      <td>87</td>\n",
       "      <td>15.0</td>\n",
       "      <td>Douro</td>\n",
       "      <td>NaN</td>\n",
       "      <td>NaN</td>\n",
       "      <td>Roger Voss</td>\n",
       "      <td>@vossroger</td>\n",
       "      <td>Quinta dos Avidagos 2011 Avidagos Red (Douro)</td>\n",
       "      <td>Portuguese Red</td>\n",
       "      <td>Quinta dos Avidagos</td>\n",
       "    </tr>\n",
       "    <tr>\n",
       "      <th>2</th>\n",
       "      <td>US</td>\n",
       "      <td>Tart and snappy, the flavors of lime flesh and...</td>\n",
       "      <td>NaN</td>\n",
       "      <td>87</td>\n",
       "      <td>14.0</td>\n",
       "      <td>Oregon</td>\n",
       "      <td>Willamette Valley</td>\n",
       "      <td>Willamette Valley</td>\n",
       "      <td>Paul Gregutt</td>\n",
       "      <td>@paulgwine</td>\n",
       "      <td>Rainstorm 2013 Pinot Gris (Willamette Valley)</td>\n",
       "      <td>Pinot Gris</td>\n",
       "      <td>Rainstorm</td>\n",
       "    </tr>\n",
       "    <tr>\n",
       "      <th>3</th>\n",
       "      <td>US</td>\n",
       "      <td>Pineapple rind, lemon pith and orange blossom ...</td>\n",
       "      <td>Reserve Late Harvest</td>\n",
       "      <td>87</td>\n",
       "      <td>13.0</td>\n",
       "      <td>Michigan</td>\n",
       "      <td>Lake Michigan Shore</td>\n",
       "      <td>NaN</td>\n",
       "      <td>Alexander Peartree</td>\n",
       "      <td>NaN</td>\n",
       "      <td>St. Julian 2013 Reserve Late Harvest Riesling ...</td>\n",
       "      <td>Riesling</td>\n",
       "      <td>St. Julian</td>\n",
       "    </tr>\n",
       "    <tr>\n",
       "      <th>4</th>\n",
       "      <td>US</td>\n",
       "      <td>Much like the regular bottling from 2012, this...</td>\n",
       "      <td>Vintner's Reserve Wild Child Block</td>\n",
       "      <td>87</td>\n",
       "      <td>65.0</td>\n",
       "      <td>Oregon</td>\n",
       "      <td>Willamette Valley</td>\n",
       "      <td>Willamette Valley</td>\n",
       "      <td>Paul Gregutt</td>\n",
       "      <td>@paulgwine</td>\n",
       "      <td>Sweet Cheeks 2012 Vintner's Reserve Wild Child...</td>\n",
       "      <td>Pinot Noir</td>\n",
       "      <td>Sweet Cheeks</td>\n",
       "    </tr>\n",
       "  </tbody>\n",
       "</table>\n",
       "</div>"
      ],
      "text/plain": [
       "    country                                        description  \\\n",
       "0     Italy  Aromas include tropical fruit, broom, brimston...   \n",
       "1  Portugal  This is ripe and fruity, a wine that is smooth...   \n",
       "2        US  Tart and snappy, the flavors of lime flesh and...   \n",
       "3        US  Pineapple rind, lemon pith and orange blossom ...   \n",
       "4        US  Much like the regular bottling from 2012, this...   \n",
       "\n",
       "                          designation  points  price           province  \\\n",
       "0                        Vulkà Bianco      87    NaN  Sicily & Sardinia   \n",
       "1                            Avidagos      87   15.0              Douro   \n",
       "2                                 NaN      87   14.0             Oregon   \n",
       "3                Reserve Late Harvest      87   13.0           Michigan   \n",
       "4  Vintner's Reserve Wild Child Block      87   65.0             Oregon   \n",
       "\n",
       "              region_1           region_2         taster_name  \\\n",
       "0                 Etna                NaN       Kerin O’Keefe   \n",
       "1                  NaN                NaN          Roger Voss   \n",
       "2    Willamette Valley  Willamette Valley        Paul Gregutt   \n",
       "3  Lake Michigan Shore                NaN  Alexander Peartree   \n",
       "4    Willamette Valley  Willamette Valley        Paul Gregutt   \n",
       "\n",
       "  taster_twitter_handle                                              title  \\\n",
       "0          @kerinokeefe                  Nicosia 2013 Vulkà Bianco  (Etna)   \n",
       "1            @vossroger      Quinta dos Avidagos 2011 Avidagos Red (Douro)   \n",
       "2           @paulgwine       Rainstorm 2013 Pinot Gris (Willamette Valley)   \n",
       "3                   NaN  St. Julian 2013 Reserve Late Harvest Riesling ...   \n",
       "4           @paulgwine   Sweet Cheeks 2012 Vintner's Reserve Wild Child...   \n",
       "\n",
       "          variety               winery  \n",
       "0     White Blend              Nicosia  \n",
       "1  Portuguese Red  Quinta dos Avidagos  \n",
       "2      Pinot Gris            Rainstorm  \n",
       "3        Riesling           St. Julian  \n",
       "4      Pinot Noir         Sweet Cheeks  "
      ]
     },
     "execution_count": 1,
     "metadata": {},
     "output_type": "execute_result"
    }
   ],
   "source": [
    "import pandas as pd\n",
    "pd.set_option(\"display.max_rows\", 5)\n",
    "reviews = pd.read_csv(\"../input/wine-reviews/winemag-data-130k-v2.csv\", index_col=0)\n",
    "\n",
    "from learntools.core import binder; binder.bind(globals())\n",
    "from learntools.pandas.summary_functions_and_maps import *\n",
    "print(\"Setup complete.\")\n",
    "\n",
    "reviews.head()"
   ]
  },
  {
   "cell_type": "markdown",
   "id": "eb16126d",
   "metadata": {
    "papermill": {
     "duration": 0.006546,
     "end_time": "2024-07-03T08:48:54.581807",
     "exception": false,
     "start_time": "2024-07-03T08:48:54.575261",
     "status": "completed"
    },
    "tags": []
   },
   "source": [
    "# Exercises"
   ]
  },
  {
   "cell_type": "markdown",
   "id": "5f8e19b2",
   "metadata": {
    "papermill": {
     "duration": 0.006447,
     "end_time": "2024-07-03T08:48:54.594994",
     "exception": false,
     "start_time": "2024-07-03T08:48:54.588547",
     "status": "completed"
    },
    "tags": []
   },
   "source": [
    "## 1.\n",
    "\n",
    "What is the median of the `points` column in the `reviews` DataFrame?"
   ]
  },
  {
   "cell_type": "code",
   "execution_count": 2,
   "id": "8dd12f85",
   "metadata": {
    "execution": {
     "iopub.execute_input": "2024-07-03T08:48:54.610599Z",
     "iopub.status.busy": "2024-07-03T08:48:54.609605Z",
     "iopub.status.idle": "2024-07-03T08:48:54.620362Z",
     "shell.execute_reply": "2024-07-03T08:48:54.619379Z"
    },
    "papermill": {
     "duration": 0.020772,
     "end_time": "2024-07-03T08:48:54.622449",
     "exception": false,
     "start_time": "2024-07-03T08:48:54.601677",
     "status": "completed"
    },
    "tags": []
   },
   "outputs": [
    {
     "data": {
      "application/javascript": [
       "parent.postMessage({\"jupyterEvent\": \"custom.exercise_interaction\", \"data\": {\"outcomeType\": 1, \"valueTowardsCompletion\": 0.14285714285714285, \"interactionType\": 1, \"questionType\": 1, \"questionId\": \"1_MedianPoints\", \"learnToolsVersion\": \"0.3.4\", \"failureMessage\": \"\", \"exceptionClass\": \"\", \"trace\": \"\"}}, \"*\")"
      ],
      "text/plain": [
       "<IPython.core.display.Javascript object>"
      ]
     },
     "metadata": {},
     "output_type": "display_data"
    },
    {
     "data": {
      "text/markdown": [
       "<span style=\"color:#33cc33\">Correct</span>"
      ],
      "text/plain": [
       "Correct"
      ]
     },
     "metadata": {},
     "output_type": "display_data"
    }
   ],
   "source": [
    "median_points = reviews['points'].median()\n",
    "\n",
    "# Check your answer\n",
    "q1.check()"
   ]
  },
  {
   "cell_type": "code",
   "execution_count": 3,
   "id": "11e52307",
   "metadata": {
    "execution": {
     "iopub.execute_input": "2024-07-03T08:48:54.638277Z",
     "iopub.status.busy": "2024-07-03T08:48:54.637547Z",
     "iopub.status.idle": "2024-07-03T08:48:54.641817Z",
     "shell.execute_reply": "2024-07-03T08:48:54.640721Z"
    },
    "papermill": {
     "duration": 0.014756,
     "end_time": "2024-07-03T08:48:54.643999",
     "exception": false,
     "start_time": "2024-07-03T08:48:54.629243",
     "status": "completed"
    },
    "tags": []
   },
   "outputs": [],
   "source": [
    "#q1.hint()\n",
    "#q1.solution()"
   ]
  },
  {
   "cell_type": "markdown",
   "id": "c1ffd763",
   "metadata": {
    "papermill": {
     "duration": 0.006821,
     "end_time": "2024-07-03T08:48:54.657762",
     "exception": false,
     "start_time": "2024-07-03T08:48:54.650941",
     "status": "completed"
    },
    "tags": []
   },
   "source": [
    "## 2. \n",
    "What countries are represented in the dataset? (Your answer should not include any duplicates.)"
   ]
  },
  {
   "cell_type": "code",
   "execution_count": 4,
   "id": "340167f4",
   "metadata": {
    "execution": {
     "iopub.execute_input": "2024-07-03T08:48:54.673402Z",
     "iopub.status.busy": "2024-07-03T08:48:54.672770Z",
     "iopub.status.idle": "2024-07-03T08:48:54.686049Z",
     "shell.execute_reply": "2024-07-03T08:48:54.685087Z"
    },
    "papermill": {
     "duration": 0.023514,
     "end_time": "2024-07-03T08:48:54.688248",
     "exception": false,
     "start_time": "2024-07-03T08:48:54.664734",
     "status": "completed"
    },
    "tags": []
   },
   "outputs": [
    {
     "data": {
      "application/javascript": [
       "parent.postMessage({\"jupyterEvent\": \"custom.exercise_interaction\", \"data\": {\"outcomeType\": 1, \"valueTowardsCompletion\": 0.14285714285714285, \"interactionType\": 1, \"questionType\": 2, \"questionId\": \"2_UniqueCountries\", \"learnToolsVersion\": \"0.3.4\", \"failureMessage\": \"\", \"exceptionClass\": \"\", \"trace\": \"\"}}, \"*\")"
      ],
      "text/plain": [
       "<IPython.core.display.Javascript object>"
      ]
     },
     "metadata": {},
     "output_type": "display_data"
    },
    {
     "data": {
      "text/markdown": [
       "<span style=\"color:#33cc33\">Correct</span>"
      ],
      "text/plain": [
       "Correct"
      ]
     },
     "metadata": {},
     "output_type": "display_data"
    }
   ],
   "source": [
    "countries = reviews['country'].unique()\n",
    "\n",
    "# Check your answer\n",
    "q2.check()"
   ]
  },
  {
   "cell_type": "code",
   "execution_count": 5,
   "id": "e511547e",
   "metadata": {
    "execution": {
     "iopub.execute_input": "2024-07-03T08:48:54.705092Z",
     "iopub.status.busy": "2024-07-03T08:48:54.704180Z",
     "iopub.status.idle": "2024-07-03T08:48:54.708879Z",
     "shell.execute_reply": "2024-07-03T08:48:54.707819Z"
    },
    "papermill": {
     "duration": 0.015442,
     "end_time": "2024-07-03T08:48:54.711009",
     "exception": false,
     "start_time": "2024-07-03T08:48:54.695567",
     "status": "completed"
    },
    "tags": []
   },
   "outputs": [],
   "source": [
    "#q2.hint()\n",
    "#q2.solution()"
   ]
  },
  {
   "cell_type": "markdown",
   "id": "6f36cfb4",
   "metadata": {
    "papermill": {
     "duration": 0.008027,
     "end_time": "2024-07-03T08:48:54.726481",
     "exception": false,
     "start_time": "2024-07-03T08:48:54.718454",
     "status": "completed"
    },
    "tags": []
   },
   "source": [
    "## 3.\n",
    "How often does each country appear in the dataset? Create a Series `reviews_per_country` mapping countries to the count of reviews of wines from that country."
   ]
  },
  {
   "cell_type": "code",
   "execution_count": 6,
   "id": "121dd8f5",
   "metadata": {
    "execution": {
     "iopub.execute_input": "2024-07-03T08:48:54.743255Z",
     "iopub.status.busy": "2024-07-03T08:48:54.742881Z",
     "iopub.status.idle": "2024-07-03T08:48:54.766881Z",
     "shell.execute_reply": "2024-07-03T08:48:54.765258Z"
    },
    "papermill": {
     "duration": 0.036071,
     "end_time": "2024-07-03T08:48:54.769856",
     "exception": false,
     "start_time": "2024-07-03T08:48:54.733785",
     "status": "completed"
    },
    "tags": []
   },
   "outputs": [
    {
     "data": {
      "application/javascript": [
       "parent.postMessage({\"jupyterEvent\": \"custom.exercise_interaction\", \"data\": {\"outcomeType\": 1, \"valueTowardsCompletion\": 0.14285714285714285, \"interactionType\": 1, \"questionType\": 1, \"questionId\": \"3_ReviewsPerCountry\", \"learnToolsVersion\": \"0.3.4\", \"failureMessage\": \"\", \"exceptionClass\": \"\", \"trace\": \"\"}}, \"*\")"
      ],
      "text/plain": [
       "<IPython.core.display.Javascript object>"
      ]
     },
     "metadata": {},
     "output_type": "display_data"
    },
    {
     "data": {
      "text/markdown": [
       "<span style=\"color:#33cc33\">Correct</span>"
      ],
      "text/plain": [
       "Correct"
      ]
     },
     "metadata": {},
     "output_type": "display_data"
    }
   ],
   "source": [
    "reviews_per_country = reviews['country'].value_counts()\n",
    "\n",
    "# Check your answer\n",
    "q3.check()"
   ]
  },
  {
   "cell_type": "code",
   "execution_count": 7,
   "id": "ed52603c",
   "metadata": {
    "execution": {
     "iopub.execute_input": "2024-07-03T08:48:54.789128Z",
     "iopub.status.busy": "2024-07-03T08:48:54.788180Z",
     "iopub.status.idle": "2024-07-03T08:48:54.793363Z",
     "shell.execute_reply": "2024-07-03T08:48:54.792353Z"
    },
    "papermill": {
     "duration": 0.017062,
     "end_time": "2024-07-03T08:48:54.795930",
     "exception": false,
     "start_time": "2024-07-03T08:48:54.778868",
     "status": "completed"
    },
    "tags": []
   },
   "outputs": [],
   "source": [
    "#q3.hint()\n",
    "#q3.solution()"
   ]
  },
  {
   "cell_type": "markdown",
   "id": "62cddc87",
   "metadata": {
    "papermill": {
     "duration": 0.011072,
     "end_time": "2024-07-03T08:48:54.818524",
     "exception": false,
     "start_time": "2024-07-03T08:48:54.807452",
     "status": "completed"
    },
    "tags": []
   },
   "source": [
    "## 4.\n",
    "Create variable `centered_price` containing a version of the `price` column with the mean price subtracted.\n",
    "\n",
    "(Note: this 'centering' transformation is a common preprocessing step before applying various machine learning algorithms.) "
   ]
  },
  {
   "cell_type": "code",
   "execution_count": 8,
   "id": "b690768a",
   "metadata": {
    "execution": {
     "iopub.execute_input": "2024-07-03T08:48:54.841259Z",
     "iopub.status.busy": "2024-07-03T08:48:54.840398Z",
     "iopub.status.idle": "2024-07-03T08:48:54.849999Z",
     "shell.execute_reply": "2024-07-03T08:48:54.849054Z"
    },
    "papermill": {
     "duration": 0.02306,
     "end_time": "2024-07-03T08:48:54.852066",
     "exception": false,
     "start_time": "2024-07-03T08:48:54.829006",
     "status": "completed"
    },
    "tags": []
   },
   "outputs": [
    {
     "data": {
      "application/javascript": [
       "parent.postMessage({\"jupyterEvent\": \"custom.exercise_interaction\", \"data\": {\"outcomeType\": 1, \"valueTowardsCompletion\": 0.14285714285714285, \"interactionType\": 1, \"questionType\": 1, \"questionId\": \"4_CenteredPrice\", \"learnToolsVersion\": \"0.3.4\", \"failureMessage\": \"\", \"exceptionClass\": \"\", \"trace\": \"\"}}, \"*\")"
      ],
      "text/plain": [
       "<IPython.core.display.Javascript object>"
      ]
     },
     "metadata": {},
     "output_type": "display_data"
    },
    {
     "data": {
      "text/markdown": [
       "<span style=\"color:#33cc33\">Correct</span>"
      ],
      "text/plain": [
       "Correct"
      ]
     },
     "metadata": {},
     "output_type": "display_data"
    }
   ],
   "source": [
    "centered_price = reviews['price'] - reviews['price'].mean()\n",
    "\n",
    "# Check your answer\n",
    "q4.check()"
   ]
  },
  {
   "cell_type": "code",
   "execution_count": 9,
   "id": "79685b89",
   "metadata": {
    "execution": {
     "iopub.execute_input": "2024-07-03T08:48:54.869849Z",
     "iopub.status.busy": "2024-07-03T08:48:54.869486Z",
     "iopub.status.idle": "2024-07-03T08:48:54.873804Z",
     "shell.execute_reply": "2024-07-03T08:48:54.872725Z"
    },
    "papermill": {
     "duration": 0.015729,
     "end_time": "2024-07-03T08:48:54.875891",
     "exception": false,
     "start_time": "2024-07-03T08:48:54.860162",
     "status": "completed"
    },
    "tags": []
   },
   "outputs": [],
   "source": [
    "#q4.hint()\n",
    "#q4.solution()"
   ]
  },
  {
   "cell_type": "markdown",
   "id": "a92f1e98",
   "metadata": {
    "papermill": {
     "duration": 0.007718,
     "end_time": "2024-07-03T08:48:54.891618",
     "exception": false,
     "start_time": "2024-07-03T08:48:54.883900",
     "status": "completed"
    },
    "tags": []
   },
   "source": [
    "## 5.\n",
    "I'm an economical wine buyer. Which wine is the \"best bargain\"? Create a variable `bargain_wine` with the title of the wine with the highest points-to-price ratio in the dataset."
   ]
  },
  {
   "cell_type": "code",
   "execution_count": 10,
   "id": "6fd9afd1",
   "metadata": {
    "execution": {
     "iopub.execute_input": "2024-07-03T08:48:54.909121Z",
     "iopub.status.busy": "2024-07-03T08:48:54.908755Z",
     "iopub.status.idle": "2024-07-03T08:48:54.921334Z",
     "shell.execute_reply": "2024-07-03T08:48:54.920363Z"
    },
    "papermill": {
     "duration": 0.024228,
     "end_time": "2024-07-03T08:48:54.923717",
     "exception": false,
     "start_time": "2024-07-03T08:48:54.899489",
     "status": "completed"
    },
    "tags": []
   },
   "outputs": [
    {
     "data": {
      "application/javascript": [
       "parent.postMessage({\"jupyterEvent\": \"custom.exercise_interaction\", \"data\": {\"outcomeType\": 1, \"valueTowardsCompletion\": 0.14285714285714285, \"interactionType\": 1, \"questionType\": 2, \"questionId\": \"5_BargainWine\", \"learnToolsVersion\": \"0.3.4\", \"failureMessage\": \"\", \"exceptionClass\": \"\", \"trace\": \"\"}}, \"*\")"
      ],
      "text/plain": [
       "<IPython.core.display.Javascript object>"
      ]
     },
     "metadata": {},
     "output_type": "display_data"
    },
    {
     "data": {
      "text/markdown": [
       "<span style=\"color:#33cc33\">Correct</span>"
      ],
      "text/plain": [
       "Correct"
      ]
     },
     "metadata": {},
     "output_type": "display_data"
    }
   ],
   "source": [
    "bargain_wine = reviews.loc[(reviews['points'] / reviews['price']).idxmax(), 'title']\n",
    "\n",
    "# idxmax() / idxmin()\n",
    "# DataFrame.idxmax(axis=0, skipna=True)\n",
    "# 최대(소) 값이 포함된 행 또는 렬의 인덱스를 반환하는 메소드\n",
    "\n",
    "# Check your answer\n",
    "q5.check()"
   ]
  },
  {
   "cell_type": "code",
   "execution_count": 11,
   "id": "95ae370d",
   "metadata": {
    "execution": {
     "iopub.execute_input": "2024-07-03T08:48:54.942337Z",
     "iopub.status.busy": "2024-07-03T08:48:54.941192Z",
     "iopub.status.idle": "2024-07-03T08:48:54.945608Z",
     "shell.execute_reply": "2024-07-03T08:48:54.944702Z"
    },
    "papermill": {
     "duration": 0.016001,
     "end_time": "2024-07-03T08:48:54.947883",
     "exception": false,
     "start_time": "2024-07-03T08:48:54.931882",
     "status": "completed"
    },
    "tags": []
   },
   "outputs": [],
   "source": [
    "#q5.hint()\n",
    "#q5.solution()"
   ]
  },
  {
   "cell_type": "markdown",
   "id": "f0faa7cc",
   "metadata": {
    "papermill": {
     "duration": 0.007911,
     "end_time": "2024-07-03T08:48:54.964004",
     "exception": false,
     "start_time": "2024-07-03T08:48:54.956093",
     "status": "completed"
    },
    "tags": []
   },
   "source": [
    "## 6.\n",
    "There are only so many words you can use when describing a bottle of wine. Is a wine more likely to be \"tropical\" or \"fruity\"? Create a Series `descriptor_counts` counting how many times each of these two words appears in the `description` column in the dataset. (For simplicity, let's ignore the capitalized versions of these words.)"
   ]
  },
  {
   "cell_type": "code",
   "execution_count": 12,
   "id": "6cc1d6a7",
   "metadata": {
    "execution": {
     "iopub.execute_input": "2024-07-03T08:48:54.981904Z",
     "iopub.status.busy": "2024-07-03T08:48:54.981487Z",
     "iopub.status.idle": "2024-07-03T08:48:55.064496Z",
     "shell.execute_reply": "2024-07-03T08:48:55.063479Z"
    },
    "papermill": {
     "duration": 0.094791,
     "end_time": "2024-07-03T08:48:55.066810",
     "exception": false,
     "start_time": "2024-07-03T08:48:54.972019",
     "status": "completed"
    },
    "tags": []
   },
   "outputs": [
    {
     "data": {
      "text/plain": [
       "0          True\n",
       "1         False\n",
       "          ...  \n",
       "129969    False\n",
       "129970    False\n",
       "Name: description, Length: 129971, dtype: bool"
      ]
     },
     "execution_count": 12,
     "metadata": {},
     "output_type": "execute_result"
    }
   ],
   "source": [
    "reviews['description'].map(lambda desc: \"tropical\" in desc)"
   ]
  },
  {
   "cell_type": "code",
   "execution_count": 13,
   "id": "d62ba502",
   "metadata": {
    "execution": {
     "iopub.execute_input": "2024-07-03T08:48:55.085038Z",
     "iopub.status.busy": "2024-07-03T08:48:55.084667Z",
     "iopub.status.idle": "2024-07-03T08:48:55.163824Z",
     "shell.execute_reply": "2024-07-03T08:48:55.162786Z"
    },
    "papermill": {
     "duration": 0.090911,
     "end_time": "2024-07-03T08:48:55.166020",
     "exception": false,
     "start_time": "2024-07-03T08:48:55.075109",
     "status": "completed"
    },
    "tags": []
   },
   "outputs": [
    {
     "data": {
      "text/plain": [
       "3607"
      ]
     },
     "execution_count": 13,
     "metadata": {},
     "output_type": "execute_result"
    }
   ],
   "source": [
    "reviews['description'].map(lambda desc: \"tropical\" in desc).sum()"
   ]
  },
  {
   "cell_type": "code",
   "execution_count": 14,
   "id": "892dda51",
   "metadata": {
    "execution": {
     "iopub.execute_input": "2024-07-03T08:48:55.184480Z",
     "iopub.status.busy": "2024-07-03T08:48:55.184076Z",
     "iopub.status.idle": "2024-07-03T08:48:55.329065Z",
     "shell.execute_reply": "2024-07-03T08:48:55.328115Z"
    },
    "papermill": {
     "duration": 0.156864,
     "end_time": "2024-07-03T08:48:55.331154",
     "exception": false,
     "start_time": "2024-07-03T08:48:55.174290",
     "status": "completed"
    },
    "tags": []
   },
   "outputs": [
    {
     "name": "stdout",
     "output_type": "stream",
     "text": [
      "tropical    3607\n",
      "fruity      9090\n",
      "dtype: int64\n"
     ]
    },
    {
     "data": {
      "application/javascript": [
       "parent.postMessage({\"jupyterEvent\": \"custom.exercise_interaction\", \"data\": {\"outcomeType\": 1, \"valueTowardsCompletion\": 0.14285714285714285, \"interactionType\": 1, \"questionType\": 1, \"questionId\": \"6_DescriptorCounts\", \"learnToolsVersion\": \"0.3.4\", \"failureMessage\": \"\", \"exceptionClass\": \"\", \"trace\": \"\"}}, \"*\")"
      ],
      "text/plain": [
       "<IPython.core.display.Javascript object>"
      ]
     },
     "metadata": {},
     "output_type": "display_data"
    },
    {
     "data": {
      "text/markdown": [
       "<span style=\"color:#33cc33\">Correct</span>"
      ],
      "text/plain": [
       "Correct"
      ]
     },
     "metadata": {},
     "output_type": "display_data"
    }
   ],
   "source": [
    "n_trop = reviews['description'].map(lambda desc: \"tropical\" in desc).sum()\n",
    "n_fruity = reviews['description'].map(lambda desc: \"fruity\" in desc).sum()\n",
    "descriptor_counts = pd.Series([n_trop, n_fruity], index=['tropical', 'fruity'])\n",
    "print(descriptor_counts)\n",
    "# Check your answer\n",
    "q6.check()"
   ]
  },
  {
   "cell_type": "code",
   "execution_count": 15,
   "id": "5dbc271f",
   "metadata": {
    "execution": {
     "iopub.execute_input": "2024-07-03T08:48:55.349955Z",
     "iopub.status.busy": "2024-07-03T08:48:55.349598Z",
     "iopub.status.idle": "2024-07-03T08:48:55.353974Z",
     "shell.execute_reply": "2024-07-03T08:48:55.352989Z"
    },
    "papermill": {
     "duration": 0.016256,
     "end_time": "2024-07-03T08:48:55.355991",
     "exception": false,
     "start_time": "2024-07-03T08:48:55.339735",
     "status": "completed"
    },
    "tags": []
   },
   "outputs": [],
   "source": [
    "#q6.hint()\n",
    "#q6.solution()"
   ]
  },
  {
   "cell_type": "markdown",
   "id": "fa2c155f",
   "metadata": {
    "papermill": {
     "duration": 0.008277,
     "end_time": "2024-07-03T08:48:55.372975",
     "exception": false,
     "start_time": "2024-07-03T08:48:55.364698",
     "status": "completed"
    },
    "tags": []
   },
   "source": [
    "## 7.\n",
    "We'd like to host these wine reviews on our website, but a rating system ranging from 80 to 100 points is too hard to understand - we'd like to translate them into simple star ratings. A score of 95 or higher counts as 3 stars, a score of at least 85 but less than 95 is 2 stars. Any other score is 1 star.\n",
    "\n",
    "Also, the Canadian Vintners Association bought a lot of ads on the site, so any wines from Canada should automatically get 3 stars, regardless of points.\n",
    "\n",
    "Create a series `star_ratings` with the number of stars corresponding to each review in the dataset."
   ]
  },
  {
   "cell_type": "code",
   "execution_count": 16,
   "id": "3ac74af8",
   "metadata": {
    "execution": {
     "iopub.execute_input": "2024-07-03T08:48:55.392498Z",
     "iopub.status.busy": "2024-07-03T08:48:55.391525Z",
     "iopub.status.idle": "2024-07-03T08:48:58.734112Z",
     "shell.execute_reply": "2024-07-03T08:48:58.733078Z"
    },
    "papermill": {
     "duration": 3.354743,
     "end_time": "2024-07-03T08:48:58.736388",
     "exception": false,
     "start_time": "2024-07-03T08:48:55.381645",
     "status": "completed"
    },
    "tags": []
   },
   "outputs": [
    {
     "data": {
      "application/javascript": [
       "parent.postMessage({\"jupyterEvent\": \"custom.exercise_interaction\", \"data\": {\"outcomeType\": 1, \"valueTowardsCompletion\": 0.14285714285714285, \"interactionType\": 1, \"questionType\": 1, \"questionId\": \"7_StarRatings\", \"learnToolsVersion\": \"0.3.4\", \"failureMessage\": \"\", \"exceptionClass\": \"\", \"trace\": \"\"}}, \"*\")"
      ],
      "text/plain": [
       "<IPython.core.display.Javascript object>"
      ]
     },
     "metadata": {},
     "output_type": "display_data"
    },
    {
     "data": {
      "text/markdown": [
       "<span style=\"color:#33cc33\">Correct</span>"
      ],
      "text/plain": [
       "Correct"
      ]
     },
     "metadata": {},
     "output_type": "display_data"
    }
   ],
   "source": [
    "def star_rating(df): \n",
    "    if df.country == 'Canada':\n",
    "        return 3 \n",
    "    elif df.points >= 95:\n",
    "        return 3\n",
    "    elif df.points >= 85:\n",
    "        return 2\n",
    "    else:\n",
    "        return 1\n",
    "\n",
    "star_ratings = reviews.apply(star_rating, axis = 1)\n",
    "# apply의 디폴트는 axis = 0, \n",
    "# 근데 여기서는 열(행 방향) 단위로 함수가 적용되어야 하기 떄문에 axis = 1\n",
    "\n",
    "# Check your answer\n",
    "q7.check()"
   ]
  },
  {
   "cell_type": "code",
   "execution_count": 17,
   "id": "939e8e1e",
   "metadata": {
    "execution": {
     "iopub.execute_input": "2024-07-03T08:48:58.756156Z",
     "iopub.status.busy": "2024-07-03T08:48:58.755244Z",
     "iopub.status.idle": "2024-07-03T08:48:58.759671Z",
     "shell.execute_reply": "2024-07-03T08:48:58.758683Z"
    },
    "papermill": {
     "duration": 0.016589,
     "end_time": "2024-07-03T08:48:58.761724",
     "exception": false,
     "start_time": "2024-07-03T08:48:58.745135",
     "status": "completed"
    },
    "tags": []
   },
   "outputs": [],
   "source": [
    "#q7.hint()\n",
    "#q7.solution()"
   ]
  },
  {
   "cell_type": "markdown",
   "id": "8dc83806",
   "metadata": {
    "papermill": {
     "duration": 0.008672,
     "end_time": "2024-07-03T08:48:58.779454",
     "exception": false,
     "start_time": "2024-07-03T08:48:58.770782",
     "status": "completed"
    },
    "tags": []
   },
   "source": [
    "# Keep going\n",
    "Continue to **[grouping and sorting](https://www.kaggle.com/residentmario/grouping-and-sorting)**."
   ]
  },
  {
   "cell_type": "markdown",
   "id": "65a53c1a",
   "metadata": {
    "papermill": {
     "duration": 0.008563,
     "end_time": "2024-07-03T08:48:58.796927",
     "exception": false,
     "start_time": "2024-07-03T08:48:58.788364",
     "status": "completed"
    },
    "tags": []
   },
   "source": [
    "---\n",
    "\n",
    "\n",
    "\n",
    "\n",
    "*Have questions or comments? Visit the [course discussion forum](https://www.kaggle.com/learn/pandas/discussion) to chat with other learners.*"
   ]
  }
 ],
 "metadata": {
  "kaggle": {
   "accelerator": "none",
   "dataSources": [
    {
     "datasetId": 655,
     "sourceId": 1252,
     "sourceType": "datasetVersion"
    },
    {
     "datasetId": 2321,
     "sourceId": 3919,
     "sourceType": "datasetVersion"
    },
    {
     "datasetId": 2894,
     "sourceId": 4877,
     "sourceType": "datasetVersion"
    },
    {
     "datasetId": 3491,
     "sourceId": 5624,
     "sourceType": "datasetVersion"
    },
    {
     "datasetId": 1442,
     "sourceId": 8172,
     "sourceType": "datasetVersion"
    },
    {
     "datasetId": 9366,
     "sourceId": 13206,
     "sourceType": "datasetVersion"
    },
    {
     "datasetId": 179555,
     "sourceId": 403916,
     "sourceType": "datasetVersion"
    },
    {
     "datasetId": 4549,
     "sourceId": 466349,
     "sourceType": "datasetVersion"
    },
    {
     "datasetId": 2478,
     "sourceId": 1151655,
     "sourceType": "datasetVersion"
    },
    {
     "datasetId": 10128,
     "sourceId": 5438389,
     "sourceType": "datasetVersion"
    }
   ],
   "isGpuEnabled": false,
   "isInternetEnabled": false,
   "language": "python",
   "sourceType": "notebook"
  },
  "kernelspec": {
   "display_name": "Python 3",
   "language": "python",
   "name": "python3"
  },
  "language_info": {
   "codemirror_mode": {
    "name": "ipython",
    "version": 3
   },
   "file_extension": ".py",
   "mimetype": "text/x-python",
   "name": "python",
   "nbconvert_exporter": "python",
   "pygments_lexer": "ipython3",
   "version": "3.10.13"
  },
  "papermill": {
   "default_parameters": {},
   "duration": 14.939181,
   "end_time": "2024-07-03T08:48:59.326135",
   "environment_variables": {},
   "exception": null,
   "input_path": "__notebook__.ipynb",
   "output_path": "__notebook__.ipynb",
   "parameters": {},
   "start_time": "2024-07-03T08:48:44.386954",
   "version": "2.5.0"
  }
 },
 "nbformat": 4,
 "nbformat_minor": 5
}
