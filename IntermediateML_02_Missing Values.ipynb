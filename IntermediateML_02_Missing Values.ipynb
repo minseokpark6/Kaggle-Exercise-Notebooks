{
 "cells": [
  {
   "cell_type": "markdown",
   "id": "0f101f5f",
   "metadata": {
    "papermill": {
     "duration": 0.013438,
     "end_time": "2024-07-04T11:07:19.587725",
     "exception": false,
     "start_time": "2024-07-04T11:07:19.574287",
     "status": "completed"
    },
    "tags": []
   },
   "source": [
    "**This notebook is an exercise in the [Intermediate Machine Learning](https://www.kaggle.com/learn/intermediate-machine-learning) course.  You can reference the tutorial at [this link](https://www.kaggle.com/alexisbcook/missing-values).**\n",
    "\n",
    "---\n"
   ]
  },
  {
   "cell_type": "markdown",
   "id": "741500a1",
   "metadata": {
    "papermill": {
     "duration": 0.012389,
     "end_time": "2024-07-04T11:07:19.613553",
     "exception": false,
     "start_time": "2024-07-04T11:07:19.601164",
     "status": "completed"
    },
    "tags": []
   },
   "source": [
    "Now it's your turn to test your new knowledge of **missing values** handling. You'll probably find it makes a big difference.\n",
    "\n",
    "# Setup\n",
    "\n",
    "The questions will give you feedback on your work. Run the following cell to set up the feedback system."
   ]
  },
  {
   "cell_type": "code",
   "execution_count": 1,
   "id": "2f2458a8",
   "metadata": {
    "execution": {
     "iopub.execute_input": "2024-07-04T11:07:19.642219Z",
     "iopub.status.busy": "2024-07-04T11:07:19.641303Z",
     "iopub.status.idle": "2024-07-04T11:07:20.603817Z",
     "shell.execute_reply": "2024-07-04T11:07:20.602530Z"
    },
    "papermill": {
     "duration": 0.980419,
     "end_time": "2024-07-04T11:07:20.606725",
     "exception": false,
     "start_time": "2024-07-04T11:07:19.626306",
     "status": "completed"
    },
    "tags": []
   },
   "outputs": [
    {
     "name": "stdout",
     "output_type": "stream",
     "text": [
      "Setup Complete\n"
     ]
    }
   ],
   "source": [
    "# Set up code checking\n",
    "import os\n",
    "if not os.path.exists(\"../input/train.csv\"):\n",
    "    os.symlink(\"../input/home-data-for-ml-course/train.csv\", \"../input/train.csv\")  \n",
    "    os.symlink(\"../input/home-data-for-ml-course/test.csv\", \"../input/test.csv\") \n",
    "from learntools.core import binder\n",
    "binder.bind(globals())\n",
    "from learntools.ml_intermediate.ex2 import *\n",
    "print(\"Setup Complete\")"
   ]
  },
  {
   "cell_type": "markdown",
   "id": "25aafed0",
   "metadata": {
    "papermill": {
     "duration": 0.01272,
     "end_time": "2024-07-04T11:07:20.632712",
     "exception": false,
     "start_time": "2024-07-04T11:07:20.619992",
     "status": "completed"
    },
    "tags": []
   },
   "source": [
    "In this exercise, you will work with data from the [Housing Prices Competition for Kaggle Learn Users](https://www.kaggle.com/c/home-data-for-ml-course). \n",
    "\n",
    "![Ames Housing dataset image](https://storage.googleapis.com/kaggle-media/learn/images/lTJVG4e.png)\n",
    "\n",
    "Run the next code cell without changes to load the training and validation sets in `X_train`, `X_valid`, `y_train`, and `y_valid`.  The test set is loaded in `X_test`."
   ]
  },
  {
   "cell_type": "code",
   "execution_count": 2,
   "id": "2bfff304",
   "metadata": {
    "execution": {
     "iopub.execute_input": "2024-07-04T11:07:20.662851Z",
     "iopub.status.busy": "2024-07-04T11:07:20.661793Z",
     "iopub.status.idle": "2024-07-04T11:07:22.083153Z",
     "shell.execute_reply": "2024-07-04T11:07:22.081981Z"
    },
    "papermill": {
     "duration": 1.438798,
     "end_time": "2024-07-04T11:07:22.086052",
     "exception": false,
     "start_time": "2024-07-04T11:07:20.647254",
     "status": "completed"
    },
    "tags": []
   },
   "outputs": [],
   "source": [
    "import pandas as pd\n",
    "from sklearn.model_selection import train_test_split\n",
    "\n",
    "# Read the data\n",
    "X_full = pd.read_csv('../input/train.csv', index_col='Id')\n",
    "X_test_full = pd.read_csv('../input/test.csv', index_col='Id')\n",
    "\n",
    "# Remove rows with missing target, separate target from predictors\n",
    "X_full.dropna(axis=0, subset=['SalePrice'], inplace=True)\n",
    "y = X_full.SalePrice\n",
    "X_full.drop(['SalePrice'], axis=1, inplace=True)\n",
    "\n",
    "# To keep things simple, we'll use only numerical predictors\n",
    "X = X_full.select_dtypes(exclude=['object'])\n",
    "X_test = X_test_full.select_dtypes(exclude=['object'])\n",
    "\n",
    "# Break off validation set from training data\n",
    "X_train, X_valid, y_train, y_valid = train_test_split(X, y, train_size=0.8, test_size=0.2,\n",
    "                                                      random_state=0)"
   ]
  },
  {
   "cell_type": "markdown",
   "id": "3fc2ba0e",
   "metadata": {
    "papermill": {
     "duration": 0.012703,
     "end_time": "2024-07-04T11:07:22.112076",
     "exception": false,
     "start_time": "2024-07-04T11:07:22.099373",
     "status": "completed"
    },
    "tags": []
   },
   "source": [
    "Use the next code cell to print the first five rows of the data."
   ]
  },
  {
   "cell_type": "code",
   "execution_count": 3,
   "id": "bd3e2a98",
   "metadata": {
    "execution": {
     "iopub.execute_input": "2024-07-04T11:07:22.139594Z",
     "iopub.status.busy": "2024-07-04T11:07:22.139143Z",
     "iopub.status.idle": "2024-07-04T11:07:22.170970Z",
     "shell.execute_reply": "2024-07-04T11:07:22.169771Z"
    },
    "papermill": {
     "duration": 0.049065,
     "end_time": "2024-07-04T11:07:22.173926",
     "exception": false,
     "start_time": "2024-07-04T11:07:22.124861",
     "status": "completed"
    },
    "tags": []
   },
   "outputs": [
    {
     "data": {
      "text/html": [
       "<div>\n",
       "<style scoped>\n",
       "    .dataframe tbody tr th:only-of-type {\n",
       "        vertical-align: middle;\n",
       "    }\n",
       "\n",
       "    .dataframe tbody tr th {\n",
       "        vertical-align: top;\n",
       "    }\n",
       "\n",
       "    .dataframe thead th {\n",
       "        text-align: right;\n",
       "    }\n",
       "</style>\n",
       "<table border=\"1\" class=\"dataframe\">\n",
       "  <thead>\n",
       "    <tr style=\"text-align: right;\">\n",
       "      <th></th>\n",
       "      <th>MSSubClass</th>\n",
       "      <th>LotFrontage</th>\n",
       "      <th>LotArea</th>\n",
       "      <th>OverallQual</th>\n",
       "      <th>OverallCond</th>\n",
       "      <th>YearBuilt</th>\n",
       "      <th>YearRemodAdd</th>\n",
       "      <th>MasVnrArea</th>\n",
       "      <th>BsmtFinSF1</th>\n",
       "      <th>BsmtFinSF2</th>\n",
       "      <th>...</th>\n",
       "      <th>GarageArea</th>\n",
       "      <th>WoodDeckSF</th>\n",
       "      <th>OpenPorchSF</th>\n",
       "      <th>EnclosedPorch</th>\n",
       "      <th>3SsnPorch</th>\n",
       "      <th>ScreenPorch</th>\n",
       "      <th>PoolArea</th>\n",
       "      <th>MiscVal</th>\n",
       "      <th>MoSold</th>\n",
       "      <th>YrSold</th>\n",
       "    </tr>\n",
       "    <tr>\n",
       "      <th>Id</th>\n",
       "      <th></th>\n",
       "      <th></th>\n",
       "      <th></th>\n",
       "      <th></th>\n",
       "      <th></th>\n",
       "      <th></th>\n",
       "      <th></th>\n",
       "      <th></th>\n",
       "      <th></th>\n",
       "      <th></th>\n",
       "      <th></th>\n",
       "      <th></th>\n",
       "      <th></th>\n",
       "      <th></th>\n",
       "      <th></th>\n",
       "      <th></th>\n",
       "      <th></th>\n",
       "      <th></th>\n",
       "      <th></th>\n",
       "      <th></th>\n",
       "      <th></th>\n",
       "    </tr>\n",
       "  </thead>\n",
       "  <tbody>\n",
       "    <tr>\n",
       "      <th>619</th>\n",
       "      <td>20</td>\n",
       "      <td>90.0</td>\n",
       "      <td>11694</td>\n",
       "      <td>9</td>\n",
       "      <td>5</td>\n",
       "      <td>2007</td>\n",
       "      <td>2007</td>\n",
       "      <td>452.0</td>\n",
       "      <td>48</td>\n",
       "      <td>0</td>\n",
       "      <td>...</td>\n",
       "      <td>774</td>\n",
       "      <td>0</td>\n",
       "      <td>108</td>\n",
       "      <td>0</td>\n",
       "      <td>0</td>\n",
       "      <td>260</td>\n",
       "      <td>0</td>\n",
       "      <td>0</td>\n",
       "      <td>7</td>\n",
       "      <td>2007</td>\n",
       "    </tr>\n",
       "    <tr>\n",
       "      <th>871</th>\n",
       "      <td>20</td>\n",
       "      <td>60.0</td>\n",
       "      <td>6600</td>\n",
       "      <td>5</td>\n",
       "      <td>5</td>\n",
       "      <td>1962</td>\n",
       "      <td>1962</td>\n",
       "      <td>0.0</td>\n",
       "      <td>0</td>\n",
       "      <td>0</td>\n",
       "      <td>...</td>\n",
       "      <td>308</td>\n",
       "      <td>0</td>\n",
       "      <td>0</td>\n",
       "      <td>0</td>\n",
       "      <td>0</td>\n",
       "      <td>0</td>\n",
       "      <td>0</td>\n",
       "      <td>0</td>\n",
       "      <td>8</td>\n",
       "      <td>2009</td>\n",
       "    </tr>\n",
       "    <tr>\n",
       "      <th>93</th>\n",
       "      <td>30</td>\n",
       "      <td>80.0</td>\n",
       "      <td>13360</td>\n",
       "      <td>5</td>\n",
       "      <td>7</td>\n",
       "      <td>1921</td>\n",
       "      <td>2006</td>\n",
       "      <td>0.0</td>\n",
       "      <td>713</td>\n",
       "      <td>0</td>\n",
       "      <td>...</td>\n",
       "      <td>432</td>\n",
       "      <td>0</td>\n",
       "      <td>0</td>\n",
       "      <td>44</td>\n",
       "      <td>0</td>\n",
       "      <td>0</td>\n",
       "      <td>0</td>\n",
       "      <td>0</td>\n",
       "      <td>8</td>\n",
       "      <td>2009</td>\n",
       "    </tr>\n",
       "    <tr>\n",
       "      <th>818</th>\n",
       "      <td>20</td>\n",
       "      <td>NaN</td>\n",
       "      <td>13265</td>\n",
       "      <td>8</td>\n",
       "      <td>5</td>\n",
       "      <td>2002</td>\n",
       "      <td>2002</td>\n",
       "      <td>148.0</td>\n",
       "      <td>1218</td>\n",
       "      <td>0</td>\n",
       "      <td>...</td>\n",
       "      <td>857</td>\n",
       "      <td>150</td>\n",
       "      <td>59</td>\n",
       "      <td>0</td>\n",
       "      <td>0</td>\n",
       "      <td>0</td>\n",
       "      <td>0</td>\n",
       "      <td>0</td>\n",
       "      <td>7</td>\n",
       "      <td>2008</td>\n",
       "    </tr>\n",
       "    <tr>\n",
       "      <th>303</th>\n",
       "      <td>20</td>\n",
       "      <td>118.0</td>\n",
       "      <td>13704</td>\n",
       "      <td>7</td>\n",
       "      <td>5</td>\n",
       "      <td>2001</td>\n",
       "      <td>2002</td>\n",
       "      <td>150.0</td>\n",
       "      <td>0</td>\n",
       "      <td>0</td>\n",
       "      <td>...</td>\n",
       "      <td>843</td>\n",
       "      <td>468</td>\n",
       "      <td>81</td>\n",
       "      <td>0</td>\n",
       "      <td>0</td>\n",
       "      <td>0</td>\n",
       "      <td>0</td>\n",
       "      <td>0</td>\n",
       "      <td>1</td>\n",
       "      <td>2006</td>\n",
       "    </tr>\n",
       "  </tbody>\n",
       "</table>\n",
       "<p>5 rows × 36 columns</p>\n",
       "</div>"
      ],
      "text/plain": [
       "     MSSubClass  LotFrontage  LotArea  OverallQual  OverallCond  YearBuilt  \\\n",
       "Id                                                                           \n",
       "619          20         90.0    11694            9            5       2007   \n",
       "871          20         60.0     6600            5            5       1962   \n",
       "93           30         80.0    13360            5            7       1921   \n",
       "818          20          NaN    13265            8            5       2002   \n",
       "303          20        118.0    13704            7            5       2001   \n",
       "\n",
       "     YearRemodAdd  MasVnrArea  BsmtFinSF1  BsmtFinSF2  ...  GarageArea  \\\n",
       "Id                                                     ...               \n",
       "619          2007       452.0          48           0  ...         774   \n",
       "871          1962         0.0           0           0  ...         308   \n",
       "93           2006         0.0         713           0  ...         432   \n",
       "818          2002       148.0        1218           0  ...         857   \n",
       "303          2002       150.0           0           0  ...         843   \n",
       "\n",
       "     WoodDeckSF  OpenPorchSF  EnclosedPorch  3SsnPorch  ScreenPorch  PoolArea  \\\n",
       "Id                                                                              \n",
       "619           0          108              0          0          260         0   \n",
       "871           0            0              0          0            0         0   \n",
       "93            0            0             44          0            0         0   \n",
       "818         150           59              0          0            0         0   \n",
       "303         468           81              0          0            0         0   \n",
       "\n",
       "     MiscVal  MoSold  YrSold  \n",
       "Id                            \n",
       "619        0       7    2007  \n",
       "871        0       8    2009  \n",
       "93         0       8    2009  \n",
       "818        0       7    2008  \n",
       "303        0       1    2006  \n",
       "\n",
       "[5 rows x 36 columns]"
      ]
     },
     "execution_count": 3,
     "metadata": {},
     "output_type": "execute_result"
    }
   ],
   "source": [
    "X_train.head()"
   ]
  },
  {
   "cell_type": "markdown",
   "id": "f2340e3b",
   "metadata": {
    "papermill": {
     "duration": 0.014168,
     "end_time": "2024-07-04T11:07:22.201798",
     "exception": false,
     "start_time": "2024-07-04T11:07:22.187630",
     "status": "completed"
    },
    "tags": []
   },
   "source": [
    "You can already see a few missing values in the first several rows.  In the next step, you'll obtain a more comprehensive understanding of the missing values in the dataset.\n",
    "\n",
    "# Step 1: Preliminary investigation\n",
    "\n",
    "Run the code cell below without changes."
   ]
  },
  {
   "cell_type": "code",
   "execution_count": 4,
   "id": "5ce930b8",
   "metadata": {
    "execution": {
     "iopub.execute_input": "2024-07-04T11:07:22.232799Z",
     "iopub.status.busy": "2024-07-04T11:07:22.231706Z",
     "iopub.status.idle": "2024-07-04T11:07:22.240332Z",
     "shell.execute_reply": "2024-07-04T11:07:22.239163Z"
    },
    "papermill": {
     "duration": 0.026989,
     "end_time": "2024-07-04T11:07:22.243650",
     "exception": false,
     "start_time": "2024-07-04T11:07:22.216661",
     "status": "completed"
    },
    "tags": []
   },
   "outputs": [
    {
     "name": "stdout",
     "output_type": "stream",
     "text": [
      "(1168, 36)\n",
      "LotFrontage    212\n",
      "MasVnrArea       6\n",
      "GarageYrBlt     58\n",
      "dtype: int64\n"
     ]
    }
   ],
   "source": [
    "# Shape of training data (num_rows, num_columns)\n",
    "print(X_train.shape)\n",
    "\n",
    "# Number of missing values in each column of training data\n",
    "missing_val_count_by_column = (X_train.isnull().sum())\n",
    "print(missing_val_count_by_column[missing_val_count_by_column > 0])"
   ]
  },
  {
   "cell_type": "markdown",
   "id": "5e0bed68",
   "metadata": {
    "papermill": {
     "duration": 0.013325,
     "end_time": "2024-07-04T11:07:22.270598",
     "exception": false,
     "start_time": "2024-07-04T11:07:22.257273",
     "status": "completed"
    },
    "tags": []
   },
   "source": [
    "### Part A\n",
    "\n",
    "Use the above output to answer the questions below."
   ]
  },
  {
   "cell_type": "code",
   "execution_count": 5,
   "id": "e405ba69",
   "metadata": {
    "execution": {
     "iopub.execute_input": "2024-07-04T11:07:22.299530Z",
     "iopub.status.busy": "2024-07-04T11:07:22.299116Z",
     "iopub.status.idle": "2024-07-04T11:07:22.307077Z",
     "shell.execute_reply": "2024-07-04T11:07:22.305985Z"
    },
    "papermill": {
     "duration": 0.025442,
     "end_time": "2024-07-04T11:07:22.309519",
     "exception": false,
     "start_time": "2024-07-04T11:07:22.284077",
     "status": "completed"
    },
    "tags": []
   },
   "outputs": [
    {
     "data": {
      "text/plain": [
       "3"
      ]
     },
     "execution_count": 5,
     "metadata": {},
     "output_type": "execute_result"
    }
   ],
   "source": [
    "missing_val_count_by_column[missing_val_count_by_column > 0].size"
   ]
  },
  {
   "cell_type": "code",
   "execution_count": 6,
   "id": "5af9ccbf",
   "metadata": {
    "execution": {
     "iopub.execute_input": "2024-07-04T11:07:22.338588Z",
     "iopub.status.busy": "2024-07-04T11:07:22.338207Z",
     "iopub.status.idle": "2024-07-04T11:07:22.345811Z",
     "shell.execute_reply": "2024-07-04T11:07:22.344840Z"
    },
    "papermill": {
     "duration": 0.025196,
     "end_time": "2024-07-04T11:07:22.348362",
     "exception": false,
     "start_time": "2024-07-04T11:07:22.323166",
     "status": "completed"
    },
    "tags": []
   },
   "outputs": [
    {
     "data": {
      "text/plain": [
       "pandas.core.series.Series"
      ]
     },
     "execution_count": 6,
     "metadata": {},
     "output_type": "execute_result"
    }
   ],
   "source": [
    "type(missing_val_count_by_column[missing_val_count_by_column > 0])"
   ]
  },
  {
   "cell_type": "code",
   "execution_count": 7,
   "id": "51112fe3",
   "metadata": {
    "execution": {
     "iopub.execute_input": "2024-07-04T11:07:22.378405Z",
     "iopub.status.busy": "2024-07-04T11:07:22.377274Z",
     "iopub.status.idle": "2024-07-04T11:07:22.385824Z",
     "shell.execute_reply": "2024-07-04T11:07:22.384641Z"
    },
    "papermill": {
     "duration": 0.026139,
     "end_time": "2024-07-04T11:07:22.388269",
     "exception": false,
     "start_time": "2024-07-04T11:07:22.362130",
     "status": "completed"
    },
    "tags": []
   },
   "outputs": [
    {
     "data": {
      "text/plain": [
       "276"
      ]
     },
     "execution_count": 7,
     "metadata": {},
     "output_type": "execute_result"
    }
   ],
   "source": [
    "missing_val_count_by_column[missing_val_count_by_column > 0].values.sum()"
   ]
  },
  {
   "cell_type": "code",
   "execution_count": 8,
   "id": "04b0f3c9",
   "metadata": {
    "execution": {
     "iopub.execute_input": "2024-07-04T11:07:22.417970Z",
     "iopub.status.busy": "2024-07-04T11:07:22.417558Z",
     "iopub.status.idle": "2024-07-04T11:07:22.429550Z",
     "shell.execute_reply": "2024-07-04T11:07:22.428383Z"
    },
    "papermill": {
     "duration": 0.02998,
     "end_time": "2024-07-04T11:07:22.432179",
     "exception": false,
     "start_time": "2024-07-04T11:07:22.402199",
     "status": "completed"
    },
    "tags": []
   },
   "outputs": [
    {
     "data": {
      "application/javascript": [
       "parent.postMessage({\"jupyterEvent\": \"custom.exercise_interaction\", \"data\": {\"outcomeType\": 1, \"valueTowardsCompletion\": 1.0, \"interactionType\": 1, \"questionType\": 1, \"questionId\": \"1.1_InvestigateEquality\", \"learnToolsVersion\": \"0.3.4\", \"failureMessage\": \"\", \"exceptionClass\": \"\", \"trace\": \"\"}}, \"*\")"
      ],
      "text/plain": [
       "<IPython.core.display.Javascript object>"
      ]
     },
     "metadata": {},
     "output_type": "display_data"
    },
    {
     "data": {
      "text/markdown": [
       "<span style=\"color:#33cc33\">Correct</span>"
      ],
      "text/plain": [
       "Correct"
      ]
     },
     "metadata": {},
     "output_type": "display_data"
    }
   ],
   "source": [
    "# Fill in the line below: How many rows are in the training data?\n",
    "num_rows = X_train.shape[0]\n",
    "\n",
    "# Fill in the line below: How many columns in the training data\n",
    "# have missing values?\n",
    "num_cols_with_missing = missing_val_count_by_column[missing_val_count_by_column > 0].size\n",
    "\n",
    "# Fill in the line below: How many missing entries are contained in \n",
    "# all of the training data?\n",
    "tot_missing = missing_val_count_by_column[missing_val_count_by_column > 0].values.sum()\n",
    "\n",
    "# Check your answers\n",
    "step_1.a.check()"
   ]
  },
  {
   "cell_type": "code",
   "execution_count": 9,
   "id": "5358a385",
   "metadata": {
    "execution": {
     "iopub.execute_input": "2024-07-04T11:07:22.463297Z",
     "iopub.status.busy": "2024-07-04T11:07:22.462845Z",
     "iopub.status.idle": "2024-07-04T11:07:22.467743Z",
     "shell.execute_reply": "2024-07-04T11:07:22.466585Z"
    },
    "papermill": {
     "duration": 0.023715,
     "end_time": "2024-07-04T11:07:22.470346",
     "exception": false,
     "start_time": "2024-07-04T11:07:22.446631",
     "status": "completed"
    },
    "tags": []
   },
   "outputs": [],
   "source": [
    "# Lines below will give you a hint or solution code\n",
    "#step_1.a.hint()\n",
    "#step_1.a.solution()"
   ]
  },
  {
   "cell_type": "markdown",
   "id": "944a41a5",
   "metadata": {
    "papermill": {
     "duration": 0.014188,
     "end_time": "2024-07-04T11:07:22.498946",
     "exception": false,
     "start_time": "2024-07-04T11:07:22.484758",
     "status": "completed"
    },
    "tags": []
   },
   "source": [
    "### Part B\n",
    "Considering your answers above, what do you think is likely the best approach to dealing with the missing values?"
   ]
  },
  {
   "cell_type": "code",
   "execution_count": 10,
   "id": "c8156a38",
   "metadata": {
    "execution": {
     "iopub.execute_input": "2024-07-04T11:07:22.529472Z",
     "iopub.status.busy": "2024-07-04T11:07:22.529030Z",
     "iopub.status.idle": "2024-07-04T11:07:22.538402Z",
     "shell.execute_reply": "2024-07-04T11:07:22.537229Z"
    },
    "papermill": {
     "duration": 0.027429,
     "end_time": "2024-07-04T11:07:22.540811",
     "exception": false,
     "start_time": "2024-07-04T11:07:22.513382",
     "status": "completed"
    },
    "tags": []
   },
   "outputs": [
    {
     "data": {
      "application/javascript": [
       "parent.postMessage({\"jupyterEvent\": \"custom.exercise_interaction\", \"data\": {\"outcomeType\": 1, \"valueTowardsCompletion\": 1.0, \"interactionType\": 1, \"questionType\": 4, \"questionId\": \"1.2_InvestigateThought\", \"learnToolsVersion\": \"0.3.4\", \"failureMessage\": \"\", \"exceptionClass\": \"\", \"trace\": \"\"}}, \"*\")"
      ],
      "text/plain": [
       "<IPython.core.display.Javascript object>"
      ]
     },
     "metadata": {},
     "output_type": "display_data"
    },
    {
     "data": {
      "text/markdown": [
       "<span style=\"color:#33cc33\">Correct:</span> \n",
       "\n",
       "Since there are relatively few missing entries in the data (the column with the greatest percentage of missing values is missing less than 20% of its entries), we can expect that dropping columns is unlikely to yield good results.  This is because we'd be throwing away a lot of valuable data, and so imputation will likely perform better."
      ],
      "text/plain": [
       "Correct: \n",
       "\n",
       "Since there are relatively few missing entries in the data (the column with the greatest percentage of missing values is missing less than 20% of its entries), we can expect that dropping columns is unlikely to yield good results.  This is because we'd be throwing away a lot of valuable data, and so imputation will likely perform better."
      ]
     },
     "metadata": {},
     "output_type": "display_data"
    }
   ],
   "source": [
    "# Check your answer (Run this code cell to receive credit!)\n",
    "step_1.b.check()"
   ]
  },
  {
   "cell_type": "code",
   "execution_count": 11,
   "id": "c6e6427c",
   "metadata": {
    "execution": {
     "iopub.execute_input": "2024-07-04T11:07:22.572425Z",
     "iopub.status.busy": "2024-07-04T11:07:22.571500Z",
     "iopub.status.idle": "2024-07-04T11:07:22.576914Z",
     "shell.execute_reply": "2024-07-04T11:07:22.575750Z"
    },
    "papermill": {
     "duration": 0.0239,
     "end_time": "2024-07-04T11:07:22.579368",
     "exception": false,
     "start_time": "2024-07-04T11:07:22.555468",
     "status": "completed"
    },
    "tags": []
   },
   "outputs": [],
   "source": [
    "#step_1.b.hint()"
   ]
  },
  {
   "cell_type": "markdown",
   "id": "32dc32d3",
   "metadata": {
    "papermill": {
     "duration": 0.014384,
     "end_time": "2024-07-04T11:07:22.608817",
     "exception": false,
     "start_time": "2024-07-04T11:07:22.594433",
     "status": "completed"
    },
    "tags": []
   },
   "source": [
    "To compare different approaches to dealing with missing values, you'll use the same `score_dataset()` function from the tutorial.  This function reports the [mean absolute error](https://en.wikipedia.org/wiki/Mean_absolute_error) (MAE) from a random forest model."
   ]
  },
  {
   "cell_type": "code",
   "execution_count": 12,
   "id": "b4ca4ca8",
   "metadata": {
    "execution": {
     "iopub.execute_input": "2024-07-04T11:07:22.640212Z",
     "iopub.status.busy": "2024-07-04T11:07:22.639763Z",
     "iopub.status.idle": "2024-07-04T11:07:23.000848Z",
     "shell.execute_reply": "2024-07-04T11:07:22.999736Z"
    },
    "papermill": {
     "duration": 0.380163,
     "end_time": "2024-07-04T11:07:23.003796",
     "exception": false,
     "start_time": "2024-07-04T11:07:22.623633",
     "status": "completed"
    },
    "tags": []
   },
   "outputs": [],
   "source": [
    "from sklearn.ensemble import RandomForestRegressor\n",
    "from sklearn.metrics import mean_absolute_error\n",
    "\n",
    "# Function for comparing different approaches\n",
    "def score_dataset(X_train, X_valid, y_train, y_valid):\n",
    "    model = RandomForestRegressor(n_estimators=100, random_state=0)\n",
    "    model.fit(X_train, y_train)\n",
    "    preds = model.predict(X_valid)\n",
    "    return mean_absolute_error(y_valid, preds)"
   ]
  },
  {
   "cell_type": "markdown",
   "id": "220c9bb5",
   "metadata": {
    "papermill": {
     "duration": 0.014469,
     "end_time": "2024-07-04T11:07:23.033370",
     "exception": false,
     "start_time": "2024-07-04T11:07:23.018901",
     "status": "completed"
    },
    "tags": []
   },
   "source": [
    "# Step 2: Drop columns with missing values\n",
    "\n",
    "In this step, you'll preprocess the data in `X_train` and `X_valid` to remove columns with missing values.  Set the preprocessed DataFrames to `reduced_X_train` and `reduced_X_valid`, respectively.  "
   ]
  },
  {
   "cell_type": "code",
   "execution_count": 13,
   "id": "e047799d",
   "metadata": {
    "execution": {
     "iopub.execute_input": "2024-07-04T11:07:23.064840Z",
     "iopub.status.busy": "2024-07-04T11:07:23.064394Z",
     "iopub.status.idle": "2024-07-04T11:07:23.072519Z",
     "shell.execute_reply": "2024-07-04T11:07:23.071401Z"
    },
    "papermill": {
     "duration": 0.026937,
     "end_time": "2024-07-04T11:07:23.075180",
     "exception": false,
     "start_time": "2024-07-04T11:07:23.048243",
     "status": "completed"
    },
    "tags": []
   },
   "outputs": [
    {
     "data": {
      "text/plain": [
       "['LotFrontage', 'MasVnrArea', 'GarageYrBlt']"
      ]
     },
     "execution_count": 13,
     "metadata": {},
     "output_type": "execute_result"
    }
   ],
   "source": [
    "list(missing_val_count_by_column[missing_val_count_by_column > 0].index)"
   ]
  },
  {
   "cell_type": "code",
   "execution_count": 14,
   "id": "38124c62",
   "metadata": {
    "execution": {
     "iopub.execute_input": "2024-07-04T11:07:23.107482Z",
     "iopub.status.busy": "2024-07-04T11:07:23.107047Z",
     "iopub.status.idle": "2024-07-04T11:07:23.128540Z",
     "shell.execute_reply": "2024-07-04T11:07:23.127323Z"
    },
    "papermill": {
     "duration": 0.041045,
     "end_time": "2024-07-04T11:07:23.131257",
     "exception": false,
     "start_time": "2024-07-04T11:07:23.090212",
     "status": "completed"
    },
    "tags": []
   },
   "outputs": [
    {
     "data": {
      "application/javascript": [
       "parent.postMessage({\"jupyterEvent\": \"custom.exercise_interaction\", \"data\": {\"outcomeType\": 1, \"valueTowardsCompletion\": 1.0, \"interactionType\": 1, \"questionType\": 2, \"questionId\": \"2_DropMissing\", \"learnToolsVersion\": \"0.3.4\", \"failureMessage\": \"\", \"exceptionClass\": \"\", \"trace\": \"\"}}, \"*\")"
      ],
      "text/plain": [
       "<IPython.core.display.Javascript object>"
      ]
     },
     "metadata": {},
     "output_type": "display_data"
    },
    {
     "data": {
      "text/markdown": [
       "<span style=\"color:#33cc33\">Correct</span>"
      ],
      "text/plain": [
       "Correct"
      ]
     },
     "metadata": {},
     "output_type": "display_data"
    }
   ],
   "source": [
    "# Fill in the line below: get names of columns with missing values\n",
    "col_drop = list(missing_val_count_by_column[missing_val_count_by_column > 0].index)\n",
    "\n",
    "# Fill in the lines below: drop columns in training and validation data\n",
    "reduced_X_train = X_train.drop(columns = col_drop)\n",
    "reduced_X_valid = X_valid.drop(columns = col_drop)\n",
    "\n",
    "# Check your answers\n",
    "step_2.check()"
   ]
  },
  {
   "cell_type": "code",
   "execution_count": 15,
   "id": "037dee1a",
   "metadata": {
    "execution": {
     "iopub.execute_input": "2024-07-04T11:07:23.163545Z",
     "iopub.status.busy": "2024-07-04T11:07:23.163157Z",
     "iopub.status.idle": "2024-07-04T11:07:23.167937Z",
     "shell.execute_reply": "2024-07-04T11:07:23.166886Z"
    },
    "papermill": {
     "duration": 0.023812,
     "end_time": "2024-07-04T11:07:23.170310",
     "exception": false,
     "start_time": "2024-07-04T11:07:23.146498",
     "status": "completed"
    },
    "tags": []
   },
   "outputs": [],
   "source": [
    "# Lines below will give you a hint or solution code\n",
    "#step_2.hint()\n",
    "#step_2.solution()"
   ]
  },
  {
   "cell_type": "markdown",
   "id": "ce2a0a73",
   "metadata": {
    "papermill": {
     "duration": 0.014831,
     "end_time": "2024-07-04T11:07:23.200629",
     "exception": false,
     "start_time": "2024-07-04T11:07:23.185798",
     "status": "completed"
    },
    "tags": []
   },
   "source": [
    "Run the next code cell without changes to obtain the MAE for this approach."
   ]
  },
  {
   "cell_type": "code",
   "execution_count": 16,
   "id": "c5c9d569",
   "metadata": {
    "execution": {
     "iopub.execute_input": "2024-07-04T11:07:23.232964Z",
     "iopub.status.busy": "2024-07-04T11:07:23.232549Z",
     "iopub.status.idle": "2024-07-04T11:07:24.552021Z",
     "shell.execute_reply": "2024-07-04T11:07:24.550802Z"
    },
    "papermill": {
     "duration": 1.339176,
     "end_time": "2024-07-04T11:07:24.554898",
     "exception": false,
     "start_time": "2024-07-04T11:07:23.215722",
     "status": "completed"
    },
    "tags": []
   },
   "outputs": [
    {
     "name": "stdout",
     "output_type": "stream",
     "text": [
      "MAE (Drop columns with missing values):\n",
      "17837.82570776256\n"
     ]
    }
   ],
   "source": [
    "print(\"MAE (Drop columns with missing values):\")\n",
    "print(score_dataset(reduced_X_train, reduced_X_valid, y_train, y_valid))"
   ]
  },
  {
   "cell_type": "markdown",
   "id": "398a660c",
   "metadata": {
    "papermill": {
     "duration": 0.014911,
     "end_time": "2024-07-04T11:07:24.585143",
     "exception": false,
     "start_time": "2024-07-04T11:07:24.570232",
     "status": "completed"
    },
    "tags": []
   },
   "source": [
    "# Step 3: Imputation\n",
    "\n",
    "### Part A\n",
    "\n",
    "Use the next code cell to impute missing values with the mean value along each column.  Set the preprocessed DataFrames to `imputed_X_train` and `imputed_X_valid`.  Make sure that the column names match those in `X_train` and `X_valid`."
   ]
  },
  {
   "cell_type": "code",
   "execution_count": 17,
   "id": "267b13fa",
   "metadata": {
    "execution": {
     "iopub.execute_input": "2024-07-04T11:07:24.619242Z",
     "iopub.status.busy": "2024-07-04T11:07:24.617896Z",
     "iopub.status.idle": "2024-07-04T11:07:24.652258Z",
     "shell.execute_reply": "2024-07-04T11:07:24.651119Z"
    },
    "papermill": {
     "duration": 0.0543,
     "end_time": "2024-07-04T11:07:24.655023",
     "exception": false,
     "start_time": "2024-07-04T11:07:24.600723",
     "status": "completed"
    },
    "tags": []
   },
   "outputs": [
    {
     "data": {
      "application/javascript": [
       "parent.postMessage({\"jupyterEvent\": \"custom.exercise_interaction\", \"data\": {\"outcomeType\": 1, \"valueTowardsCompletion\": 1.0, \"interactionType\": 1, \"questionType\": 2, \"questionId\": \"3.1_ImputeCode\", \"learnToolsVersion\": \"0.3.4\", \"failureMessage\": \"\", \"exceptionClass\": \"\", \"trace\": \"\"}}, \"*\")"
      ],
      "text/plain": [
       "<IPython.core.display.Javascript object>"
      ]
     },
     "metadata": {},
     "output_type": "display_data"
    },
    {
     "data": {
      "text/markdown": [
       "<span style=\"color:#33cc33\">Correct</span>"
      ],
      "text/plain": [
       "Correct"
      ]
     },
     "metadata": {},
     "output_type": "display_data"
    }
   ],
   "source": [
    "from sklearn.impute import SimpleImputer\n",
    "\n",
    "# Fill in the lines below: imputation\n",
    "imputer = SimpleImputer()\n",
    "imputed_X_train = pd.DataFrame(imputer.fit_transform(X_train))\n",
    "imputed_X_valid = pd.DataFrame(imputer.transform(X_valid))\n",
    "\n",
    "# Fill in the lines below: imputation removed column names; put them back\n",
    "imputed_X_train.columns = X_train.columns\n",
    "imputed_X_valid.columns = X_valid.columns\n",
    "\n",
    "# Check your answers\n",
    "step_3.a.check()"
   ]
  },
  {
   "cell_type": "code",
   "execution_count": 18,
   "id": "89973dde",
   "metadata": {
    "execution": {
     "iopub.execute_input": "2024-07-04T11:07:24.688725Z",
     "iopub.status.busy": "2024-07-04T11:07:24.688312Z",
     "iopub.status.idle": "2024-07-04T11:07:24.693132Z",
     "shell.execute_reply": "2024-07-04T11:07:24.692010Z"
    },
    "papermill": {
     "duration": 0.024224,
     "end_time": "2024-07-04T11:07:24.695464",
     "exception": false,
     "start_time": "2024-07-04T11:07:24.671240",
     "status": "completed"
    },
    "tags": []
   },
   "outputs": [],
   "source": [
    "# Lines below will give you a hint or solution code\n",
    "#step_3.a.hint()\n",
    "#step_3.a.solution()"
   ]
  },
  {
   "cell_type": "markdown",
   "id": "9a19e290",
   "metadata": {
    "papermill": {
     "duration": 0.015282,
     "end_time": "2024-07-04T11:07:24.726550",
     "exception": false,
     "start_time": "2024-07-04T11:07:24.711268",
     "status": "completed"
    },
    "tags": []
   },
   "source": [
    "Run the next code cell without changes to obtain the MAE for this approach."
   ]
  },
  {
   "cell_type": "code",
   "execution_count": 19,
   "id": "fc1f285d",
   "metadata": {
    "execution": {
     "iopub.execute_input": "2024-07-04T11:07:24.824314Z",
     "iopub.status.busy": "2024-07-04T11:07:24.823382Z",
     "iopub.status.idle": "2024-07-04T11:07:26.318045Z",
     "shell.execute_reply": "2024-07-04T11:07:26.316757Z"
    },
    "papermill": {
     "duration": 1.578625,
     "end_time": "2024-07-04T11:07:26.320700",
     "exception": false,
     "start_time": "2024-07-04T11:07:24.742075",
     "status": "completed"
    },
    "tags": []
   },
   "outputs": [
    {
     "name": "stdout",
     "output_type": "stream",
     "text": [
      "MAE (Imputation):\n",
      "18062.894611872147\n"
     ]
    }
   ],
   "source": [
    "print(\"MAE (Imputation):\")\n",
    "print(score_dataset(imputed_X_train, imputed_X_valid, y_train, y_valid))"
   ]
  },
  {
   "cell_type": "markdown",
   "id": "3c796ddf",
   "metadata": {
    "papermill": {
     "duration": 0.015631,
     "end_time": "2024-07-04T11:07:26.352499",
     "exception": false,
     "start_time": "2024-07-04T11:07:26.336868",
     "status": "completed"
    },
    "tags": []
   },
   "source": [
    "### Part B\n",
    "\n",
    "Compare the MAE from each approach.  Does anything surprise you about the results?  Why do you think one approach performed better than the other?"
   ]
  },
  {
   "cell_type": "code",
   "execution_count": 20,
   "id": "76dca1de",
   "metadata": {
    "execution": {
     "iopub.execute_input": "2024-07-04T11:07:26.386052Z",
     "iopub.status.busy": "2024-07-04T11:07:26.385664Z",
     "iopub.status.idle": "2024-07-04T11:07:26.394751Z",
     "shell.execute_reply": "2024-07-04T11:07:26.393576Z"
    },
    "papermill": {
     "duration": 0.028714,
     "end_time": "2024-07-04T11:07:26.397069",
     "exception": false,
     "start_time": "2024-07-04T11:07:26.368355",
     "status": "completed"
    },
    "tags": []
   },
   "outputs": [
    {
     "data": {
      "application/javascript": [
       "parent.postMessage({\"jupyterEvent\": \"custom.exercise_interaction\", \"data\": {\"outcomeType\": 1, \"valueTowardsCompletion\": 1.0, \"interactionType\": 1, \"questionType\": 4, \"questionId\": \"3.2_ImputeThought\", \"learnToolsVersion\": \"0.3.4\", \"failureMessage\": \"\", \"exceptionClass\": \"\", \"trace\": \"\"}}, \"*\")"
      ],
      "text/plain": [
       "<IPython.core.display.Javascript object>"
      ]
     },
     "metadata": {},
     "output_type": "display_data"
    },
    {
     "data": {
      "text/markdown": [
       "<span style=\"color:#33cc33\">Correct:</span> \n",
       "\n",
       "Given that thre are so few missing values in the dataset, we'd expect imputation to perform better than dropping columns entirely.  However, we see that dropping columns performs slightly better!  While this can probably partially be attributed to noise in the dataset, another potential explanation is that the imputation method is not a great match to this dataset.  That is, maybe instead of filling in the mean value, it makes more sense to set every missing value to a value of 0, to fill in the most frequently encountered value, or to use some other method.  For instance, consider the `GarageYrBlt` column (which indicates the year that the garage was built).  It's likely that in some cases, a missing value could indicate a house that does not have a garage.  Does it make more sense to fill in the median value along each column in this case?  Or could we get better results by filling in the minimum value along each column?  It's not quite clear what's best in this case, but perhaps we can rule out some options immediately - for instance, setting missing values in this column to 0 is likely to yield horrible results!"
      ],
      "text/plain": [
       "Correct: \n",
       "\n",
       "Given that thre are so few missing values in the dataset, we'd expect imputation to perform better than dropping columns entirely.  However, we see that dropping columns performs slightly better!  While this can probably partially be attributed to noise in the dataset, another potential explanation is that the imputation method is not a great match to this dataset.  That is, maybe instead of filling in the mean value, it makes more sense to set every missing value to a value of 0, to fill in the most frequently encountered value, or to use some other method.  For instance, consider the `GarageYrBlt` column (which indicates the year that the garage was built).  It's likely that in some cases, a missing value could indicate a house that does not have a garage.  Does it make more sense to fill in the median value along each column in this case?  Or could we get better results by filling in the minimum value along each column?  It's not quite clear what's best in this case, but perhaps we can rule out some options immediately - for instance, setting missing values in this column to 0 is likely to yield horrible results!"
      ]
     },
     "metadata": {},
     "output_type": "display_data"
    }
   ],
   "source": [
    "# Check your answer (Run this code cell to receive credit!)\n",
    "step_3.b.check()"
   ]
  },
  {
   "cell_type": "code",
   "execution_count": 21,
   "id": "881d7bba",
   "metadata": {
    "execution": {
     "iopub.execute_input": "2024-07-04T11:07:26.432287Z",
     "iopub.status.busy": "2024-07-04T11:07:26.431857Z",
     "iopub.status.idle": "2024-07-04T11:07:26.436508Z",
     "shell.execute_reply": "2024-07-04T11:07:26.435449Z"
    },
    "papermill": {
     "duration": 0.025183,
     "end_time": "2024-07-04T11:07:26.439110",
     "exception": false,
     "start_time": "2024-07-04T11:07:26.413927",
     "status": "completed"
    },
    "tags": []
   },
   "outputs": [],
   "source": [
    "#step_3.b.hint()"
   ]
  },
  {
   "cell_type": "markdown",
   "id": "7d1478c5",
   "metadata": {
    "papermill": {
     "duration": 0.01648,
     "end_time": "2024-07-04T11:07:26.472288",
     "exception": false,
     "start_time": "2024-07-04T11:07:26.455808",
     "status": "completed"
    },
    "tags": []
   },
   "source": [
    "# Step 4: Generate test predictions\n",
    "\n",
    "In this final step, you'll use any approach of your choosing to deal with missing values.  Once you've preprocessed the training and validation features, you'll train and evaluate a random forest model.  Then, you'll preprocess the test data before generating predictions that can be submitted to the competition!\n",
    "\n",
    "### Part A\n",
    "\n",
    "Use the next code cell to preprocess the training and validation data.  Set the preprocessed DataFrames to `final_X_train` and `final_X_valid`.  **You can use any approach of your choosing here!**  in order for this step to be marked as correct, you need only ensure:\n",
    "- the preprocessed DataFrames have the same number of columns,\n",
    "- the preprocessed DataFrames have no missing values, \n",
    "- `final_X_train` and `y_train` have the same number of rows, and\n",
    "- `final_X_valid` and `y_valid` have the same number of rows."
   ]
  },
  {
   "cell_type": "code",
   "execution_count": 22,
   "id": "75e9f5b9",
   "metadata": {
    "execution": {
     "iopub.execute_input": "2024-07-04T11:07:26.507119Z",
     "iopub.status.busy": "2024-07-04T11:07:26.506626Z",
     "iopub.status.idle": "2024-07-04T11:07:26.537849Z",
     "shell.execute_reply": "2024-07-04T11:07:26.536559Z"
    },
    "papermill": {
     "duration": 0.051798,
     "end_time": "2024-07-04T11:07:26.540549",
     "exception": false,
     "start_time": "2024-07-04T11:07:26.488751",
     "status": "completed"
    },
    "tags": []
   },
   "outputs": [
    {
     "data": {
      "application/javascript": [
       "parent.postMessage({\"jupyterEvent\": \"custom.exercise_interaction\", \"data\": {\"outcomeType\": 1, \"valueTowardsCompletion\": 1.0, \"interactionType\": 1, \"questionType\": 2, \"questionId\": \"4.1_PredsCodeA\", \"learnToolsVersion\": \"0.3.4\", \"failureMessage\": \"\", \"exceptionClass\": \"\", \"trace\": \"\"}}, \"*\")"
      ],
      "text/plain": [
       "<IPython.core.display.Javascript object>"
      ]
     },
     "metadata": {},
     "output_type": "display_data"
    },
    {
     "data": {
      "text/markdown": [
       "<span style=\"color:#33cc33\">Correct</span>"
      ],
      "text/plain": [
       "Correct"
      ]
     },
     "metadata": {},
     "output_type": "display_data"
    }
   ],
   "source": [
    "# Imputation\n",
    "imputer = SimpleImputer(strategy='median')\n",
    "final_X_train = pd.DataFrame(imputer.fit_transform(X_train))\n",
    "final_X_valid = pd.DataFrame(imputer.transform(X_valid))\n",
    "\n",
    "# Columns\n",
    "final_X_train.columns = X_train.columns\n",
    "final_X_valid.columns = X_valid.columns\n",
    "\n",
    "# Check your answers\n",
    "step_4.a.check()"
   ]
  },
  {
   "cell_type": "code",
   "execution_count": 23,
   "id": "9f8a4767",
   "metadata": {
    "execution": {
     "iopub.execute_input": "2024-07-04T11:07:26.582362Z",
     "iopub.status.busy": "2024-07-04T11:07:26.581061Z",
     "iopub.status.idle": "2024-07-04T11:07:26.587392Z",
     "shell.execute_reply": "2024-07-04T11:07:26.585880Z"
    },
    "papermill": {
     "duration": 0.033287,
     "end_time": "2024-07-04T11:07:26.590755",
     "exception": false,
     "start_time": "2024-07-04T11:07:26.557468",
     "status": "completed"
    },
    "tags": []
   },
   "outputs": [],
   "source": [
    "# Lines below will give you a hint or solution code\n",
    "#step_4.a.hint()\n",
    "#step_4.a.solution()"
   ]
  },
  {
   "cell_type": "markdown",
   "id": "3131a592",
   "metadata": {
    "papermill": {
     "duration": 0.016732,
     "end_time": "2024-07-04T11:07:26.626138",
     "exception": false,
     "start_time": "2024-07-04T11:07:26.609406",
     "status": "completed"
    },
    "tags": []
   },
   "source": [
    "Run the next code cell to train and evaluate a random forest model.  (*Note that we don't use the `score_dataset()` function above, because we will soon use the trained model to generate test predictions!*)"
   ]
  },
  {
   "cell_type": "code",
   "execution_count": 24,
   "id": "1476cde7",
   "metadata": {
    "execution": {
     "iopub.execute_input": "2024-07-04T11:07:26.665381Z",
     "iopub.status.busy": "2024-07-04T11:07:26.664824Z",
     "iopub.status.idle": "2024-07-04T11:07:28.160770Z",
     "shell.execute_reply": "2024-07-04T11:07:28.159629Z"
    },
    "papermill": {
     "duration": 1.518897,
     "end_time": "2024-07-04T11:07:28.164551",
     "exception": false,
     "start_time": "2024-07-04T11:07:26.645654",
     "status": "completed"
    },
    "tags": []
   },
   "outputs": [
    {
     "name": "stdout",
     "output_type": "stream",
     "text": [
      "MAE (Your approach):\n",
      "17791.59899543379\n"
     ]
    }
   ],
   "source": [
    "# Define and fit model\n",
    "model = RandomForestRegressor(n_estimators=100, random_state=0)\n",
    "model.fit(final_X_train, y_train)\n",
    "\n",
    "# Get validation predictions and MAE\n",
    "preds_valid = model.predict(final_X_valid)\n",
    "print(\"MAE (Your approach):\")\n",
    "print(mean_absolute_error(y_valid, preds_valid))"
   ]
  },
  {
   "cell_type": "markdown",
   "id": "b41ee0ff",
   "metadata": {
    "papermill": {
     "duration": 0.016547,
     "end_time": "2024-07-04T11:07:28.201512",
     "exception": false,
     "start_time": "2024-07-04T11:07:28.184965",
     "status": "completed"
    },
    "tags": []
   },
   "source": [
    "### Part B\n",
    "\n",
    "Use the next code cell to preprocess your test data.  Make sure that you use a method that agrees with how you preprocessed the training and validation data, and set the preprocessed test features to `final_X_test`.\n",
    "\n",
    "Then, use the preprocessed test features and the trained model to generate test predictions in `preds_test`.\n",
    "\n",
    "In order for this step to be marked correct, you need only ensure:\n",
    "- the preprocessed test DataFrame has no missing values, and\n",
    "- `final_X_test` has the same number of rows as `X_test`."
   ]
  },
  {
   "cell_type": "code",
   "execution_count": 25,
   "id": "117a0d80",
   "metadata": {
    "execution": {
     "iopub.execute_input": "2024-07-04T11:07:28.237897Z",
     "iopub.status.busy": "2024-07-04T11:07:28.237053Z",
     "iopub.status.idle": "2024-07-04T11:07:28.293136Z",
     "shell.execute_reply": "2024-07-04T11:07:28.291979Z"
    },
    "papermill": {
     "duration": 0.07819,
     "end_time": "2024-07-04T11:07:28.296489",
     "exception": false,
     "start_time": "2024-07-04T11:07:28.218299",
     "status": "completed"
    },
    "tags": []
   },
   "outputs": [
    {
     "data": {
      "application/javascript": [
       "parent.postMessage({\"jupyterEvent\": \"custom.exercise_interaction\", \"data\": {\"outcomeType\": 1, \"valueTowardsCompletion\": 1.0, \"interactionType\": 1, \"questionType\": 2, \"questionId\": \"4.2_PredsCodeB\", \"learnToolsVersion\": \"0.3.4\", \"failureMessage\": \"\", \"exceptionClass\": \"\", \"trace\": \"\"}}, \"*\")"
      ],
      "text/plain": [
       "<IPython.core.display.Javascript object>"
      ]
     },
     "metadata": {},
     "output_type": "display_data"
    },
    {
     "data": {
      "text/markdown": [
       "<span style=\"color:#33cc33\">Correct</span>"
      ],
      "text/plain": [
       "Correct"
      ]
     },
     "metadata": {},
     "output_type": "display_data"
    }
   ],
   "source": [
    "# Fill in the line below: preprocess test data\n",
    "final_X_test = pd.DataFrame(imputer.fit_transform(X_test))\n",
    "final_X_test.columns = X_test.columns\n",
    "\n",
    "# Fill in the line below: get test predictions\n",
    "preds_test = model.predict(final_X_test)\n",
    "\n",
    "# Check your answers\n",
    "step_4.b.check()"
   ]
  },
  {
   "cell_type": "code",
   "execution_count": 26,
   "id": "786a0f22",
   "metadata": {
    "execution": {
     "iopub.execute_input": "2024-07-04T11:07:28.337408Z",
     "iopub.status.busy": "2024-07-04T11:07:28.336315Z",
     "iopub.status.idle": "2024-07-04T11:07:28.341218Z",
     "shell.execute_reply": "2024-07-04T11:07:28.340146Z"
    },
    "papermill": {
     "duration": 0.026416,
     "end_time": "2024-07-04T11:07:28.344119",
     "exception": false,
     "start_time": "2024-07-04T11:07:28.317703",
     "status": "completed"
    },
    "tags": []
   },
   "outputs": [],
   "source": [
    "# Lines below will give you a hint or solution code\n",
    "#step_4.b.hint()\n",
    "#step_4.b.solution()"
   ]
  },
  {
   "cell_type": "markdown",
   "id": "6f22b35e",
   "metadata": {
    "papermill": {
     "duration": 0.019545,
     "end_time": "2024-07-04T11:07:28.388945",
     "exception": false,
     "start_time": "2024-07-04T11:07:28.369400",
     "status": "completed"
    },
    "tags": []
   },
   "source": [
    "Run the next code cell without changes to save your results to a CSV file that can be submitted directly to the competition."
   ]
  },
  {
   "cell_type": "code",
   "execution_count": 27,
   "id": "53c07df0",
   "metadata": {
    "execution": {
     "iopub.execute_input": "2024-07-04T11:07:28.426946Z",
     "iopub.status.busy": "2024-07-04T11:07:28.426108Z",
     "iopub.status.idle": "2024-07-04T11:07:28.439393Z",
     "shell.execute_reply": "2024-07-04T11:07:28.438199Z"
    },
    "papermill": {
     "duration": 0.035432,
     "end_time": "2024-07-04T11:07:28.442624",
     "exception": false,
     "start_time": "2024-07-04T11:07:28.407192",
     "status": "completed"
    },
    "tags": []
   },
   "outputs": [],
   "source": [
    "# Save test predictions to file\n",
    "output = pd.DataFrame({'Id': X_test.index,\n",
    "                       'SalePrice': preds_test})\n",
    "output.to_csv('submission.csv', index=False)"
   ]
  },
  {
   "cell_type": "markdown",
   "id": "595bda66",
   "metadata": {
    "papermill": {
     "duration": 0.017928,
     "end_time": "2024-07-04T11:07:28.481790",
     "exception": false,
     "start_time": "2024-07-04T11:07:28.463862",
     "status": "completed"
    },
    "tags": []
   },
   "source": [
    "# Submit your results\n",
    "\n",
    "Once you have successfully completed Step 4, you're ready to submit your results to the leaderboard!  (_You also learned how to do this in the previous exercise.  If you need a reminder of how to do this, please use the instructions below._)  \n",
    "\n",
    "First, you'll need to join the competition if you haven't already.  So open a new window by clicking on [this link](https://www.kaggle.com/c/home-data-for-ml-course).  Then click on the **Join Competition** button.\n",
    "\n",
    "![join competition image](https://storage.googleapis.com/kaggle-media/learn/images/wLmFtH3.png)\n",
    "\n",
    "Next, follow the instructions below:\n",
    "1. Begin by clicking on the **Save Version** button in the top right corner of the window.  This will generate a pop-up window.  \n",
    "2. Ensure that the **Save and Run All** option is selected, and then click on the **Save** button.\n",
    "3. This generates a window in the bottom left corner of the notebook.  After it has finished running, click on the number to the right of the **Save Version** button.  This pulls up a list of versions on the right of the screen.  Click on the ellipsis **(...)** to the right of the most recent version, and select **Open in Viewer**.  This brings you into view mode of the same page. You will need to scroll down to get back to these instructions.\n",
    "4. Click on the **Data** tab near the top of the screen.  Then, click on the file you would like to submit, and click on the **Submit** button to submit your results to the leaderboard.\n",
    "\n",
    "You have now successfully submitted to the competition!\n",
    "\n",
    "If you want to keep working to improve your performance, select the **Edit** button in the top right of the screen. Then you can change your code and repeat the process. There's a lot of room to improve, and you will climb up the leaderboard as you work.\n",
    "\n",
    "\n",
    "# Keep going\n",
    "\n",
    "Move on to learn what **[categorical variables](https://www.kaggle.com/alexisbcook/categorical-variables)** are, along with how to incorporate them into your machine learning models.  Categorical variables are very common in real-world data, but you'll get an error if you try to plug them into your models without processing them first!"
   ]
  },
  {
   "cell_type": "markdown",
   "id": "96069c51",
   "metadata": {
    "papermill": {
     "duration": 0.01713,
     "end_time": "2024-07-04T11:07:28.516455",
     "exception": false,
     "start_time": "2024-07-04T11:07:28.499325",
     "status": "completed"
    },
    "tags": []
   },
   "source": [
    "---\n",
    "\n",
    "\n",
    "\n",
    "\n",
    "*Have questions or comments? Visit the [course discussion forum](https://www.kaggle.com/learn/intermediate-machine-learning/discussion) to chat with other learners.*"
   ]
  }
 ],
 "metadata": {
  "kaggle": {
   "accelerator": "none",
   "dataSources": [
    {
     "databundleVersionId": 111096,
     "sourceId": 10211,
     "sourceType": "competition"
    }
   ],
   "isGpuEnabled": false,
   "isInternetEnabled": false,
   "language": "python",
   "sourceType": "notebook"
  },
  "kernelspec": {
   "display_name": "Python 3",
   "language": "python",
   "name": "python3"
  },
  "language_info": {
   "codemirror_mode": {
    "name": "ipython",
    "version": 3
   },
   "file_extension": ".py",
   "mimetype": "text/x-python",
   "name": "python",
   "nbconvert_exporter": "python",
   "pygments_lexer": "ipython3",
   "version": "3.10.13"
  },
  "papermill": {
   "default_parameters": {},
   "duration": 12.676227,
   "end_time": "2024-07-04T11:07:29.155733",
   "environment_variables": {},
   "exception": null,
   "input_path": "__notebook__.ipynb",
   "output_path": "__notebook__.ipynb",
   "parameters": {},
   "start_time": "2024-07-04T11:07:16.479506",
   "version": "2.5.0"
  }
 },
 "nbformat": 4,
 "nbformat_minor": 5
}
